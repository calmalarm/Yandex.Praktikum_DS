{
 "cells": [
  {
   "cell_type": "markdown",
   "id": "6a767912",
   "metadata": {
    "toc": true
   },
   "source": [
    "<h1>Содержание<span class=\"tocSkip\"></span></h1>\n",
    "<div class=\"toc\"><ul class=\"toc-item\"><li><span><a href=\"#Изучение-данных\" data-toc-modified-id=\"Изучение-данных-1\"><span class=\"toc-item-num\">1&nbsp;&nbsp;</span>Изучение данных</a></span></li><li><span><a href=\"#Исследовательский-анализ,-подготовка-данных\" data-toc-modified-id=\"Исследовательский-анализ,-подготовка-данных-2\"><span class=\"toc-item-num\">2&nbsp;&nbsp;</span>Исследовательский анализ, подготовка данных</a></span></li><li><span><a href=\"#Разделение-на-выборки-для-обучения,-нормализация-данных\" data-toc-modified-id=\"Разделение-на-выборки-для-обучения,-нормализация-данных-3\"><span class=\"toc-item-num\">3&nbsp;&nbsp;</span>Разделение на выборки для обучения, нормализация данных</a></span></li><li><span><a href=\"#Обучение,-валидация\" data-toc-modified-id=\"Обучение,-валидация-4\"><span class=\"toc-item-num\">4&nbsp;&nbsp;</span>Обучение, валидация</a></span><ul class=\"toc-item\"><li><span><a href=\"#Дерево-решений\" data-toc-modified-id=\"Дерево-решений-4.1\"><span class=\"toc-item-num\">4.1&nbsp;&nbsp;</span>Дерево решений</a></span></li><li><span><a href=\"#Случайный-лес\" data-toc-modified-id=\"Случайный-лес-4.2\"><span class=\"toc-item-num\">4.2&nbsp;&nbsp;</span>Случайный лес</a></span></li><li><span><a href=\"#Логистическая-регрессия\" data-toc-modified-id=\"Логистическая-регрессия-4.3\"><span class=\"toc-item-num\">4.3&nbsp;&nbsp;</span>Логистическая регрессия</a></span></li><li><span><a href=\"#Метод-k-ближайших-соседей\" data-toc-modified-id=\"Метод-k-ближайших-соседей-4.4\"><span class=\"toc-item-num\">4.4&nbsp;&nbsp;</span>Метод k ближайших соседей</a></span></li><li><span><a href=\"#CatBoost\" data-toc-modified-id=\"CatBoost-4.5\"><span class=\"toc-item-num\">4.5&nbsp;&nbsp;</span>CatBoost</a></span></li></ul></li><li><span><a href=\"#Тестирование-моделей\" data-toc-modified-id=\"Тестирование-моделей-5\"><span class=\"toc-item-num\">5&nbsp;&nbsp;</span>Тестирование моделей</a></span></li><li><span><a href=\"#Проверка-на-вменяемость\" data-toc-modified-id=\"Проверка-на-вменяемость-6\"><span class=\"toc-item-num\">6&nbsp;&nbsp;</span>Проверка на вменяемость</a></span></li></ul></div>"
   ]
  },
  {
   "cell_type": "markdown",
   "id": "0d419118",
   "metadata": {},
   "source": [
    "# Переход на новый тарифный план"
   ]
  },
  {
   "cell_type": "markdown",
   "id": "3be32108",
   "metadata": {},
   "source": [
    "Оператор мобильной связи «Мегалайн» выяснил: многие клиенты пользуются архивными тарифами.\n",
    "\n",
    "**Цель**: проанализировать поведение клиентов и предложить пользователям новый тариф: «Смарт» или «Ультра».\n",
    "\n",
    "В нашем распоряжении данные о поведении клиентов, которые уже перешли на эти тарифы (из проекта курса «Статистический анализ данных»). Нужно построить модель для задачи классификации, которая выберет подходящий тариф, с максимально большим значением *accuracy* (0.75 или больше). Проверим *accuracy* на тестовой выборке."
   ]
  },
  {
   "cell_type": "markdown",
   "id": "328bb00d",
   "metadata": {},
   "source": [
    "**План работы:**\n",
    "1. Откроем файл с данными и изучим его. `users_behavior.csv`\n",
    "2. Разделим исходные данные на обучающую, валидационную и тестовую выборки.\n",
    "3. Исследуем качество разных моделей, меняя гиперпараметры. Кратко опишем выводы исследования.\n",
    "4. Проверим качество модели на тестовой выборке.\n",
    "5. Проверим модели на вменяемость."
   ]
  },
  {
   "cell_type": "markdown",
   "id": "9b1de4d4",
   "metadata": {},
   "source": [
    "## Изучение данных"
   ]
  },
  {
   "cell_type": "code",
   "execution_count": 1,
   "id": "d9fae9f2",
   "metadata": {},
   "outputs": [],
   "source": [
    "import pandas as pd\n",
    "import matplotlib.pyplot as plt\n",
    "import datetime as dt\n",
    "import seaborn as sns\n",
    "import os\n",
    "from catboost import CatBoostClassifier, Pool\n",
    "from sklearn.linear_model import LogisticRegression\n",
    "from sklearn.ensemble import RandomForestClassifier\n",
    "from sklearn.tree import DecisionTreeClassifier\n",
    "from sklearn.neighbors import KNeighborsClassifier\n",
    "from sklearn.model_selection import train_test_split\n",
    "from sklearn.model_selection import GridSearchCV\n",
    "from sklearn.metrics import accuracy_score\n",
    "from sklearn import preprocessing\n",
    "import warnings\n",
    "from random import seed\n",
    "from random import random\n",
    "import statistics"
   ]
  },
  {
   "cell_type": "code",
   "execution_count": 2,
   "id": "3538a2ee",
   "metadata": {},
   "outputs": [],
   "source": [
    "#warnings.simplefilter(\"once\")\n",
    "warnings.filterwarnings(\"ignore\", category=DeprecationWarning)\n",
    "warnings.filterwarnings(\"ignore\", category=FutureWarning)"
   ]
  },
  {
   "cell_type": "code",
   "execution_count": 3,
   "id": "022524d9",
   "metadata": {},
   "outputs": [],
   "source": [
    "pth1 = '/datasets/users_behavior.csv'\n",
    "pth2 = 'users_behavior.csv'\n",
    "if os.path.exists(pth1):\n",
    "    df = pd.read_csv(pth1)\n",
    "elif os.path.exists(pth2):\n",
    "    df = pd.read_csv(pth2)\n",
    "else:\n",
    "    print('Something is wrong')"
   ]
  },
  {
   "cell_type": "code",
   "execution_count": 4,
   "id": "04f50bd0",
   "metadata": {},
   "outputs": [
    {
     "name": "stdout",
     "output_type": "stream",
     "text": [
      "<class 'pandas.core.frame.DataFrame'>\n",
      "RangeIndex: 3214 entries, 0 to 3213\n",
      "Data columns (total 5 columns):\n",
      " #   Column    Non-Null Count  Dtype  \n",
      "---  ------    --------------  -----  \n",
      " 0   calls     3214 non-null   float64\n",
      " 1   minutes   3214 non-null   float64\n",
      " 2   messages  3214 non-null   float64\n",
      " 3   mb_used   3214 non-null   float64\n",
      " 4   is_ultra  3214 non-null   int64  \n",
      "dtypes: float64(4), int64(1)\n",
      "memory usage: 125.7 KB\n"
     ]
    },
    {
     "data": {
      "text/html": [
       "<div>\n",
       "<style scoped>\n",
       "    .dataframe tbody tr th:only-of-type {\n",
       "        vertical-align: middle;\n",
       "    }\n",
       "\n",
       "    .dataframe tbody tr th {\n",
       "        vertical-align: top;\n",
       "    }\n",
       "\n",
       "    .dataframe thead th {\n",
       "        text-align: right;\n",
       "    }\n",
       "</style>\n",
       "<table border=\"1\" class=\"dataframe\">\n",
       "  <thead>\n",
       "    <tr style=\"text-align: right;\">\n",
       "      <th></th>\n",
       "      <th>calls</th>\n",
       "      <th>minutes</th>\n",
       "      <th>messages</th>\n",
       "      <th>mb_used</th>\n",
       "      <th>is_ultra</th>\n",
       "    </tr>\n",
       "  </thead>\n",
       "  <tbody>\n",
       "    <tr>\n",
       "      <th>0</th>\n",
       "      <td>40.0</td>\n",
       "      <td>311.90</td>\n",
       "      <td>83.0</td>\n",
       "      <td>19915.42</td>\n",
       "      <td>0</td>\n",
       "    </tr>\n",
       "    <tr>\n",
       "      <th>1</th>\n",
       "      <td>85.0</td>\n",
       "      <td>516.75</td>\n",
       "      <td>56.0</td>\n",
       "      <td>22696.96</td>\n",
       "      <td>0</td>\n",
       "    </tr>\n",
       "    <tr>\n",
       "      <th>2</th>\n",
       "      <td>77.0</td>\n",
       "      <td>467.66</td>\n",
       "      <td>86.0</td>\n",
       "      <td>21060.45</td>\n",
       "      <td>0</td>\n",
       "    </tr>\n",
       "    <tr>\n",
       "      <th>3</th>\n",
       "      <td>106.0</td>\n",
       "      <td>745.53</td>\n",
       "      <td>81.0</td>\n",
       "      <td>8437.39</td>\n",
       "      <td>1</td>\n",
       "    </tr>\n",
       "    <tr>\n",
       "      <th>4</th>\n",
       "      <td>66.0</td>\n",
       "      <td>418.74</td>\n",
       "      <td>1.0</td>\n",
       "      <td>14502.75</td>\n",
       "      <td>0</td>\n",
       "    </tr>\n",
       "  </tbody>\n",
       "</table>\n",
       "</div>"
      ],
      "text/plain": [
       "   calls  minutes  messages   mb_used  is_ultra\n",
       "0   40.0   311.90      83.0  19915.42         0\n",
       "1   85.0   516.75      56.0  22696.96         0\n",
       "2   77.0   467.66      86.0  21060.45         0\n",
       "3  106.0   745.53      81.0   8437.39         1\n",
       "4   66.0   418.74       1.0  14502.75         0"
      ]
     },
     "execution_count": 4,
     "metadata": {},
     "output_type": "execute_result"
    }
   ],
   "source": [
    "df.info()\n",
    "df.head(5)"
   ]
  },
  {
   "cell_type": "markdown",
   "id": "6d90b909",
   "metadata": {},
   "source": [
    "В таблице 5 столбцов, 3214 строк. Пропусков данных нет. Предобработка и исследовательский анализ данных не требуются, т.к. были сделаны в ранее другом проекте.\n",
    "\n",
    "* `сalls` — количество звонков,\n",
    "* `minutes` — суммарная длительность звонков в минутах,\n",
    "* `messages` — количество sms-сообщений,\n",
    "* `mb_used` — израсходованный интернет-трафик в Мб,\n",
    "* `is_ultra` — каким тарифом пользовался в течение месяца (***«Ультра» — 1, «Смарт» — 0***)."
   ]
  },
  {
   "cell_type": "markdown",
   "id": "aa185674",
   "metadata": {},
   "source": [
    "## Исследовательский анализ, подготовка данных"
   ]
  },
  {
   "cell_type": "code",
   "execution_count": 5,
   "id": "39c7967c",
   "metadata": {},
   "outputs": [
    {
     "data": {
      "image/png": "[encoded data removed]",
      "text/plain": [
       "<Figure size 1152x180 with 1 Axes>"
      ]
     },
     "metadata": {
      "needs_background": "light"
     },
     "output_type": "display_data"
    }
   ],
   "source": [
    "fig, ax = plt.subplots(figsize=(16,2.5))\n",
    "sns.histplot(df, x='calls', hue='is_ultra', hue_order=[1,0]\n",
    "             , stat='density', kde=True, element='step', binwidth=5\n",
    "             , common_norm=False, log_scale=False, palette='hsv', fill=True, ax=ax)\n",
    "plt.show();"
   ]
  },
  {
   "cell_type": "code",
   "execution_count": 6,
   "id": "60f09cec",
   "metadata": {},
   "outputs": [
    {
     "data": {
      "image/png": "[encoded data removed]",
      "text/plain": [
       "<Figure size 1152x180 with 1 Axes>"
      ]
     },
     "metadata": {
      "needs_background": "light"
     },
     "output_type": "display_data"
    }
   ],
   "source": [
    "fig, ax = plt.subplots(figsize=(16,2.5))\n",
    "sns.histplot(df, x='minutes', hue='is_ultra', hue_order=[1,0]\n",
    "             , stat='density', kde=True, element='step', binwidth=40\n",
    "             , common_norm=False, log_scale=False, palette='hsv', fill=True, ax=ax)\n",
    "plt.show();"
   ]
  },
  {
   "cell_type": "markdown",
   "id": "fab6d050",
   "metadata": {},
   "source": [
    "Можно заметить, что рисунки распределения кол-ва звонков и общей длительности разговоров очень похожи."
   ]
  },
  {
   "cell_type": "code",
   "execution_count": 7,
   "id": "ccbf7a35",
   "metadata": {},
   "outputs": [
    {
     "data": {
      "image/png": "[encoded data removed]",
      "text/plain": [
       "<Figure size 432x288 with 1 Axes>"
      ]
     },
     "metadata": {
      "needs_background": "light"
     },
     "output_type": "display_data"
    }
   ],
   "source": [
    "df.plot(kind='scatter', x='calls', y='minutes', alpha=0.05);"
   ]
  },
  {
   "cell_type": "markdown",
   "id": "af49122d",
   "metadata": {},
   "source": [
    "Видна чёткая линейная зависимость. Проверим корреляцию:"
   ]
  },
  {
   "cell_type": "code",
   "execution_count": 8,
   "id": "bbef0646",
   "metadata": {},
   "outputs": [
    {
     "name": "stdout",
     "output_type": "stream",
     "text": [
      "Коэф-т корреляции Пирсона: 0.9820832355742294\n"
     ]
    }
   ],
   "source": [
    "print('Коэф-т корреляции Пирсона:', df['calls'].corr(df['minutes']))"
   ]
  },
  {
   "cell_type": "markdown",
   "id": "e400c564",
   "metadata": {},
   "source": [
    "Очень высокий показатель. Поскольку у этих 2 переменных такая сильная зависимость, для обучения моделей лучше оставить одну из них, пусть это будет `minutes`. Столбец `calls` добавлять в признаки не будем."
   ]
  },
  {
   "cell_type": "markdown",
   "id": "85603a46",
   "metadata": {},
   "source": [
    "## Разделение на выборки для обучения, нормализация данных\n",
    "Разобьём выборку на признаки, целевой признак, а также на тренировочную, валидационную и тестовую выборки.\n",
    "<br>Признаки нормализуем.\n",
    "<br>В нашем случае целевой признак - это `is_ultra`, а задача - бинарная классификация."
   ]
  },
  {
   "cell_type": "code",
   "execution_count": 9,
   "id": "f9f8c558",
   "metadata": {},
   "outputs": [
    {
     "name": "stdout",
     "output_type": "stream",
     "text": [
      "2796\n",
      "209\n",
      "209\n"
     ]
    },
    {
     "data": {
      "text/html": [
       "<div>\n",
       "<style scoped>\n",
       "    .dataframe tbody tr th:only-of-type {\n",
       "        vertical-align: middle;\n",
       "    }\n",
       "\n",
       "    .dataframe tbody tr th {\n",
       "        vertical-align: top;\n",
       "    }\n",
       "\n",
       "    .dataframe thead th {\n",
       "        text-align: right;\n",
       "    }\n",
       "</style>\n",
       "<table border=\"1\" class=\"dataframe\">\n",
       "  <thead>\n",
       "    <tr style=\"text-align: right;\">\n",
       "      <th></th>\n",
       "      <th>minutes</th>\n",
       "      <th>messages</th>\n",
       "      <th>mb_used</th>\n",
       "    </tr>\n",
       "  </thead>\n",
       "  <tbody>\n",
       "    <tr>\n",
       "      <th>1122</th>\n",
       "      <td>0.211873</td>\n",
       "      <td>0.000000</td>\n",
       "      <td>0.380106</td>\n",
       "    </tr>\n",
       "    <tr>\n",
       "      <th>111</th>\n",
       "      <td>0.237013</td>\n",
       "      <td>0.013393</td>\n",
       "      <td>0.458190</td>\n",
       "    </tr>\n",
       "    <tr>\n",
       "      <th>1906</th>\n",
       "      <td>0.294952</td>\n",
       "      <td>0.258929</td>\n",
       "      <td>0.262525</td>\n",
       "    </tr>\n",
       "  </tbody>\n",
       "</table>\n",
       "</div>"
      ],
      "text/plain": [
       "       minutes  messages   mb_used\n",
       "1122  0.211873  0.000000  0.380106\n",
       "111   0.237013  0.013393  0.458190\n",
       "1906  0.294952  0.258929  0.262525"
      ]
     },
     "metadata": {},
     "output_type": "display_data"
    },
    {
     "name": "stdout",
     "output_type": "stream",
     "text": [
      "count    2796.000000\n",
      "mean        0.268057\n",
      "std         0.143190\n",
      "min         0.000000\n",
      "25%         0.168385\n",
      "50%         0.263425\n",
      "75%         0.348746\n",
      "max         1.000000\n",
      "Name: minutes, dtype: float64\n",
      "\n",
      "\t0.3065092989985694\t0.3062200956937799\t0.3062200956937799\n"
     ]
    }
   ],
   "source": [
    "# Признаки:\n",
    "features = df.drop(columns=['is_ultra', 'calls'])\n",
    "\n",
    "# Нормализация:\n",
    "scal = preprocessing.MinMaxScaler()\n",
    "fcol = features.columns\n",
    "fnorm = scal.fit_transform(features)\n",
    "features = pd.DataFrame(fnorm, columns=fcol)\n",
    "\n",
    "# Целевой признак:\n",
    "target = df['is_ultra']\n",
    "\n",
    "# Разбиение на выборки:\n",
    "features_train, features_valid, target_train, target_valid = train_test_split(\n",
    "    features, target, \n",
    "    train_size=0.87, shuffle=True, stratify=target, random_state=12345\n",
    ")\n",
    "features_valid, features_test, target_valid, target_test = train_test_split(\n",
    "    features_valid, target_valid, \n",
    "    test_size=0.5, shuffle=True, stratify=target_valid, random_state=1234\n",
    ")\n",
    "\n",
    "\n",
    "print(len(features_train))\n",
    "print(len(features_valid))\n",
    "print(len(features_test))\n",
    "display(features_train.head(3))\n",
    "print(features_train.minutes.describe())#, features_train.messages.describe(), features_train.mb_used.describe())\n",
    "print('\\n', target_train.mean(), target_valid.mean(), target_test.mean(), sep='\\t')"
   ]
  },
  {
   "cell_type": "markdown",
   "id": "80f97064",
   "metadata": {},
   "source": [
    "## Обучение, валидация "
   ]
  },
  {
   "cell_type": "markdown",
   "id": "6814dd1c",
   "metadata": {},
   "source": [
    "Обучим несколько моделей и с помощью валидационных выборок подберем гиперпараметры для них.\n",
    "\n",
    "Также попробуем применить рекомендацию из Slack от одного из ревьюеров:\n",
    "<br>Есть честный способ повысить точность модели путем увеличения размера выборки. На этапе тестирования валидационная выборка уже выполнила свою задачу - мы подобрали гиперпарамеры. После можем обучить нашу модель на увеличенном наборе данных (валидация + обучение) и протестировать на тестовом наборе.\n",
    "<br>Для этого заранее подготовим увеличенные тренировочные выборки:"
   ]
  },
  {
   "cell_type": "code",
   "execution_count": 10,
   "id": "21498987",
   "metadata": {},
   "outputs": [
    {
     "name": "stdout",
     "output_type": "stream",
     "text": [
      "(3005, 3) (3005,)\n"
     ]
    }
   ],
   "source": [
    "features_train_2 = pd.concat([features_train, features_valid], ignore_index=True)\n",
    "target_train_2 = pd.concat([target_train, target_valid], ignore_index=True)\n",
    "print(features_train_2.shape, target_train_2.shape)"
   ]
  },
  {
   "cell_type": "markdown",
   "id": "c1d271b7",
   "metadata": {},
   "source": [
    "### Дерево решений"
   ]
  },
  {
   "cell_type": "code",
   "execution_count": 11,
   "id": "1f6efd99",
   "metadata": {},
   "outputs": [
    {
     "name": "stdout",
     "output_type": "stream",
     "text": [
      "Best decision tree: depth=5, accuracy=0.8325358851674641\n"
     ]
    }
   ],
   "source": [
    "best_tree_model = None\n",
    "best_accuracy = 0\n",
    "best_tree_depth = 0\n",
    "\n",
    "for max_depth in range(2,21):\n",
    "    model = DecisionTreeClassifier(random_state=123, max_depth=max_depth)\n",
    "    model.fit(features_train, target_train)\n",
    "    accuracy = model.score(X=features_valid, y=target_valid) \n",
    "    #print('max_depth =', max_depth, ':', accuracy)\n",
    "    if (accuracy > best_accuracy):\n",
    "        best_accuracy = accuracy\n",
    "        best_tree_model = model\n",
    "        best_tree_depth = max_depth\n",
    "        \n",
    "print('Best decision tree: depth=', best_tree_depth, ', accuracy=', best_accuracy, sep='')"
   ]
  },
  {
   "cell_type": "markdown",
   "id": "7f15d3e9",
   "metadata": {},
   "source": [
    "*Accuracy* достаточное (по условиям задания), хоть и не слишком большое.\n",
    "<br>Переобучим дерево с полученной лучшей глубиной на увеличенной выборке:"
   ]
  },
  {
   "cell_type": "code",
   "execution_count": 12,
   "id": "a0de3978",
   "metadata": {},
   "outputs": [
    {
     "name": "stdout",
     "output_type": "stream",
     "text": [
      "0.8126455906821963\n",
      "0.7942583732057417\n"
     ]
    }
   ],
   "source": [
    "best_tree_model.fit(features_train_2, target_train_2);\n",
    "print(best_tree_model.score(features_train_2, target_train_2))\n",
    "print(best_tree_model.score(features_test, target_test))"
   ]
  },
  {
   "cell_type": "markdown",
   "id": "f7364f18",
   "metadata": {},
   "source": [
    "### Случайный лес"
   ]
  },
  {
   "cell_type": "code",
   "execution_count": 13,
   "id": "687b0fa5",
   "metadata": {},
   "outputs": [
    {
     "name": "stdout",
     "output_type": "stream",
     "text": [
      "Best random forest: depth=13, n_estimators=37, accuracy=0.8564593301435407\n"
     ]
    }
   ],
   "source": [
    "best_forest_model = None\n",
    "best_accuracy = 0\n",
    "best_forst_depth = 0\n",
    "best_forest_n = 0\n",
    "\n",
    "for est in range(31, 66, 2):\n",
    "    for depth in range (11, 16):\n",
    "        model = RandomForestClassifier(random_state=123456, n_estimators=est, max_depth=depth)\n",
    "        model.fit(features_train, target_train)\n",
    "        accuracy = model.score(features_valid, target_valid)\n",
    "        #print(est, depth, accuracy)\n",
    "        if accuracy > best_accuracy:\n",
    "            best_forest_model = model\n",
    "            best_accuracy = accuracy\n",
    "            best_forest_depth = depth\n",
    "            best_forest_n = est\n",
    "\n",
    "print('Best random forest: depth=', best_forest_depth, ', n_estimators=', best_forest_n, ', accuracy=', best_accuracy, sep='')"
   ]
  },
  {
   "cell_type": "markdown",
   "id": "d6e62062",
   "metadata": {},
   "source": [
    "*Accuracy* несколько выше, чем у дерева решений.\n",
    "<br>Переобучим лес с лучшими гиперпараметрами на увеличенной выборке:"
   ]
  },
  {
   "cell_type": "code",
   "execution_count": 14,
   "id": "64268b4a",
   "metadata": {},
   "outputs": [
    {
     "name": "stdout",
     "output_type": "stream",
     "text": [
      "0.9114808652246256\n",
      "0.8277511961722488\n"
     ]
    }
   ],
   "source": [
    "best_forest_model.fit(features_train_2, target_train_2);\n",
    "print(best_forest_model.score(features_train_2, target_train_2))\n",
    "print(best_forest_model.score(features_test, target_test))"
   ]
  },
  {
   "cell_type": "markdown",
   "id": "e725dc22",
   "metadata": {},
   "source": [
    "### Логистическая регрессия\n",
    "\n",
    "Про подбор параметров для логистической регрессии в спринте ничего не было, но рассказали на вебинаре.\n",
    "Подберём гиперпараметры:"
   ]
  },
  {
   "cell_type": "code",
   "execution_count": 15,
   "id": "923330c0",
   "metadata": {},
   "outputs": [],
   "source": [
    "log_reg_model = LogisticRegression(random_state=1234567, max_iter=300, n_jobs=4)\n",
    "\n",
    "params = dict(C=[1,2,5,10], penalty=['l2','none'])  #\n",
    "grid = GridSearchCV(log_reg_model, params, n_jobs=4, verbose=1, scoring='accuracy', cv=2)\n",
    "grid.fit(features_train_2, target_train_2);"
   ]
  },
  {
   "cell_type": "code",
   "execution_count": 17,
   "id": "f078939b",
   "metadata": {},
   "outputs": [
    {
     "name": "stdout",
     "output_type": "stream",
     "text": [
      "{'C': 10, 'penalty': 'l2'}\n",
      "LogisticRegression(C=10, max_iter=300, n_jobs=4, random_state=1234567)\n",
      "Точность лучшей модели на обучающей выборке: 0.7427665751497449\n",
      "Точность лучшей модели на тестовой выборке: 0.7511961722488039\n"
     ]
    }
   ],
   "source": [
    "print(grid.best_params_)\n",
    "best_log_reg_model = grid.best_estimator_\n",
    "print(best_log_reg_model)\n",
    "print('Точность лучшей модели на обучающей выборке:', grid.best_score_)\n",
    "print('Точность лучшей модели на тестовой выборке:', best_log_reg_model.score(features_test, target_test))\n",
    "\n",
    "C = grid.best_params_['C']\n",
    "penalty = grid.best_params_['penalty']"
   ]
  },
  {
   "cell_type": "markdown",
   "id": "0b9e4be2",
   "metadata": {},
   "source": [
    "### Метод k ближайших соседей"
   ]
  },
  {
   "cell_type": "code",
   "execution_count": 18,
   "id": "2e209b38",
   "metadata": {},
   "outputs": [],
   "source": [
    "k_model = KNeighborsClassifier(n_jobs=4)\n",
    "\n",
    "params = dict(n_neighbors=range(20,41), weights=['uniform','distance'], \n",
    "              #algorithm=['auto','ball_tree','kd_tree','brute'],\n",
    "              p=[1,2]\n",
    "             )\n",
    "grid = GridSearchCV(k_model, params, n_jobs=4, verbose=1, scoring='accuracy', cv=3)\n",
    "grid.fit(features_train_2, target_train_2);"
   ]
  },
  {
   "cell_type": "code",
   "execution_count": 20,
   "id": "162dc0f0",
   "metadata": {},
   "outputs": [
    {
     "name": "stdout",
     "output_type": "stream",
     "text": [
      "{'n_neighbors': 29, 'p': 1, 'weights': 'distance'}\n",
      "KNeighborsClassifier(n_jobs=4, n_neighbors=29, p=1, weights='distance')\n",
      "Точность лучшей модели на обучающей выборке: 0.800997405787825\n",
      "Точность лучшей модели на тестовой выборке: 0.8277511961722488\n"
     ]
    }
   ],
   "source": [
    "print(grid.best_params_)\n",
    "best_k_model = grid.best_estimator_\n",
    "print(best_k_model)\n",
    "print('Точность лучшей модели на обучающей выборке:', grid.best_score_)\n",
    "print('Точность лучшей модели на тестовой выборке:', best_k_model.score(features_test, target_test))\n",
    "\n",
    "n_neighbors = grid.best_params_['n_neighbors']\n",
    "weights = grid.best_params_['weights']\n",
    "p = grid.best_params_['p']"
   ]
  },
  {
   "cell_type": "markdown",
   "id": "6cff0a94",
   "metadata": {},
   "source": [
    "### CatBoost"
   ]
  },
  {
   "cell_type": "code",
   "execution_count": 21,
   "id": "2ad5b1d1",
   "metadata": {},
   "outputs": [
    {
     "name": "stdout",
     "output_type": "stream",
     "text": [
      "\n",
      "bestTest = 0.8069883527\n",
      "bestIteration = 7\n",
      "\n",
      "\n",
      "bestTest = 0.8136439268\n",
      "bestIteration = 36\n",
      "\n",
      "\n",
      "bestTest = 0.8219633943\n",
      "bestIteration = 22\n",
      "\n",
      "\n",
      "bestTest = 0.8119800333\n",
      "bestIteration = 3\n",
      "\n",
      "\n",
      "bestTest = 0.8069883527\n",
      "bestIteration = 6\n",
      "\n",
      "\n",
      "bestTest = 0.8169717138\n",
      "bestIteration = 40\n",
      "\n",
      "\n",
      "bestTest = 0.8169717138\n",
      "bestIteration = 17\n",
      "\n",
      "\n",
      "bestTest = 0.8119800333\n",
      "bestIteration = 4\n",
      "\n",
      "\n",
      "bestTest = 0.8069883527\n",
      "bestIteration = 6\n",
      "\n",
      "\n",
      "bestTest = 0.8186356073\n",
      "bestIteration = 43\n",
      "\n",
      "\n",
      "bestTest = 0.8202995008\n",
      "bestIteration = 22\n",
      "\n",
      "\n",
      "bestTest = 0.8136439268\n",
      "bestIteration = 4\n",
      "\n",
      "\n",
      "bestTest = 0.8069883527\n",
      "bestIteration = 6\n",
      "\n",
      "\n",
      "bestTest = 0.8236272879\n",
      "bestIteration = 39\n",
      "\n",
      "\n",
      "bestTest = 0.8169717138\n",
      "bestIteration = 38\n",
      "\n",
      "\n",
      "bestTest = 0.8119800333\n",
      "bestIteration = 3\n",
      "\n",
      "\n",
      "bestTest = 0.8053244592\n",
      "bestIteration = 4\n",
      "\n",
      "\n",
      "bestTest = 0.8136439268\n",
      "bestIteration = 24\n",
      "\n",
      "\n",
      "bestTest = 0.8169717138\n",
      "bestIteration = 17\n",
      "\n",
      "\n",
      "bestTest = 0.8103161398\n",
      "bestIteration = 3\n",
      "\n",
      "\n",
      "bestTest = 0.8053244592\n",
      "bestIteration = 4\n",
      "\n",
      "\n",
      "bestTest = 0.8136439268\n",
      "bestIteration = 24\n",
      "\n",
      "\n",
      "bestTest = 0.8136439268\n",
      "bestIteration = 16\n",
      "\n",
      "\n",
      "bestTest = 0.8069883527\n",
      "bestIteration = 3\n",
      "\n",
      "\n",
      "bestTest = 0.8053244592\n",
      "bestIteration = 4\n",
      "\n",
      "\n",
      "bestTest = 0.8119800333\n",
      "bestIteration = 16\n",
      "\n",
      "\n",
      "bestTest = 0.8119800333\n",
      "bestIteration = 12\n",
      "\n",
      "\n",
      "bestTest = 0.8153078203\n",
      "bestIteration = 3\n",
      "\n",
      "\n",
      "bestTest = 0.8069883527\n",
      "bestIteration = 28\n",
      "\n",
      "\n",
      "bestTest = 0.8153078203\n",
      "bestIteration = 20\n",
      "\n",
      "\n",
      "bestTest = 0.8136439268\n",
      "bestIteration = 15\n",
      "\n",
      "\n",
      "bestTest = 0.8153078203\n",
      "bestIteration = 3\n",
      "\n",
      "\n",
      "bestTest = 0.8119800333\n",
      "bestIteration = 39\n",
      "\n",
      "\n",
      "bestTest = 0.8153078203\n",
      "bestIteration = 15\n",
      "\n",
      "\n",
      "bestTest = 0.8119800333\n",
      "bestIteration = 13\n",
      "\n",
      "\n",
      "bestTest = 0.8103161398\n",
      "bestIteration = 3\n",
      "\n",
      "\n",
      "bestTest = 0.8103161398\n",
      "bestIteration = 43\n",
      "\n",
      "\n",
      "bestTest = 0.8153078203\n",
      "bestIteration = 21\n",
      "\n",
      "\n",
      "bestTest = 0.8119800333\n",
      "bestIteration = 15\n",
      "\n",
      "\n",
      "bestTest = 0.8069883527\n",
      "bestIteration = 3\n",
      "\n",
      "\n",
      "bestTest = 0.8119800333\n",
      "bestIteration = 44\n",
      "\n",
      "\n",
      "bestTest = 0.8136439268\n",
      "bestIteration = 19\n",
      "\n",
      "\n",
      "bestTest = 0.8119800333\n",
      "bestIteration = 10\n",
      "\n",
      "\n",
      "bestTest = 0.8036605657\n",
      "bestIteration = 3\n",
      "\n",
      "\n",
      "bestTest = 0.8086522463\n",
      "bestIteration = 43\n",
      "\n",
      "\n",
      "bestTest = 0.8153078203\n",
      "bestIteration = 20\n",
      "\n",
      "\n",
      "bestTest = 0.8103161398\n",
      "bestIteration = 13\n",
      "\n",
      "\n",
      "bestTest = 0.8069883527\n",
      "bestIteration = 2\n",
      "\n",
      "Training on fold [0/5]\n",
      "\n",
      "bestTest = 0.8089700997\n",
      "bestIteration = 47\n",
      "\n",
      "Training on fold [1/5]\n",
      "\n",
      "bestTest = 0.8136439268\n",
      "bestIteration = 41\n",
      "\n",
      "Training on fold [2/5]\n",
      "\n",
      "bestTest = 0.8136439268\n",
      "bestIteration = 39\n",
      "\n",
      "Training on fold [3/5]\n",
      "\n",
      "bestTest = 0.7936772047\n",
      "bestIteration = 39\n",
      "\n",
      "Training on fold [4/5]\n",
      "\n",
      "bestTest = 0.815\n",
      "bestIteration = 42\n",
      "\n"
     ]
    }
   ],
   "source": [
    "cat_model = CatBoostClassifier(iterations=50, eval_metric='Accuracy', verbose=False)\n",
    "\n",
    "grid = {'learning_rate': [0.03, 0.1, 0.2, 1],\n",
    "        'depth': range(4,7),\n",
    "        'l2_leaf_reg': range(1,5)}\n",
    "\n",
    "#grid_search_result = \n",
    "cat_model.grid_search(grid, X=features_train_2, y=target_train_2,\n",
    "                      verbose=False, stratified=True,\n",
    "                      cv=5, partition_random_seed=1234\n",
    "                     );"
   ]
  },
  {
   "cell_type": "code",
   "execution_count": 22,
   "id": "0335c56e",
   "metadata": {},
   "outputs": [
    {
     "name": "stdout",
     "output_type": "stream",
     "text": [
      "{'Accuracy': 0.8139767054908486, 'Logloss': 0.44603545725284194}\n",
      "0.8277511961722488\n"
     ]
    },
    {
     "data": {
      "text/plain": [
       "{'iterations': 50,\n",
       " 'verbose': False,\n",
       " 'eval_metric': 'Accuracy',\n",
       " 'depth': 4,\n",
       " 'l2_leaf_reg': 4,\n",
       " 'learning_rate': 0.1}"
      ]
     },
     "execution_count": 22,
     "metadata": {},
     "output_type": "execute_result"
    }
   ],
   "source": [
    "print(cat_model.get_best_score()['learn'])\n",
    "print(cat_model.score(features_test, target_test))\n",
    "cat_model.get_params()"
   ]
  },
  {
   "cell_type": "markdown",
   "id": "4e886e75",
   "metadata": {},
   "source": [
    "## Тестирование моделей"
   ]
  },
  {
   "cell_type": "code",
   "execution_count": 29,
   "id": "7a6bda6a",
   "metadata": {},
   "outputs": [
    {
     "name": "stdout",
     "output_type": "stream",
     "text": [
      "Decision tree:\t\taccuracy= 0.794258,\tdepth= 5\n",
      "Random forest:\t\taccuracy= 0.827751,\tdepth=13, n_estimators=37\n",
      "Logistic regression:\taccuracy= 0.751196,\tC=10, penalty=l2\n",
      "K neighbors:\t\taccuracy= 0.827751,\tn_neighbors=29, p=1, weights=distance\n",
      "CatBoost:\t\taccuracy= 0.827751,\t{'iterations': 50, 'verbose': False, 'eval_metric': 'Accuracy', 'depth': 4, 'l2_leaf_reg': 4, 'learning_rate': 0.1}\n"
     ]
    }
   ],
   "source": [
    "accuracy = best_tree_model.score(features_test, target_test)\n",
    "print(f\"Decision tree:\\t\\taccuracy= {accuracy:1.6f},\\tdepth={best_tree_depth:2.0f}\")\n",
    "\n",
    "accuracy = best_forest_model.score(features_test, target_test)\n",
    "print(f\"Random forest:\\t\\taccuracy= {accuracy:1.6f},\\tdepth={best_forest_depth:2.0f}, n_estimators={best_forest_n}\")\n",
    "\n",
    "accuracy = best_log_reg_model.score(features_test, target_test)\n",
    "print(f\"Logistic regression:\\taccuracy= {accuracy:1.6f},\\tC={C}, penalty={penalty}\")\n",
    "\n",
    "accuracy = best_k_model.score(features_test, target_test)\n",
    "print(f\"K neighbors:\\t\\taccuracy= {accuracy:1.6f},\\tn_neighbors={n_neighbors:2.0f}, p={p}, weights={weights}\")\n",
    "\n",
    "accuracy = cat_model.score(features_test, target_test)\n",
    "print(f\"CatBoost:\\t\\taccuracy= {accuracy:1.6f},\\t{cat_model.get_params()}\")"
   ]
  },
  {
   "cell_type": "markdown",
   "id": "7215d1d1",
   "metadata": {},
   "source": [
    "Значение *accuracy* всех моделей выше 0.75, но выдающихся результатов добиться не удалось.\n",
    "<br>Более высокие значения у случайного леса, k ближайших соседей и CatBoost."
   ]
  },
  {
   "cell_type": "markdown",
   "id": "8cc85961",
   "metadata": {},
   "source": [
    "<div class=\"alert alert-block alert-success\">\n",
    "<b>Комментарий ревьюера👍:</b> Здорово, что ты проработала не только базовые модели, K-neighbors популярный алгоритм, однако в этом проекте я видела что всего пара человек его использовали, обычно всё по стандарту: logistic regression, random forest, decision tree\n",
    "</div>\n"
   ]
  },
  {
   "cell_type": "markdown",
   "id": "792dfe54",
   "metadata": {},
   "source": [
    "## Проверка на вменяемость\n",
    "\n",
    "Для проверки полученных выше моделей на вменяемость создадим выборку с целевым признаком, рассчитанным случайной \"моделью\", и посчитаем *accuracy*."
   ]
  },
  {
   "cell_type": "code",
   "execution_count": 24,
   "id": "5d26abba",
   "metadata": {},
   "outputs": [
    {
     "data": {
      "text/plain": [
       "0.30647168637212197"
      ]
     },
     "execution_count": 24,
     "metadata": {},
     "output_type": "execute_result"
    }
   ],
   "source": [
    "tariff_mean = df['is_ultra'].mean()\n",
    "tariff_mean"
   ]
  },
  {
   "cell_type": "code",
   "execution_count": 25,
   "id": "e4bfc20c",
   "metadata": {},
   "outputs": [
    {
     "name": "stdout",
     "output_type": "stream",
     "text": [
      "[0, 1, 1, 0, 0, 1, 0, 0, 0, 0] , length: 209\n"
     ]
    },
    {
     "data": {
      "text/plain": [
       "0.3062200956937799"
      ]
     },
     "execution_count": 25,
     "metadata": {},
     "output_type": "execute_result"
    }
   ],
   "source": [
    "seed(549)\n",
    "sanity_check = [1 if random() < tariff_mean else 0   for x in range(len(target_test))]\n",
    "print(sanity_check[0:10], ', length:', len(sanity_check))\n",
    "statistics.mean(sanity_check)"
   ]
  },
  {
   "cell_type": "code",
   "execution_count": 26,
   "id": "957dc708",
   "metadata": {},
   "outputs": [
    {
     "data": {
      "text/plain": [
       "0.6076555023923444"
      ]
     },
     "execution_count": 26,
     "metadata": {},
     "output_type": "execute_result"
    }
   ],
   "source": [
    "accuracy_score(target_test, sanity_check)"
   ]
  },
  {
   "cell_type": "markdown",
   "id": "2be13bf8",
   "metadata": {},
   "source": [
    "Для псевдослучайных чисел получили *accuracy*=**0.6**, заметно меньше, чем для моделей выше, так что можно сказать, что обученные модели **вменяемы**."
   ]
  },
  {
   "cell_type": "code",
   "execution_count": 30,
   "id": "a8e926d1",
   "metadata": {},
   "outputs": [
    {
     "data": {
      "text/plain": [
       "'25.04.2022 02:04'"
      ]
     },
     "execution_count": 30,
     "metadata": {},
     "output_type": "execute_result"
    }
   ],
   "source": [
    "dt.datetime.today().strftime(\"%d.%m.%Y %H:%M\")"
   ]
  }
 ],
 "metadata": {
  "ExecuteTimeLog": [
   {
    "duration": 131,
    "start_time": "2022-04-26T09:24:38.561Z"
   }
  ],
  "kernelspec": {
   "display_name": "Python 3 (ipykernel)",
   "language": "python",
   "name": "python3"
  },
  "language_info": {
   "codemirror_mode": {
    "name": "ipython",
    "version": 3
   },
   "file_extension": ".py",
   "mimetype": "text/x-python",
   "name": "python",
   "nbconvert_exporter": "python",
   "pygments_lexer": "ipython3",
   "version": "3.7.8"
  },
  "toc": {
   "base_numbering": 1,
   "nav_menu": {},
   "number_sections": true,
   "sideBar": true,
   "skip_h1_title": true,
   "title_cell": "Содержание",
   "title_sidebar": "Содержание",
   "toc_cell": true,
   "toc_position": {
    "height": "calc(100% - 180px)",
    "left": "10px",
    "top": "150px",
    "width": "165px"
   },
   "toc_section_display": true,
   "toc_window_display": true
  }
 },
 "nbformat": 4,
 "nbformat_minor": 5
}
