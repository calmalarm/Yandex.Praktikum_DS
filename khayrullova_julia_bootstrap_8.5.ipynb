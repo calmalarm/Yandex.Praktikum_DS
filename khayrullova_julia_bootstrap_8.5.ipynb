{
 "cells": [
  {
   "cell_type": "markdown",
   "metadata": {
    "toc": true
   },
   "source": [
    "<h1>Содержание<span class=\"tocSkip\"></span></h1>\n",
    "<div class=\"toc\"><ul class=\"toc-item\"><li><ul class=\"toc-item\"><li><span><a href=\"#Описание-данных\" data-toc-modified-id=\"Описание-данных-0.1\"><span class=\"toc-item-num\">0.1&nbsp;&nbsp;</span>Описание данных</a></span></li><li><span><a href=\"#Условия-задачи:\" data-toc-modified-id=\"Условия-задачи:-0.2\"><span class=\"toc-item-num\">0.2&nbsp;&nbsp;</span>Условия задачи:</a></span></li></ul></li><li><span><a href=\"#Загрузка-и-подготовка-данных\" data-toc-modified-id=\"Загрузка-и-подготовка-данных-1\"><span class=\"toc-item-num\">1&nbsp;&nbsp;</span>Загрузка и подготовка данных</a></span><ul class=\"toc-item\"><li><span><a href=\"#Загрузка-данных\" data-toc-modified-id=\"Загрузка-данных-1.1\"><span class=\"toc-item-num\">1.1&nbsp;&nbsp;</span>Загрузка данных</a></span></li><li><span><a href=\"#Подготовка-данных\" data-toc-modified-id=\"Подготовка-данных-1.2\"><span class=\"toc-item-num\">1.2&nbsp;&nbsp;</span>Подготовка данных</a></span></li></ul></li><li><span><a href=\"#Обучение-и-проверка-модели\" data-toc-modified-id=\"Обучение-и-проверка-модели-2\"><span class=\"toc-item-num\">2&nbsp;&nbsp;</span>Обучение и проверка модели</a></span></li><li><span><a href=\"#Подготовка-к-расчёту-прибыли\" data-toc-modified-id=\"Подготовка-к-расчёту-прибыли-3\"><span class=\"toc-item-num\">3&nbsp;&nbsp;</span>Подготовка к расчёту прибыли</a></span></li><li><span><a href=\"#Расчёт-прибыли-и-рисков\" data-toc-modified-id=\"Расчёт-прибыли-и-рисков-4\"><span class=\"toc-item-num\">4&nbsp;&nbsp;</span>Расчёт прибыли и рисков</a></span><ul class=\"toc-item\"><li><span><a href=\"#Функция-для-расчёта-прибыли\" data-toc-modified-id=\"Функция-для-расчёта-прибыли-4.1\"><span class=\"toc-item-num\">4.1&nbsp;&nbsp;</span>Функция для расчёта прибыли</a></span></li><li><span><a href=\"#Bootstrap\" data-toc-modified-id=\"Bootstrap-4.2\"><span class=\"toc-item-num\">4.2&nbsp;&nbsp;</span>Bootstrap</a></span></li><li><span><a href=\"#Вывод\" data-toc-modified-id=\"Вывод-4.3\"><span class=\"toc-item-num\">4.3&nbsp;&nbsp;</span>Вывод</a></span></li></ul></li><li><span><a href=\"#Чек-лист-готовности-проекта\" data-toc-modified-id=\"Чек-лист-готовности-проекта-5\"><span class=\"toc-item-num\">5&nbsp;&nbsp;</span>Чек-лист готовности проекта</a></span></li></ul></div>"
   ]
  },
  {
   "cell_type": "markdown",
   "metadata": {},
   "source": [
    "# Выбор локации для скважины"
   ]
  },
  {
   "cell_type": "markdown",
   "metadata": {},
   "source": [
    "Нужно решить, где бурить новую скважину.\n",
    "\n",
    "Нам предоставлены пробы нефти в трёх регионах: в каждом 100 000 месторождений, где измерили качество нефти и объём её запасов. Построим модель машинного обучения, которая поможет определить регион, где добыча принесёт наибольшую прибыль. Проанализируйте возможную прибыль и риски техникой *Bootstrap.*\n",
    "\n",
    "Шаги для выбора локации:\n",
    "\n",
    "- В избранном регионе ищут месторождения, для каждого определяют значения признаков;\n",
    "- Строят модель и оценивают объём запасов;\n",
    "- Выбирают месторождения с самым высокими оценками значений. Количество месторождений зависит от бюджета компании и стоимости разработки одной скважины;\n",
    "- Прибыль равна суммарной прибыли отобранных месторождений."
   ]
  },
  {
   "cell_type": "markdown",
   "metadata": {},
   "source": [
    "### Описание данных\n",
    "Данные геологоразведки трёх регионов находятся в файлах:\n",
    "- /datasets/geo_data_0.csv\n",
    "- /datasets/geo_data_1.csv\n",
    "- /datasets/geo_data_2.csv\n",
    "\n",
    "id — уникальный идентификатор скважины;\n",
    "<br>f0, f1, f2 — три признака точек (неважно, что они означают, но сами признаки значимы);\n",
    "<br>product — объём запасов в скважине (тыс. баррелей)."
   ]
  },
  {
   "cell_type": "markdown",
   "metadata": {},
   "source": [
    "### Условия задачи:\n",
    "* Для обучения модели подходит только линейная регрессия (остальные — недостаточно предсказуемые).\n",
    "* При разведке региона исследуют 500 точек, из которых с помощью машинного обучения выбирают 200 лучших для разработки.\n",
    "* Бюджет на разработку скважин в регионе — 10 млрд рублей.\n",
    "* При нынешних ценах один баррель сырья приносит 450 рублей дохода. Доход с каждой единицы продукта составляет 450 тыс. рублей, поскольку объём указан в тысячах баррелей.\n",
    "* После оценки рисков нужно оставить лишь те регионы, в которых вероятность убытков меньше 2.5%. Среди них выбирают регион с наибольшей средней прибылью.\n",
    "\n",
    "Данные синтетические: детали контрактов и характеристики месторождений не разглашаются."
   ]
  },
  {
   "cell_type": "markdown",
   "metadata": {},
   "source": [
    "## Загрузка и подготовка данных"
   ]
  },
  {
   "cell_type": "markdown",
   "metadata": {},
   "source": [
    "### Загрузка данных"
   ]
  },
  {
   "cell_type": "code",
   "execution_count": 1,
   "metadata": {},
   "outputs": [],
   "source": [
    "import pandas as pd\n",
    "import datetime as dt\n",
    "import numpy as np\n",
    "import os\n",
    "import sklearn as sk\n",
    "from sklearn.linear_model import LinearRegression\n",
    "from sklearn.model_selection import train_test_split\n",
    "from sklearn.model_selection import GridSearchCV\n",
    "#from sklearn.experimental import enable_halving_search_cv \n",
    "#from sklearn.model_selection import HalvingGridSearchCV\n",
    "from sklearn.metrics import mean_squared_error\n",
    "from sklearn.utils import shuffle\n",
    "import warnings\n",
    "#from random import seed, random\n",
    "#import statistics"
   ]
  },
  {
   "cell_type": "code",
   "execution_count": 2,
   "metadata": {},
   "outputs": [
    {
     "data": {
      "text/plain": [
       "'22.06.2022 17:17'"
      ]
     },
     "execution_count": 2,
     "metadata": {},
     "output_type": "execute_result"
    }
   ],
   "source": [
    "dt.datetime.today().strftime(\"%d.%m.%Y %H:%M\")"
   ]
  },
  {
   "cell_type": "code",
   "execution_count": 3,
   "metadata": {},
   "outputs": [],
   "source": [
    "warnings.filterwarnings(\"ignore\", category=DeprecationWarning)\n",
    "# warnings.filterwarnings(\"ignore\", category=FutureWarning)"
   ]
  },
  {
   "cell_type": "code",
   "execution_count": 4,
   "metadata": {},
   "outputs": [],
   "source": [
    "df = []\n",
    "pth1 = '/datasets/'\n",
    "pth2 = ''\n",
    "if os.path.exists(pth1+'geo_data_0.csv'):\n",
    "    df.append(pd.read_csv(pth1+'geo_data_0.csv'))\n",
    "    df.append(pd.read_csv(pth1+'geo_data_1.csv'))\n",
    "    df.append(pd.read_csv(pth1+'geo_data_2.csv'))\n",
    "elif os.path.exists(pth2+'geo_data_0.csv'):\n",
    "    df.append(pd.read_csv(pth2+'geo_data_0.csv'))\n",
    "    df.append(pd.read_csv(pth2+'geo_data_1.csv'))\n",
    "    df.append(pd.read_csv(pth2+'geo_data_2.csv'))\n",
    "else:\n",
    "    print('Something is wrong')"
   ]
  },
  {
   "cell_type": "code",
   "execution_count": 5,
   "metadata": {},
   "outputs": [
    {
     "name": "stdout",
     "output_type": "stream",
     "text": [
      "<class 'pandas.core.frame.DataFrame'>\n",
      "RangeIndex: 100000 entries, 0 to 99999\n",
      "Data columns (total 5 columns):\n",
      "id         100000 non-null object\n",
      "f0         100000 non-null float64\n",
      "f1         100000 non-null float64\n",
      "f2         100000 non-null float64\n",
      "product    100000 non-null float64\n",
      "dtypes: float64(4), object(1)\n",
      "memory usage: 3.8+ MB\n"
     ]
    }
   ],
   "source": [
    "df[0].info()"
   ]
  },
  {
   "cell_type": "code",
   "execution_count": 6,
   "metadata": {
    "scrolled": true
   },
   "outputs": [
    {
     "data": {
      "text/html": [
       "<div>\n",
       "<style scoped>\n",
       "    .dataframe tbody tr th:only-of-type {\n",
       "        vertical-align: middle;\n",
       "    }\n",
       "\n",
       "    .dataframe tbody tr th {\n",
       "        vertical-align: top;\n",
       "    }\n",
       "\n",
       "    .dataframe thead th {\n",
       "        text-align: right;\n",
       "    }\n",
       "</style>\n",
       "<table border=\"1\" class=\"dataframe\">\n",
       "  <thead>\n",
       "    <tr style=\"text-align: right;\">\n",
       "      <th></th>\n",
       "      <th>id</th>\n",
       "      <th>f0</th>\n",
       "      <th>f1</th>\n",
       "      <th>f2</th>\n",
       "      <th>product</th>\n",
       "    </tr>\n",
       "  </thead>\n",
       "  <tbody>\n",
       "    <tr>\n",
       "      <td>0</td>\n",
       "      <td>txEyH</td>\n",
       "      <td>0.705745</td>\n",
       "      <td>-0.497823</td>\n",
       "      <td>1.221170</td>\n",
       "      <td>105.280062</td>\n",
       "    </tr>\n",
       "    <tr>\n",
       "      <td>1</td>\n",
       "      <td>2acmU</td>\n",
       "      <td>1.334711</td>\n",
       "      <td>-0.340164</td>\n",
       "      <td>4.365080</td>\n",
       "      <td>73.037750</td>\n",
       "    </tr>\n",
       "    <tr>\n",
       "      <td>2</td>\n",
       "      <td>409Wp</td>\n",
       "      <td>1.022732</td>\n",
       "      <td>0.151990</td>\n",
       "      <td>1.419926</td>\n",
       "      <td>85.265647</td>\n",
       "    </tr>\n",
       "    <tr>\n",
       "      <td>3</td>\n",
       "      <td>iJLyR</td>\n",
       "      <td>-0.032172</td>\n",
       "      <td>0.139033</td>\n",
       "      <td>2.978566</td>\n",
       "      <td>168.620776</td>\n",
       "    </tr>\n",
       "    <tr>\n",
       "      <td>4</td>\n",
       "      <td>Xdl7t</td>\n",
       "      <td>1.988431</td>\n",
       "      <td>0.155413</td>\n",
       "      <td>4.751769</td>\n",
       "      <td>154.036647</td>\n",
       "    </tr>\n",
       "  </tbody>\n",
       "</table>\n",
       "</div>"
      ],
      "text/plain": [
       "      id        f0        f1        f2     product\n",
       "0  txEyH  0.705745 -0.497823  1.221170  105.280062\n",
       "1  2acmU  1.334711 -0.340164  4.365080   73.037750\n",
       "2  409Wp  1.022732  0.151990  1.419926   85.265647\n",
       "3  iJLyR -0.032172  0.139033  2.978566  168.620776\n",
       "4  Xdl7t  1.988431  0.155413  4.751769  154.036647"
      ]
     },
     "execution_count": 6,
     "metadata": {},
     "output_type": "execute_result"
    }
   ],
   "source": [
    "df[0].head()"
   ]
  },
  {
   "cell_type": "markdown",
   "metadata": {},
   "source": [
    "Из описания данных:\n",
    "\n",
    "`id` — уникальный идентификатор скважины;<br>\n",
    "`f0`, `f1`, `f2` — три признака точек (неважно, что они означают, но сами признаки значимы);<br>\n",
    "`product` — объём запасов в скважине (тыс. баррелей)."
   ]
  },
  {
   "cell_type": "code",
   "execution_count": 7,
   "metadata": {},
   "outputs": [
    {
     "name": "stdout",
     "output_type": "stream",
     "text": [
      "<class 'pandas.core.frame.DataFrame'>\n",
      "RangeIndex: 100000 entries, 0 to 99999\n",
      "Data columns (total 5 columns):\n",
      "id         100000 non-null object\n",
      "f0         100000 non-null float64\n",
      "f1         100000 non-null float64\n",
      "f2         100000 non-null float64\n",
      "product    100000 non-null float64\n",
      "dtypes: float64(4), object(1)\n",
      "memory usage: 3.8+ MB\n"
     ]
    }
   ],
   "source": [
    "df[1].info()"
   ]
  },
  {
   "cell_type": "code",
   "execution_count": 8,
   "metadata": {
    "scrolled": true
   },
   "outputs": [
    {
     "name": "stdout",
     "output_type": "stream",
     "text": [
      "<class 'pandas.core.frame.DataFrame'>\n",
      "RangeIndex: 100000 entries, 0 to 99999\n",
      "Data columns (total 5 columns):\n",
      "id         100000 non-null object\n",
      "f0         100000 non-null float64\n",
      "f1         100000 non-null float64\n",
      "f2         100000 non-null float64\n",
      "product    100000 non-null float64\n",
      "dtypes: float64(4), object(1)\n",
      "memory usage: 3.8+ MB\n"
     ]
    }
   ],
   "source": [
    "df[2].info()"
   ]
  },
  {
   "cell_type": "markdown",
   "metadata": {},
   "source": [
    "### Подготовка данных"
   ]
  },
  {
   "cell_type": "markdown",
   "metadata": {},
   "source": [
    "Предобработка данных в этом проекте не потребуется, т.к. признаки все признаки без пропусков, числовые, нормализованные (и вообще синтетические)."
   ]
  },
  {
   "cell_type": "markdown",
   "metadata": {},
   "source": [
    "Выделим целевой признак."
   ]
  },
  {
   "cell_type": "code",
   "execution_count": 9,
   "metadata": {},
   "outputs": [],
   "source": [
    "target = []\n",
    "features = []\n",
    "for i in range(3):\n",
    "    target.append(df[i]['product'])\n",
    "    features.append(df[i][['f0','f1','f2']])"
   ]
  },
  {
   "cell_type": "code",
   "execution_count": 10,
   "metadata": {},
   "outputs": [
    {
     "data": {
      "text/plain": [
       "0    105.280062\n",
       "1     73.037750\n",
       "Name: product, dtype: float64"
      ]
     },
     "execution_count": 10,
     "metadata": {},
     "output_type": "execute_result"
    }
   ],
   "source": [
    "target[0].head(2)"
   ]
  },
  {
   "cell_type": "code",
   "execution_count": 11,
   "metadata": {},
   "outputs": [
    {
     "data": {
      "text/html": [
       "<div>\n",
       "<style scoped>\n",
       "    .dataframe tbody tr th:only-of-type {\n",
       "        vertical-align: middle;\n",
       "    }\n",
       "\n",
       "    .dataframe tbody tr th {\n",
       "        vertical-align: top;\n",
       "    }\n",
       "\n",
       "    .dataframe thead th {\n",
       "        text-align: right;\n",
       "    }\n",
       "</style>\n",
       "<table border=\"1\" class=\"dataframe\">\n",
       "  <thead>\n",
       "    <tr style=\"text-align: right;\">\n",
       "      <th></th>\n",
       "      <th>f0</th>\n",
       "      <th>f1</th>\n",
       "      <th>f2</th>\n",
       "    </tr>\n",
       "  </thead>\n",
       "  <tbody>\n",
       "    <tr>\n",
       "      <td>0</td>\n",
       "      <td>0.705745</td>\n",
       "      <td>-0.497823</td>\n",
       "      <td>1.22117</td>\n",
       "    </tr>\n",
       "    <tr>\n",
       "      <td>1</td>\n",
       "      <td>1.334711</td>\n",
       "      <td>-0.340164</td>\n",
       "      <td>4.36508</td>\n",
       "    </tr>\n",
       "  </tbody>\n",
       "</table>\n",
       "</div>"
      ],
      "text/plain": [
       "         f0        f1       f2\n",
       "0  0.705745 -0.497823  1.22117\n",
       "1  1.334711 -0.340164  4.36508"
      ]
     },
     "execution_count": 11,
     "metadata": {},
     "output_type": "execute_result"
    }
   ],
   "source": [
    "features[0].head(2)"
   ]
  },
  {
   "cell_type": "markdown",
   "metadata": {},
   "source": [
    "Разобьём данные на обучающую и валидационную выборки в соотношении 75:25."
   ]
  },
  {
   "cell_type": "code",
   "execution_count": 12,
   "metadata": {},
   "outputs": [
    {
     "name": "stdout",
     "output_type": "stream",
     "text": [
      "(75000, 3)\n",
      "(25000, 3)\n",
      "92.58611961340254\t92.24164115979244\n",
      "68.73114736286965\t69.10655791139102\n",
      "95.08637922058705\t94.7408623382389\n"
     ]
    }
   ],
   "source": [
    "features_train = []\n",
    "features_valid = []\n",
    "target_train = []\n",
    "target_valid = []\n",
    "for i in range(3):\n",
    "    features_train.append(pd.Series())\n",
    "    features_valid.append(pd.Series())\n",
    "    target_train.append(pd.Series())\n",
    "    target_valid.append(pd.Series())\n",
    "    features_train[i], features_valid[i], target_train[i], target_valid[i] = train_test_split(\n",
    "        features[i], target[i], \n",
    "        test_size=0.25, \n",
    "        shuffle=True,\n",
    "        random_state=486745)\n",
    "    target_valid[i].reset_index(drop=True, inplace=True)\n",
    "    features_valid[i].reset_index(drop=True, inplace=True)\n",
    "\n",
    "print(features_train[0].shape) \n",
    "print(features_valid[0].shape) \n",
    "for i in range(3):\n",
    "    print( target_train[i].mean(), target_valid[i].mean(), sep='\\t')"
   ]
  },
  {
   "cell_type": "markdown",
   "metadata": {},
   "source": [
    "## Обучение и проверка модели"
   ]
  },
  {
   "cell_type": "markdown",
   "metadata": {},
   "source": [
    "Обучим модель и сделаем предсказания на валидационной выборке. Сохраним предсказания и правильные ответы на валидационной выборке."
   ]
  },
  {
   "cell_type": "markdown",
   "metadata": {},
   "source": [
    "\\* *Не удалось использовать HalvingGridSearchCV из-за версии scikit-learn окружения Praktikum.*"
   ]
  },
  {
   "cell_type": "code",
   "execution_count": 13,
   "metadata": {
    "scrolled": true
   },
   "outputs": [
    {
     "name": "stdout",
     "output_type": "stream",
     "text": [
      "1-й регион:\n",
      "{'fit_intercept': True, 'normalize': True}\n",
      "score: -1416.1829051387851\n",
      "LinearRegression(copy_X=True, fit_intercept=True, n_jobs=None, normalize=True)\n",
      "Средний запас предсказанного сырья на валидационной выборке: 92.60236164020787 тыс. баррелей\n",
      "Средний фактический запас: 92.24164115979244 тыс. баррелей\n",
      "RMSE на валидационной выборке: 37.878920074603954 \n",
      "\n",
      "2-й регион:\n",
      "{'fit_intercept': True, 'normalize': False}\n",
      "score: -0.7895016786087907\n",
      "LinearRegression(copy_X=True, fit_intercept=True, n_jobs=None, normalize=False)\n",
      "Средний запас предсказанного сырья на валидационной выборке: 69.10352620076132 тыс. баррелей\n",
      "Средний фактический запас: 69.10655791139102 тыс. баррелей\n",
      "RMSE на валидационной выборке: 0.8960369341577493 \n",
      "\n",
      "3-й регион:\n",
      "{'fit_intercept': True, 'normalize': True}\n",
      "score: -1605.630552184123\n",
      "LinearRegression(copy_X=True, fit_intercept=True, n_jobs=None, normalize=True)\n",
      "Средний запас предсказанного сырья на валидационной выборке: 94.93003149492975 тыс. баррелей\n",
      "Средний фактический запас: 94.7408623382389 тыс. баррелей\n",
      "RMSE на валидационной выборке: 40.01499438793516 \n",
      "\n",
      "Wall time: 389 ms\n"
     ]
    }
   ],
   "source": [
    "%%time\n",
    "\n",
    "params = dict(fit_intercept=[True,False]\n",
    "              , normalize=[True,False]\n",
    "             )\n",
    "\n",
    "model = []\n",
    "predicted_valid = []\n",
    "\n",
    "for i in range(3):\n",
    "    model.append(LinearRegression())\n",
    "    grid = GridSearchCV(model[i], params, verbose=0, scoring='neg_mean_squared_error', cv=5)\n",
    "    grid.fit(features_train[i], target_train[i])\n",
    "    \n",
    "    print(i+1, '-й регион:', sep='')\n",
    "    print(grid.best_params_)\n",
    "    print('score:', grid.best_score_)\n",
    "    model[i] = grid.best_estimator_\n",
    "    print(model[i])\n",
    "    \n",
    "    predicted_valid.append(pd.Series(model[i].predict(features_valid[i])))\n",
    "    print('Средний запас предсказанного сырья на валидационной выборке:',\n",
    "          predicted_valid[i].mean(),\n",
    "          'тыс. баррелей')\n",
    "    print('Средний фактический запас:',\n",
    "          target_valid[i].mean(),\n",
    "          'тыс. баррелей')\n",
    "    print('RMSE на валидационной выборке:',\n",
    "          mean_squared_error(target_valid[i], predicted_valid[i]\n",
    "                             #, squared=False\n",
    "                            ) ** 0.5,\n",
    "          '\\n'\n",
    "         )"
   ]
  },
  {
   "cell_type": "markdown",
   "metadata": {},
   "source": [
    "2-й регион сильно отличается от 1-го и  3-го: для него меньше предсказанный средний запас, но на 2 порядка ниже среднеквадратичная ошибка."
   ]
  },
  {
   "cell_type": "markdown",
   "metadata": {},
   "source": [
    "## Подготовка к расчёту прибыли"
   ]
  },
  {
   "cell_type": "markdown",
   "metadata": {},
   "source": [
    "Все ключевые значения для расчётов сохраним в отдельных переменных."
   ]
  },
  {
   "cell_type": "code",
   "execution_count": 14,
   "metadata": {},
   "outputs": [
    {
     "name": "stdout",
     "output_type": "stream",
     "text": [
      "budget = 50000000.0\n"
     ]
    }
   ],
   "source": [
    "N_EXPLORING = 500  # исследуют 500 скважин региона\n",
    "N_BEST = 200  # из них выбирают 200 лучших для разработки\n",
    "\n",
    "UNIT_INCOME = 450_000  # (руб.) - доход с единицы продукта (тыс. баррелей)\n",
    "\n",
    "TOTAL_BUDGET = 10_000_000_000  # (руб.) - бюджет на разработку (200?) скважин в регионе\n",
    "budget = TOTAL_BUDGET / N_BEST  # бюджет на разработку 1 скважины\n",
    "print('budget =', budget)\n",
    "\n",
    "MIN_LOSS_PROBABILITY = 0.025  # После оценки рисков нужно оставить лишь те регионы,\n",
    "                              # в которых вероятность убытков меньше 2.5%."
   ]
  },
  {
   "cell_type": "markdown",
   "metadata": {},
   "source": [
    "Рассчитаем достаточный объём сырья для безубыточной разработки новой скважины. Сравним полученный объём сырья со средним запасом в каждом регионе."
   ]
  },
  {
   "cell_type": "code",
   "execution_count": 15,
   "metadata": {},
   "outputs": [
    {
     "data": {
      "text/plain": [
       "111.11111111111111"
      ]
     },
     "execution_count": 15,
     "metadata": {},
     "output_type": "execute_result"
    }
   ],
   "source": [
    "enough_volume = budget / UNIT_INCOME\n",
    "enough_volume"
   ]
  },
  {
   "cell_type": "markdown",
   "metadata": {},
   "source": [
    "Во 2-м регионе предсказанный средний запас только ~69 тыс. баррелей, что гораздо ниже достаточного объёма для безубыточной разработки. В 1-м и 3-м тоже ниже, но не так существенно."
   ]
  },
  {
   "cell_type": "markdown",
   "metadata": {},
   "source": [
    "## Расчёт прибыли и рисков "
   ]
  },
  {
   "cell_type": "markdown",
   "metadata": {},
   "source": [
    "### Функция для расчёта прибыли"
   ]
  },
  {
   "cell_type": "markdown",
   "metadata": {},
   "source": [
    "Напишем функцию для расчёта прибыли по выбранным скважинам и предсказаниям модели:\n",
    "- Выберем скважины с максимальными значениями предсказаний.\n",
    "- Просуммируем целевое значение объёма сырья, соответствующее этим предсказаниям.\n",
    "- Рассчитаем прибыль для полученного объёма сырья."
   ]
  },
  {
   "cell_type": "code",
   "execution_count": 16,
   "metadata": {},
   "outputs": [],
   "source": [
    "def profit_calc (predicted, target):\n",
    "    chosen_predicted = predicted.sort_values(ascending=False)[:N_BEST]\n",
    "    chosen_target = target[chosen_predicted.index]\n",
    "#     print(chosen_predicted.head(3))\n",
    "#     print(chosen_target.head(3))\n",
    "    \n",
    "    profit = chosen_target.sum() * UNIT_INCOME - TOTAL_BUDGET\n",
    "    return profit"
   ]
  },
  {
   "cell_type": "markdown",
   "metadata": {},
   "source": [
    "Проверим работу функции:"
   ]
  },
  {
   "cell_type": "code",
   "execution_count": 17,
   "metadata": {},
   "outputs": [
    {
     "name": "stdout",
     "output_type": "stream",
     "text": [
      "прибыль: 5,202,841.56\n"
     ]
    }
   ],
   "source": [
    "predicted_sample = predicted_valid[0].sample(n=N_EXPLORING,replace=True,random_state=54982)\n",
    "#target_sample = target_valid[0].loc[predicted_sample.index]\n",
    "profit = profit_calc(predicted_sample, target_valid[0])\n",
    "print(f\"прибыль: {profit:10,.2f}\")"
   ]
  },
  {
   "cell_type": "markdown",
   "metadata": {},
   "source": [
    "### Bootstrap"
   ]
  },
  {
   "cell_type": "markdown",
   "metadata": {},
   "source": [
    "Посчитаем риски и прибыль для каждого региона:\n",
    "- Применим технику Bootstrap с 1000 выборок, чтобы найти распределение прибыли.\n",
    "- Найдём среднюю прибыль, 95%-й доверительный интервал и риск убытков. Убыток — это отрицательная прибыль.\n",
    "- Сделаем выводы: предложим регион для разработки скважин и обоснуем выбор."
   ]
  },
  {
   "cell_type": "code",
   "execution_count": 19,
   "metadata": {},
   "outputs": [
    {
     "name": "stdout",
     "output_type": "stream",
     "text": [
      "1-й регион:\n",
      "Средняя прибыль: 377,798,930.43\n",
      "Доверительный интервал 95% для средней прибыли: [-110,964,377.04;  883,580,483.13]\n",
      "Риск убытков (отриц.прибыль): 6.5%\n",
      "\n",
      "\n",
      "2-й регион:\n",
      "Средняя прибыль: 466,393,727.43\n",
      "Доверительный интервал 95% для средней прибыли: [69,451,683.82;  860,831,045.95]\n",
      "Риск убытков (отриц.прибыль): 0.9%\n",
      "\n",
      "\n",
      "3-й регион:\n",
      "Средняя прибыль: 349,643,697.10\n",
      "Доверительный интервал 95% для средней прибыли: [-170,562,982.98;  882,175,655.01]\n",
      "Риск убытков (отриц.прибыль): 7.7%\n",
      "\n",
      "\n",
      "Wall time: 2.7 s\n"
     ]
    }
   ],
   "source": [
    "%%time\n",
    "state = np.random.RandomState(12345)\n",
    "values = []\n",
    "\n",
    "for i in range(3):\n",
    "    print(i+1, '-й регион:', sep='')\n",
    "    values.append([])\n",
    "    \n",
    "    for j in range(1000):\n",
    "        predicted_sample = predicted_valid[i].sample(n=N_EXPLORING, replace=True, random_state=state)\n",
    "        #target_sample = target_valid[i].loc[predicted_sample.index]\n",
    "        values[i].append(profit_calc(predicted_sample, target_valid[i]))\n",
    "    \n",
    "    values[i] = pd.Series(values[i])\n",
    "    mean = values[i].mean()\n",
    "    q_0025 = values[i].quantile(q=0.025)\n",
    "    q_0975 = values[i].quantile(q=0.975)\n",
    "    risk_of_loss = values[i].loc[values[i] < 0].count() / values[i].count()\n",
    "    \n",
    "    print(f\"Средняя прибыль: {mean:12,.2f}\")\n",
    "    print(f\"Доверительный интервал 95% для средней прибыли: [{q_0025:12,.2f};  {q_0975:12,.2f}]\")\n",
    "    print(f\"Риск убытков (отриц.прибыль): {risk_of_loss*100 :3.1f}%\")\n",
    "    #print(values[i].describe())\n",
    "    print('\\n')"
   ]
  },
  {
   "cell_type": "markdown",
   "metadata": {},
   "source": [
    "### Вывод\n",
    "И 2-й, и 3-й регион сразу исключаем из-за риска убытков >2.5%.\n",
    "<br>Для 2-го региона выше и средняя прибыль, и нижняя граница доверительного интервала 95% средней прибыли, и ниже риск убытков. Ниже только верхняя граница доверительного интервала, но не намного. Это однозначный победитель, несмотря на меньший средний запас. Меньшая среднеквадратичная ошибка и более высокая предсказуемость данных в этом регионе в итоге сыграла решающую роль."
   ]
  },
  {
   "cell_type": "markdown",
   "metadata": {},
   "source": [
    "<div class=\"alert alert-success\">\n",
    "<b> ✔️ Комментарий ревьювера:</b> Вывод правильный. Действительно, регион 2 вытянул по безубыточности за счет высокого качества предсказания.\n",
    "    \n",
    "Однако если посмотреть на матрицу корреляции, можно увидеть странную высокую корреляцию одного из признаков и целевой переменной. Возможно в данных ошибка, но в данной работе мы это не рассматриваем.\n",
    "    \n",
    "Вот небольшая статья по бутстрапу в том числе, вдруг заинтересует:\n",
    "    \n",
    "https://habr.com/ru/company/ods/blog/324402/\n",
    "</div>"
   ]
  },
  {
   "cell_type": "code",
   "execution_count": 20,
   "metadata": {
    "scrolled": true
   },
   "outputs": [
    {
     "data": {
      "text/plain": [
       "'22.06.2022 17:17'"
      ]
     },
     "execution_count": 20,
     "metadata": {},
     "output_type": "execute_result"
    }
   ],
   "source": [
    "dt.datetime.today().strftime(\"%d.%m.%Y %H:%M\")"
   ]
  },
  {
   "cell_type": "markdown",
   "metadata": {},
   "source": [
    "## Чек-лист готовности проекта"
   ]
  },
  {
   "cell_type": "markdown",
   "metadata": {},
   "source": [
    "Поставьте 'x' в выполненных пунктах. Далее нажмите Shift+Enter."
   ]
  },
  {
   "cell_type": "markdown",
   "metadata": {},
   "source": [
    "- [x]  Jupyter Notebook открыт\n",
    "- [x]  Весь код выполняется без ошибок\n",
    "- [x]  Ячейки с кодом расположены в порядке исполнения\n",
    "- [x]  Выполнен шаг 1: данные подготовлены\n",
    "- [x]  Выполнен шаг 2: модели обучены и проверены\n",
    "    - [x]  Данные корректно разбиты на обучающую и валидационную выборки\n",
    "    - [x]  Модели обучены, предсказания сделаны\n",
    "    - [x]  Предсказания и правильные ответы на валидационной выборке сохранены\n",
    "    - [x]  На экране напечатаны результаты\n",
    "    - [x]  Сделаны выводы\n",
    "- [x]  Выполнен шаг 3: проведена подготовка к расчёту прибыли\n",
    "    - [x]  Для всех ключевых значений созданы константы Python\n",
    "    - [x]  Посчитано минимальное среднее количество продукта в месторождениях региона, достаточное для разработки\n",
    "    - [x]  По предыдущему пункту сделаны выводы\n",
    "    - [x]  Написана функция расчёта прибыли\n",
    "- [x]  Выполнен шаг 4: посчитаны риски и прибыль\n",
    "    - [x]  Проведена процедура *Bootstrap*\n",
    "    - [x]  Все параметры бутстрепа соответствуют условию\n",
    "    - [x]  Найдены все нужные величины\n",
    "    - [x]  Предложен регион для разработки месторождения\n",
    "    - [x]  Выбор региона обоснован"
   ]
  }
 ],
 "metadata": {
  "ExecuteTimeLog": [
   {
    "duration": 1349,
    "start_time": "2022-06-22T09:01:06.646Z"
   },
   {
    "duration": 9,
    "start_time": "2022-06-22T09:01:07.997Z"
   },
   {
    "duration": 5,
    "start_time": "2022-06-22T09:01:08.008Z"
   },
   {
    "duration": 428,
    "start_time": "2022-06-22T09:01:08.015Z"
   },
   {
    "duration": 21,
    "start_time": "2022-06-22T09:01:08.452Z"
   },
   {
    "duration": 17,
    "start_time": "2022-06-22T09:01:08.475Z"
   },
   {
    "duration": 14,
    "start_time": "2022-06-22T09:01:08.493Z"
   },
   {
    "duration": 50,
    "start_time": "2022-06-22T09:01:08.509Z"
   },
   {
    "duration": 28,
    "start_time": "2022-06-22T09:01:08.561Z"
   },
   {
    "duration": 86,
    "start_time": "2022-06-22T09:01:08.591Z"
   },
   {
    "duration": 18,
    "start_time": "2022-06-22T09:01:08.679Z"
   },
   {
    "duration": 53,
    "start_time": "2022-06-22T09:01:08.699Z"
   },
   {
    "duration": 6021,
    "start_time": "2022-06-22T09:01:08.754Z"
   },
   {
    "duration": 17,
    "start_time": "2022-06-22T09:01:14.863Z"
   },
   {
    "duration": 85,
    "start_time": "2022-06-22T09:01:14.885Z"
   },
   {
    "duration": 23,
    "start_time": "2022-06-22T09:01:14.972Z"
   },
   {
    "duration": 53,
    "start_time": "2022-06-22T09:01:15.000Z"
   },
   {
    "duration": 4418,
    "start_time": "2022-06-22T09:01:15.055Z"
   },
   {
    "duration": 4,
    "start_time": "2022-06-22T09:01:19.475Z"
   },
   {
    "duration": 293,
    "start_time": "2022-06-22T09:19:45.193Z"
   },
   {
    "duration": 3217,
    "start_time": "2022-06-22T09:19:59.993Z"
   },
   {
    "duration": 5339,
    "start_time": "2022-06-22T09:20:05.280Z"
   },
   {
    "duration": 10,
    "start_time": "2022-06-22T09:21:49.821Z"
   }
  ],
  "kernelspec": {
   "display_name": "Python 3 (ipykernel)",
   "language": "python",
   "name": "python3"
  },
  "language_info": {
   "codemirror_mode": {
    "name": "ipython",
    "version": 3
   },
   "file_extension": ".py",
   "mimetype": "text/x-python",
   "name": "python",
   "nbconvert_exporter": "python",
   "pygments_lexer": "ipython3",
   "version": "3.7.8"
  },
  "toc": {
   "base_numbering": 1,
   "nav_menu": {},
   "number_sections": true,
   "sideBar": true,
   "skip_h1_title": true,
   "title_cell": "Содержание",
   "title_sidebar": "Contents",
   "toc_cell": true,
   "toc_position": {
    "height": "calc(100% - 180px)",
    "left": "10px",
    "top": "150px",
    "width": "165px"
   },
   "toc_section_display": true,
   "toc_window_display": true
  }
 },
 "nbformat": 4,
 "nbformat_minor": 2
}
