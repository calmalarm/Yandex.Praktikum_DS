{
 "cells": [
  {
   "cell_type": "markdown",
   "metadata": {
    "toc": true
   },
   "source": [
    "<h1>Содержание<span class=\"tocSkip\"></span></h1>\n",
    "<div class=\"toc\"><ul class=\"toc-item\"><li><span><a href=\"#Описание-проекта\" data-toc-modified-id=\"Описание-проекта-1\"><span class=\"toc-item-num\">1&nbsp;&nbsp;</span>Описание проекта</a></span></li><li><span><a href=\"#Библиотеки\" data-toc-modified-id=\"Библиотеки-2\"><span class=\"toc-item-num\">2&nbsp;&nbsp;</span>Библиотеки</a></span></li><li><span><a href=\"#Подготовка\" data-toc-modified-id=\"Подготовка-3\"><span class=\"toc-item-num\">3&nbsp;&nbsp;</span>Подготовка</a></span><ul class=\"toc-item\"><li><span><a href=\"#Загрузка-данных\" data-toc-modified-id=\"Загрузка-данных-3.1\"><span class=\"toc-item-num\">3.1&nbsp;&nbsp;</span>Загрузка данных</a></span></li><li><span><a href=\"#toxic-BERT\" data-toc-modified-id=\"toxic-BERT-3.2\"><span class=\"toc-item-num\">3.2&nbsp;&nbsp;</span>toxic-BERT</a></span></li><li><span><a href=\"#Токенизация\" data-toc-modified-id=\"Токенизация-3.3\"><span class=\"toc-item-num\">3.3&nbsp;&nbsp;</span>Токенизация</a></span></li><li><span><a href=\"#Cuda\" data-toc-modified-id=\"Cuda-3.4\"><span class=\"toc-item-num\">3.4&nbsp;&nbsp;</span>Cuda</a></span></li><li><span><a href=\"#Эмбеддинги\" data-toc-modified-id=\"Эмбеддинги-3.5\"><span class=\"toc-item-num\">3.5&nbsp;&nbsp;</span>Эмбеддинги</a></span></li><li><span><a href=\"#Split\" data-toc-modified-id=\"Split-3.6\"><span class=\"toc-item-num\">3.6&nbsp;&nbsp;</span>Split</a></span></li><li><span><a href=\"#(Up&amp;)Downsampling\" data-toc-modified-id=\"(Up&amp;)Downsampling-3.7\"><span class=\"toc-item-num\">3.7&nbsp;&nbsp;</span>(Up&amp;)Downsampling</a></span></li></ul></li><li><span><a href=\"#Обучение\" data-toc-modified-id=\"Обучение-4\"><span class=\"toc-item-num\">4&nbsp;&nbsp;</span>Обучение</a></span><ul class=\"toc-item\"><li><span><a href=\"#Логистическая-регрессия\" data-toc-modified-id=\"Логистическая-регрессия-4.1\"><span class=\"toc-item-num\">4.1&nbsp;&nbsp;</span>Логистическая регрессия</a></span></li><li><span><a href=\"#CatBoost\" data-toc-modified-id=\"CatBoost-4.2\"><span class=\"toc-item-num\">4.2&nbsp;&nbsp;</span>CatBoost</a></span></li><li><span><a href=\"#SVC\" data-toc-modified-id=\"SVC-4.3\"><span class=\"toc-item-num\">4.3&nbsp;&nbsp;</span>SVC</a></span></li><li><span><a href=\"#SGDClassifier\" data-toc-modified-id=\"SGDClassifier-4.4\"><span class=\"toc-item-num\">4.4&nbsp;&nbsp;</span>SGDClassifier</a></span></li><li><span><a href=\"#Тестирование\" data-toc-modified-id=\"Тестирование-4.5\"><span class=\"toc-item-num\">4.5&nbsp;&nbsp;</span>Тестирование</a></span></li><li><span><a href=\"#Проверка-на-адекватность\" data-toc-modified-id=\"Проверка-на-адекватность-4.6\"><span class=\"toc-item-num\">4.6&nbsp;&nbsp;</span>Проверка на адекватность</a></span></li></ul></li><li><span><a href=\"#Выводы\" data-toc-modified-id=\"Выводы-5\"><span class=\"toc-item-num\">5&nbsp;&nbsp;</span>Выводы</a></span></li><li><span><a href=\"#Чек-лист-проверки\" data-toc-modified-id=\"Чек-лист-проверки-6\"><span class=\"toc-item-num\">6&nbsp;&nbsp;</span>Чек-лист проверки</a></span></li></ul></div>"
   ]
  },
  {
   "cell_type": "markdown",
   "metadata": {},
   "source": [
    "# Проект для «Викишоп» с BERT\n",
    "\n",
    "~~(DistilBERT)~~\n",
    "\n",
    "(toxic BERT)"
   ]
  },
  {
   "cell_type": "markdown",
   "metadata": {},
   "source": [
    "## Описание проекта"
   ]
  },
  {
   "cell_type": "markdown",
   "metadata": {},
   "source": [
    "Интернет-магазин «Викишоп» запускает новый сервис. Теперь пользователи могут редактировать и дополнять описания товаров, как в вики-сообществах. То есть клиенты предлагают свои правки и комментируют изменения других. Магазину нужен инструмент, который будет искать токсичные комментарии и отправлять их на модерацию. \n",
    "\n",
    "Обучим модель классифицировать комментарии на позитивные и негативные. В нашем распоряжении набор данных с разметкой о токсичности правок.\n",
    "\n",
    "Построим модель со значением метрики качества *F1* не меньше 0.75. \n",
    "\n",
    "**Алгоритм**\n",
    "\n",
    "1. Загрузить и подготовить данные.\n",
    "2. Обучить разные модели. \n",
    "3. Сделать выводы.\n",
    "\n",
    "**Описание данных**\n",
    "\n",
    "Данные находятся в файле `toxic_comments.csv`. Столбец *text* в нём содержит текст комментария, а *toxic* — целевой признак."
   ]
  },
  {
   "cell_type": "markdown",
   "metadata": {},
   "source": [
    "## Библиотеки"
   ]
  },
  {
   "cell_type": "code",
   "execution_count": 1,
   "metadata": {},
   "outputs": [],
   "source": [
    "# !pip install transformers"
   ]
  },
  {
   "cell_type": "code",
   "execution_count": 2,
   "metadata": {},
   "outputs": [],
   "source": [
    "# !pip install torch"
   ]
  },
  {
   "cell_type": "code",
   "execution_count": 4,
   "metadata": {},
   "outputs": [],
   "source": [
    "import numpy as np\n",
    "import pandas as pd\n",
    "import datetime as dt\n",
    "import os\n",
    "os.environ[\"CUDA_DEVICE_ORDER\"] = \"PCI_BUS_ID\"\n",
    "os.environ[\"CUDA_VISIBLE_DEVICES\"] = \"0\""
   ]
  },
  {
   "cell_type": "code",
   "execution_count": 5,
   "metadata": {},
   "outputs": [],
   "source": [
    "from sklearn.linear_model import LogisticRegression\n",
    "from sklearn.linear_model import SGDClassifier\n",
    "from catboost import CatBoostClassifier\n",
    "from sklearn.svm import SVC\n",
    "from sklearn.model_selection import train_test_split\n",
    "from sklearn.model_selection import GridSearchCV\n",
    "from sklearn.model_selection import RandomizedSearchCV\n",
    "from sklearn.model_selection import cross_val_score\n",
    "from sklearn.dummy import DummyClassifier\n",
    "from sklearn.metrics import f1_score\n",
    "from sklearn.preprocessing import StandardScaler, MinMaxScaler\n",
    "from sklearn.utils import shuffle\n",
    "from tqdm import notebook\n",
    "import torch\n",
    "import transformers as ppb\n",
    "from transformers import AutoTokenizer, AutoModelForSequenceClassification\n",
    "import warnings\n",
    "import gc\n",
    "import multiprocessing"
   ]
  },
  {
   "cell_type": "code",
   "execution_count": 6,
   "metadata": {},
   "outputs": [],
   "source": [
    "warnings.filterwarnings(\"ignore\", category=DeprecationWarning)\n",
    "warnings.filterwarnings(\"ignore\", category=FutureWarning)"
   ]
  },
  {
   "cell_type": "code",
   "execution_count": 7,
   "metadata": {},
   "outputs": [
    {
     "data": {
      "text/plain": [
       "'1.12.1'"
      ]
     },
     "execution_count": 7,
     "metadata": {},
     "output_type": "execute_result"
    }
   ],
   "source": [
    "torch.__version__"
   ]
  },
  {
   "cell_type": "markdown",
   "metadata": {},
   "source": [
    "## Подготовка"
   ]
  },
  {
   "cell_type": "markdown",
   "metadata": {},
   "source": [
    "### Загрузка данных"
   ]
  },
  {
   "cell_type": "code",
   "execution_count": 8,
   "metadata": {},
   "outputs": [],
   "source": [
    "fname = 'toxic_comments.csv'\n",
    "pth1 = '/datasets/'\n",
    "pth2 = ''\n",
    "\n",
    "if os.path.exists(pth1+fname):\n",
    "    df = pd.read_csv(pth1+fname)\n",
    "elif os.path.exists(pth2+fname):\n",
    "    df = pd.read_csv(pth2+fname)\n",
    "else:\n",
    "    print('Something is wrong')"
   ]
  },
  {
   "cell_type": "code",
   "execution_count": 9,
   "metadata": {},
   "outputs": [
    {
     "data": {
      "text/html": [
       "<div>\n",
       "<style scoped>\n",
       "    .dataframe tbody tr th:only-of-type {\n",
       "        vertical-align: middle;\n",
       "    }\n",
       "\n",
       "    .dataframe tbody tr th {\n",
       "        vertical-align: top;\n",
       "    }\n",
       "\n",
       "    .dataframe thead th {\n",
       "        text-align: right;\n",
       "    }\n",
       "</style>\n",
       "<table border=\"1\" class=\"dataframe\">\n",
       "  <thead>\n",
       "    <tr style=\"text-align: right;\">\n",
       "      <th></th>\n",
       "      <th>text</th>\n",
       "      <th>toxic</th>\n",
       "    </tr>\n",
       "  </thead>\n",
       "  <tbody>\n",
       "    <tr>\n",
       "      <th>0</th>\n",
       "      <td>Explanation\\nWhy the edits made under my usern...</td>\n",
       "      <td>0</td>\n",
       "    </tr>\n",
       "    <tr>\n",
       "      <th>1</th>\n",
       "      <td>D'aww! He matches this background colour I'm s...</td>\n",
       "      <td>0</td>\n",
       "    </tr>\n",
       "    <tr>\n",
       "      <th>2</th>\n",
       "      <td>Hey man, I'm really not trying to edit war. It...</td>\n",
       "      <td>0</td>\n",
       "    </tr>\n",
       "  </tbody>\n",
       "</table>\n",
       "</div>"
      ],
      "text/plain": [
       "                                                text  toxic\n",
       "0  Explanation\\nWhy the edits made under my usern...      0\n",
       "1  D'aww! He matches this background colour I'm s...      0\n",
       "2  Hey man, I'm really not trying to edit war. It...      0"
      ]
     },
     "execution_count": 9,
     "metadata": {},
     "output_type": "execute_result"
    }
   ],
   "source": [
    "df.head(3)"
   ]
  },
  {
   "cell_type": "code",
   "execution_count": 10,
   "metadata": {},
   "outputs": [
    {
     "data": {
      "text/plain": [
       "(159571, 2)"
      ]
     },
     "execution_count": 10,
     "metadata": {},
     "output_type": "execute_result"
    }
   ],
   "source": [
    "df.shape"
   ]
  },
  {
   "cell_type": "code",
   "execution_count": 11,
   "metadata": {},
   "outputs": [
    {
     "data": {
      "text/plain": [
       "count    159571.000000\n",
       "mean        394.073221\n",
       "std         590.720282\n",
       "min           6.000000\n",
       "25%          96.000000\n",
       "50%         205.000000\n",
       "75%         435.000000\n",
       "max        5000.000000\n",
       "Name: text, dtype: float64"
      ]
     },
     "execution_count": 11,
     "metadata": {},
     "output_type": "execute_result"
    }
   ],
   "source": [
    "df.text.apply(len).describe()"
   ]
  },
  {
   "cell_type": "code",
   "execution_count": 12,
   "metadata": {},
   "outputs": [],
   "source": [
    "df['length'] = df.text.apply(len)"
   ]
  },
  {
   "cell_type": "code",
   "execution_count": 13,
   "metadata": {},
   "outputs": [
    {
     "data": {
      "text/html": [
       "<div>\n",
       "<style scoped>\n",
       "    .dataframe tbody tr th:only-of-type {\n",
       "        vertical-align: middle;\n",
       "    }\n",
       "\n",
       "    .dataframe tbody tr th {\n",
       "        vertical-align: top;\n",
       "    }\n",
       "\n",
       "    .dataframe thead th {\n",
       "        text-align: right;\n",
       "    }\n",
       "</style>\n",
       "<table border=\"1\" class=\"dataframe\">\n",
       "  <thead>\n",
       "    <tr style=\"text-align: right;\">\n",
       "      <th></th>\n",
       "      <th>text</th>\n",
       "      <th>toxic</th>\n",
       "      <th>length</th>\n",
       "    </tr>\n",
       "  </thead>\n",
       "  <tbody>\n",
       "    <tr>\n",
       "      <th>1184</th>\n",
       "      <td>And \\n\\nPaganism\\n\\nSouthgate, who has a degre...</td>\n",
       "      <td>0</td>\n",
       "      <td>4908</td>\n",
       "    </tr>\n",
       "    <tr>\n",
       "      <th>2420</th>\n",
       "      <td>FUCK YOU U USELESS BOT FUCK YOU U USELESS BOT ...</td>\n",
       "      <td>1</td>\n",
       "      <td>4999</td>\n",
       "    </tr>\n",
       "    <tr>\n",
       "      <th>3954</th>\n",
       "      <td>\"\\n\\n(Ivo Banac)...A bit of nonteleological hi...</td>\n",
       "      <td>0</td>\n",
       "      <td>4946</td>\n",
       "    </tr>\n",
       "    <tr>\n",
       "      <th>4174</th>\n",
       "      <td>ii CAN STILL POST WITH THIS COMPUTER...I SAID ...</td>\n",
       "      <td>1</td>\n",
       "      <td>5000</td>\n",
       "    </tr>\n",
       "    <tr>\n",
       "      <th>4712</th>\n",
       "      <td>do go fuck off bastard\\nDo Yyou Have a life?\\n...</td>\n",
       "      <td>1</td>\n",
       "      <td>4969</td>\n",
       "    </tr>\n",
       "    <tr>\n",
       "      <th>...</th>\n",
       "      <td>...</td>\n",
       "      <td>...</td>\n",
       "      <td>...</td>\n",
       "    </tr>\n",
       "    <tr>\n",
       "      <th>156032</th>\n",
       "      <td>AIDS AIDS AIDS AIDS AIDS AIDS AIDSAIDS AIDS AI...</td>\n",
       "      <td>1</td>\n",
       "      <td>5000</td>\n",
       "    </tr>\n",
       "    <tr>\n",
       "      <th>156437</th>\n",
       "      <td>HUGE FAGGOT HUGE FAGGOT HUGE FAGGOT HUGE FAGGO...</td>\n",
       "      <td>1</td>\n",
       "      <td>5000</td>\n",
       "    </tr>\n",
       "    <tr>\n",
       "      <th>157861</th>\n",
       "      <td>\"\\n\\n Made in the USA? http://rexcurry.net/wik...</td>\n",
       "      <td>0</td>\n",
       "      <td>4912</td>\n",
       "    </tr>\n",
       "    <tr>\n",
       "      <th>158572</th>\n",
       "      <td>Originally born in OHIO,and raised on a yuppie...</td>\n",
       "      <td>0</td>\n",
       "      <td>4976</td>\n",
       "    </tr>\n",
       "    <tr>\n",
       "      <th>158970</th>\n",
       "      <td>Hi Wikipedia!!Hi Wikipedia!!Hi Wikipedia!!Hi W...</td>\n",
       "      <td>0</td>\n",
       "      <td>5000</td>\n",
       "    </tr>\n",
       "  </tbody>\n",
       "</table>\n",
       "<p>198 rows × 3 columns</p>\n",
       "</div>"
      ],
      "text/plain": [
       "                                                     text  toxic  length\n",
       "1184    And \\n\\nPaganism\\n\\nSouthgate, who has a degre...      0    4908\n",
       "2420    FUCK YOU U USELESS BOT FUCK YOU U USELESS BOT ...      1    4999\n",
       "3954    \"\\n\\n(Ivo Banac)...A bit of nonteleological hi...      0    4946\n",
       "4174    ii CAN STILL POST WITH THIS COMPUTER...I SAID ...      1    5000\n",
       "4712    do go fuck off bastard\\nDo Yyou Have a life?\\n...      1    4969\n",
       "...                                                   ...    ...     ...\n",
       "156032  AIDS AIDS AIDS AIDS AIDS AIDS AIDSAIDS AIDS AI...      1    5000\n",
       "156437  HUGE FAGGOT HUGE FAGGOT HUGE FAGGOT HUGE FAGGO...      1    5000\n",
       "157861  \"\\n\\n Made in the USA? http://rexcurry.net/wik...      0    4912\n",
       "158572  Originally born in OHIO,and raised on a yuppie...      0    4976\n",
       "158970  Hi Wikipedia!!Hi Wikipedia!!Hi Wikipedia!!Hi W...      0    5000\n",
       "\n",
       "[198 rows x 3 columns]"
      ]
     },
     "execution_count": 13,
     "metadata": {},
     "output_type": "execute_result"
    }
   ],
   "source": [
    "df.query('length > 4900')"
   ]
  },
  {
   "cell_type": "markdown",
   "metadata": {},
   "source": [
    "Похоже, что с очень длинными текстами нет проблемы (но среди них как раз много токсичных)."
   ]
  },
  {
   "cell_type": "code",
   "execution_count": 14,
   "metadata": {},
   "outputs": [
    {
     "data": {
      "text/plain": [
       "0"
      ]
     },
     "execution_count": 14,
     "metadata": {},
     "output_type": "execute_result"
    }
   ],
   "source": [
    "df.duplicated().sum()"
   ]
  },
  {
   "cell_type": "markdown",
   "metadata": {},
   "source": [
    "Дубликатов нет."
   ]
  },
  {
   "cell_type": "code",
   "execution_count": 15,
   "metadata": {},
   "outputs": [
    {
     "name": "stdout",
     "output_type": "stream",
     "text": [
      "<class 'pandas.core.frame.DataFrame'>\n",
      "RangeIndex: 159571 entries, 0 to 159570\n",
      "Data columns (total 3 columns):\n",
      " #   Column  Non-Null Count   Dtype \n",
      "---  ------  --------------   ----- \n",
      " 0   text    159571 non-null  object\n",
      " 1   toxic   159571 non-null  int64 \n",
      " 2   length  159571 non-null  int64 \n",
      "dtypes: int64(2), object(1)\n",
      "memory usage: 3.7+ MB\n"
     ]
    }
   ],
   "source": [
    "df.info()"
   ]
  },
  {
   "cell_type": "code",
   "execution_count": 16,
   "metadata": {},
   "outputs": [
    {
     "data": {
      "text/plain": [
       "0    0\n",
       "1    0\n",
       "2    0\n",
       "3    0\n",
       "4    0\n",
       "5    0\n",
       "6    1\n",
       "7    0\n",
       "8    0\n",
       "9    0\n",
       "Name: toxic, dtype: int64"
      ]
     },
     "execution_count": 16,
     "metadata": {},
     "output_type": "execute_result"
    }
   ],
   "source": [
    "target = df.toxic\n",
    "target.head(10)"
   ]
  },
  {
   "cell_type": "markdown",
   "metadata": {},
   "source": [
    "### toxic-BERT"
   ]
  },
  {
   "cell_type": "code",
   "execution_count": 17,
   "metadata": {},
   "outputs": [
    {
     "data": {
      "text/plain": [
       "8"
      ]
     },
     "execution_count": 17,
     "metadata": {},
     "output_type": "execute_result"
    }
   ],
   "source": [
    "multiprocessing.cpu_count()"
   ]
  },
  {
   "cell_type": "code",
   "execution_count": 18,
   "metadata": {},
   "outputs": [],
   "source": [
    "torch.set_num_threads(multiprocessing.cpu_count())"
   ]
  },
  {
   "cell_type": "code",
   "execution_count": 19,
   "metadata": {},
   "outputs": [],
   "source": [
    "# # For DistilBERT:\n",
    "# model_class, tokenizer_class, pretrained_weights = (ppb.DistilBertModel, ppb.DistilBertTokenizer, 'distilbert-base-uncased')\n",
    "# ## For BERT instead of distilBERT:\n",
    "# #model_class, tokenizer_class, pretrained_weights = (ppb.BertModel, ppb.BertTokenizer, 'bert-base-uncased')\n",
    "\n",
    "# # Load pretrained model/tokenizer\n",
    "# tokenizer = tokenizer_class.from_pretrained(pretrained_weights)\n",
    "# model = model_class.from_pretrained(pretrained_weights)"
   ]
  },
  {
   "cell_type": "code",
   "execution_count": 20,
   "metadata": {},
   "outputs": [],
   "source": [
    "tokenizer = AutoTokenizer.from_pretrained(\"unitary/toxic-bert\")\n",
    "model = AutoModelForSequenceClassification.from_pretrained(\"unitary/toxic-bert\")"
   ]
  },
  {
   "cell_type": "code",
   "execution_count": 21,
   "metadata": {},
   "outputs": [
    {
     "data": {
      "text/plain": [
       "'21.08.2022 21:38:08'"
      ]
     },
     "execution_count": 21,
     "metadata": {},
     "output_type": "execute_result"
    }
   ],
   "source": [
    "dt.datetime.today().strftime(\"%d.%m.%Y %H:%M:%S\")"
   ]
  },
  {
   "cell_type": "markdown",
   "metadata": {},
   "source": [
    "### Токенизация"
   ]
  },
  {
   "cell_type": "code",
   "execution_count": 22,
   "metadata": {},
   "outputs": [
    {
     "name": "stdout",
     "output_type": "stream",
     "text": [
      "Wall time: 2min 21s\n"
     ]
    }
   ],
   "source": [
    "%%time\n",
    "tokenized = df['text'].apply((lambda x: tokenizer.encode(x, add_special_tokens=True, max_length=512, truncation=True)))"
   ]
  },
  {
   "cell_type": "code",
   "execution_count": 23,
   "metadata": {},
   "outputs": [
    {
     "name": "stdout",
     "output_type": "stream",
     "text": [
      "Wall time: 20 s\n"
     ]
    }
   ],
   "source": [
    "%%time\n",
    "max_len = 0\n",
    "for i in tokenized.values:\n",
    "    if len(i) > max_len:\n",
    "        max_len = len(i)\n",
    "\n",
    "padded = np.array([i + [0]*(max_len-len(i)) for i in tokenized.values])"
   ]
  },
  {
   "cell_type": "code",
   "execution_count": 24,
   "metadata": {},
   "outputs": [
    {
     "data": {
      "text/plain": [
       "512"
      ]
     },
     "execution_count": 24,
     "metadata": {},
     "output_type": "execute_result"
    }
   ],
   "source": [
    "max_len"
   ]
  },
  {
   "cell_type": "code",
   "execution_count": 25,
   "metadata": {},
   "outputs": [
    {
     "data": {
      "text/plain": [
       "'21.08.2022 21:40:50'"
      ]
     },
     "execution_count": 25,
     "metadata": {},
     "output_type": "execute_result"
    }
   ],
   "source": [
    "dt.datetime.today().strftime(\"%d.%m.%Y %H:%M:%S\")"
   ]
  },
  {
   "cell_type": "code",
   "execution_count": 26,
   "metadata": {},
   "outputs": [
    {
     "data": {
      "text/plain": [
       "(159571, 512)"
      ]
     },
     "execution_count": 26,
     "metadata": {},
     "output_type": "execute_result"
    }
   ],
   "source": [
    "np.array(padded).shape"
   ]
  },
  {
   "cell_type": "code",
   "execution_count": 27,
   "metadata": {},
   "outputs": [],
   "source": [
    "attention_mask = np.where(padded != 0, 1, 0)"
   ]
  },
  {
   "cell_type": "markdown",
   "metadata": {},
   "source": [
    "### Cuda"
   ]
  },
  {
   "cell_type": "code",
   "execution_count": 28,
   "metadata": {},
   "outputs": [
    {
     "data": {
      "text/plain": [
       "True"
      ]
     },
     "execution_count": 28,
     "metadata": {},
     "output_type": "execute_result"
    }
   ],
   "source": [
    "torch.cuda.is_available()"
   ]
  },
  {
   "cell_type": "code",
   "execution_count": 29,
   "metadata": {},
   "outputs": [
    {
     "data": {
      "text/plain": [
       "1"
      ]
     },
     "execution_count": 29,
     "metadata": {},
     "output_type": "execute_result"
    }
   ],
   "source": [
    "torch.cuda.device_count()"
   ]
  },
  {
   "cell_type": "code",
   "execution_count": 30,
   "metadata": {},
   "outputs": [
    {
     "data": {
      "text/plain": [
       "_CudaDeviceProperties(name='NVIDIA GeForce RTX 3050 Laptop GPU', major=8, minor=6, total_memory=4095MB, multi_processor_count=16)"
      ]
     },
     "execution_count": 30,
     "metadata": {},
     "output_type": "execute_result"
    }
   ],
   "source": [
    "torch.cuda.get_device_properties(0)"
   ]
  },
  {
   "cell_type": "code",
   "execution_count": 31,
   "metadata": {},
   "outputs": [
    {
     "data": {
      "text/plain": [
       "'NVIDIA GeForce RTX 3050 Laptop GPU'"
      ]
     },
     "execution_count": 31,
     "metadata": {},
     "output_type": "execute_result"
    }
   ],
   "source": [
    "torch.cuda.get_device_name(torch.cuda.current_device())"
   ]
  },
  {
   "cell_type": "code",
   "execution_count": 32,
   "metadata": {},
   "outputs": [
    {
     "data": {
      "text/plain": [
       "device(type='cuda', index=0)"
      ]
     },
     "execution_count": 32,
     "metadata": {},
     "output_type": "execute_result"
    }
   ],
   "source": [
    "device = torch.device(\"cuda:0\") if torch.cuda.is_available() else torch.device(\"cpu\")\n",
    "# device = torch.device(\"cpu\")\n",
    "device"
   ]
  },
  {
   "cell_type": "code",
   "execution_count": 33,
   "metadata": {},
   "outputs": [
    {
     "name": "stdout",
     "output_type": "stream",
     "text": [
      "|===========================================================================|\n",
      "|                  PyTorch CUDA memory summary, device ID 0                 |\n",
      "|---------------------------------------------------------------------------|\n",
      "|            CUDA OOMs: 0            |        cudaMalloc retries: 0         |\n",
      "|===========================================================================|\n",
      "|        Metric         | Cur Usage  | Peak Usage | Tot Alloc  | Tot Freed  |\n",
      "|---------------------------------------------------------------------------|\n",
      "| Allocated memory      |       0 B  |       0 B  |       0 B  |       0 B  |\n",
      "|       from large pool |       0 B  |       0 B  |       0 B  |       0 B  |\n",
      "|       from small pool |       0 B  |       0 B  |       0 B  |       0 B  |\n",
      "|---------------------------------------------------------------------------|\n",
      "| Active memory         |       0 B  |       0 B  |       0 B  |       0 B  |\n",
      "|       from large pool |       0 B  |       0 B  |       0 B  |       0 B  |\n",
      "|       from small pool |       0 B  |       0 B  |       0 B  |       0 B  |\n",
      "|---------------------------------------------------------------------------|\n",
      "| GPU reserved memory   |       0 B  |       0 B  |       0 B  |       0 B  |\n",
      "|       from large pool |       0 B  |       0 B  |       0 B  |       0 B  |\n",
      "|       from small pool |       0 B  |       0 B  |       0 B  |       0 B  |\n",
      "|---------------------------------------------------------------------------|\n",
      "| Non-releasable memory |       0 B  |       0 B  |       0 B  |       0 B  |\n",
      "|       from large pool |       0 B  |       0 B  |       0 B  |       0 B  |\n",
      "|       from small pool |       0 B  |       0 B  |       0 B  |       0 B  |\n",
      "|---------------------------------------------------------------------------|\n",
      "| Allocations           |       0    |       0    |       0    |       0    |\n",
      "|       from large pool |       0    |       0    |       0    |       0    |\n",
      "|       from small pool |       0    |       0    |       0    |       0    |\n",
      "|---------------------------------------------------------------------------|\n",
      "| Active allocs         |       0    |       0    |       0    |       0    |\n",
      "|       from large pool |       0    |       0    |       0    |       0    |\n",
      "|       from small pool |       0    |       0    |       0    |       0    |\n",
      "|---------------------------------------------------------------------------|\n",
      "| GPU reserved segments |       0    |       0    |       0    |       0    |\n",
      "|       from large pool |       0    |       0    |       0    |       0    |\n",
      "|       from small pool |       0    |       0    |       0    |       0    |\n",
      "|---------------------------------------------------------------------------|\n",
      "| Non-releasable allocs |       0    |       0    |       0    |       0    |\n",
      "|       from large pool |       0    |       0    |       0    |       0    |\n",
      "|       from small pool |       0    |       0    |       0    |       0    |\n",
      "|---------------------------------------------------------------------------|\n",
      "| Oversize allocations  |       0    |       0    |       0    |       0    |\n",
      "|---------------------------------------------------------------------------|\n",
      "| Oversize GPU segments |       0    |       0    |       0    |       0    |\n",
      "|===========================================================================|\n",
      "\n"
     ]
    }
   ],
   "source": [
    "torch.cuda.empty_cache()\n",
    "gc.collect()\n",
    "print(torch.cuda.memory_summary(device=None, abbreviated=False))"
   ]
  },
  {
   "cell_type": "markdown",
   "metadata": {},
   "source": [
    "### Эмбеддинги"
   ]
  },
  {
   "cell_type": "code",
   "execution_count": null,
   "metadata": {},
   "outputs": [],
   "source": [
    "# embeddings = []\n",
    "# embeddings = torch.zeros(1,768, device=device)\n",
    "embeddings = torch.zeros(1,6, device=device)"
   ]
  },
  {
   "cell_type": "code",
   "execution_count": 36,
   "metadata": {},
   "outputs": [
    {
     "data": {
      "application/vnd.jupyter.widget-view+json": {
       "model_id": "80914f13a1784756bd6c2542552ea73d",
       "version_major": 2,
       "version_minor": 0
      },
      "text/plain": [
       "  0%|          | 0/3192 [00:00<?, ?it/s]"
      ]
     },
     "metadata": {},
     "output_type": "display_data"
    }
   ],
   "source": [
    "batch_size = 50\n",
    "model.eval()\n",
    "model.to(device)\n",
    "for i in notebook.tqdm(range(\n",
    "#     1\n",
    "    int(np.ceil(padded.shape[0] / batch_size))\n",
    ")):\n",
    "        batch = torch.cuda.LongTensor(padded[batch_size*i:batch_size*(i+1)])\n",
    "        attention_mask_batch = torch.cuda.LongTensor(attention_mask[batch_size*i:batch_size*(i+1)])\n",
    "        \n",
    "        with torch.no_grad():            \n",
    "            batch_embeddings = model(batch, attention_mask=attention_mask_batch)\n",
    "        \n",
    "#         embeddings = torch.cat((embeddings, batch_embeddings[0][:,0,:]), 0)   # :,0,: - только CLS токен\n",
    "#         print(batch_embeddings.logits.shape)\n",
    "        embeddings = torch.cat((embeddings, batch_embeddings.logits), 0)\n",
    "        \n",
    "        del batch\n",
    "        del attention_mask_batch\n",
    "        del batch_embeddings"
   ]
  },
  {
   "cell_type": "code",
   "execution_count": 37,
   "metadata": {},
   "outputs": [
    {
     "data": {
      "text/plain": [
       "torch.Size([159572, 6])"
      ]
     },
     "execution_count": 37,
     "metadata": {},
     "output_type": "execute_result"
    }
   ],
   "source": [
    "embeddings.shape"
   ]
  },
  {
   "cell_type": "code",
   "execution_count": 38,
   "metadata": {},
   "outputs": [
    {
     "data": {
      "text/plain": [
       "tensor([[ 0.0000,  0.0000,  0.0000,  0.0000,  0.0000,  0.0000],\n",
       "        [-7.1086, -9.1583, -8.6032, -9.1510, -8.6369, -8.9100]],\n",
       "       device='cuda:0')"
      ]
     },
     "execution_count": 38,
     "metadata": {},
     "output_type": "execute_result"
    }
   ],
   "source": [
    "embeddings[:2,:]"
   ]
  },
  {
   "cell_type": "code",
   "execution_count": 39,
   "metadata": {},
   "outputs": [
    {
     "data": {
      "text/plain": [
       "tensor([[-7.1086, -9.1583, -8.6032, -9.1510, -8.6369, -8.9100],\n",
       "        [-7.3556, -9.0493, -8.6204, -9.0126, -8.6399, -8.9054]],\n",
       "       device='cuda:0')"
      ]
     },
     "execution_count": 39,
     "metadata": {},
     "output_type": "execute_result"
    }
   ],
   "source": [
    "embeddings = embeddings[1:,:]\n",
    "embeddings[:2,:]"
   ]
  },
  {
   "cell_type": "code",
   "execution_count": 40,
   "metadata": {},
   "outputs": [
    {
     "data": {
      "text/plain": [
       "torch.Size([159571, 6])"
      ]
     },
     "execution_count": 40,
     "metadata": {},
     "output_type": "execute_result"
    }
   ],
   "source": [
    "embeddings.shape"
   ]
  },
  {
   "cell_type": "code",
   "execution_count": 41,
   "metadata": {},
   "outputs": [
    {
     "data": {
      "text/plain": [
       "(159571, 6)"
      ]
     },
     "execution_count": 41,
     "metadata": {},
     "output_type": "execute_result"
    }
   ],
   "source": [
    "features = embeddings.cpu().numpy()\n",
    "features.shape"
   ]
  },
  {
   "cell_type": "code",
   "execution_count": 42,
   "metadata": {},
   "outputs": [
    {
     "data": {
      "text/plain": [
       "array([[-7.10855  , -9.158272 , -8.6032095, -9.150958 , -8.636943 ,\n",
       "        -8.910042 ],\n",
       "       [-7.355632 , -9.049333 , -8.620355 , -9.012584 , -8.639869 ,\n",
       "        -8.905448 ]], dtype=float32)"
      ]
     },
     "execution_count": 42,
     "metadata": {},
     "output_type": "execute_result"
    }
   ],
   "source": [
    "features[:2]"
   ]
  },
  {
   "cell_type": "markdown",
   "metadata": {},
   "source": [
    "### Split"
   ]
  },
  {
   "cell_type": "code",
   "execution_count": 43,
   "metadata": {},
   "outputs": [],
   "source": [
    "features_train, features_test, target_train, target_test = train_test_split(\n",
    "    features, target, \n",
    "    test_size=0.85, random_state=1734, \n",
    "    stratify=target,\n",
    "    shuffle=True\n",
    ")"
   ]
  },
  {
   "cell_type": "code",
   "execution_count": 44,
   "metadata": {},
   "outputs": [
    {
     "data": {
      "text/plain": [
       "0.10169208272404429"
      ]
     },
     "execution_count": 44,
     "metadata": {},
     "output_type": "execute_result"
    }
   ],
   "source": [
    "target_train.mean()"
   ]
  },
  {
   "cell_type": "code",
   "execution_count": 45,
   "metadata": {},
   "outputs": [
    {
     "data": {
      "text/plain": [
       "0.10167654604972132"
      ]
     },
     "execution_count": 45,
     "metadata": {},
     "output_type": "execute_result"
    }
   ],
   "source": [
    "target_test.mean()"
   ]
  },
  {
   "cell_type": "code",
   "execution_count": 46,
   "metadata": {},
   "outputs": [],
   "source": [
    "target_train.reset_index(drop=True, inplace=True)\n",
    "target_test.reset_index(drop=True, inplace=True)"
   ]
  },
  {
   "cell_type": "code",
   "execution_count": 47,
   "metadata": {},
   "outputs": [
    {
     "data": {
      "text/plain": [
       "0     0\n",
       "1     0\n",
       "2     0\n",
       "3     0\n",
       "4     0\n",
       "5     0\n",
       "6     1\n",
       "7     0\n",
       "8     0\n",
       "9     0\n",
       "10    0\n",
       "11    0\n",
       "12    0\n",
       "13    1\n",
       "14    0\n",
       "Name: toxic, dtype: int64"
      ]
     },
     "execution_count": 47,
     "metadata": {},
     "output_type": "execute_result"
    }
   ],
   "source": [
    "target_train.head(15)"
   ]
  },
  {
   "cell_type": "code",
   "execution_count": 48,
   "metadata": {},
   "outputs": [
    {
     "data": {
      "text/plain": [
       "0    0\n",
       "1    0\n",
       "2    0\n",
       "3    0\n",
       "4    0\n",
       "Name: toxic, dtype: int64"
      ]
     },
     "execution_count": 48,
     "metadata": {},
     "output_type": "execute_result"
    }
   ],
   "source": [
    "target_test.head(5)"
   ]
  },
  {
   "cell_type": "markdown",
   "metadata": {},
   "source": [
    "### (Up&)Downsampling"
   ]
  },
  {
   "cell_type": "code",
   "execution_count": 50,
   "metadata": {},
   "outputs": [
    {
     "data": {
      "text/plain": [
       "numpy.ndarray"
      ]
     },
     "execution_count": 50,
     "metadata": {},
     "output_type": "execute_result"
    }
   ],
   "source": [
    "type(features_train)"
   ]
  },
  {
   "cell_type": "code",
   "execution_count": 51,
   "metadata": {},
   "outputs": [],
   "source": [
    "features_train = pd.DataFrame(features_train)"
   ]
  },
  {
   "cell_type": "code",
   "execution_count": 52,
   "metadata": {},
   "outputs": [
    {
     "data": {
      "text/plain": [
       "pandas.core.series.Series"
      ]
     },
     "execution_count": 52,
     "metadata": {},
     "output_type": "execute_result"
    }
   ],
   "source": [
    "type(target_train)"
   ]
  },
  {
   "cell_type": "code",
   "execution_count": 53,
   "metadata": {},
   "outputs": [],
   "source": [
    "def upsample(features, target, repeat):\n",
    "    features_zeros = features[target_train == 0]\n",
    "    features_ones = features[target == 1]\n",
    "    target_zeros = target[target == 0]\n",
    "    target_ones = target[target == 1]\n",
    "\n",
    "    features_upsampled = pd.concat([features_zeros] + [features_ones] * repeat)\n",
    "    target_upsampled = pd.concat([target_zeros] + [target_ones] * repeat)\n",
    "    \n",
    "    features_upsampled, target_upsampled = shuffle(\n",
    "        features_upsampled, target_upsampled, random_state=12345)\n",
    "    \n",
    "    return features_upsampled, target_upsampled"
   ]
  },
  {
   "cell_type": "code",
   "execution_count": 54,
   "metadata": {},
   "outputs": [],
   "source": [
    "def downsample(features, target, fraction):\n",
    "    features_zeros = features[target == 0]\n",
    "    features_ones = features[target == 1]\n",
    "    target_zeros = target[target == 0]\n",
    "    target_ones = target[target == 1]\n",
    "\n",
    "    features_downsampled = pd.concat(\n",
    "        [features_zeros.sample(frac=fraction, random_state=12345)] + [features_ones])\n",
    "    target_downsampled = pd.concat(\n",
    "        [target_zeros.sample(frac=fraction, random_state=12345)] + [target_ones])\n",
    "    \n",
    "    features_downsampled, target_downsampled = shuffle(\n",
    "        features_downsampled, target_downsampled, random_state=12345678)\n",
    "    \n",
    "    return features_downsampled, target_downsampled"
   ]
  },
  {
   "cell_type": "code",
   "execution_count": 55,
   "metadata": {},
   "outputs": [
    {
     "name": "stdout",
     "output_type": "stream",
     "text": [
      "0.13114224137931035\n"
     ]
    }
   ],
   "source": [
    "# features_train, target_train = upsample(features_train, target_train, 2)\n",
    "features_train, target_train = downsample(features_train, target_train, 0.75)\n",
    "\n",
    "print(target_train.mean())"
   ]
  },
  {
   "cell_type": "markdown",
   "metadata": {},
   "source": [
    "## Обучение"
   ]
  },
  {
   "cell_type": "markdown",
   "metadata": {},
   "source": [
    "### Логистическая регрессия"
   ]
  },
  {
   "cell_type": "code",
   "execution_count": 56,
   "metadata": {},
   "outputs": [
    {
     "data": {
      "text/plain": [
       "'22.08.2022 00:41:23'"
      ]
     },
     "execution_count": 56,
     "metadata": {},
     "output_type": "execute_result"
    }
   ],
   "source": [
    "dt.datetime.today().strftime('%d.%m.%Y %H:%M:%S')"
   ]
  },
  {
   "cell_type": "code",
   "execution_count": 57,
   "metadata": {},
   "outputs": [
    {
     "name": "stdout",
     "output_type": "stream",
     "text": [
      "Fitting 4 folds for each of 18 candidates, totalling 72 fits\n",
      "[LibLinear]Wall time: 2.31 s\n"
     ]
    },
    {
     "data": {
      "text/plain": [
       "GridSearchCV(cv=4,\n",
       "             estimator=LogisticRegression(class_weight='balanced', max_iter=300,\n",
       "                                          random_state=245982, tol=5e-05,\n",
       "                                          verbose=2),\n",
       "             n_jobs=-1,\n",
       "             param_grid={'C': array([0.47   , 0.49125, 0.5125 , 0.53375, 0.555  , 0.57625, 0.5975 ,\n",
       "       0.61875, 0.64   ]),\n",
       "                         'fit_intercept': [True], 'penalty': ['l2'],\n",
       "                         'solver': ['lbfgs', 'liblinear']},\n",
       "             scoring='f1', verbose=2)"
      ]
     },
     "execution_count": 57,
     "metadata": {},
     "output_type": "execute_result"
    }
   ],
   "source": [
    "%%time\n",
    "log_reg_model = LogisticRegression(random_state=245982, max_iter=300, class_weight='balanced', verbose=2,\n",
    "                                  tol=0.00005)\n",
    "\n",
    "params = dict(C=np.linspace(0.47, 0.64, 9), \n",
    "              penalty=['l2'],   #,'l1'\n",
    "              solver=['lbfgs', 'liblinear' ],   # 'newton-cg', 'saga', 'sag'\n",
    "              fit_intercept=[True]\n",
    "             )\n",
    "grid = GridSearchCV(log_reg_model, params, verbose=2, scoring='f1', cv=4, n_jobs=-1)\n",
    "grid.fit(features_train, target_train)"
   ]
  },
  {
   "cell_type": "code",
   "execution_count": 58,
   "metadata": {},
   "outputs": [],
   "source": [
    "best_lr = grid.best_estimator_"
   ]
  },
  {
   "cell_type": "code",
   "execution_count": 59,
   "metadata": {},
   "outputs": [
    {
     "name": "stdout",
     "output_type": "stream",
     "text": [
      "{'C': 0.5549999999999999, 'fit_intercept': True, 'penalty': 'l2', 'solver': 'liblinear'} \n",
      "\n",
      "0.92946749627566 \n",
      "\n"
     ]
    }
   ],
   "source": [
    "print(grid.best_params_,'\\n')\n",
    "print(grid.best_score_,'\\n')"
   ]
  },
  {
   "cell_type": "code",
   "execution_count": 60,
   "metadata": {},
   "outputs": [
    {
     "data": {
      "text/plain": [
       "'22.08.2022 00:41:25'"
      ]
     },
     "execution_count": 60,
     "metadata": {},
     "output_type": "execute_result"
    }
   ],
   "source": [
    "dt.datetime.today().strftime('%d.%m.%Y %H:%M:%S')"
   ]
  },
  {
   "cell_type": "markdown",
   "metadata": {},
   "source": [
    "### CatBoost"
   ]
  },
  {
   "cell_type": "code",
   "execution_count": 61,
   "metadata": {},
   "outputs": [
    {
     "data": {
      "text/plain": [
       "'22.08.2022 00:43:56'"
      ]
     },
     "execution_count": 61,
     "metadata": {},
     "output_type": "execute_result"
    }
   ],
   "source": [
    "dt.datetime.today().strftime('%d.%m.%Y %H:%M:%S')"
   ]
  },
  {
   "cell_type": "code",
   "execution_count": 62,
   "metadata": {},
   "outputs": [
    {
     "data": {
      "application/vnd.jupyter.widget-view+json": {
       "model_id": "2b6c5afd44f54879b2d77f51eb248b9b",
       "version_major": 2,
       "version_minor": 0
      },
      "text/plain": [
       "MetricVisualizer(layout=Layout(align_self='stretch', height='500px'))"
      ]
     },
     "metadata": {},
     "output_type": "display_data"
    },
    {
     "name": "stdout",
     "output_type": "stream",
     "text": [
      "\n",
      "bestTest = 0.9467455621\n",
      "bestIteration = 4\n",
      "\n",
      "0:\tloss: 0.9467456\tbest: 0.9467456 (0)\ttotal: 678ms\tremaining: 31.8s\n",
      "\n",
      "bestTest = 0.9485148515\n",
      "bestIteration = 3\n",
      "\n",
      "\n",
      "bestTest = 0.9475766568\n",
      "bestIteration = 2\n",
      "\n",
      "\n",
      "bestTest = 0.9470529471\n",
      "bestIteration = 28\n",
      "\n",
      "\n",
      "bestTest = 0.9465346535\n",
      "bestIteration = 6\n",
      "\n",
      "\n",
      "bestTest = 0.9475766568\n",
      "bestIteration = 7\n",
      "\n",
      "\n",
      "bestTest = 0.9464285714\n",
      "bestIteration = 11\n",
      "\n",
      "\n",
      "bestTest = 0.9464285714\n",
      "bestIteration = 11\n",
      "\n",
      "\n",
      "bestTest = 0.9465346535\n",
      "bestIteration = 7\n",
      "\n",
      "\n",
      "bestTest = 0.9475766568\n",
      "bestIteration = 4\n",
      "\n",
      "\n",
      "bestTest = 0.9462151394\n",
      "bestIteration = 21\n",
      "\n",
      "10:\tloss: 0.9462151\tbest: 0.9485149 (1)\ttotal: 4.92s\tremaining: 16.6s\n",
      "\n",
      "bestTest = 0.9438423645\n",
      "bestIteration = 6\n",
      "\n",
      "\n",
      "bestTest = 0.9452736318\n",
      "bestIteration = 32\n",
      "\n",
      "\n",
      "bestTest = 0.9474727453\n",
      "bestIteration = 9\n",
      "\n",
      "\n",
      "bestTest = 0.9474727453\n",
      "bestIteration = 9\n",
      "\n",
      "\n",
      "bestTest = 0.9473684211\n",
      "bestIteration = 12\n",
      "\n",
      "\n",
      "bestTest = 0.9453823237\n",
      "bestIteration = 11\n",
      "\n",
      "\n",
      "bestTest = 0.9454905847\n",
      "bestIteration = 13\n",
      "\n",
      "\n",
      "bestTest = 0.9433962264\n",
      "bestIteration = 0\n",
      "\n",
      "\n",
      "bestTest = 0.9465346535\n",
      "bestIteration = 16\n",
      "\n",
      "\n",
      "bestTest = 0.9473684211\n",
      "bestIteration = 15\n",
      "\n",
      "20:\tloss: 0.9473684\tbest: 0.9485149 (1)\ttotal: 9.32s\tremaining: 12s\n",
      "\n",
      "bestTest = 0.9491525424\n",
      "bestIteration = 34\n",
      "\n",
      "\n",
      "bestTest = 0.9482071713\n",
      "bestIteration = 74\n",
      "\n",
      "\n",
      "bestTest = 0.9474727453\n",
      "bestIteration = 34\n",
      "\n",
      "\n",
      "bestTest = 0.9444444444\n",
      "bestIteration = 4\n",
      "\n",
      "\n",
      "bestTest = 0.9482071713\n",
      "bestIteration = 15\n",
      "\n",
      "\n",
      "bestTest = 0.9446640316\n",
      "bestIteration = 2\n",
      "\n",
      "\n",
      "bestTest = 0.9483101392\n",
      "bestIteration = 19\n",
      "\n",
      "\n",
      "bestTest = 0.9467455621\n",
      "bestIteration = 4\n",
      "\n",
      "\n",
      "bestTest = 0.9467455621\n",
      "bestIteration = 4\n",
      "\n",
      "\n",
      "bestTest = 0.9512437811\n",
      "bestIteration = 89\n",
      "\n",
      "30:\tloss: 0.9512438\tbest: 0.9512438 (30)\ttotal: 13.9s\tremaining: 7.62s\n",
      "\n",
      "bestTest = 0.9461077844\n",
      "bestIteration = 9\n",
      "\n",
      "\n",
      "bestTest = 0.9453823237\n",
      "bestIteration = 5\n",
      "\n",
      "\n",
      "bestTest = 0.9433962264\n",
      "bestIteration = 0\n",
      "\n",
      "\n",
      "bestTest = 0.9464285714\n",
      "bestIteration = 3\n",
      "\n",
      "\n",
      "bestTest = 0.9472636816\n",
      "bestIteration = 18\n",
      "\n",
      "\n",
      "bestTest = 0.948\n",
      "bestIteration = 21\n",
      "\n",
      "\n",
      "bestTest = 0.9454905847\n",
      "bestIteration = 4\n",
      "\n",
      "\n",
      "bestTest = 0.9444444444\n",
      "bestIteration = 7\n",
      "\n",
      "\n",
      "bestTest = 0.9473684211\n",
      "bestIteration = 7\n",
      "\n",
      "\n",
      "bestTest = 0.9473684211\n",
      "bestIteration = 7\n",
      "\n",
      "40:\tloss: 0.9473684\tbest: 0.9512438 (30)\ttotal: 19.3s\tremaining: 3.29s\n",
      "\n",
      "bestTest = 0.9464285714\n",
      "bestIteration = 12\n",
      "\n",
      "\n",
      "bestTest = 0.9454905847\n",
      "bestIteration = 2\n",
      "\n",
      "\n",
      "bestTest = 0.9461077844\n",
      "bestIteration = 23\n",
      "\n",
      "\n",
      "bestTest = 0.9454905847\n",
      "bestIteration = 4\n",
      "\n",
      "\n",
      "bestTest = 0.9473684211\n",
      "bestIteration = 26\n",
      "\n",
      "\n",
      "bestTest = 0.9454905847\n",
      "bestIteration = 4\n",
      "\n",
      "\n",
      "bestTest = 0.9445544554\n",
      "bestIteration = 2\n",
      "\n",
      "47:\tloss: 0.9445545\tbest: 0.9512438 (30)\ttotal: 23.1s\tremaining: 0us\n",
      "Estimating final quality...\n",
      "Training on fold [0/4]\n",
      "\n",
      "bestTest = 0.951986755\n",
      "bestIteration = 7\n",
      "\n",
      "Training on fold [1/4]\n",
      "\n",
      "bestTest = 0.9498767461\n",
      "bestIteration = 34\n",
      "\n",
      "Training on fold [2/4]\n",
      "\n",
      "bestTest = 0.9548069022\n",
      "bestIteration = 18\n",
      "\n",
      "Training on fold [3/4]\n",
      "\n",
      "bestTest = 0.9404081633\n",
      "bestIteration = 54\n",
      "\n",
      "Wall time: 25.5 s\n"
     ]
    },
    {
     "data": {
      "text/plain": [
       "{'params': {'random_strength': 2,\n",
       "  'depth': 6,\n",
       "  'l2_leaf_reg': 4,\n",
       "  'learning_rate': 0.4131034482758621},\n",
       " 'cv_results': defaultdict(list,\n",
       "             {'iterations': [0,\n",
       "               1,\n",
       "               2,\n",
       "               3,\n",
       "               4,\n",
       "               5,\n",
       "               6,\n",
       "               7,\n",
       "               8,\n",
       "               9,\n",
       "               10,\n",
       "               11,\n",
       "               12,\n",
       "               13,\n",
       "               14,\n",
       "               15,\n",
       "               16,\n",
       "               17,\n",
       "               18,\n",
       "               19,\n",
       "               20,\n",
       "               21,\n",
       "               22,\n",
       "               23,\n",
       "               24,\n",
       "               25,\n",
       "               26,\n",
       "               27,\n",
       "               28,\n",
       "               29,\n",
       "               30,\n",
       "               31,\n",
       "               32,\n",
       "               33,\n",
       "               34,\n",
       "               35,\n",
       "               36,\n",
       "               37,\n",
       "               38,\n",
       "               39,\n",
       "               40,\n",
       "               41,\n",
       "               42,\n",
       "               43,\n",
       "               44,\n",
       "               45,\n",
       "               46,\n",
       "               47,\n",
       "               48,\n",
       "               49,\n",
       "               50,\n",
       "               51,\n",
       "               52,\n",
       "               53,\n",
       "               54,\n",
       "               55,\n",
       "               56,\n",
       "               57,\n",
       "               58,\n",
       "               59,\n",
       "               60,\n",
       "               61,\n",
       "               62,\n",
       "               63,\n",
       "               64,\n",
       "               65,\n",
       "               66,\n",
       "               67,\n",
       "               68,\n",
       "               69,\n",
       "               70,\n",
       "               71,\n",
       "               72,\n",
       "               73,\n",
       "               74,\n",
       "               75,\n",
       "               76,\n",
       "               77,\n",
       "               78,\n",
       "               79,\n",
       "               80,\n",
       "               81,\n",
       "               82,\n",
       "               83,\n",
       "               84,\n",
       "               85,\n",
       "               86,\n",
       "               87,\n",
       "               88,\n",
       "               89,\n",
       "               90,\n",
       "               91,\n",
       "               92,\n",
       "               93,\n",
       "               94,\n",
       "               95,\n",
       "               96,\n",
       "               97,\n",
       "               98,\n",
       "               99],\n",
       "              'test-F1-mean': [0.9471439216139831,\n",
       "               0.9471439216139831,\n",
       "               0.9469461354360559,\n",
       "               0.9469461354360559,\n",
       "               0.9471439216139831,\n",
       "               0.9473617294743656,\n",
       "               0.9471842935273617,\n",
       "               0.9462036561827405,\n",
       "               0.9458131231119004,\n",
       "               0.9463147338118254,\n",
       "               0.946793666206657,\n",
       "               0.9460289148466989,\n",
       "               0.9458337343046976,\n",
       "               0.9458340738443634,\n",
       "               0.9456376407648316,\n",
       "               0.9454464028180832,\n",
       "               0.9456810244863639,\n",
       "               0.9456810244863639,\n",
       "               0.9457022900453352,\n",
       "               0.9446419511529955,\n",
       "               0.9444219963552739,\n",
       "               0.9452904284308377,\n",
       "               0.9448585791350741,\n",
       "               0.9446666484540946,\n",
       "               0.9444498466031622,\n",
       "               0.9447661306036841,\n",
       "               0.9445784573272233,\n",
       "               0.9446004014930403,\n",
       "               0.9444107828411076,\n",
       "               0.9446287845361957,\n",
       "               0.9448443544967278,\n",
       "               0.9447914630549809,\n",
       "               0.9446256991976969,\n",
       "               0.9445372525584315,\n",
       "               0.945868324349799,\n",
       "               0.9452649127805304,\n",
       "               0.9442511152049299,\n",
       "               0.9442711184090494,\n",
       "               0.9442175800816902,\n",
       "               0.9448250744309459,\n",
       "               0.944582270761372,\n",
       "               0.9441473746200459,\n",
       "               0.9435183264373708,\n",
       "               0.943474848697768,\n",
       "               0.9438561546403907,\n",
       "               0.9442151193144996,\n",
       "               0.943851794144269,\n",
       "               0.9434099016193664,\n",
       "               0.9438440166190698,\n",
       "               0.9438937938457483,\n",
       "               0.9440169343565004,\n",
       "               0.9440165198308652,\n",
       "               0.9438244629045243,\n",
       "               0.9431956169538589,\n",
       "               0.9438477460549874,\n",
       "               0.9424393084805478,\n",
       "               0.9424168050834776,\n",
       "               0.941812380322796,\n",
       "               0.9427847680762679,\n",
       "               0.9425916567796283,\n",
       "               0.9426155038487628,\n",
       "               0.9425888234654758,\n",
       "               0.9428357039261414,\n",
       "               0.9430561433640485,\n",
       "               0.9424486842522711,\n",
       "               0.9415775574604192,\n",
       "               0.9421833927281507,\n",
       "               0.9422257781498862,\n",
       "               0.9414004709171981,\n",
       "               0.9416516185960759,\n",
       "               0.9409006356273264,\n",
       "               0.9413377645373251,\n",
       "               0.9409004757954524,\n",
       "               0.9403210525617688,\n",
       "               0.9417417114121647,\n",
       "               0.9417417114121647,\n",
       "               0.9411376508913383,\n",
       "               0.9411150298731368,\n",
       "               0.9407247689755662,\n",
       "               0.9405354641189387,\n",
       "               0.9405139653737042,\n",
       "               0.9407320079721988,\n",
       "               0.9401067992499257,\n",
       "               0.9405161549740544,\n",
       "               0.9399102454706594,\n",
       "               0.9399102454706594,\n",
       "               0.9400987562906735,\n",
       "               0.9400727583778903,\n",
       "               0.9402910215718392,\n",
       "               0.9407005219813396,\n",
       "               0.9405097666586195,\n",
       "               0.9400765947727163,\n",
       "               0.939910484553131,\n",
       "               0.9397159864605773,\n",
       "               0.9397148477984847,\n",
       "               0.9399556306965005,\n",
       "               0.9401743557444426,\n",
       "               0.9407786899025701,\n",
       "               0.9407786899025701,\n",
       "               0.9403228907818943],\n",
       "              'test-F1-std': [0.005293791931909795,\n",
       "               0.005293791931909795,\n",
       "               0.005074727898764879,\n",
       "               0.005074727898764879,\n",
       "               0.005293791931909795,\n",
       "               0.005474426559435922,\n",
       "               0.005293419765436146,\n",
       "               0.006918132086353273,\n",
       "               0.006692439549933037,\n",
       "               0.00568524938992252,\n",
       "               0.006230394867392459,\n",
       "               0.005573294061099298,\n",
       "               0.005613638488429218,\n",
       "               0.005690091195987994,\n",
       "               0.007050193204649815,\n",
       "               0.007552597364067799,\n",
       "               0.007245098347069686,\n",
       "               0.007245098347069686,\n",
       "               0.008125943747584264,\n",
       "               0.007144967848590411,\n",
       "               0.006859684340313703,\n",
       "               0.008172159532327031,\n",
       "               0.007773519065236444,\n",
       "               0.008097935545813128,\n",
       "               0.007898764382910073,\n",
       "               0.008927462453750349,\n",
       "               0.009366491577608905,\n",
       "               0.008929184895103625,\n",
       "               0.007726617935116819,\n",
       "               0.0070780554989210015,\n",
       "               0.0076348666429260905,\n",
       "               0.008195152442733507,\n",
       "               0.008305775360439084,\n",
       "               0.007951728093687896,\n",
       "               0.00843408370169277,\n",
       "               0.007630680535142918,\n",
       "               0.0074252956736361305,\n",
       "               0.007299177356354757,\n",
       "               0.006962140996516389,\n",
       "               0.006775921395378867,\n",
       "               0.0066954333693796456,\n",
       "               0.006522205374870018,\n",
       "               0.007173404330869391,\n",
       "               0.007047674570104352,\n",
       "               0.0051092220346116565,\n",
       "               0.005173320701436183,\n",
       "               0.005267011769539958,\n",
       "               0.0038101828174485377,\n",
       "               0.003702299799135636,\n",
       "               0.0037442512887303527,\n",
       "               0.0030351201612203397,\n",
       "               0.0028896138390137292,\n",
       "               0.003224181769021143,\n",
       "               0.0025659341576452313,\n",
       "               0.0023285164657708057,\n",
       "               0.0015010250175723882,\n",
       "               0.001967824094734899,\n",
       "               0.002190535015389005,\n",
       "               0.00282368062408009,\n",
       "               0.0032399782504043055,\n",
       "               0.003165643870485308,\n",
       "               0.0027154115044828496,\n",
       "               0.0033108640874370365,\n",
       "               0.0034912550786343967,\n",
       "               0.0033919312781489114,\n",
       "               0.003121588228495345,\n",
       "               0.003604889752551082,\n",
       "               0.002659524240135066,\n",
       "               0.002189867978556844,\n",
       "               0.0029028356493566825,\n",
       "               0.0029391673371927133,\n",
       "               0.003136558177412597,\n",
       "               0.003166978971925536,\n",
       "               0.003129090353680007,\n",
       "               0.0024089043244154957,\n",
       "               0.0024089043244154957,\n",
       "               0.00280742193532089,\n",
       "               0.0025968208052385288,\n",
       "               0.0025472485590576485,\n",
       "               0.002357191992777864,\n",
       "               0.0030230910870612518,\n",
       "               0.0033527400483934554,\n",
       "               0.0037656257569673463,\n",
       "               0.0034452486370145224,\n",
       "               0.0028605418838453635,\n",
       "               0.0028605418838453635,\n",
       "               0.0020667179552252774,\n",
       "               0.002321883675837616,\n",
       "               0.0020186283649348473,\n",
       "               0.0025394994517538615,\n",
       "               0.002199891131799657,\n",
       "               0.0024776115910250026,\n",
       "               0.0028573550510451076,\n",
       "               0.002674862289583067,\n",
       "               0.0027055919665228394,\n",
       "               0.002966643859861444,\n",
       "               0.003050809847066817,\n",
       "               0.003379795127603323,\n",
       "               0.003379795127603323,\n",
       "               0.0031726134655752523],\n",
       "              'train-F1-mean': [0.9481384258885419,\n",
       "               0.9480653685536757,\n",
       "               0.9484438975964491,\n",
       "               0.9487779541289993,\n",
       "               0.9487708269978251,\n",
       "               0.9490684434735676,\n",
       "               0.9494656609386645,\n",
       "               0.9511643804261684,\n",
       "               0.9521469798190676,\n",
       "               0.952650139831919,\n",
       "               0.9539726130406543,\n",
       "               0.9537899671941262,\n",
       "               0.9542087744731909,\n",
       "               0.9544254166761008,\n",
       "               0.9551227538574546,\n",
       "               0.9559834819327934,\n",
       "               0.9571016687721161,\n",
       "               0.9570959613538008,\n",
       "               0.9578545074776113,\n",
       "               0.9584574104531033,\n",
       "               0.9586002926318493,\n",
       "               0.9601001051084964,\n",
       "               0.9605340791875598,\n",
       "               0.9612303455835309,\n",
       "               0.9617078044677114,\n",
       "               0.9625575122016262,\n",
       "               0.9636561737659836,\n",
       "               0.9652973007533125,\n",
       "               0.9659039196938813,\n",
       "               0.9665433865228013,\n",
       "               0.967829216367887,\n",
       "               0.9687306735177181,\n",
       "               0.9692789436538809,\n",
       "               0.9696892109388295,\n",
       "               0.9707087213095836,\n",
       "               0.9720053068671889,\n",
       "               0.9725617860670943,\n",
       "               0.9728480222411642,\n",
       "               0.9739366569227879,\n",
       "               0.9751146463665764,\n",
       "               0.9755869714136608,\n",
       "               0.9769556377191971,\n",
       "               0.9773026394066155,\n",
       "               0.9779803044875202,\n",
       "               0.9788643120889162,\n",
       "               0.9794684994505128,\n",
       "               0.9796812154170396,\n",
       "               0.9810040683867876,\n",
       "               0.981478146679623,\n",
       "               0.9816178437798229,\n",
       "               0.9823031063671395,\n",
       "               0.9824399250796552,\n",
       "               0.9830554842322855,\n",
       "               0.9834704392408802,\n",
       "               0.9839386036815727,\n",
       "               0.9847682391040542,\n",
       "               0.9849024315781756,\n",
       "               0.9857968532775714,\n",
       "               0.9863477066308237,\n",
       "               0.9862847639548715,\n",
       "               0.9869686273727152,\n",
       "               0.9872430652114033,\n",
       "               0.9876595375795509,\n",
       "               0.9881386123876201,\n",
       "               0.9884784270713242,\n",
       "               0.9888205857993133,\n",
       "               0.9887509844451565,\n",
       "               0.9888911700736001,\n",
       "               0.9893043872292222,\n",
       "               0.989577271290288,\n",
       "               0.9900606547964443,\n",
       "               0.990401635653769,\n",
       "               0.9903322595120926,\n",
       "               0.990603902630222,\n",
       "               0.9908796829228965,\n",
       "               0.9910179472789321,\n",
       "               0.9909500729637668,\n",
       "               0.991089728265161,\n",
       "               0.9913602777008899,\n",
       "               0.9919810527209936,\n",
       "               0.9919835328970005,\n",
       "               0.9921202978077891,\n",
       "               0.9923246306225487,\n",
       "               0.9928697570218018,\n",
       "               0.9932102108151988,\n",
       "               0.9932784213248148,\n",
       "               0.9934148044132919,\n",
       "               0.9934139398221035,\n",
       "               0.9938954792236433,\n",
       "               0.9938954789968734,\n",
       "               0.9941008268812511,\n",
       "               0.9941689251430947,\n",
       "               0.9945115235209909,\n",
       "               0.9949928008221312,\n",
       "               0.9951305765099312,\n",
       "               0.9951988996121439,\n",
       "               0.9953347953454736,\n",
       "               0.9953347953454736,\n",
       "               0.9954724579058334,\n",
       "               0.9956792741502412],\n",
       "              'train-F1-std': [0.002362315171766259,\n",
       "               0.002465619424651426,\n",
       "               0.002024403191752881,\n",
       "               0.0018171583206632637,\n",
       "               0.001819266308576997,\n",
       "               0.0016279471034966293,\n",
       "               0.001448163343002965,\n",
       "               0.0022618323573105376,\n",
       "               0.0024183589925392225,\n",
       "               0.0024460154921670716,\n",
       "               0.0024157508121346026,\n",
       "               0.002492880594563376,\n",
       "               0.002590341680444191,\n",
       "               0.0028601469427822885,\n",
       "               0.0019498320615924994,\n",
       "               0.0011639822528067237,\n",
       "               0.0008327911020578408,\n",
       "               0.0010367892957691945,\n",
       "               0.0013500401421435164,\n",
       "               0.0013396509170303123,\n",
       "               0.0012091139976655094,\n",
       "               0.0018829139753620825,\n",
       "               0.0020184704865025475,\n",
       "               0.0012239119176629123,\n",
       "               0.0014262571104189097,\n",
       "               0.0016518528709736965,\n",
       "               0.0020480663548257142,\n",
       "               0.002237262161034227,\n",
       "               0.0021823578107318326,\n",
       "               0.0025315889108146724,\n",
       "               0.002268155904398057,\n",
       "               0.002068476802678967,\n",
       "               0.0023816503195688344,\n",
       "               0.0023650344401226447,\n",
       "               0.002525246957288347,\n",
       "               0.0020951339269484194,\n",
       "               0.0025181331721978407,\n",
       "               0.002447838178173219,\n",
       "               0.002446469761653461,\n",
       "               0.0023343242798901376,\n",
       "               0.0025467529900168044,\n",
       "               0.0018027916096068288,\n",
       "               0.0016146989608938611,\n",
       "               0.0017185824153536093,\n",
       "               0.001347007838109679,\n",
       "               0.001036789287730731,\n",
       "               0.0009590680158564718,\n",
       "               0.001923028456016293,\n",
       "               0.0022783984939685857,\n",
       "               0.00178982415727762,\n",
       "               0.0017052005516656618,\n",
       "               0.001858746490583769,\n",
       "               0.0020938104239874244,\n",
       "               0.0017402620786153686,\n",
       "               0.0018913927793706667,\n",
       "               0.001474865942709385,\n",
       "               0.0018012338835177728,\n",
       "               0.0011504006537480954,\n",
       "               0.0011694613487790732,\n",
       "               0.0011876711817399165,\n",
       "               0.0009673591396929057,\n",
       "               0.0008830799081877308,\n",
       "               0.000543853394698362,\n",
       "               0.0006050424954627109,\n",
       "               0.0005162563797029842,\n",
       "               0.0007649609944733349,\n",
       "               0.0008207904625438353,\n",
       "               0.0008655859370861041,\n",
       "               0.0005123639016290589,\n",
       "               0.0005100162997849521,\n",
       "               0.00047776601272409193,\n",
       "               0.00023042205495907016,\n",
       "               0.0004198284950130528,\n",
       "               0.0007268160388104964,\n",
       "               0.0005677674245750369,\n",
       "               0.0007249178871679157,\n",
       "               0.0006745913264599998,\n",
       "               0.0005722023703206461,\n",
       "               0.0007278845433401987,\n",
       "               0.0007261618307940443,\n",
       "               0.0005658295216898572,\n",
       "               0.0006128646538689863,\n",
       "               0.00038582406479812677,\n",
       "               0.0003905923393753416,\n",
       "               0.00026704306277992813,\n",
       "               0.00047587773571749803,\n",
       "               0.0005916035663612674,\n",
       "               0.0004989104515685986,\n",
       "               0.0004085182216417746,\n",
       "               0.000719701350218706,\n",
       "               0.0006512282826799132,\n",
       "               0.0005187323487590204,\n",
       "               0.00022404172907144977,\n",
       "               0.00013698891840832871,\n",
       "               0.00014042601951949705,\n",
       "               0.00015845108742242796,\n",
       "               0.00022408796477216408,\n",
       "               0.00022408796477216408,\n",
       "               0.00035697155367820087,\n",
       "               0.000263377393068638],\n",
       "              'test-CrossEntropy-mean': [0.10645502036652452,\n",
       "               0.05256535209683893,\n",
       "               0.04245499198196026,\n",
       "               0.03971392794129018,\n",
       "               0.038706860013888345,\n",
       "               0.037922130373554984,\n",
       "               0.03760602780031872,\n",
       "               0.03775616315217743,\n",
       "               0.03736103229892554,\n",
       "               0.037524008441109015,\n",
       "               0.03754305192501057,\n",
       "               0.0375095691197632,\n",
       "               0.03748279466549617,\n",
       "               0.03751730269415768,\n",
       "               0.03760715519312513,\n",
       "               0.03790043225190394,\n",
       "               0.03812312848761277,\n",
       "               0.038131479253673675,\n",
       "               0.03837675991651388,\n",
       "               0.038409074047497466,\n",
       "               0.038396903233773164,\n",
       "               0.03873310142642566,\n",
       "               0.038798890863017924,\n",
       "               0.038787634018798735,\n",
       "               0.0390502397640644,\n",
       "               0.03907663053460399,\n",
       "               0.03921882955460537,\n",
       "               0.03955455987276238,\n",
       "               0.039707131761890425,\n",
       "               0.03991934537999425,\n",
       "               0.03984979445452807,\n",
       "               0.03974066171881826,\n",
       "               0.0399059402666259,\n",
       "               0.03994590576977678,\n",
       "               0.03987414486279283,\n",
       "               0.04009643625135076,\n",
       "               0.04018946625526537,\n",
       "               0.04027104473627949,\n",
       "               0.04030535367450744,\n",
       "               0.040379633323552294,\n",
       "               0.04059448080096304,\n",
       "               0.040777929769130895,\n",
       "               0.040891961293115904,\n",
       "               0.04087497553951431,\n",
       "               0.04087569929689915,\n",
       "               0.041067988340371675,\n",
       "               0.04118328229512644,\n",
       "               0.041188055202012935,\n",
       "               0.04129588064238987,\n",
       "               0.041424197121697794,\n",
       "               0.04152889109103602,\n",
       "               0.04160956566805746,\n",
       "               0.04179679795231827,\n",
       "               0.04170863849610484,\n",
       "               0.04175057226384446,\n",
       "               0.041858635775931366,\n",
       "               0.042031015953267505,\n",
       "               0.042156873264930235,\n",
       "               0.04223206495852267,\n",
       "               0.04231824576108914,\n",
       "               0.04247400729251492,\n",
       "               0.042514062604280825,\n",
       "               0.04266037233747647,\n",
       "               0.042815863258577516,\n",
       "               0.04296264004329431,\n",
       "               0.04319624491003769,\n",
       "               0.043257814902453486,\n",
       "               0.043467441718422054,\n",
       "               0.04369015776635196,\n",
       "               0.04369956375615187,\n",
       "               0.043732684487766765,\n",
       "               0.043847598333900714,\n",
       "               0.04388079634527389,\n",
       "               0.044009107170102556,\n",
       "               0.04407956828410176,\n",
       "               0.04423144627625878,\n",
       "               0.0443042367402673,\n",
       "               0.04437565988556639,\n",
       "               0.044450437911435124,\n",
       "               0.04466586123412352,\n",
       "               0.0446519649898965,\n",
       "               0.044699064963077864,\n",
       "               0.04464590538217504,\n",
       "               0.044637249822065184,\n",
       "               0.04467195542502152,\n",
       "               0.0447623950465476,\n",
       "               0.044819748853719726,\n",
       "               0.04480585703356135,\n",
       "               0.044915330838829724,\n",
       "               0.04492267444688447,\n",
       "               0.044956220376746146,\n",
       "               0.04509351696650788,\n",
       "               0.04516793041406313,\n",
       "               0.045289070323224094,\n",
       "               0.04538180697511915,\n",
       "               0.045533745755153725,\n",
       "               0.045594437367057705,\n",
       "               0.045600681521389116,\n",
       "               0.045667095666360714,\n",
       "               0.045681128379114797],\n",
       "              'test-CrossEntropy-std': [0.002488998892548899,\n",
       "               0.0024247835894056044,\n",
       "               0.0013286829649813542,\n",
       "               0.0013086916101812402,\n",
       "               0.001136304107155746,\n",
       "               0.0010532045094040752,\n",
       "               0.0012294102807088206,\n",
       "               0.001236362286931855,\n",
       "               0.0008648986974855344,\n",
       "               0.0008877781092387528,\n",
       "               0.0011361591398983749,\n",
       "               0.0011828473024052385,\n",
       "               0.0010737808714621124,\n",
       "               0.0010459326086897519,\n",
       "               0.0009782542901674203,\n",
       "               0.0013294157190288807,\n",
       "               0.0012554728475412846,\n",
       "               0.0012765297528228388,\n",
       "               0.0012397872317779278,\n",
       "               0.0011208040708495053,\n",
       "               0.0011278695262077361,\n",
       "               0.0015502848800452184,\n",
       "               0.0016763780019806538,\n",
       "               0.0016869361224956549,\n",
       "               0.001479478237367373,\n",
       "               0.0015409013674833835,\n",
       "               0.0015443717427054385,\n",
       "               0.0017578038470240415,\n",
       "               0.0016678431651702798,\n",
       "               0.001364711524308743,\n",
       "               0.0012702331250551856,\n",
       "               0.0012819000008866173,\n",
       "               0.0011260500030865284,\n",
       "               0.0011718096158406153,\n",
       "               0.0014774657114854364,\n",
       "               0.0011798356145451732,\n",
       "               0.001059128653582732,\n",
       "               0.0011782464869007439,\n",
       "               0.0013661105785299425,\n",
       "               0.0012433370862627025,\n",
       "               0.0013171524122937539,\n",
       "               0.001122894521259377,\n",
       "               0.0011387478257832613,\n",
       "               0.0011276627569150072,\n",
       "               0.0011867930479430469,\n",
       "               0.001081461456283473,\n",
       "               0.0010948359659240531,\n",
       "               0.0012533395402310747,\n",
       "               0.0012338442489544291,\n",
       "               0.0012250652407171134,\n",
       "               0.0011548523647000005,\n",
       "               0.0008914600045105867,\n",
       "               0.0009599485908914873,\n",
       "               0.0009080168381001226,\n",
       "               0.0009671806323252635,\n",
       "               0.0009592358938974456,\n",
       "               0.0011417671986391023,\n",
       "               0.0012636091977686484,\n",
       "               0.0011504472103675831,\n",
       "               0.0011856403139691783,\n",
       "               0.0010457142834545843,\n",
       "               0.000989690521875973,\n",
       "               0.0010506609806029976,\n",
       "               0.0012027985266530557,\n",
       "               0.0012427834714137847,\n",
       "               0.00104126849964036,\n",
       "               0.0010997610988760563,\n",
       "               0.000946681546909233,\n",
       "               0.0007429258776638719,\n",
       "               0.0008532932017797052,\n",
       "               0.0007977277467075836,\n",
       "               0.000927286845757418,\n",
       "               0.0008522501215746662,\n",
       "               0.0008815045739988685,\n",
       "               0.0006701379081474255,\n",
       "               0.0008718273862835782,\n",
       "               0.0010773893804583697,\n",
       "               0.0010267760339223151,\n",
       "               0.0010668822519413503,\n",
       "               0.0010599779937166703,\n",
       "               0.0011569843893273158,\n",
       "               0.0011733996565597839,\n",
       "               0.0011961616163570204,\n",
       "               0.0012345261297589522,\n",
       "               0.0013130503602016258,\n",
       "               0.0013603824624195608,\n",
       "               0.0014273066989204254,\n",
       "               0.0014056255998087818,\n",
       "               0.001454363211094429,\n",
       "               0.0014838402569114142,\n",
       "               0.0014641510395313766,\n",
       "               0.0014943982738398348,\n",
       "               0.0013669776614055316,\n",
       "               0.0013303908943598517,\n",
       "               0.001231373135863664,\n",
       "               0.0011740664569220764,\n",
       "               0.0012150742551407016,\n",
       "               0.0012730357466398609,\n",
       "               0.001306261667263559,\n",
       "               0.0013493457532980874],\n",
       "              'train-CrossEntropy-mean': [0.10609802139828607,\n",
       "               0.05162181992633776,\n",
       "               0.041630897446846206,\n",
       "               0.038079727147176105,\n",
       "               0.036663273906490296,\n",
       "               0.03546538254562123,\n",
       "               0.03477423328414041,\n",
       "               0.033604622224734364,\n",
       "               0.032749572244688205,\n",
       "               0.032381093273098495,\n",
       "               0.03191209580347808,\n",
       "               0.03156401163612739,\n",
       "               0.030994399968480822,\n",
       "               0.030704253120738503,\n",
       "               0.030364193820564333,\n",
       "               0.029861930849329785,\n",
       "               0.02940598634574068,\n",
       "               0.02925327340233641,\n",
       "               0.0287133483066185,\n",
       "               0.028541804096272282,\n",
       "               0.028357230628937587,\n",
       "               0.02782608271560051,\n",
       "               0.02750141043633034,\n",
       "               0.027251301872333128,\n",
       "               0.026802843583688077,\n",
       "               0.026317121697814784,\n",
       "               0.02572434805471928,\n",
       "               0.025073638963672616,\n",
       "               0.02465769114763659,\n",
       "               0.024205111947542247,\n",
       "               0.0235797764184323,\n",
       "               0.02309841300942953,\n",
       "               0.022676384091698993,\n",
       "               0.022232843871861946,\n",
       "               0.021739013476730032,\n",
       "               0.021302629337701044,\n",
       "               0.020902970619468407,\n",
       "               0.020497165654167156,\n",
       "               0.020095661044801743,\n",
       "               0.019753152511561844,\n",
       "               0.019385201296053797,\n",
       "               0.01903523928549816,\n",
       "               0.018645108292927093,\n",
       "               0.018385060823199004,\n",
       "               0.018037960510123352,\n",
       "               0.017767268353481004,\n",
       "               0.01745962748508736,\n",
       "               0.017165196040833372,\n",
       "               0.016849732298221932,\n",
       "               0.01664593441026299,\n",
       "               0.01636330825892367,\n",
       "               0.01607466354138907,\n",
       "               0.015848426740129422,\n",
       "               0.015645202214936357,\n",
       "               0.015437817875971111,\n",
       "               0.015086587164951742,\n",
       "               0.014853440911408146,\n",
       "               0.014626564345393521,\n",
       "               0.014403554941411831,\n",
       "               0.014215922179708157,\n",
       "               0.01402252197464997,\n",
       "               0.013899508992541646,\n",
       "               0.013640997705638487,\n",
       "               0.01342030304107315,\n",
       "               0.01321045324462027,\n",
       "               0.013008579195168308,\n",
       "               0.012910330652227787,\n",
       "               0.012683584689474687,\n",
       "               0.012516908835347885,\n",
       "               0.012337851130722187,\n",
       "               0.012107420975760917,\n",
       "               0.011928304283531567,\n",
       "               0.011783918593046363,\n",
       "               0.011643520987430506,\n",
       "               0.011451237195367794,\n",
       "               0.01136635963396041,\n",
       "               0.011270642369719967,\n",
       "               0.011166395293679195,\n",
       "               0.01098802520542836,\n",
       "               0.01080792412626048,\n",
       "               0.01070973934825513,\n",
       "               0.010593179290450078,\n",
       "               0.010399560252029389,\n",
       "               0.010253364265823338,\n",
       "               0.010138177250079787,\n",
       "               0.010055429877634919,\n",
       "               0.009961809315701191,\n",
       "               0.00987687851828253,\n",
       "               0.009751763714698687,\n",
       "               0.009677253730332616,\n",
       "               0.009561828996375466,\n",
       "               0.009468809745620492,\n",
       "               0.009333815123627076,\n",
       "               0.009224173129890573,\n",
       "               0.009127609335926368,\n",
       "               0.008998633480437855,\n",
       "               0.008901029452101118,\n",
       "               0.008827504482178762,\n",
       "               0.008729024445394765,\n",
       "               0.008590252348529918],\n",
       "              'train-CrossEntropy-std': [0.002097740654130229,\n",
       "               0.0009413680539563864,\n",
       "               0.0008942549832967468,\n",
       "               0.0006301173650089935,\n",
       "               0.0006400740617795199,\n",
       "               0.0004261953286988153,\n",
       "               0.000668326243415578,\n",
       "               0.0007049642669538135,\n",
       "               0.0008463876379998731,\n",
       "               0.0007706939729679072,\n",
       "               0.0007790211713417444,\n",
       "               0.0007570791784193515,\n",
       "               0.0008079491148253622,\n",
       "               0.0007315696049779778,\n",
       "               0.0005850360667055634,\n",
       "               0.0005992294094024208,\n",
       "               0.0005174463323820001,\n",
       "               0.0005232208085529671,\n",
       "               0.0005705466233301285,\n",
       "               0.0005349860723630353,\n",
       "               0.0005810049723059241,\n",
       "               0.0006256039910252668,\n",
       "               0.0004518018997898344,\n",
       "               0.0003972063344212197,\n",
       "               0.00038045045814913317,\n",
       "               0.0007161650220504698,\n",
       "               0.0007808987188229526,\n",
       "               0.0009037723008989252,\n",
       "               0.0009671088116360641,\n",
       "               0.000778577347222544,\n",
       "               0.0006828564173833602,\n",
       "               0.0006623004778022409,\n",
       "               0.0007385989649431543,\n",
       "               0.0006552489704225815,\n",
       "               0.0005725715968566664,\n",
       "               0.0006139451156712384,\n",
       "               0.0005009475917323974,\n",
       "               0.0006314071730869361,\n",
       "               0.0006587494932842122,\n",
       "               0.0006703997962499411,\n",
       "               0.000697828418300091,\n",
       "               0.0006584491843414644,\n",
       "               0.0005717512951565306,\n",
       "               0.0005712994882464988,\n",
       "               0.0005495643269791441,\n",
       "               0.0005027842739182943,\n",
       "               0.0006075054408695898,\n",
       "               0.0006613722172720082,\n",
       "               0.0006702783135984483,\n",
       "               0.0006666770983796628,\n",
       "               0.0006025784237941316,\n",
       "               0.0005359320159287569,\n",
       "               0.0005774897534992562,\n",
       "               0.0006380938839203973,\n",
       "               0.0007076920110661496,\n",
       "               0.0007220067747973612,\n",
       "               0.0007061497531217781,\n",
       "               0.0006337040066287835,\n",
       "               0.0006262599130135669,\n",
       "               0.0004876671751006616,\n",
       "               0.0005141168235155838,\n",
       "               0.00044881550602786726,\n",
       "               0.0003911409907097153,\n",
       "               0.0003637507786144843,\n",
       "               0.0003774139793364077,\n",
       "               0.00031982534531810775,\n",
       "               0.00036420540901756953,\n",
       "               0.00043026340507931705,\n",
       "               0.00037475467995480317,\n",
       "               0.0004365412393457422,\n",
       "               0.0004936523907229162,\n",
       "               0.0004341068274129565,\n",
       "               0.00040331823096468624,\n",
       "               0.0004933774541851291,\n",
       "               0.0004561229396962275,\n",
       "               0.00048783483066908417,\n",
       "               0.0005036122236577792,\n",
       "               0.0004566781298499448,\n",
       "               0.00045264291135126155,\n",
       "               0.0005130727254335362,\n",
       "               0.000527084589613786,\n",
       "               0.0005692983532661416,\n",
       "               0.0005729355938165684,\n",
       "               0.0005983124531355706,\n",
       "               0.0006194222187828096,\n",
       "               0.000654868470482721,\n",
       "               0.0006628314355674546,\n",
       "               0.0006764020674854169,\n",
       "               0.0006569599863120992,\n",
       "               0.0007172791975592861,\n",
       "               0.0006990916405771353,\n",
       "               0.0007028445372918178,\n",
       "               0.0006934115196837267,\n",
       "               0.0006454214038770625,\n",
       "               0.0006154121312974463,\n",
       "               0.0005515500701119109,\n",
       "               0.0005623340011820053,\n",
       "               0.00060606206018623,\n",
       "               0.0006015727194969874,\n",
       "               0.0006226191657483669]})}"
      ]
     },
     "execution_count": 62,
     "metadata": {},
     "output_type": "execute_result"
    }
   ],
   "source": [
    "%%time\n",
    "cat_model = CatBoostClassifier(iterations=100, loss_function=\"CrossEntropy\", eval_metric='F1', verbose=0, thread_count=8)\n",
    "params = {'learning_rate': np.linspace(0.38, 0.5, num=30), \n",
    "          'depth': [5,6,7], \n",
    "          'l2_leaf_reg': [2,3,4], \n",
    "          'random_strength': [1, 1.2, 2]\n",
    "         }\n",
    "cat_model.randomized_search(params, X=features_train, y=target_train,\n",
    "                            partition_random_seed=12479, verbose=10, plot=True, shuffle=True, stratified=True, \n",
    "                            cv=4, n_iter=48\n",
    "                           );"
   ]
  },
  {
   "cell_type": "markdown",
   "metadata": {},
   "source": [
    "<div class=\"alert alert-block alert-info\">\n",
    "<b>Комментарий студента:</b> Скриншот последнего результата ↓\n",
    "</div>"
   ]
  },
  {
   "attachments": {
    "image.png": {
     "image/png": "[encoded data removed]"
    }
   },
   "cell_type": "markdown",
   "metadata": {},
   "source": [
    "![image.png](attachment:image.png)"
   ]
  },
  {
   "cell_type": "code",
   "execution_count": 63,
   "metadata": {},
   "outputs": [
    {
     "name": "stdout",
     "output_type": "stream",
     "text": [
      "{'learn': {'F1': 0.9671322925225966, 'CrossEntropy': 0.023521115064239637}}\n"
     ]
    },
    {
     "data": {
      "text/plain": [
       "{'iterations': 100,\n",
       " 'loss_function': 'CrossEntropy',\n",
       " 'thread_count': 8,\n",
       " 'verbose': 0,\n",
       " 'eval_metric': 'F1',\n",
       " 'random_strength': 2,\n",
       " 'depth': 6,\n",
       " 'l2_leaf_reg': 4,\n",
       " 'learning_rate': 0.4131034482758621}"
      ]
     },
     "execution_count": 63,
     "metadata": {},
     "output_type": "execute_result"
    }
   ],
   "source": [
    "print(cat_model.get_best_score())\n",
    "cat_model.get_params()"
   ]
  },
  {
   "cell_type": "code",
   "execution_count": 64,
   "metadata": {},
   "outputs": [
    {
     "data": {
      "text/plain": [
       "'22.08.2022 00:44:22'"
      ]
     },
     "execution_count": 64,
     "metadata": {},
     "output_type": "execute_result"
    }
   ],
   "source": [
    "dt.datetime.today().strftime(\"%d.%m.%Y %H:%M:%S\")"
   ]
  },
  {
   "cell_type": "code",
   "execution_count": 65,
   "metadata": {},
   "outputs": [
    {
     "name": "stdout",
     "output_type": "stream",
     "text": [
      "Catboost cross val score: 0.9478 (+/- 0.01601)\n",
      "Wall time: 2.25 s\n"
     ]
    }
   ],
   "source": [
    "%%time\n",
    "# cat_model.fit(X=features_train, y=target_train)\n",
    "# predicted_cat = cat_model.predict(features_train)\n",
    "# print(f\"\\nf1 on train: {f1_score(target_train, predicted_cat):3.2f}\\n\")\n",
    "scores = cross_val_score(cat_model, features_train, target_train, cv=7, scoring='f1')\n",
    "print(\"Catboost cross val score: %0.4f (+/- %0.5f)\" % (scores.mean(), scores.std() * 2))"
   ]
  },
  {
   "cell_type": "code",
   "execution_count": 66,
   "metadata": {},
   "outputs": [
    {
     "data": {
      "text/plain": [
       "'22.08.2022 00:44:24'"
      ]
     },
     "execution_count": 66,
     "metadata": {},
     "output_type": "execute_result"
    }
   ],
   "source": [
    "dt.datetime.today().strftime(\"%d.%m.%Y %H:%M:%S\")"
   ]
  },
  {
   "cell_type": "markdown",
   "metadata": {},
   "source": [
    "### SVC"
   ]
  },
  {
   "cell_type": "code",
   "execution_count": 67,
   "metadata": {},
   "outputs": [
    {
     "data": {
      "text/plain": [
       "'22.08.2022 00:48:00'"
      ]
     },
     "execution_count": 67,
     "metadata": {},
     "output_type": "execute_result"
    }
   ],
   "source": [
    "dt.datetime.today().strftime('%d.%m.%Y %H:%M:%S')"
   ]
  },
  {
   "cell_type": "code",
   "execution_count": 68,
   "metadata": {},
   "outputs": [
    {
     "name": "stdout",
     "output_type": "stream",
     "text": [
      "Fitting 4 folds for each of 40 candidates, totalling 160 fits\n",
      "[LibSVM]Wall time: 6.12 s\n"
     ]
    },
    {
     "name": "stderr",
     "output_type": "stream",
     "text": [
      "C:\\Users\\skysh\\AppData\\Roaming\\Python\\Python37\\site-packages\\sklearn\\svm\\_base.py:289: ConvergenceWarning: Solver terminated early (max_iter=300).  Consider pre-processing your data with StandardScaler or MinMaxScaler.\n",
      "  ConvergenceWarning,\n"
     ]
    }
   ],
   "source": [
    "%%time\n",
    "svc_model = SVC(shrinking=True, probability=False, tol=0.0005, cache_size=300, class_weight='balanced', \n",
    "                verbose=True, max_iter=300, break_ties=False, random_state=16841)\n",
    "\n",
    "params = dict(C=np.linspace(0.54, 0.58, 15),\n",
    "              kernel=['linear', 'poly'], #, 'rbf', 'sigmoid'\n",
    "              degree=[2,3,4], \n",
    "              gamma=['scale','auto'], \n",
    "              coef0=np.linspace(0.22, 0.34, 15), \n",
    "              decision_function_shape=['ovo', 'ovr']\n",
    "             )\n",
    "grid = RandomizedSearchCV(svc_model, params, verbose=3, scoring='f1', cv=4, n_jobs=8, n_iter=40)\n",
    "grid.fit(features_train, target_train)\n",
    "best_svc = grid.best_estimator_"
   ]
  },
  {
   "cell_type": "code",
   "execution_count": 69,
   "metadata": {},
   "outputs": [
    {
     "name": "stdout",
     "output_type": "stream",
     "text": [
      "{'kernel': 'linear', 'gamma': 'auto', 'degree': 3, 'decision_function_shape': 'ovr', 'coef0': 0.28, 'C': 0.5457142857142857} \n",
      "\n",
      "0.8883011517286199 \n",
      "\n"
     ]
    }
   ],
   "source": [
    "print(grid.best_params_,'\\n')\n",
    "print(grid.best_score_,'\\n')"
   ]
  },
  {
   "cell_type": "code",
   "execution_count": 70,
   "metadata": {},
   "outputs": [
    {
     "data": {
      "text/plain": [
       "'22.08.2022 00:48:06'"
      ]
     },
     "execution_count": 70,
     "metadata": {},
     "output_type": "execute_result"
    }
   ],
   "source": [
    "dt.datetime.today().strftime('%d.%m.%Y %H:%M:%S')"
   ]
  },
  {
   "cell_type": "markdown",
   "metadata": {},
   "source": [
    "### SGDClassifier"
   ]
  },
  {
   "cell_type": "code",
   "execution_count": 75,
   "metadata": {
    "scrolled": true
   },
   "outputs": [
    {
     "data": {
      "text/plain": [
       "'22.08.2022 00:49:46'"
      ]
     },
     "execution_count": 75,
     "metadata": {},
     "output_type": "execute_result"
    }
   ],
   "source": [
    "dt.datetime.today().strftime('%d.%m.%Y %H:%M:%S')"
   ]
  },
  {
   "cell_type": "code",
   "execution_count": 76,
   "metadata": {},
   "outputs": [
    {
     "name": "stdout",
     "output_type": "stream",
     "text": [
      "Fitting 5 folds for each of 96 candidates, totalling 480 fits\n",
      "-- Epoch 1\n",
      "Norm: 619.14, NNZs: 6, Bias: 80.492439, T: 16472, Avg. loss: 80.769869\n",
      "Total training time: 0.00 seconds.\n",
      "-- Epoch 2\n",
      "Norm: 506.70, NNZs: 6, Bias: 76.876361, T: 32944, Avg. loss: 47.193810\n",
      "Total training time: 0.00 seconds.\n",
      "-- Epoch 3\n",
      "Norm: 430.59, NNZs: 6, Bias: 70.312084, T: 49416, Avg. loss: 37.274806\n",
      "Total training time: 0.00 seconds.\n",
      "-- Epoch 4\n",
      "Norm: 372.49, NNZs: 6, Bias: 64.778749, T: 65888, Avg. loss: 28.482310\n",
      "Total training time: 0.00 seconds.\n",
      "-- Epoch 5\n",
      "Norm: 324.93, NNZs: 6, Bias: 61.309252, T: 82360, Avg. loss: 22.528128\n",
      "Total training time: 0.00 seconds.\n",
      "-- Epoch 6\n",
      "Norm: 284.96, NNZs: 6, Bias: 58.736899, T: 98832, Avg. loss: 19.308343\n",
      "Total training time: 0.02 seconds.\n",
      "-- Epoch 7\n",
      "Norm: 250.62, NNZs: 6, Bias: 56.455439, T: 115304, Avg. loss: 15.181316\n",
      "Total training time: 0.02 seconds.\n",
      "Convergence after 7 epochs took 0.02 seconds\n",
      "Wall time: 16.1 s\n"
     ]
    }
   ],
   "source": [
    "%%time\n",
    "sgd_model = SGDClassifier(fit_intercept=True, max_iter=700, tol=0.00001, shuffle=True, verbose=2, \n",
    "                          random_state=48253, class_weight='balanced', warm_start=False)\n",
    "\n",
    "params = dict(loss=['modified_huber', 'perceptron'],   #  'hinge', 'squared_hinge', \n",
    "              penalty=['l2'],    #, 'elasticnet'\n",
    "              alpha=[0.000001, 0.00001], \n",
    "              early_stopping=[True], \n",
    "              n_iter_no_change=[4,5,6,7,10,20], \n",
    "              learning_rate=['invscaling', 'adaptive'],   #'optimal', 'constant', \n",
    "              eta0=[5, 9, 13, 50], \n",
    "              power_t=[0.5, 0.9, 1.1], \n",
    "              validation_fraction=[0.08, 0.1, 0.1125], \n",
    "              average=[False, 5, 9]\n",
    "             )\n",
    "grid = RandomizedSearchCV(sgd_model, params, verbose=1, scoring='f1', cv=5, n_jobs=8, n_iter=96)\n",
    "grid.fit(features_train, target_train)\n",
    "best_sgd = grid.best_estimator_"
   ]
  },
  {
   "cell_type": "code",
   "execution_count": 77,
   "metadata": {},
   "outputs": [
    {
     "name": "stdout",
     "output_type": "stream",
     "text": [
      "{'validation_fraction': 0.1125, 'power_t': 0.5, 'penalty': 'l2', 'n_iter_no_change': 6, 'loss': 'modified_huber', 'learning_rate': 'invscaling', 'eta0': 13, 'early_stopping': True, 'average': False, 'alpha': 1e-06} \n",
      "\n",
      "0.9392897524749533 \n",
      "\n"
     ]
    }
   ],
   "source": [
    "print(grid.best_params_,'\\n')\n",
    "print(grid.best_score_,'\\n')"
   ]
  },
  {
   "cell_type": "code",
   "execution_count": 78,
   "metadata": {},
   "outputs": [
    {
     "data": {
      "text/plain": [
       "'22.08.2022 00:50:02'"
      ]
     },
     "execution_count": 78,
     "metadata": {},
     "output_type": "execute_result"
    }
   ],
   "source": [
    "dt.datetime.today().strftime('%d.%m.%Y %H:%M:%S')"
   ]
  },
  {
   "cell_type": "markdown",
   "metadata": {},
   "source": [
    "### Тестирование"
   ]
  },
  {
   "cell_type": "markdown",
   "metadata": {},
   "source": [
    "Лучший показатель метрики получили для CatBoost, поэтому проверим эту модель на тестовой выборке."
   ]
  },
  {
   "cell_type": "code",
   "execution_count": 81,
   "metadata": {},
   "outputs": [
    {
     "name": "stdout",
     "output_type": "stream",
     "text": [
      "CatBoost's final test F1: 0.940\n",
      "\n",
      "Wall time: 129 ms\n"
     ]
    }
   ],
   "source": [
    "%%time\n",
    "# predicted_test_lr = best_lr.predict(features_test)\n",
    "# print(f\"Linear reg's final test F1: {f1_score(target_test, predicted_test_lr):3.3f}\\n\")\n",
    "\n",
    "predicted_test_cat = cat_model.predict(features_test)\n",
    "print(f\"CatBoost's final test F1: {f1_score(target_test, predicted_test_cat):3.3f}\\n\")\n",
    "\n",
    "# predicted_test_svc = best_svc.predict(features_test)\n",
    "# print(f\"SVC's final test F1: {f1_score(target_test, predicted_test_svc):3.3f}\\n\")\n",
    "\n",
    "# predicted_test_sgd = best_sgd.predict(features_test)\n",
    "# print(f\"SGDClassifier's final test F1: {f1_score(target_test, predicted_test_sgd):3.3f}\\n\")"
   ]
  },
  {
   "cell_type": "markdown",
   "metadata": {},
   "source": [
    "### Проверка на адекватность"
   ]
  },
  {
   "cell_type": "code",
   "execution_count": 82,
   "metadata": {},
   "outputs": [
    {
     "name": "stdout",
     "output_type": "stream",
     "text": [
      "Dummy classifier score: 0.1846 (+/- 0.00004)\n"
     ]
    }
   ],
   "source": [
    "dummy = DummyClassifier(strategy='constant', #'stratified'\n",
    "                        constant=1\n",
    "                       )\n",
    "scores = cross_val_score(dummy, features_test, target_test, scoring='f1')\n",
    "print(\"Dummy classifier score: %0.4f (+/- %0.5f)\" % (scores.mean(), scores.std() * 2))"
   ]
  },
  {
   "cell_type": "markdown",
   "metadata": {},
   "source": [
    "Проверка на адекватность пройдена: результат dummy-классификатора значительно хуже."
   ]
  },
  {
   "cell_type": "markdown",
   "metadata": {},
   "source": [
    "## Выводы"
   ]
  },
  {
   "cell_type": "markdown",
   "metadata": {},
   "source": [
    "Применяя вместо DistilBERT уже обученную модель toxic-BERT, удалось повысить показатель метрики *F1* с 0.68 до **0.94**. Лучшей моделью снова оказалась CatBoost. Но линейная регрессия и SGD не сильно отстают, к тому же линейная регрессия обучается быстрее."
   ]
  },
  {
   "cell_type": "markdown",
   "metadata": {},
   "source": [
    "## Чек-лист проверки"
   ]
  },
  {
   "cell_type": "markdown",
   "metadata": {},
   "source": [
    "- [x]  Jupyter Notebook открыт\n",
    "- [x]  Весь код выполняется без ошибок\n",
    "- [x]  Ячейки с кодом расположены в порядке исполнения\n",
    "- [x]  Данные загружены и подготовлены\n",
    "- [x]  Модели обучены\n",
    "- [x]  Значение метрики *F1* не меньше 0.75\n",
    "- [x]  Выводы написаны"
   ]
  }
 ],
 "metadata": {
  "ExecuteTimeLog": [
   {
    "duration": 55,
    "start_time": "2022-08-21T15:29:37.738Z"
   },
   {
    "duration": 148126,
    "start_time": "2022-08-21T15:29:41.281Z"
   },
   {
    "duration": 267,
    "start_time": "2022-08-21T15:34:41.121Z"
   },
   {
    "duration": 3,
    "start_time": "2022-08-21T15:34:50.056Z"
   },
   {
    "duration": 89,
    "start_time": "2022-08-21T15:34:57.610Z"
   },
   {
    "duration": 3347,
    "start_time": "2022-08-21T15:35:05.708Z"
   },
   {
    "duration": 21,
    "start_time": "2022-08-21T15:35:23.008Z"
   },
   {
    "duration": 19,
    "start_time": "2022-08-21T15:35:49.999Z"
   }
  ],
  "kernelspec": {
   "display_name": "Python 3 (ipykernel)",
   "language": "python",
   "name": "python3"
  },
  "language_info": {
   "codemirror_mode": {
    "name": "ipython",
    "version": 3
   },
   "file_extension": ".py",
   "mimetype": "text/x-python",
   "name": "python",
   "nbconvert_exporter": "python",
   "pygments_lexer": "ipython3",
   "version": "3.7.8"
  },
  "toc": {
   "base_numbering": 1,
   "nav_menu": {},
   "number_sections": true,
   "sideBar": true,
   "skip_h1_title": true,
   "title_cell": "Содержание",
   "title_sidebar": "Contents",
   "toc_cell": true,
   "toc_position": {
    "height": "calc(100% - 180px)",
    "left": "10px",
    "top": "150px",
    "width": "165px"
   },
   "toc_section_display": true,
   "toc_window_display": true
  }
 },
 "nbformat": 4,
 "nbformat_minor": 2
}
