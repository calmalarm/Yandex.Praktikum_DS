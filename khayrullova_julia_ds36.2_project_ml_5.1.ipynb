{
 "cells": [
  {
   "cell_type": "markdown",
   "id": "6a767912",
   "metadata": {
    "toc": true
   },
   "source": [
    "<h1>Содержание<span class=\"tocSkip\"></span></h1>\n",
    "<div class=\"toc\"><ul class=\"toc-item\"><li><span><a href=\"#Изучение-данных\" data-toc-modified-id=\"Изучение-данных-1\"><span class=\"toc-item-num\">1&nbsp;&nbsp;</span>Изучение данных</a></span></li><li><span><a href=\"#Подготовка-данных-для-обучения\" data-toc-modified-id=\"Подготовка-данных-для-обучения-2\"><span class=\"toc-item-num\">2&nbsp;&nbsp;</span>Подготовка данных для обучения</a></span></li><li><span><a href=\"#Обучение,-валидация\" data-toc-modified-id=\"Обучение,-валидация-3\"><span class=\"toc-item-num\">3&nbsp;&nbsp;</span>Обучение, валидация</a></span><ul class=\"toc-item\"><li><span><a href=\"#Дерево-решений\" data-toc-modified-id=\"Дерево-решений-3.1\"><span class=\"toc-item-num\">3.1&nbsp;&nbsp;</span>Дерево решений</a></span></li><li><span><a href=\"#Случайный-лес\" data-toc-modified-id=\"Случайный-лес-3.2\"><span class=\"toc-item-num\">3.2&nbsp;&nbsp;</span>Случайный лес</a></span></li><li><span><a href=\"#Логистическая-регрессия\" data-toc-modified-id=\"Логистическая-регрессия-3.3\"><span class=\"toc-item-num\">3.3&nbsp;&nbsp;</span>Логистическая регрессия</a></span></li></ul></li><li><span><a href=\"#Тест-моделей\" data-toc-modified-id=\"Тест-моделей-4\"><span class=\"toc-item-num\">4&nbsp;&nbsp;</span>Тест моделей</a></span></li></ul></div>"
   ]
  },
  {
   "cell_type": "markdown",
   "id": "0d419118",
   "metadata": {},
   "source": [
    "# Переход на новый тарифный план"
   ]
  },
  {
   "cell_type": "markdown",
   "id": "3be32108",
   "metadata": {},
   "source": [
    "Оператор мобильной связи «Мегалайн» выяснил: многие клиенты пользуются архивными тарифами.\n",
    "\n",
    "**Цель**: проанализировать поведение клиентов и предложить пользователям новый тариф: «Смарт» или «Ультра».\n",
    "\n",
    "В нашем распоряжении данные о поведении клиентов, которые уже перешли на эти тарифы (из проекта курса «Статистический анализ данных»). Нужно построить модель для задачи классификации, которая выберет подходящий тариф, с максимально большим значением accuracy (0.75 или больше). Проверим accuracy на тестовой выборке."
   ]
  },
  {
   "cell_type": "markdown",
   "id": "9b1de4d4",
   "metadata": {},
   "source": [
    "## Изучение данных"
   ]
  },
  {
   "cell_type": "code",
   "execution_count": 1,
   "id": "d9fae9f2",
   "metadata": {},
   "outputs": [],
   "source": [
    "import pandas as pd\n",
    "import numpy as np\n",
    "import matplotlib.pyplot as plt\n",
    "import math\n",
    "import datetime as dt\n",
    "import seaborn as sns\n",
    "import os\n",
    "from sklearn.linear_model import LogisticRegression\n",
    "from sklearn.ensemble import RandomForestClassifier\n",
    "from sklearn.tree import DecisionTreeClassifier\n",
    "from sklearn.model_selection import train_test_split\n",
    "import warnings"
   ]
  },
  {
   "cell_type": "code",
   "execution_count": 2,
   "id": "3538a2ee",
   "metadata": {},
   "outputs": [],
   "source": [
    "#warnings.simplefilter(\"once\")\n",
    "warnings.filterwarnings(\"ignore\", category=DeprecationWarning)\n",
    "warnings.filterwarnings(\"ignore\", category=FutureWarning)"
   ]
  },
  {
   "cell_type": "code",
   "execution_count": 3,
   "id": "022524d9",
   "metadata": {},
   "outputs": [],
   "source": [
    "pth1 = '/datasets/users_behavior.csv'\n",
    "pth2 = 'users_behavior.csv'\n",
    "if os.path.exists(pth1):\n",
    "    df = pd.read_csv(pth1)\n",
    "elif os.path.exists(pth2):\n",
    "    df = pd.read_csv(pth2)\n",
    "else:\n",
    "    print('Something is wrong')"
   ]
  },
  {
   "cell_type": "code",
   "execution_count": 4,
   "id": "04f50bd0",
   "metadata": {},
   "outputs": [
    {
     "name": "stdout",
     "output_type": "stream",
     "text": [
      "<class 'pandas.core.frame.DataFrame'>\n",
      "RangeIndex: 3214 entries, 0 to 3213\n",
      "Data columns (total 5 columns):\n",
      "calls       3214 non-null float64\n",
      "minutes     3214 non-null float64\n",
      "messages    3214 non-null float64\n",
      "mb_used     3214 non-null float64\n",
      "is_ultra    3214 non-null int64\n",
      "dtypes: float64(4), int64(1)\n",
      "memory usage: 125.7 KB\n"
     ]
    },
    {
     "data": {
      "text/html": [
       "<div>\n",
       "<style scoped>\n",
       "    .dataframe tbody tr th:only-of-type {\n",
       "        vertical-align: middle;\n",
       "    }\n",
       "\n",
       "    .dataframe tbody tr th {\n",
       "        vertical-align: top;\n",
       "    }\n",
       "\n",
       "    .dataframe thead th {\n",
       "        text-align: right;\n",
       "    }\n",
       "</style>\n",
       "<table border=\"1\" class=\"dataframe\">\n",
       "  <thead>\n",
       "    <tr style=\"text-align: right;\">\n",
       "      <th></th>\n",
       "      <th>calls</th>\n",
       "      <th>minutes</th>\n",
       "      <th>messages</th>\n",
       "      <th>mb_used</th>\n",
       "      <th>is_ultra</th>\n",
       "    </tr>\n",
       "  </thead>\n",
       "  <tbody>\n",
       "    <tr>\n",
       "      <td>0</td>\n",
       "      <td>40.0</td>\n",
       "      <td>311.90</td>\n",
       "      <td>83.0</td>\n",
       "      <td>19915.42</td>\n",
       "      <td>0</td>\n",
       "    </tr>\n",
       "    <tr>\n",
       "      <td>1</td>\n",
       "      <td>85.0</td>\n",
       "      <td>516.75</td>\n",
       "      <td>56.0</td>\n",
       "      <td>22696.96</td>\n",
       "      <td>0</td>\n",
       "    </tr>\n",
       "    <tr>\n",
       "      <td>2</td>\n",
       "      <td>77.0</td>\n",
       "      <td>467.66</td>\n",
       "      <td>86.0</td>\n",
       "      <td>21060.45</td>\n",
       "      <td>0</td>\n",
       "    </tr>\n",
       "    <tr>\n",
       "      <td>3</td>\n",
       "      <td>106.0</td>\n",
       "      <td>745.53</td>\n",
       "      <td>81.0</td>\n",
       "      <td>8437.39</td>\n",
       "      <td>1</td>\n",
       "    </tr>\n",
       "    <tr>\n",
       "      <td>4</td>\n",
       "      <td>66.0</td>\n",
       "      <td>418.74</td>\n",
       "      <td>1.0</td>\n",
       "      <td>14502.75</td>\n",
       "      <td>0</td>\n",
       "    </tr>\n",
       "  </tbody>\n",
       "</table>\n",
       "</div>"
      ],
      "text/plain": [
       "   calls  minutes  messages   mb_used  is_ultra\n",
       "0   40.0   311.90      83.0  19915.42         0\n",
       "1   85.0   516.75      56.0  22696.96         0\n",
       "2   77.0   467.66      86.0  21060.45         0\n",
       "3  106.0   745.53      81.0   8437.39         1\n",
       "4   66.0   418.74       1.0  14502.75         0"
      ]
     },
     "execution_count": 4,
     "metadata": {},
     "output_type": "execute_result"
    }
   ],
   "source": [
    "df.info()\n",
    "df.head(5)"
   ]
  },
  {
   "cell_type": "markdown",
   "id": "6d90b909",
   "metadata": {},
   "source": [
    "В таблице 5 столбцов, 3214 строк. Пропусков данных нет. Предобработка и исследовательский анализ данных не требуются, т.к. были сделаны в ранее другом проекте.\n",
    "\n",
    "* `сalls` — количество звонков,\n",
    "* `minutes` — суммарная длительность звонков в минутах,\n",
    "* `messages` — количество sms-сообщений,\n",
    "* `mb_used` — израсходованный интернет-трафик в Мб,\n",
    "* `is_ultra` — каким тарифом пользовался в течение месяца (***«Ультра» — 1, «Смарт» — 0***)."
   ]
  },
  {
   "cell_type": "markdown",
   "id": "85603a46",
   "metadata": {},
   "source": [
    "## Подготовка данных для обучения\n",
    "Разобьём выборку на признаки, целевой признак, а также на тренировочную, валидационную и тестовую выборки.\n",
    "<br>В нашем случае целевой признак - это `is_ultra`. А задача - бинарная классификация, т.к. тарифов всего 2."
   ]
  },
  {
   "cell_type": "code",
   "execution_count": 94,
   "id": "f9f8c558",
   "metadata": {},
   "outputs": [
    {
     "name": "stdout",
     "output_type": "stream",
     "text": [
      "2571\n",
      "321\n",
      "322\n"
     ]
    },
    {
     "data": {
      "text/html": [
       "<div>\n",
       "<style scoped>\n",
       "    .dataframe tbody tr th:only-of-type {\n",
       "        vertical-align: middle;\n",
       "    }\n",
       "\n",
       "    .dataframe tbody tr th {\n",
       "        vertical-align: top;\n",
       "    }\n",
       "\n",
       "    .dataframe thead th {\n",
       "        text-align: right;\n",
       "    }\n",
       "</style>\n",
       "<table border=\"1\" class=\"dataframe\">\n",
       "  <thead>\n",
       "    <tr style=\"text-align: right;\">\n",
       "      <th></th>\n",
       "      <th>calls</th>\n",
       "      <th>minutes</th>\n",
       "      <th>messages</th>\n",
       "      <th>mb_used</th>\n",
       "    </tr>\n",
       "  </thead>\n",
       "  <tbody>\n",
       "    <tr>\n",
       "      <td>348</td>\n",
       "      <td>77.0</td>\n",
       "      <td>522.65</td>\n",
       "      <td>14.0</td>\n",
       "      <td>19462.45</td>\n",
       "    </tr>\n",
       "  </tbody>\n",
       "</table>\n",
       "</div>"
      ],
      "text/plain": [
       "     calls  minutes  messages   mb_used\n",
       "348   77.0   522.65      14.0  19462.45"
      ]
     },
     "metadata": {},
     "output_type": "display_data"
    },
    {
     "data": {
      "text/html": [
       "<div>\n",
       "<style scoped>\n",
       "    .dataframe tbody tr th:only-of-type {\n",
       "        vertical-align: middle;\n",
       "    }\n",
       "\n",
       "    .dataframe tbody tr th {\n",
       "        vertical-align: top;\n",
       "    }\n",
       "\n",
       "    .dataframe thead th {\n",
       "        text-align: right;\n",
       "    }\n",
       "</style>\n",
       "<table border=\"1\" class=\"dataframe\">\n",
       "  <thead>\n",
       "    <tr style=\"text-align: right;\">\n",
       "      <th></th>\n",
       "      <th>calls</th>\n",
       "      <th>minutes</th>\n",
       "      <th>messages</th>\n",
       "      <th>mb_used</th>\n",
       "    </tr>\n",
       "  </thead>\n",
       "  <tbody>\n",
       "    <tr>\n",
       "      <td>1552</td>\n",
       "      <td>105.0</td>\n",
       "      <td>724.57</td>\n",
       "      <td>158.0</td>\n",
       "      <td>39930.07</td>\n",
       "    </tr>\n",
       "  </tbody>\n",
       "</table>\n",
       "</div>"
      ],
      "text/plain": [
       "      calls  minutes  messages   mb_used\n",
       "1552  105.0   724.57     158.0  39930.07"
      ]
     },
     "metadata": {},
     "output_type": "display_data"
    },
    {
     "data": {
      "text/html": [
       "<div>\n",
       "<style scoped>\n",
       "    .dataframe tbody tr th:only-of-type {\n",
       "        vertical-align: middle;\n",
       "    }\n",
       "\n",
       "    .dataframe tbody tr th {\n",
       "        vertical-align: top;\n",
       "    }\n",
       "\n",
       "    .dataframe thead th {\n",
       "        text-align: right;\n",
       "    }\n",
       "</style>\n",
       "<table border=\"1\" class=\"dataframe\">\n",
       "  <thead>\n",
       "    <tr style=\"text-align: right;\">\n",
       "      <th></th>\n",
       "      <th>calls</th>\n",
       "      <th>minutes</th>\n",
       "      <th>messages</th>\n",
       "      <th>mb_used</th>\n",
       "    </tr>\n",
       "  </thead>\n",
       "  <tbody>\n",
       "    <tr>\n",
       "      <td>76</td>\n",
       "      <td>73.0</td>\n",
       "      <td>633.22</td>\n",
       "      <td>21.0</td>\n",
       "      <td>18421.17</td>\n",
       "    </tr>\n",
       "  </tbody>\n",
       "</table>\n",
       "</div>"
      ],
      "text/plain": [
       "    calls  minutes  messages   mb_used\n",
       "76   73.0   633.22      21.0  18421.17"
      ]
     },
     "metadata": {},
     "output_type": "display_data"
    }
   ],
   "source": [
    "features = df.drop(columns=['is_ultra'])\n",
    "target = df['is_ultra']\n",
    "\n",
    "features_train, features_valid, target_train, target_valid = train_test_split(\n",
    "    features, target, \n",
    "    train_size=0.8, shuffle=True, random_state=12345\n",
    ")\n",
    "features_valid, features_test, target_valid, target_test = train_test_split(\n",
    "    features_valid, target_valid, \n",
    "    test_size=0.5, shuffle=True, random_state=12345\n",
    ")\n",
    "\n",
    "print(len(features_train))\n",
    "print(len(features_valid))\n",
    "print(len(features_test))\n",
    "display(features_train.head(1))\n",
    "display(features_valid.head(1))\n",
    "display(features_test.head(1))"
   ]
  },
  {
   "cell_type": "markdown",
   "id": "80f97064",
   "metadata": {},
   "source": [
    "## Обучение, валидация "
   ]
  },
  {
   "cell_type": "markdown",
   "id": "c1d271b7",
   "metadata": {},
   "source": [
    "### Дерево решений"
   ]
  },
  {
   "cell_type": "code",
   "execution_count": 95,
   "id": "1f6efd99",
   "metadata": {},
   "outputs": [],
   "source": [
    "best_tree_model = None\n",
    "best_accuracy = 0\n",
    "best_tree_depth = 0"
   ]
  },
  {
   "cell_type": "code",
   "execution_count": 96,
   "id": "a30e0408",
   "metadata": {},
   "outputs": [
    {
     "name": "stdout",
     "output_type": "stream",
     "text": [
      "max_depth = 1 : 0.7414330218068536\n",
      "max_depth = 2 : 0.7819314641744548\n",
      "max_depth = 3 : 0.7881619937694704\n",
      "max_depth = 4 : 0.7881619937694704\n",
      "max_depth = 5 : 0.794392523364486\n",
      "max_depth = 6 : 0.7975077881619937\n",
      "max_depth = 7 : 0.7912772585669782\n",
      "max_depth = 8 : 0.7850467289719626\n",
      "max_depth = 9 : 0.7912772585669782\n",
      "max_depth = 10 : 0.7757009345794392\n",
      "\n",
      "Best decision tree: depth=6, accuracy=0.7975077881619937\n"
     ]
    }
   ],
   "source": [
    "for max_depth in range(1,11):\n",
    "    model = DecisionTreeClassifier(random_state=12345, max_depth=max_depth)\n",
    "    model.fit(features_train, target_train)\n",
    "    accuracy = model.score(X=features_valid, y=target_valid) \n",
    "    print('max_depth =', max_depth, ':', accuracy)\n",
    "    if (accuracy > best_accuracy):\n",
    "        best_accuracy = accuracy\n",
    "        best_tree_model = model\n",
    "        best_tree_depth = max_depth\n",
    "        \n",
    "print('\\nBest decision tree: depth=', best_tree_depth, ', accuracy=', best_accuracy, sep='')"
   ]
  },
  {
   "cell_type": "markdown",
   "id": "f7364f18",
   "metadata": {},
   "source": [
    "### Случайный лес"
   ]
  },
  {
   "cell_type": "code",
   "execution_count": 97,
   "id": "687b0fa5",
   "metadata": {},
   "outputs": [],
   "source": [
    "best_forest_model = None\n",
    "best_accuracy = 0\n",
    "best_forst_depth = 0\n",
    "best_forest_n = 0"
   ]
  },
  {
   "cell_type": "code",
   "execution_count": 98,
   "id": "32b0e3e8",
   "metadata": {},
   "outputs": [
    {
     "name": "stdout",
     "output_type": "stream",
     "text": [
      "Best random forest: depth=8, n_estimators=43, accuracy=0.8068535825545171\n"
     ]
    }
   ],
   "source": [
    "for est in range(10, 51, 3):\n",
    "    for depth in range (2, 11):\n",
    "        model = RandomForestClassifier(random_state=12345, n_estimators=est, max_depth=depth)\n",
    "        model.fit(features_train, target_train)\n",
    "        accuracy = model.score(features_valid, target_valid)\n",
    "        if accuracy > best_accuracy:\n",
    "            best_forest_model = model\n",
    "            best_accuracy = accuracy\n",
    "            best_forest_depth = depth\n",
    "            best_forest_n = est\n",
    "\n",
    "print('Best random forest: depth=', best_forest_depth, ', n_estimators=', best_forest_n, ', accuracy=', best_accuracy, sep='')"
   ]
  },
  {
   "cell_type": "markdown",
   "id": "e725dc22",
   "metadata": {},
   "source": [
    "### Логистическая регрессия"
   ]
  },
  {
   "cell_type": "code",
   "execution_count": 99,
   "id": "f078939b",
   "metadata": {},
   "outputs": [
    {
     "name": "stdout",
     "output_type": "stream",
     "text": [
      "Logistic regression: accuracy=0.67601246105919\n"
     ]
    }
   ],
   "source": [
    "model = LogisticRegression(random_state=12345)\n",
    "model.fit(features_train, target_train)\n",
    "accuracy = model.score(features_valid, target_valid)\n",
    "\n",
    "print('Logistic regression: accuracy=', accuracy, sep='')"
   ]
  },
  {
   "cell_type": "markdown",
   "id": "4e886e75",
   "metadata": {},
   "source": [
    "## Тест моделей"
   ]
  },
  {
   "cell_type": "code",
   "execution_count": 100,
   "id": "7a6bda6a",
   "metadata": {},
   "outputs": [
    {
     "name": "stdout",
     "output_type": "stream",
     "text": [
      "Decision tree: depth=6, accuracy=0.7670807453416149\n",
      "Random forest: depth=8, n_estimators=43, accuracy=0.8012422360248447\n",
      "Logistic regression: accuracy=0.7298136645962733\n"
     ]
    }
   ],
   "source": [
    "accuracy = best_tree_model.score(features_test, target_test)\n",
    "print('Decision tree: depth=', best_tree_depth, ', accuracy=', accuracy, sep='')\n",
    "\n",
    "accuracy = best_forest_model.score(features_test, target_test)\n",
    "print('Random forest: depth=', best_forest_depth, ', n_estimators=', best_forest_n, ', accuracy=', accuracy, sep='')\n",
    "\n",
    "accuracy = model.score(features_test, target_test)\n",
    "print('Logistic regression: accuracy=', accuracy, sep='')"
   ]
  },
  {
   "cell_type": "code",
   "execution_count": null,
   "id": "7bb810e7",
   "metadata": {},
   "outputs": [],
   "source": []
  },
  {
   "cell_type": "code",
   "execution_count": null,
   "id": "cd8cb494",
   "metadata": {},
   "outputs": [],
   "source": []
  },
  {
   "cell_type": "code",
   "execution_count": null,
   "id": "e4bfc20c",
   "metadata": {},
   "outputs": [],
   "source": []
  },
  {
   "cell_type": "code",
   "execution_count": null,
   "id": "957dc708",
   "metadata": {},
   "outputs": [],
   "source": []
  },
  {
   "cell_type": "code",
   "execution_count": null,
   "id": "b3dadb7c",
   "metadata": {},
   "outputs": [],
   "source": []
  },
  {
   "cell_type": "code",
   "execution_count": 101,
   "id": "a8e926d1",
   "metadata": {},
   "outputs": [
    {
     "data": {
      "text/plain": [
       "'18.04.2022 23:51'"
      ]
     },
     "execution_count": 101,
     "metadata": {},
     "output_type": "execute_result"
    }
   ],
   "source": [
    "dt.datetime.today().strftime(\"%d.%m.%Y %H:%M\")"
   ]
  }
 ],
 "metadata": {
  "kernelspec": {
   "display_name": "Python 3 (ipykernel)",
   "language": "python",
   "name": "python3"
  },
  "language_info": {
   "codemirror_mode": {
    "name": "ipython",
    "version": 3
   },
   "file_extension": ".py",
   "mimetype": "text/x-python",
   "name": "python",
   "nbconvert_exporter": "python",
   "pygments_lexer": "ipython3",
   "version": "3.7.8"
  },
  "toc": {
   "base_numbering": 1,
   "nav_menu": {},
   "number_sections": true,
   "sideBar": true,
   "skip_h1_title": true,
   "title_cell": "Содержание",
   "title_sidebar": "Содержание",
   "toc_cell": true,
   "toc_position": {
    "height": "calc(100% - 180px)",
    "left": "10px",
    "top": "150px",
    "width": "194.83px"
   },
   "toc_section_display": true,
   "toc_window_display": true
  }
 },
 "nbformat": 4,
 "nbformat_minor": 5
}
