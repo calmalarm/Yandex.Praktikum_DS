{
 "cells": [
  {
   "cell_type": "markdown",
   "id": "6a767912",
   "metadata": {
    "toc": true
   },
   "source": [
    "<h1>Содержание<span class=\"tocSkip\"></span></h1>\n",
    "<div class=\"toc\"><ul class=\"toc-item\"><li><span><a href=\"#Изучение-данных\" data-toc-modified-id=\"Изучение-данных-1\"><span class=\"toc-item-num\">1&nbsp;&nbsp;</span>Изучение данных</a></span></li><li><span><a href=\"#Исследовательский-анализ,-подготовка-данных\" data-toc-modified-id=\"Исследовательский-анализ,-подготовка-данных-2\"><span class=\"toc-item-num\">2&nbsp;&nbsp;</span>Исследовательский анализ, подготовка данных</a></span></li><li><span><a href=\"#Разделение-на-выборки-для-обучения\" data-toc-modified-id=\"Разделение-на-выборки-для-обучения-3\"><span class=\"toc-item-num\">3&nbsp;&nbsp;</span>Разделение на выборки для обучения</a></span></li><li><span><a href=\"#Обучение,-валидация\" data-toc-modified-id=\"Обучение,-валидация-4\"><span class=\"toc-item-num\">4&nbsp;&nbsp;</span>Обучение, валидация</a></span><ul class=\"toc-item\"><li><span><a href=\"#Дерево-решений\" data-toc-modified-id=\"Дерево-решений-4.1\"><span class=\"toc-item-num\">4.1&nbsp;&nbsp;</span>Дерево решений</a></span></li><li><span><a href=\"#Случайный-лес\" data-toc-modified-id=\"Случайный-лес-4.2\"><span class=\"toc-item-num\">4.2&nbsp;&nbsp;</span>Случайный лес</a></span></li><li><span><a href=\"#Логистическая-регрессия\" data-toc-modified-id=\"Логистическая-регрессия-4.3\"><span class=\"toc-item-num\">4.3&nbsp;&nbsp;</span>Логистическая регрессия</a></span></li></ul></li><li><span><a href=\"#Тестирование-моделей\" data-toc-modified-id=\"Тестирование-моделей-5\"><span class=\"toc-item-num\">5&nbsp;&nbsp;</span>Тестирование моделей</a></span></li><li><span><a href=\"#Проверка-на-вменяемость\" data-toc-modified-id=\"Проверка-на-вменяемость-6\"><span class=\"toc-item-num\">6&nbsp;&nbsp;</span>Проверка на вменяемость</a></span></li></ul></div>"
   ]
  },
  {
   "cell_type": "markdown",
   "id": "0d419118",
   "metadata": {},
   "source": [
    "# Переход на новый тарифный план"
   ]
  },
  {
   "cell_type": "markdown",
   "id": "3be32108",
   "metadata": {},
   "source": [
    "Оператор мобильной связи «Мегалайн» выяснил: многие клиенты пользуются архивными тарифами.\n",
    "\n",
    "**Цель**: проанализировать поведение клиентов и предложить пользователям новый тариф: «Смарт» или «Ультра».\n",
    "\n",
    "В нашем распоряжении данные о поведении клиентов, которые уже перешли на эти тарифы (из проекта курса «Статистический анализ данных»). Нужно построить модель для задачи классификации, которая выберет подходящий тариф, с максимально большим значением *accuracy* (0.75 или больше). Проверим *accuracy* на тестовой выборке."
   ]
  },
  {
   "cell_type": "markdown",
   "id": "9b1de4d4",
   "metadata": {},
   "source": [
    "## Изучение данных"
   ]
  },
  {
   "cell_type": "code",
   "execution_count": 20,
   "id": "d9fae9f2",
   "metadata": {},
   "outputs": [],
   "source": [
    "import pandas as pd\n",
    "import matplotlib.pyplot as plt\n",
    "import datetime as dt\n",
    "import seaborn as sns\n",
    "import os\n",
    "from sklearn.linear_model import LogisticRegression\n",
    "from sklearn.ensemble import RandomForestClassifier\n",
    "from sklearn.tree import DecisionTreeClassifier\n",
    "from sklearn.model_selection import train_test_split\n",
    "from sklearn.metrics import accuracy_score\n",
    "import warnings\n",
    "from random import seed\n",
    "from random import random\n",
    "import statistics"
   ]
  },
  {
   "cell_type": "code",
   "execution_count": 2,
   "id": "3538a2ee",
   "metadata": {},
   "outputs": [],
   "source": [
    "#warnings.simplefilter(\"once\")\n",
    "warnings.filterwarnings(\"ignore\", category=DeprecationWarning)\n",
    "warnings.filterwarnings(\"ignore\", category=FutureWarning)"
   ]
  },
  {
   "cell_type": "code",
   "execution_count": 3,
   "id": "022524d9",
   "metadata": {},
   "outputs": [],
   "source": [
    "pth1 = '/datasets/users_behavior.csv'\n",
    "pth2 = 'users_behavior.csv'\n",
    "if os.path.exists(pth1):\n",
    "    df = pd.read_csv(pth1)\n",
    "elif os.path.exists(pth2):\n",
    "    df = pd.read_csv(pth2)\n",
    "else:\n",
    "    print('Something is wrong')"
   ]
  },
  {
   "cell_type": "code",
   "execution_count": 4,
   "id": "04f50bd0",
   "metadata": {},
   "outputs": [
    {
     "name": "stdout",
     "output_type": "stream",
     "text": [
      "<class 'pandas.core.frame.DataFrame'>\n",
      "RangeIndex: 3214 entries, 0 to 3213\n",
      "Data columns (total 5 columns):\n",
      " #   Column    Non-Null Count  Dtype  \n",
      "---  ------    --------------  -----  \n",
      " 0   calls     3214 non-null   float64\n",
      " 1   minutes   3214 non-null   float64\n",
      " 2   messages  3214 non-null   float64\n",
      " 3   mb_used   3214 non-null   float64\n",
      " 4   is_ultra  3214 non-null   int64  \n",
      "dtypes: float64(4), int64(1)\n",
      "memory usage: 125.7 KB\n"
     ]
    },
    {
     "data": {
      "text/html": [
       "<div>\n",
       "<style scoped>\n",
       "    .dataframe tbody tr th:only-of-type {\n",
       "        vertical-align: middle;\n",
       "    }\n",
       "\n",
       "    .dataframe tbody tr th {\n",
       "        vertical-align: top;\n",
       "    }\n",
       "\n",
       "    .dataframe thead th {\n",
       "        text-align: right;\n",
       "    }\n",
       "</style>\n",
       "<table border=\"1\" class=\"dataframe\">\n",
       "  <thead>\n",
       "    <tr style=\"text-align: right;\">\n",
       "      <th></th>\n",
       "      <th>calls</th>\n",
       "      <th>minutes</th>\n",
       "      <th>messages</th>\n",
       "      <th>mb_used</th>\n",
       "      <th>is_ultra</th>\n",
       "    </tr>\n",
       "  </thead>\n",
       "  <tbody>\n",
       "    <tr>\n",
       "      <th>0</th>\n",
       "      <td>40.0</td>\n",
       "      <td>311.90</td>\n",
       "      <td>83.0</td>\n",
       "      <td>19915.42</td>\n",
       "      <td>0</td>\n",
       "    </tr>\n",
       "    <tr>\n",
       "      <th>1</th>\n",
       "      <td>85.0</td>\n",
       "      <td>516.75</td>\n",
       "      <td>56.0</td>\n",
       "      <td>22696.96</td>\n",
       "      <td>0</td>\n",
       "    </tr>\n",
       "    <tr>\n",
       "      <th>2</th>\n",
       "      <td>77.0</td>\n",
       "      <td>467.66</td>\n",
       "      <td>86.0</td>\n",
       "      <td>21060.45</td>\n",
       "      <td>0</td>\n",
       "    </tr>\n",
       "    <tr>\n",
       "      <th>3</th>\n",
       "      <td>106.0</td>\n",
       "      <td>745.53</td>\n",
       "      <td>81.0</td>\n",
       "      <td>8437.39</td>\n",
       "      <td>1</td>\n",
       "    </tr>\n",
       "    <tr>\n",
       "      <th>4</th>\n",
       "      <td>66.0</td>\n",
       "      <td>418.74</td>\n",
       "      <td>1.0</td>\n",
       "      <td>14502.75</td>\n",
       "      <td>0</td>\n",
       "    </tr>\n",
       "  </tbody>\n",
       "</table>\n",
       "</div>"
      ],
      "text/plain": [
       "   calls  minutes  messages   mb_used  is_ultra\n",
       "0   40.0   311.90      83.0  19915.42         0\n",
       "1   85.0   516.75      56.0  22696.96         0\n",
       "2   77.0   467.66      86.0  21060.45         0\n",
       "3  106.0   745.53      81.0   8437.39         1\n",
       "4   66.0   418.74       1.0  14502.75         0"
      ]
     },
     "execution_count": 4,
     "metadata": {},
     "output_type": "execute_result"
    }
   ],
   "source": [
    "df.info()\n",
    "df.head(5)"
   ]
  },
  {
   "cell_type": "markdown",
   "id": "6d90b909",
   "metadata": {},
   "source": [
    "В таблице 5 столбцов, 3214 строк. Пропусков данных нет. Предобработка и исследовательский анализ данных не требуются, т.к. были сделаны в ранее другом проекте.\n",
    "\n",
    "* `сalls` — количество звонков,\n",
    "* `minutes` — суммарная длительность звонков в минутах,\n",
    "* `messages` — количество sms-сообщений,\n",
    "* `mb_used` — израсходованный интернет-трафик в Мб,\n",
    "* `is_ultra` — каким тарифом пользовался в течение месяца (***«Ультра» — 1, «Смарт» — 0***)."
   ]
  },
  {
   "cell_type": "markdown",
   "id": "aa185674",
   "metadata": {},
   "source": [
    "## Исследовательский анализ, подготовка данных"
   ]
  },
  {
   "cell_type": "code",
   "execution_count": 5,
   "id": "39c7967c",
   "metadata": {},
   "outputs": [
    {
     "data": {
      "image/png": "[encoded data removed]",
      "text/plain": [
       "<Figure size 1152x216 with 1 Axes>"
      ]
     },
     "metadata": {
      "needs_background": "light"
     },
     "output_type": "display_data"
    }
   ],
   "source": [
    "fig, ax = plt.subplots(figsize=(16,3))\n",
    "sns.histplot(df, x='calls', hue='is_ultra', hue_order=[1,0]\n",
    "             , stat='density', kde=True, element='step', binwidth=5\n",
    "             , common_norm=False, log_scale=False, palette='hsv', fill=True, ax=ax)\n",
    "plt.show();"
   ]
  },
  {
   "cell_type": "code",
   "execution_count": 6,
   "id": "60f09cec",
   "metadata": {},
   "outputs": [
    {
     "data": {
      "image/png": "[encoded data removed]",
      "text/plain": [
       "<Figure size 1152x216 with 1 Axes>"
      ]
     },
     "metadata": {
      "needs_background": "light"
     },
     "output_type": "display_data"
    }
   ],
   "source": [
    "fig, ax = plt.subplots(figsize=(16,3))\n",
    "sns.histplot(df, x='minutes', hue='is_ultra', hue_order=[1,0]\n",
    "             , stat='density', kde=True, element='step', binwidth=40\n",
    "             , common_norm=False, log_scale=False, palette='hsv', fill=True, ax=ax)\n",
    "plt.show();"
   ]
  },
  {
   "cell_type": "markdown",
   "id": "af49122d",
   "metadata": {},
   "source": [
    "Можно заметить, что рисунки распределения кол-ва звонков и общей длительности разговоров очень похожи. Проверим также корреляцию:"
   ]
  },
  {
   "cell_type": "code",
   "execution_count": 7,
   "id": "bbef0646",
   "metadata": {},
   "outputs": [
    {
     "name": "stdout",
     "output_type": "stream",
     "text": [
      "Коэф-т корреляции Пирсона: 0.9820832355742294\n"
     ]
    }
   ],
   "source": [
    "print('Коэф-т корреляции Пирсона:', df['calls'].corr(df['minutes']))"
   ]
  },
  {
   "cell_type": "markdown",
   "id": "e400c564",
   "metadata": {},
   "source": [
    "Очень высокий показатель. Поскольку у этих 2 переменных такая сильная зависимость, для обучения моделей лучше оставить одну из них, пусть это будет длительность разговоров. Столбец `calls` добавлять в признаки не будем."
   ]
  },
  {
   "cell_type": "markdown",
   "id": "85603a46",
   "metadata": {},
   "source": [
    "## Разделение на выборки для обучения\n",
    "Разобьём выборку на признаки, целевой признак, а также на тренировочную, валидационную и тестовую выборки в соотношении 90/5/5.\n",
    "<br>В нашем случае целевой признак - это `is_ultra`. А задача - бинарная классификация, т.к. тарифов всего 2."
   ]
  },
  {
   "cell_type": "code",
   "execution_count": 8,
   "id": "f9f8c558",
   "metadata": {},
   "outputs": [
    {
     "name": "stdout",
     "output_type": "stream",
     "text": [
      "2892\n",
      "161\n",
      "161\n"
     ]
    },
    {
     "data": {
      "text/html": [
       "<div>\n",
       "<style scoped>\n",
       "    .dataframe tbody tr th:only-of-type {\n",
       "        vertical-align: middle;\n",
       "    }\n",
       "\n",
       "    .dataframe tbody tr th {\n",
       "        vertical-align: top;\n",
       "    }\n",
       "\n",
       "    .dataframe thead th {\n",
       "        text-align: right;\n",
       "    }\n",
       "</style>\n",
       "<table border=\"1\" class=\"dataframe\">\n",
       "  <thead>\n",
       "    <tr style=\"text-align: right;\">\n",
       "      <th></th>\n",
       "      <th>minutes</th>\n",
       "      <th>messages</th>\n",
       "      <th>mb_used</th>\n",
       "    </tr>\n",
       "  </thead>\n",
       "  <tbody>\n",
       "    <tr>\n",
       "      <th>1783</th>\n",
       "      <td>269.32</td>\n",
       "      <td>14.0</td>\n",
       "      <td>15471.54</td>\n",
       "    </tr>\n",
       "  </tbody>\n",
       "</table>\n",
       "</div>"
      ],
      "text/plain": [
       "      minutes  messages   mb_used\n",
       "1783   269.32      14.0  15471.54"
      ]
     },
     "metadata": {},
     "output_type": "display_data"
    },
    {
     "data": {
      "text/html": [
       "<div>\n",
       "<style scoped>\n",
       "    .dataframe tbody tr th:only-of-type {\n",
       "        vertical-align: middle;\n",
       "    }\n",
       "\n",
       "    .dataframe tbody tr th {\n",
       "        vertical-align: top;\n",
       "    }\n",
       "\n",
       "    .dataframe thead th {\n",
       "        text-align: right;\n",
       "    }\n",
       "</style>\n",
       "<table border=\"1\" class=\"dataframe\">\n",
       "  <thead>\n",
       "    <tr style=\"text-align: right;\">\n",
       "      <th></th>\n",
       "      <th>minutes</th>\n",
       "      <th>messages</th>\n",
       "      <th>mb_used</th>\n",
       "    </tr>\n",
       "  </thead>\n",
       "  <tbody>\n",
       "    <tr>\n",
       "      <th>2932</th>\n",
       "      <td>636.52</td>\n",
       "      <td>6.0</td>\n",
       "      <td>15190.74</td>\n",
       "    </tr>\n",
       "  </tbody>\n",
       "</table>\n",
       "</div>"
      ],
      "text/plain": [
       "      minutes  messages   mb_used\n",
       "2932   636.52       6.0  15190.74"
      ]
     },
     "metadata": {},
     "output_type": "display_data"
    },
    {
     "data": {
      "text/html": [
       "<div>\n",
       "<style scoped>\n",
       "    .dataframe tbody tr th:only-of-type {\n",
       "        vertical-align: middle;\n",
       "    }\n",
       "\n",
       "    .dataframe tbody tr th {\n",
       "        vertical-align: top;\n",
       "    }\n",
       "\n",
       "    .dataframe thead th {\n",
       "        text-align: right;\n",
       "    }\n",
       "</style>\n",
       "<table border=\"1\" class=\"dataframe\">\n",
       "  <thead>\n",
       "    <tr style=\"text-align: right;\">\n",
       "      <th></th>\n",
       "      <th>minutes</th>\n",
       "      <th>messages</th>\n",
       "      <th>mb_used</th>\n",
       "    </tr>\n",
       "  </thead>\n",
       "  <tbody>\n",
       "    <tr>\n",
       "      <th>2858</th>\n",
       "      <td>590.3</td>\n",
       "      <td>20.0</td>\n",
       "      <td>25837.4</td>\n",
       "    </tr>\n",
       "  </tbody>\n",
       "</table>\n",
       "</div>"
      ],
      "text/plain": [
       "      minutes  messages  mb_used\n",
       "2858    590.3      20.0  25837.4"
      ]
     },
     "metadata": {},
     "output_type": "display_data"
    }
   ],
   "source": [
    "features = df.drop(columns=['is_ultra', 'calls'])\n",
    "target = df['is_ultra']\n",
    "\n",
    "features_train, features_valid, target_train, target_valid = train_test_split(\n",
    "    features, target, \n",
    "    train_size=0.9, shuffle=True, random_state=12345\n",
    ")\n",
    "features_valid, features_test, target_valid, target_test = train_test_split(\n",
    "    features_valid, target_valid, \n",
    "    test_size=0.5, shuffle=True, random_state=12345\n",
    ")\n",
    "\n",
    "print(len(features_train))\n",
    "print(len(features_valid))\n",
    "print(len(features_test))\n",
    "display(features_train.head(1))\n",
    "display(features_valid.head(1))\n",
    "display(features_test.head(1))"
   ]
  },
  {
   "cell_type": "markdown",
   "id": "80f97064",
   "metadata": {},
   "source": [
    "## Обучение, валидация "
   ]
  },
  {
   "cell_type": "markdown",
   "id": "6814dd1c",
   "metadata": {},
   "source": [
    "Обучим изученные в спринте модели: дерево решений, случайный лес, логистическую регрессию - и с помощью валидационных выборок подберем гиперпараметры для первых двух из них.\n",
    "\n",
    "Также попробуем применить рекомендацию из Slack от одного из ревьюеров:\n",
    "<br>Есть честный способ повысить точность модели путем увеличения размера выборки. На этапе тестирования валидационная выборка уже выполнила свою задачу - мы подобрали гиперпарамеры. Теперь мы можем обучить нашу модель на увеличенном наборе данных (валидация + обучение) и протестировать на тестовом наборе.\n",
    "<br>Для этого заранее подготовим увеличенные тренировочные выборки:"
   ]
  },
  {
   "cell_type": "code",
   "execution_count": 9,
   "id": "21498987",
   "metadata": {},
   "outputs": [
    {
     "name": "stdout",
     "output_type": "stream",
     "text": [
      "(3053, 3) (3053,)\n"
     ]
    }
   ],
   "source": [
    "features_train_2 = pd.concat([features_train, features_valid], ignore_index=True)\n",
    "target_train_2 = pd.concat([target_train, target_valid], ignore_index=True)\n",
    "print(features_train_2.shape, target_train_2.shape)"
   ]
  },
  {
   "cell_type": "markdown",
   "id": "c1d271b7",
   "metadata": {},
   "source": [
    "### Дерево решений"
   ]
  },
  {
   "cell_type": "code",
   "execution_count": 10,
   "id": "1f6efd99",
   "metadata": {},
   "outputs": [
    {
     "name": "stdout",
     "output_type": "stream",
     "text": [
      "Best decision tree: depth=5, accuracy=0.782608695652174\n"
     ]
    }
   ],
   "source": [
    "best_tree_model = None\n",
    "best_accuracy = 0\n",
    "best_tree_depth = 0\n",
    "\n",
    "for max_depth in range(1,21):\n",
    "    model = DecisionTreeClassifier(random_state=123, max_depth=max_depth)\n",
    "    model.fit(features_train, target_train)\n",
    "    accuracy = model.score(X=features_valid, y=target_valid) \n",
    "    #print('max_depth =', max_depth, ':', accuracy)\n",
    "    if (accuracy > best_accuracy):\n",
    "        best_accuracy = accuracy\n",
    "        best_tree_model = model\n",
    "        best_tree_depth = max_depth\n",
    "        \n",
    "print('Best decision tree: depth=', best_tree_depth, ', accuracy=', best_accuracy, sep='')"
   ]
  },
  {
   "cell_type": "markdown",
   "id": "7f15d3e9",
   "metadata": {},
   "source": [
    "*Accuracy* достаточное (по условиям задания), хоть и не слишком большое.\n",
    "<br>Переобучим дерево с полученной лучшей глубиной на увеличенной выборке:"
   ]
  },
  {
   "cell_type": "code",
   "execution_count": 11,
   "id": "a0de3978",
   "metadata": {},
   "outputs": [
    {
     "data": {
      "text/plain": [
       "DecisionTreeClassifier(max_depth=5, random_state=123)"
      ]
     },
     "execution_count": 11,
     "metadata": {},
     "output_type": "execute_result"
    }
   ],
   "source": [
    "tree_model = DecisionTreeClassifier(random_state=123, max_depth=best_tree_depth)\n",
    "tree_model.fit(features_train_2, target_train_2);"
   ]
  },
  {
   "cell_type": "markdown",
   "id": "f7364f18",
   "metadata": {},
   "source": [
    "### Случайный лес"
   ]
  },
  {
   "cell_type": "code",
   "execution_count": 12,
   "id": "687b0fa5",
   "metadata": {},
   "outputs": [
    {
     "name": "stdout",
     "output_type": "stream",
     "text": [
      "Best random forest: depth=15, n_estimators=8, accuracy=0.8012422360248447\n"
     ]
    }
   ],
   "source": [
    "best_forest_model = None\n",
    "best_accuracy = 0\n",
    "best_forst_depth = 0\n",
    "best_forest_n = 0\n",
    "\n",
    "for est in range(6, 51, 2):\n",
    "    for depth in range (3, 21):\n",
    "        model = RandomForestClassifier(random_state=123456, n_estimators=est, max_depth=depth)\n",
    "        model.fit(features_train, target_train)\n",
    "        accuracy = model.score(features_valid, target_valid)\n",
    "        #print(est, depth, accuracy)\n",
    "        if accuracy > best_accuracy:\n",
    "            best_forest_model = model\n",
    "            best_accuracy = accuracy\n",
    "            best_forest_depth = depth\n",
    "            best_forest_n = est\n",
    "\n",
    "print('Best random forest: depth=', best_forest_depth, ', n_estimators=', best_forest_n, ', accuracy=', best_accuracy, sep='')"
   ]
  },
  {
   "cell_type": "markdown",
   "id": "d6e62062",
   "metadata": {},
   "source": [
    "*Accuracy* немного выше, чем у дерева решений.\n",
    "<br>Переобучим лес с лучшими гиперпараметрами на увеличенной выборке:"
   ]
  },
  {
   "cell_type": "code",
   "execution_count": 13,
   "id": "64268b4a",
   "metadata": {},
   "outputs": [],
   "source": [
    "forest_model = RandomForestClassifier(random_state=123456, n_estimators=best_forest_n, max_depth=best_forest_depth)\n",
    "forest_model.fit(features_train_2, target_train_2);"
   ]
  },
  {
   "cell_type": "markdown",
   "id": "e725dc22",
   "metadata": {},
   "source": [
    "### Логистическая регрессия\n",
    "\n",
    "Логистическую регрессию сразу обучим на увеличенной выборке, т.к. гиперпараметры для неё подбирать не нужно:"
   ]
  },
  {
   "cell_type": "code",
   "execution_count": 14,
   "id": "f078939b",
   "metadata": {},
   "outputs": [],
   "source": [
    "log_regression_model = LogisticRegression(random_state=12345)\n",
    "log_regression_model.fit(features_train_2, target_train_2);"
   ]
  },
  {
   "cell_type": "markdown",
   "id": "4e886e75",
   "metadata": {},
   "source": [
    "## Тестирование моделей"
   ]
  },
  {
   "cell_type": "code",
   "execution_count": 15,
   "id": "7a6bda6a",
   "metadata": {},
   "outputs": [
    {
     "name": "stdout",
     "output_type": "stream",
     "text": [
      "Decision tree: depth=5, accuracy=0.7950310559006211\n",
      "Random forest: depth=15, n_estimators=8, accuracy=0.8322981366459627\n",
      "Logistic regression: accuracy=0.7639751552795031\n"
     ]
    }
   ],
   "source": [
    "accuracy = best_tree_model.score(features_test, target_test)\n",
    "print('Decision tree: depth=', best_tree_depth, ', accuracy=', accuracy, sep='')\n",
    "\n",
    "accuracy = forest_model.score(features_test, target_test)\n",
    "print('Random forest: depth=', best_forest_depth, ', n_estimators=', best_forest_n, ', accuracy=', accuracy, sep='')\n",
    "\n",
    "accuracy = log_regression_model.score(features_test, target_test)\n",
    "print('Logistic regression: accuracy=', accuracy, sep='')"
   ]
  },
  {
   "cell_type": "markdown",
   "id": "7215d1d1",
   "metadata": {},
   "source": [
    "Значение *accuracy* всех 3 моделей выше 0.75, но отличных результатов добиться не удалось. Возможно, потому что это самые простые модели.\n",
    "<br>Ожидаемо, самое высокое значение получилось у случайного леса."
   ]
  },
  {
   "cell_type": "markdown",
   "id": "792dfe54",
   "metadata": {},
   "source": [
    "## Проверка на вменяемость\n",
    "\n",
    "Для проверки полученных выше моделей на вменяемость создадим выборку с целевым признаком, рассчитанным случайной \"моделью\", и посчитаем *accuracy*."
   ]
  },
  {
   "cell_type": "code",
   "execution_count": 16,
   "id": "5d26abba",
   "metadata": {},
   "outputs": [
    {
     "data": {
      "text/plain": [
       "0.30647168637212197"
      ]
     },
     "execution_count": 16,
     "metadata": {},
     "output_type": "execute_result"
    }
   ],
   "source": [
    "tariff_mean = df['is_ultra'].mean()\n",
    "tariff_mean"
   ]
  },
  {
   "cell_type": "code",
   "execution_count": 17,
   "id": "e4bfc20c",
   "metadata": {},
   "outputs": [
    {
     "name": "stdout",
     "output_type": "stream",
     "text": [
      "[0, 1, 1, 0, 0, 1, 0, 0, 0, 0] , length: 161\n"
     ]
    },
    {
     "data": {
      "text/plain": [
       "0.2981366459627329"
      ]
     },
     "execution_count": 17,
     "metadata": {},
     "output_type": "execute_result"
    }
   ],
   "source": [
    "seed(549)\n",
    "sanity_check = [1 if random() < tariff_mean else 0   for x in range(len(target_test))]\n",
    "print(sanity_check[0:10], ', length:', len(sanity_check))\n",
    "statistics.mean(sanity_check)"
   ]
  },
  {
   "cell_type": "code",
   "execution_count": 18,
   "id": "957dc708",
   "metadata": {},
   "outputs": [
    {
     "data": {
      "text/plain": [
       "0.5652173913043478"
      ]
     },
     "execution_count": 18,
     "metadata": {},
     "output_type": "execute_result"
    }
   ],
   "source": [
    "accuracy_score(target_test, sanity_check)"
   ]
  },
  {
   "cell_type": "markdown",
   "id": "2be13bf8",
   "metadata": {},
   "source": [
    "Для псевдослучайных чисел получили *accuracy*=0.565, заметно меньше, чем для моделей выше, так что можно сказать, что обученные модели **вменяемы**."
   ]
  },
  {
   "cell_type": "code",
   "execution_count": 21,
   "id": "a8e926d1",
   "metadata": {},
   "outputs": [
    {
     "data": {
      "text/plain": [
       "'19.04.2022 16:56'"
      ]
     },
     "execution_count": 21,
     "metadata": {},
     "output_type": "execute_result"
    }
   ],
   "source": [
    "dt.datetime.today().strftime(\"%d.%m.%Y %H:%M\")"
   ]
  }
 ],
 "metadata": {
  "kernelspec": {
   "display_name": "Python 3 (ipykernel)",
   "language": "python",
   "name": "python3"
  },
  "language_info": {
   "codemirror_mode": {
    "name": "ipython",
    "version": 3
   },
   "file_extension": ".py",
   "mimetype": "text/x-python",
   "name": "python",
   "nbconvert_exporter": "python",
   "pygments_lexer": "ipython3",
   "version": "3.9.12"
  },
  "toc": {
   "base_numbering": 1,
   "nav_menu": {},
   "number_sections": true,
   "sideBar": true,
   "skip_h1_title": true,
   "title_cell": "Содержание",
   "title_sidebar": "Содержание",
   "toc_cell": true,
   "toc_position": {
    "height": "calc(100% - 180px)",
    "left": "10px",
    "top": "150px",
    "width": "194.83px"
   },
   "toc_section_display": true,
   "toc_window_display": true
  }
 },
 "nbformat": 4,
 "nbformat_minor": 5
}
