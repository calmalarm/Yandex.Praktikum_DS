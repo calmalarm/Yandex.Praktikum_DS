{
 "cells": [
  {
   "cell_type": "markdown",
   "id": "e4808c52",
   "metadata": {
    "toc": true
   },
   "source": [
    "<h1>Содержание<span class=\"tocSkip\"></span></h1>\n",
    "<div class=\"toc\"><ul class=\"toc-item\"><li><span><a href=\"#Изучение-данных\" data-toc-modified-id=\"Изучение-данных-1\"><span class=\"toc-item-num\">1&nbsp;&nbsp;</span>Изучение данных</a></span></li><li><span><a href=\"#Предобработка-данных\" data-toc-modified-id=\"Предобработка-данных-2\"><span class=\"toc-item-num\">2&nbsp;&nbsp;</span>Предобработка данных</a></span><ul class=\"toc-item\"><li><span><a href=\"#Пропуски,-дубли,-адекватость-данных,-переименование-столбцов\" data-toc-modified-id=\"Пропуски,-дубли,-адекватость-данных,-переименование-столбцов-2.1\"><span class=\"toc-item-num\">2.1&nbsp;&nbsp;</span>Пропуски, дубли, адекватость данных, переименование столбцов</a></span></li><li><span><a href=\"#Подготовка-признаков\" data-toc-modified-id=\"Подготовка-признаков-2.2\"><span class=\"toc-item-num\">2.2&nbsp;&nbsp;</span>Подготовка признаков</a></span></li></ul></li><li><span><a href=\"#Обучение-без-учёта-дисбаланса-классов\" data-toc-modified-id=\"Обучение-без-учёта-дисбаланса-классов-3\"><span class=\"toc-item-num\">3&nbsp;&nbsp;</span>Обучение без учёта дисбаланса классов</a></span><ul class=\"toc-item\"><li><span><a href=\"#Случайный-лес\" data-toc-modified-id=\"Случайный-лес-3.1\"><span class=\"toc-item-num\">3.1&nbsp;&nbsp;</span>Случайный лес</a></span></li><li><span><a href=\"#Логистическая-регрессия\" data-toc-modified-id=\"Логистическая-регрессия-3.2\"><span class=\"toc-item-num\">3.2&nbsp;&nbsp;</span>Логистическая регрессия</a></span></li></ul></li><li><span><a href=\"#Обучение-с-учётом-дисбаланса\" data-toc-modified-id=\"Обучение-с-учётом-дисбаланса-4\"><span class=\"toc-item-num\">4&nbsp;&nbsp;</span>Обучение с учётом дисбаланса</a></span><ul class=\"toc-item\"><li><span><a href=\"#class_weight='balanced'\" data-toc-modified-id=\"class_weight='balanced'-4.1\"><span class=\"toc-item-num\">4.1&nbsp;&nbsp;</span><code>class_weight='balanced'</code></a></span><ul class=\"toc-item\"><li><span><a href=\"#Случайный-лес\" data-toc-modified-id=\"Случайный-лес-4.1.1\"><span class=\"toc-item-num\">4.1.1&nbsp;&nbsp;</span>Случайный лес</a></span></li><li><span><a href=\"#Логистическая-регрессия\" data-toc-modified-id=\"Логистическая-регрессия-4.1.2\"><span class=\"toc-item-num\">4.1.2&nbsp;&nbsp;</span>Логистическая регрессия</a></span></li></ul></li></ul></li></ul></div>"
   ]
  },
  {
   "cell_type": "markdown",
   "id": "dabcee1e",
   "metadata": {},
   "source": [
    "# Отток клиентов\n",
    "\n",
    "**Цель**: спрогнозировать, уйдёт клиент из банка в ближайшее время или нет.\n",
    "\n",
    "У нас имеются исторические данные о поведении клиентов и расторжении договоров с банком. Построим модель с предельно большим значением F1-меры (нужно довести метрику до 0.59). Дополнительно измерим AUC-ROC и сравним её значение с F1-мерой."
   ]
  },
  {
   "cell_type": "markdown",
   "id": "e8dd8389",
   "metadata": {},
   "source": [
    "## Изучение данных"
   ]
  },
  {
   "cell_type": "code",
   "execution_count": 1,
   "id": "cb4a09b3",
   "metadata": {},
   "outputs": [],
   "source": [
    "import pandas as pd\n",
    "import matplotlib.pyplot as plt\n",
    "import datetime as dt\n",
    "import seaborn as sns\n",
    "import os\n",
    "#from catboost import CatBoostClassifier, Pool\n",
    "from sklearn.linear_model import LogisticRegression\n",
    "from sklearn.ensemble import RandomForestClassifier\n",
    "#from sklearn.tree import DecisionTreeClassifier\n",
    "from sklearn.neighbors import KNeighborsClassifier\n",
    "from sklearn.model_selection import train_test_split\n",
    "from sklearn.model_selection import GridSearchCV\n",
    "#from sklearn.metrics import accuracy_score\n",
    "from sklearn.metrics import f1_score\n",
    "#from sklearn import preprocessing\n",
    "from sklearn.preprocessing import StandardScaler\n",
    "#import warnings\n",
    "#from random import seed\n",
    "#from random import random\n",
    "#import statistics"
   ]
  },
  {
   "cell_type": "code",
   "execution_count": 2,
   "id": "b609cc07",
   "metadata": {},
   "outputs": [],
   "source": [
    "pth1 = '/datasets/Churn.csv'\n",
    "pth2 = 'Churn.csv'\n",
    "if os.path.exists(pth1):\n",
    "    df = pd.read_csv(pth1)\n",
    "elif os.path.exists(pth2):\n",
    "    df = pd.read_csv(pth2)\n",
    "else:\n",
    "    print('Something is wrong')"
   ]
  },
  {
   "cell_type": "code",
   "execution_count": 3,
   "id": "d687787c",
   "metadata": {},
   "outputs": [
    {
     "name": "stdout",
     "output_type": "stream",
     "text": [
      "<class 'pandas.core.frame.DataFrame'>\n",
      "RangeIndex: 10000 entries, 0 to 9999\n",
      "Data columns (total 14 columns):\n",
      " #   Column           Non-Null Count  Dtype  \n",
      "---  ------           --------------  -----  \n",
      " 0   RowNumber        10000 non-null  int64  \n",
      " 1   CustomerId       10000 non-null  int64  \n",
      " 2   Surname          10000 non-null  object \n",
      " 3   CreditScore      10000 non-null  int64  \n",
      " 4   Geography        10000 non-null  object \n",
      " 5   Gender           10000 non-null  object \n",
      " 6   Age              10000 non-null  int64  \n",
      " 7   Tenure           9091 non-null   float64\n",
      " 8   Balance          10000 non-null  float64\n",
      " 9   NumOfProducts    10000 non-null  int64  \n",
      " 10  HasCrCard        10000 non-null  int64  \n",
      " 11  IsActiveMember   10000 non-null  int64  \n",
      " 12  EstimatedSalary  10000 non-null  float64\n",
      " 13  Exited           10000 non-null  int64  \n",
      "dtypes: float64(3), int64(8), object(3)\n",
      "memory usage: 1.1+ MB\n"
     ]
    }
   ],
   "source": [
    "df.info()"
   ]
  },
  {
   "cell_type": "code",
   "execution_count": 4,
   "id": "8be1f5f6",
   "metadata": {},
   "outputs": [
    {
     "data": {
      "text/html": [
       "<div>\n",
       "<style scoped>\n",
       "    .dataframe tbody tr th:only-of-type {\n",
       "        vertical-align: middle;\n",
       "    }\n",
       "\n",
       "    .dataframe tbody tr th {\n",
       "        vertical-align: top;\n",
       "    }\n",
       "\n",
       "    .dataframe thead th {\n",
       "        text-align: right;\n",
       "    }\n",
       "</style>\n",
       "<table border=\"1\" class=\"dataframe\">\n",
       "  <thead>\n",
       "    <tr style=\"text-align: right;\">\n",
       "      <th></th>\n",
       "      <th>RowNumber</th>\n",
       "      <th>CustomerId</th>\n",
       "      <th>Surname</th>\n",
       "      <th>CreditScore</th>\n",
       "      <th>Geography</th>\n",
       "      <th>Gender</th>\n",
       "      <th>Age</th>\n",
       "      <th>Tenure</th>\n",
       "      <th>Balance</th>\n",
       "      <th>NumOfProducts</th>\n",
       "      <th>HasCrCard</th>\n",
       "      <th>IsActiveMember</th>\n",
       "      <th>EstimatedSalary</th>\n",
       "      <th>Exited</th>\n",
       "    </tr>\n",
       "  </thead>\n",
       "  <tbody>\n",
       "    <tr>\n",
       "      <th>0</th>\n",
       "      <td>1</td>\n",
       "      <td>15634602</td>\n",
       "      <td>Hargrave</td>\n",
       "      <td>619</td>\n",
       "      <td>France</td>\n",
       "      <td>Female</td>\n",
       "      <td>42</td>\n",
       "      <td>2.0</td>\n",
       "      <td>0.00</td>\n",
       "      <td>1</td>\n",
       "      <td>1</td>\n",
       "      <td>1</td>\n",
       "      <td>101348.88</td>\n",
       "      <td>1</td>\n",
       "    </tr>\n",
       "    <tr>\n",
       "      <th>1</th>\n",
       "      <td>2</td>\n",
       "      <td>15647311</td>\n",
       "      <td>Hill</td>\n",
       "      <td>608</td>\n",
       "      <td>Spain</td>\n",
       "      <td>Female</td>\n",
       "      <td>41</td>\n",
       "      <td>1.0</td>\n",
       "      <td>83807.86</td>\n",
       "      <td>1</td>\n",
       "      <td>0</td>\n",
       "      <td>1</td>\n",
       "      <td>112542.58</td>\n",
       "      <td>0</td>\n",
       "    </tr>\n",
       "    <tr>\n",
       "      <th>2</th>\n",
       "      <td>3</td>\n",
       "      <td>15619304</td>\n",
       "      <td>Onio</td>\n",
       "      <td>502</td>\n",
       "      <td>France</td>\n",
       "      <td>Female</td>\n",
       "      <td>42</td>\n",
       "      <td>8.0</td>\n",
       "      <td>159660.80</td>\n",
       "      <td>3</td>\n",
       "      <td>1</td>\n",
       "      <td>0</td>\n",
       "      <td>113931.57</td>\n",
       "      <td>1</td>\n",
       "    </tr>\n",
       "    <tr>\n",
       "      <th>3</th>\n",
       "      <td>4</td>\n",
       "      <td>15701354</td>\n",
       "      <td>Boni</td>\n",
       "      <td>699</td>\n",
       "      <td>France</td>\n",
       "      <td>Female</td>\n",
       "      <td>39</td>\n",
       "      <td>1.0</td>\n",
       "      <td>0.00</td>\n",
       "      <td>2</td>\n",
       "      <td>0</td>\n",
       "      <td>0</td>\n",
       "      <td>93826.63</td>\n",
       "      <td>0</td>\n",
       "    </tr>\n",
       "    <tr>\n",
       "      <th>4</th>\n",
       "      <td>5</td>\n",
       "      <td>15737888</td>\n",
       "      <td>Mitchell</td>\n",
       "      <td>850</td>\n",
       "      <td>Spain</td>\n",
       "      <td>Female</td>\n",
       "      <td>43</td>\n",
       "      <td>2.0</td>\n",
       "      <td>125510.82</td>\n",
       "      <td>1</td>\n",
       "      <td>1</td>\n",
       "      <td>1</td>\n",
       "      <td>79084.10</td>\n",
       "      <td>0</td>\n",
       "    </tr>\n",
       "  </tbody>\n",
       "</table>\n",
       "</div>"
      ],
      "text/plain": [
       "   RowNumber  CustomerId   Surname  CreditScore Geography  Gender  Age  \\\n",
       "0          1    15634602  Hargrave          619    France  Female   42   \n",
       "1          2    15647311      Hill          608     Spain  Female   41   \n",
       "2          3    15619304      Onio          502    France  Female   42   \n",
       "3          4    15701354      Boni          699    France  Female   39   \n",
       "4          5    15737888  Mitchell          850     Spain  Female   43   \n",
       "\n",
       "   Tenure    Balance  NumOfProducts  HasCrCard  IsActiveMember  \\\n",
       "0     2.0       0.00              1          1               1   \n",
       "1     1.0   83807.86              1          0               1   \n",
       "2     8.0  159660.80              3          1               0   \n",
       "3     1.0       0.00              2          0               0   \n",
       "4     2.0  125510.82              1          1               1   \n",
       "\n",
       "   EstimatedSalary  Exited  \n",
       "0        101348.88       1  \n",
       "1        112542.58       0  \n",
       "2        113931.57       1  \n",
       "3         93826.63       0  \n",
       "4         79084.10       0  "
      ]
     },
     "execution_count": 4,
     "metadata": {},
     "output_type": "execute_result"
    }
   ],
   "source": [
    "df.head(5)"
   ]
  },
  {
   "cell_type": "markdown",
   "id": "0e55a499",
   "metadata": {},
   "source": [
    "В таблице 14 столбцов, 10000 строк. Пропуски есть только в столбце `tenure`."
   ]
  },
  {
   "cell_type": "markdown",
   "id": "e9e6642d",
   "metadata": {},
   "source": [
    "Согласно документации:\n",
    "\n",
    "`RowNumber` — индекс строки в данных;\n",
    "<br>`CustomerId` — уникальный идентификатор клиента;\n",
    "<br>`Surname` — фамилия;\n",
    "<br>`CreditScore` — кредитный рейтинг;\n",
    "<br>`Geography` — страна проживания;\n",
    "<br>`Gender` — пол;\n",
    "<br>`Age` — возраст;\n",
    "<br>`Tenure` — сколько лет человек является клиентом банка;\n",
    "<br>`Balance` — баланс на счёте;\n",
    "<br>`NumOfProducts` — количество продуктов банка, используемых клиентом;\n",
    "<br>`HasCrCard` — наличие кредитной карты;\n",
    "<br>`IsActiveMember` — активность клиента;\n",
    "<br>`EstimatedSalary` — предполагаемая зарплата;\n",
    "\n",
    "`Exited` — факт ухода клиента (целевой признак)."
   ]
  },
  {
   "cell_type": "markdown",
   "id": "eaa7cafe",
   "metadata": {},
   "source": [
    "## Предобработка данных"
   ]
  },
  {
   "cell_type": "markdown",
   "id": "3c781a48",
   "metadata": {},
   "source": [
    "### Пропуски, дубли, адекватость данных, переименование столбцов"
   ]
  },
  {
   "cell_type": "markdown",
   "id": "18b8b5e8",
   "metadata": {},
   "source": [
    "Столбцы именованы в стиле `CamelCase`, приведём к `snake_case`."
   ]
  },
  {
   "cell_type": "code",
   "execution_count": 5,
   "id": "39acf937",
   "metadata": {},
   "outputs": [
    {
     "data": {
      "text/plain": [
       "Index(['row_number', 'customer_id', 'surname', 'credit_score', 'geography',\n",
       "       'gender', 'age', 'tenure', 'balance', 'num_of_products',\n",
       "       'has_credit_card', 'is_active_member', 'estimated_salary', 'exited'],\n",
       "      dtype='object')"
      ]
     },
     "execution_count": 5,
     "metadata": {},
     "output_type": "execute_result"
    }
   ],
   "source": [
    "df.columns = [ 'row_number', 'customer_id', 'surname', 'credit_score', 'geography', 'gender', 'age', 'tenure', \n",
    "              'balance', 'num_of_products', 'has_credit_card', 'is_active_member', 'estimated_salary', 'exited' ]\n",
    "df.columns"
   ]
  },
  {
   "cell_type": "markdown",
   "id": "b10d635d",
   "metadata": {},
   "source": [
    "Проверим пропуски в `tenure`."
   ]
  },
  {
   "cell_type": "code",
   "execution_count": 6,
   "id": "63c44af8",
   "metadata": {},
   "outputs": [
    {
     "data": {
      "text/plain": [
       "1.0     952\n",
       "2.0     950\n",
       "8.0     933\n",
       "3.0     928\n",
       "5.0     927\n",
       "7.0     925\n",
       "NaN     909\n",
       "4.0     885\n",
       "9.0     882\n",
       "6.0     881\n",
       "10.0    446\n",
       "0.0     382\n",
       "Name: tenure, dtype: int64"
      ]
     },
     "execution_count": 6,
     "metadata": {},
     "output_type": "execute_result"
    }
   ],
   "source": [
    "df['tenure'].value_counts(dropna=False)"
   ]
  },
  {
   "cell_type": "markdown",
   "id": "53abcaa8",
   "metadata": {},
   "source": [
    "Это почти 10% данных, но в целях обучения моделей, думаю, лучше будет удалить пропуски."
   ]
  },
  {
   "cell_type": "code",
   "execution_count": 7,
   "id": "cfe83ca5",
   "metadata": {},
   "outputs": [],
   "source": [
    "df = df.dropna(subset=['tenure'])"
   ]
  },
  {
   "cell_type": "markdown",
   "id": "09a37eb9",
   "metadata": {},
   "source": [
    "Проверим дубли."
   ]
  },
  {
   "cell_type": "code",
   "execution_count": 8,
   "id": "2623528f",
   "metadata": {},
   "outputs": [
    {
     "data": {
      "text/plain": [
       "0"
      ]
     },
     "execution_count": 8,
     "metadata": {},
     "output_type": "execute_result"
    }
   ],
   "source": [
    "df.duplicated().sum()"
   ]
  },
  {
   "cell_type": "markdown",
   "id": "ecc88b0b",
   "metadata": {},
   "source": [
    "Дублей нет.\n",
    "\n",
    "Столбцы `row_number`, `customer_id`, `surname` нельзя/нецелесообразно использовать для обучения модели, удалим их."
   ]
  },
  {
   "cell_type": "code",
   "execution_count": 9,
   "id": "e1c75f84",
   "metadata": {},
   "outputs": [],
   "source": [
    "df = df.drop(columns=[  'row_number', 'customer_id', 'surname'])"
   ]
  },
  {
   "cell_type": "code",
   "execution_count": 10,
   "id": "4d7a4fe4",
   "metadata": {},
   "outputs": [
    {
     "name": "stdout",
     "output_type": "stream",
     "text": [
      "<class 'pandas.core.frame.DataFrame'>\n",
      "Int64Index: 9091 entries, 0 to 9998\n",
      "Data columns (total 11 columns):\n",
      " #   Column            Non-Null Count  Dtype  \n",
      "---  ------            --------------  -----  \n",
      " 0   credit_score      9091 non-null   int64  \n",
      " 1   geography         9091 non-null   object \n",
      " 2   gender            9091 non-null   object \n",
      " 3   age               9091 non-null   int64  \n",
      " 4   tenure            9091 non-null   float64\n",
      " 5   balance           9091 non-null   float64\n",
      " 6   num_of_products   9091 non-null   int64  \n",
      " 7   has_credit_card   9091 non-null   int64  \n",
      " 8   is_active_member  9091 non-null   int64  \n",
      " 9   estimated_salary  9091 non-null   float64\n",
      " 10  exited            9091 non-null   int64  \n",
      "dtypes: float64(3), int64(6), object(2)\n",
      "memory usage: 852.3+ KB\n"
     ]
    }
   ],
   "source": [
    "df.info()"
   ]
  },
  {
   "cell_type": "markdown",
   "id": "613ff336",
   "metadata": {},
   "source": [
    "Остаётся 10 признаков и 1 целевой признак.\n",
    "\n",
    "Проверим данные в остальных столбцах."
   ]
  },
  {
   "cell_type": "code",
   "execution_count": 11,
   "id": "cc434131",
   "metadata": {},
   "outputs": [
    {
     "data": {
      "text/plain": [
       "count    9091.000000\n",
       "mean      650.736553\n",
       "std        96.410471\n",
       "min       350.000000\n",
       "25%       584.000000\n",
       "50%       652.000000\n",
       "75%       717.000000\n",
       "max       850.000000\n",
       "Name: credit_score, dtype: float64"
      ]
     },
     "execution_count": 11,
     "metadata": {},
     "output_type": "execute_result"
    }
   ],
   "source": [
    "df.credit_score.describe()"
   ]
  },
  {
   "cell_type": "code",
   "execution_count": 12,
   "id": "4c11867a",
   "metadata": {},
   "outputs": [
    {
     "data": {
      "text/plain": [
       "France     4550\n",
       "Germany    2293\n",
       "Spain      2248\n",
       "Name: geography, dtype: int64"
      ]
     },
     "execution_count": 12,
     "metadata": {},
     "output_type": "execute_result"
    }
   ],
   "source": [
    "df.geography.value_counts()"
   ]
  },
  {
   "cell_type": "code",
   "execution_count": 13,
   "id": "e5293631",
   "metadata": {},
   "outputs": [
    {
     "data": {
      "text/plain": [
       "Male      4974\n",
       "Female    4117\n",
       "Name: gender, dtype: int64"
      ]
     },
     "execution_count": 13,
     "metadata": {},
     "output_type": "execute_result"
    }
   ],
   "source": [
    "df.gender.value_counts()"
   ]
  },
  {
   "cell_type": "code",
   "execution_count": 14,
   "id": "67f76f12",
   "metadata": {},
   "outputs": [
    {
     "data": {
      "text/plain": [
       "count    9091.000000\n",
       "mean       38.949181\n",
       "std        10.555581\n",
       "min        18.000000\n",
       "25%        32.000000\n",
       "50%        37.000000\n",
       "75%        44.000000\n",
       "max        92.000000\n",
       "Name: age, dtype: float64"
      ]
     },
     "execution_count": 14,
     "metadata": {},
     "output_type": "execute_result"
    }
   ],
   "source": [
    "df.age.describe()"
   ]
  },
  {
   "cell_type": "code",
   "execution_count": 15,
   "id": "96cc3821",
   "metadata": {},
   "outputs": [
    {
     "data": {
      "text/plain": [
       "count      9091.000000\n",
       "mean      76522.740015\n",
       "std       62329.528576\n",
       "min           0.000000\n",
       "25%           0.000000\n",
       "50%       97318.250000\n",
       "75%      127561.890000\n",
       "max      250898.090000\n",
       "Name: balance, dtype: float64"
      ]
     },
     "execution_count": 15,
     "metadata": {},
     "output_type": "execute_result"
    }
   ],
   "source": [
    "df.balance.describe()"
   ]
  },
  {
   "cell_type": "code",
   "execution_count": 16,
   "id": "3f1e5c5c",
   "metadata": {},
   "outputs": [
    {
     "data": {
      "text/plain": [
       "1    4617\n",
       "2    4184\n",
       "3     234\n",
       "4      56\n",
       "Name: num_of_products, dtype: int64"
      ]
     },
     "execution_count": 16,
     "metadata": {},
     "output_type": "execute_result"
    }
   ],
   "source": [
    "df.num_of_products.value_counts()"
   ]
  },
  {
   "cell_type": "code",
   "execution_count": 17,
   "id": "4aecadd3",
   "metadata": {},
   "outputs": [
    {
     "data": {
      "text/plain": [
       "1    6409\n",
       "0    2682\n",
       "Name: has_credit_card, dtype: int64"
      ]
     },
     "execution_count": 17,
     "metadata": {},
     "output_type": "execute_result"
    }
   ],
   "source": [
    "df.has_credit_card.value_counts()"
   ]
  },
  {
   "cell_type": "code",
   "execution_count": 18,
   "id": "18d19f3e",
   "metadata": {},
   "outputs": [
    {
     "data": {
      "text/plain": [
       "1    4687\n",
       "0    4404\n",
       "Name: is_active_member, dtype: int64"
      ]
     },
     "execution_count": 18,
     "metadata": {},
     "output_type": "execute_result"
    }
   ],
   "source": [
    "df.is_active_member.value_counts()"
   ]
  },
  {
   "cell_type": "code",
   "execution_count": 19,
   "id": "7246af1a",
   "metadata": {},
   "outputs": [
    {
     "data": {
      "text/plain": [
       "count      9091.000000\n",
       "mean     100181.214924\n",
       "std       57624.755647\n",
       "min          11.580000\n",
       "25%       51227.745000\n",
       "50%      100240.200000\n",
       "75%      149567.210000\n",
       "max      199992.480000\n",
       "Name: estimated_salary, dtype: float64"
      ]
     },
     "execution_count": 19,
     "metadata": {},
     "output_type": "execute_result"
    }
   ],
   "source": [
    "df.estimated_salary.describe()"
   ]
  },
  {
   "cell_type": "code",
   "execution_count": 20,
   "id": "d6605d08",
   "metadata": {},
   "outputs": [
    {
     "data": {
      "text/plain": [
       "0    7237\n",
       "1    1854\n",
       "Name: exited, dtype: int64"
      ]
     },
     "execution_count": 20,
     "metadata": {},
     "output_type": "execute_result"
    }
   ],
   "source": [
    "df.exited.value_counts()"
   ]
  },
  {
   "cell_type": "markdown",
   "id": "f20f18c8",
   "metadata": {},
   "source": [
    "### Подготовка признаков"
   ]
  },
  {
   "cell_type": "markdown",
   "id": "bb630720",
   "metadata": {},
   "source": [
    "2 признака: `geography`, `gender` - нужно перевести в числовой вид. Воспользуемся техникой *One-Hot Encoding*, т.к. она работает со всеми моделями, и разных значений в этих признаках не так много, поэтому не будет слишком много дополнительных столбцов."
   ]
  },
  {
   "cell_type": "code",
   "execution_count": 21,
   "id": "1a34fba8",
   "metadata": {},
   "outputs": [],
   "source": [
    "df_ohe = pd.get_dummies(df, drop_first=True)"
   ]
  },
  {
   "cell_type": "markdown",
   "id": "ad867e86",
   "metadata": {},
   "source": [
    "Масштабирум количественные признаки, чтобы они были равнозначны для моделей."
   ]
  },
  {
   "cell_type": "code",
   "execution_count": 22,
   "id": "c8823757",
   "metadata": {},
   "outputs": [],
   "source": [
    "numeric = [ 'credit_score', 'age', 'tenure', 'balance', 'num_of_products', 'estimated_salary' ]\n",
    "\n",
    "scaler = StandardScaler()\n",
    "scaler.fit(df_ohe[numeric])\n",
    "df_ohe[numeric] = scaler.transform(df_ohe[numeric])"
   ]
  },
  {
   "cell_type": "code",
   "execution_count": 23,
   "id": "7764d5f8",
   "metadata": {},
   "outputs": [
    {
     "data": {
      "text/html": [
       "<div>\n",
       "<style scoped>\n",
       "    .dataframe tbody tr th:only-of-type {\n",
       "        vertical-align: middle;\n",
       "    }\n",
       "\n",
       "    .dataframe tbody tr th {\n",
       "        vertical-align: top;\n",
       "    }\n",
       "\n",
       "    .dataframe thead th {\n",
       "        text-align: right;\n",
       "    }\n",
       "</style>\n",
       "<table border=\"1\" class=\"dataframe\">\n",
       "  <thead>\n",
       "    <tr style=\"text-align: right;\">\n",
       "      <th></th>\n",
       "      <th>credit_score</th>\n",
       "      <th>age</th>\n",
       "      <th>tenure</th>\n",
       "      <th>balance</th>\n",
       "      <th>num_of_products</th>\n",
       "      <th>has_credit_card</th>\n",
       "      <th>is_active_member</th>\n",
       "      <th>estimated_salary</th>\n",
       "      <th>exited</th>\n",
       "      <th>geography_Germany</th>\n",
       "      <th>geography_Spain</th>\n",
       "      <th>gender_Male</th>\n",
       "    </tr>\n",
       "  </thead>\n",
       "  <tbody>\n",
       "    <tr>\n",
       "      <th>0</th>\n",
       "      <td>-0.329200</td>\n",
       "      <td>0.289040</td>\n",
       "      <td>-1.035627</td>\n",
       "      <td>-1.227780</td>\n",
       "      <td>-0.912601</td>\n",
       "      <td>1</td>\n",
       "      <td>1</td>\n",
       "      <td>0.020264</td>\n",
       "      <td>1</td>\n",
       "      <td>0</td>\n",
       "      <td>0</td>\n",
       "      <td>0</td>\n",
       "    </tr>\n",
       "    <tr>\n",
       "      <th>1</th>\n",
       "      <td>-0.443301</td>\n",
       "      <td>0.194298</td>\n",
       "      <td>-1.381103</td>\n",
       "      <td>0.116887</td>\n",
       "      <td>-0.912601</td>\n",
       "      <td>0</td>\n",
       "      <td>1</td>\n",
       "      <td>0.214527</td>\n",
       "      <td>0</td>\n",
       "      <td>0</td>\n",
       "      <td>1</td>\n",
       "      <td>0</td>\n",
       "    </tr>\n",
       "  </tbody>\n",
       "</table>\n",
       "</div>"
      ],
      "text/plain": [
       "   credit_score       age    tenure   balance  num_of_products  \\\n",
       "0     -0.329200  0.289040 -1.035627 -1.227780        -0.912601   \n",
       "1     -0.443301  0.194298 -1.381103  0.116887        -0.912601   \n",
       "\n",
       "   has_credit_card  is_active_member  estimated_salary  exited  \\\n",
       "0                1                 1          0.020264       1   \n",
       "1                0                 1          0.214527       0   \n",
       "\n",
       "   geography_Germany  geography_Spain  gender_Male  \n",
       "0                  0                0            0  \n",
       "1                  0                1            0  "
      ]
     },
     "execution_count": 23,
     "metadata": {},
     "output_type": "execute_result"
    }
   ],
   "source": [
    "df_ohe.head(2)"
   ]
  },
  {
   "cell_type": "markdown",
   "id": "3fa1d47c",
   "metadata": {},
   "source": [
    "## Обучение без учёта дисбаланса классов\n",
    "\n",
    "Исследуем баланс классов, обучим модель без учёта дисбаланса. Кратко опишем выводы."
   ]
  },
  {
   "cell_type": "code",
   "execution_count": 24,
   "id": "19b791d9",
   "metadata": {},
   "outputs": [
    {
     "data": {
      "text/plain": [
       "0    0.796062\n",
       "1    0.203938\n",
       "Name: exited, dtype: float64"
      ]
     },
     "execution_count": 24,
     "metadata": {},
     "output_type": "execute_result"
    }
   ],
   "source": [
    "df.exited.value_counts() / df.exited.count()"
   ]
  },
  {
   "cell_type": "markdown",
   "id": "aed0c822",
   "metadata": {},
   "source": [
    "Есть дисбаланс целевых классов: 20 / 80."
   ]
  },
  {
   "cell_type": "markdown",
   "id": "32f54049",
   "metadata": {},
   "source": [
    "Разделим выборку на признаки, целевой признак, а также на обучающую, валидационную и тестовую выборки."
   ]
  },
  {
   "cell_type": "code",
   "execution_count": 43,
   "id": "57f92de6",
   "metadata": {},
   "outputs": [
    {
     "name": "stdout",
     "output_type": "stream",
     "text": [
      "(6363, 11)\n",
      "(1364, 11)\n",
      "(1364, 11)\n",
      "\n",
      "\t0.203991827754204\t0.20381231671554254\t0.20381231671554254\n"
     ]
    }
   ],
   "source": [
    "target = df_ohe['exited']\n",
    "features = df_ohe.drop('exited', axis=1)\n",
    "\n",
    "features_train, features_valid, target_train, target_valid = train_test_split(\n",
    "    features, target, \n",
    "    test_size=0.3, shuffle=True, stratify=target, random_state=246758)\n",
    "\n",
    "features_test, features_valid, target_test, target_valid = train_test_split(\n",
    "    features_valid, target_valid, \n",
    "    test_size=0.5, shuffle=True, stratify=target_valid, random_state=9421023)\n",
    "\n",
    "print(features_train.shape) \n",
    "print(features_valid.shape) \n",
    "print(features_test.shape) \n",
    "print('\\n', target_train.mean(), target_valid.mean(), target_test.mean(), sep='\\t')"
   ]
  },
  {
   "cell_type": "markdown",
   "id": "5341a8a9",
   "metadata": {},
   "source": [
    "Подготовим также увеличенные тренировочные выборки, которые можно использовать для обучения после подбора гиперпараметров либо сразу в GridSearch."
   ]
  },
  {
   "cell_type": "code",
   "execution_count": 44,
   "id": "e2e5a146",
   "metadata": {},
   "outputs": [
    {
     "name": "stdout",
     "output_type": "stream",
     "text": [
      "(7727, 11) (7727,)\n"
     ]
    }
   ],
   "source": [
    "features_train_2 = pd.concat([features_train, features_valid], ignore_index=True)\n",
    "target_train_2 = pd.concat([target_train, target_valid], ignore_index=True)\n",
    "print(features_train_2.shape, target_train_2.shape)"
   ]
  },
  {
   "cell_type": "markdown",
   "id": "b37c6711",
   "metadata": {},
   "source": [
    "### Случайный лес"
   ]
  },
  {
   "cell_type": "code",
   "execution_count": 45,
   "id": "59059e64",
   "metadata": {},
   "outputs": [
    {
     "name": "stdout",
     "output_type": "stream",
     "text": [
      "Fitting 2 folds for each of 84 candidates, totalling 168 fits\n",
      "CPU times: total: 1.27 s\n",
      "Wall time: 25.8 s\n"
     ]
    },
    {
     "data": {
      "text/plain": [
       "GridSearchCV(cv=2, estimator=RandomForestClassifier(random_state=12345),\n",
       "             n_jobs=4,\n",
       "             param_grid={'max_depth': range(13, 20),\n",
       "                         'n_estimators': range(100, 136, 3)},\n",
       "             scoring='f1', verbose=1)"
      ]
     },
     "execution_count": 45,
     "metadata": {},
     "output_type": "execute_result"
    }
   ],
   "source": [
    "%%time\n",
    "model = RandomForestClassifier(random_state=12345)\n",
    "\n",
    "params = dict(n_estimators=range(100,136,3), max_depth=range(13,20,1))\n",
    "grid = GridSearchCV(model, params, n_jobs=4, verbose=1, scoring='f1', cv=2)\n",
    "grid.fit(features_train, target_train);"
   ]
  },
  {
   "cell_type": "code",
   "execution_count": 46,
   "id": "c97606ef",
   "metadata": {},
   "outputs": [
    {
     "name": "stdout",
     "output_type": "stream",
     "text": [
      "{'max_depth': 15, 'n_estimators': 103}\n",
      "RandomForestClassifier(max_depth=15, n_estimators=103, random_state=12345)\n",
      "f1 лучшей модели на обучающей выборке: 0.5637985297690686\n",
      "f1 лучшей модели на валидационной выборке: 0.5637583892617449\n"
     ]
    }
   ],
   "source": [
    "print(grid.best_params_)\n",
    "best_forest = grid.best_estimator_\n",
    "print(best_forest)\n",
    "print('f1 лучшей модели на обучающей выборке:', grid.best_score_)\n",
    "predicted_valid = best_forest.predict(features_valid)\n",
    "print('f1 лучшей модели на валидационной выборке:', f1_score(target_valid, predicted_valid))"
   ]
  },
  {
   "cell_type": "markdown",
   "id": "f42f9542",
   "metadata": {},
   "source": [
    "Полученное без балансировки классов значение ***f1*** даже при подборе гиперпараметров - не слишком велико. Пока не удалось преодолеть установленный порог **0.59**."
   ]
  },
  {
   "cell_type": "markdown",
   "id": "484fb0f4",
   "metadata": {},
   "source": [
    "### Логистическая регрессия"
   ]
  },
  {
   "cell_type": "code",
   "execution_count": 52,
   "id": "2ddd5ba7",
   "metadata": {},
   "outputs": [
    {
     "name": "stdout",
     "output_type": "stream",
     "text": [
      "F1: 0.3298429319371728\n"
     ]
    }
   ],
   "source": [
    "model = LogisticRegression(random_state=12345, solver='liblinear')\n",
    "model.fit(features_train, target_train)\n",
    "predicted_valid = model.predict(features_valid)\n",
    "print(\"F1:\", f1_score(target_valid, predicted_valid))"
   ]
  },
  {
   "cell_type": "markdown",
   "id": "4cd5847d",
   "metadata": {},
   "source": [
    "Очень низкий показатель."
   ]
  },
  {
   "cell_type": "markdown",
   "id": "8a5c516f",
   "metadata": {},
   "source": [
    "## Обучение с учётом дисбаланса\n",
    "Теперь будем учитывать дисбаланс классов. Обучим разные модели и выберем лучшую."
   ]
  },
  {
   "cell_type": "markdown",
   "id": "94c50d32",
   "metadata": {},
   "source": [
    "### `class_weight='balanced'`"
   ]
  },
  {
   "cell_type": "markdown",
   "id": "c2c66cc9",
   "metadata": {},
   "source": [
    "#### Случайный лес"
   ]
  },
  {
   "cell_type": "code",
   "execution_count": 49,
   "id": "4bda9a5f",
   "metadata": {},
   "outputs": [
    {
     "name": "stdout",
     "output_type": "stream",
     "text": [
      "f1: 0.5897435897435898\n",
      "CPU times: total: 719 ms\n",
      "Wall time: 704 ms\n"
     ]
    }
   ],
   "source": [
    "%%time\n",
    "model = RandomForestClassifier(max_depth=15, n_estimators=103, random_state=12345,\n",
    "                              class_weight='balanced')\n",
    "model.fit(features_train, target_train)\n",
    "predicted_valid = model.predict(features_valid)\n",
    "print('f1:', f1_score(target_valid, predicted_valid))"
   ]
  },
  {
   "cell_type": "markdown",
   "id": "78ca089a",
   "metadata": {},
   "source": [
    "Пока не удалось получить существенный выигрыш по сравнению с предыдущим результатом случайного леса."
   ]
  },
  {
   "cell_type": "markdown",
   "id": "47e67cc9",
   "metadata": {},
   "source": [
    "#### Логистическая регрессия"
   ]
  },
  {
   "cell_type": "code",
   "execution_count": 53,
   "id": "d6e10d48",
   "metadata": {},
   "outputs": [
    {
     "name": "stdout",
     "output_type": "stream",
     "text": [
      "F1: 0.48258706467661694\n"
     ]
    }
   ],
   "source": [
    "model = LogisticRegression(random_state=12345, solver='liblinear', class_weight='balanced')\n",
    "model.fit(features_train, target_train)\n",
    "predicted_valid = model.predict(features_valid)\n",
    "print(\"F1:\", f1_score(target_valid, predicted_valid))"
   ]
  },
  {
   "cell_type": "markdown",
   "id": "ec65fe7d",
   "metadata": {},
   "source": [
    "Уже существенный выигрыш по сравнению с результатом лог.регрессии без указания параметра `class_weight`, но всё ещё очень далеко до 0.59."
   ]
  },
  {
   "cell_type": "code",
   "execution_count": null,
   "id": "327a68b5",
   "metadata": {},
   "outputs": [],
   "source": []
  },
  {
   "cell_type": "code",
   "execution_count": null,
   "id": "01649560",
   "metadata": {},
   "outputs": [],
   "source": []
  },
  {
   "cell_type": "code",
   "execution_count": null,
   "id": "e24c32ce",
   "metadata": {},
   "outputs": [],
   "source": []
  },
  {
   "cell_type": "code",
   "execution_count": null,
   "id": "7c7f5a27",
   "metadata": {},
   "outputs": [],
   "source": []
  },
  {
   "cell_type": "code",
   "execution_count": null,
   "id": "189189e7",
   "metadata": {},
   "outputs": [],
   "source": []
  }
 ],
 "metadata": {
  "kernelspec": {
   "display_name": "Python 3 (ipykernel)",
   "language": "python",
   "name": "python3"
  },
  "language_info": {
   "codemirror_mode": {
    "name": "ipython",
    "version": 3
   },
   "file_extension": ".py",
   "mimetype": "text/x-python",
   "name": "python",
   "nbconvert_exporter": "python",
   "pygments_lexer": "ipython3",
   "version": "3.9.12"
  },
  "toc": {
   "base_numbering": 1,
   "nav_menu": {},
   "number_sections": true,
   "sideBar": true,
   "skip_h1_title": true,
   "title_cell": "Содержание",
   "title_sidebar": "Contents",
   "toc_cell": true,
   "toc_position": {
    "height": "calc(100% - 180px)",
    "left": "10px",
    "top": "150px",
    "width": "218.273px"
   },
   "toc_section_display": true,
   "toc_window_display": true
  }
 },
 "nbformat": 4,
 "nbformat_minor": 5
}
