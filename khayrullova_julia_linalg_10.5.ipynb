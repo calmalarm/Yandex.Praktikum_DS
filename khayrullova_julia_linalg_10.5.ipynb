{
 "cells": [
  {
   "cell_type": "markdown",
   "metadata": {
    "toc": true
   },
   "source": [
    "<h1>Содержание<span class=\"tocSkip\"></span></h1>\n",
    "<div class=\"toc\"><ul class=\"toc-item\"><li><span><a href=\"#Загрузка-данных\" data-toc-modified-id=\"Загрузка-данных-1\"><span class=\"toc-item-num\">1&nbsp;&nbsp;</span>Загрузка данных</a></span></li><li><span><a href=\"#Умножение-матриц\" data-toc-modified-id=\"Умножение-матриц-2\"><span class=\"toc-item-num\">2&nbsp;&nbsp;</span>Умножение матриц</a></span></li><li><span><a href=\"#Алгоритм-преобразования\" data-toc-modified-id=\"Алгоритм-преобразования-3\"><span class=\"toc-item-num\">3&nbsp;&nbsp;</span>Алгоритм преобразования</a></span></li><li><span><a href=\"#Проверка-алгоритма\" data-toc-modified-id=\"Проверка-алгоритма-4\"><span class=\"toc-item-num\">4&nbsp;&nbsp;</span>Проверка алгоритма</a></span><ul class=\"toc-item\"><li><span><a href=\"#До\" data-toc-modified-id=\"До-4.1\"><span class=\"toc-item-num\">4.1&nbsp;&nbsp;</span>До</a></span></li><li><span><a href=\"#Преобразование\" data-toc-modified-id=\"Преобразование-4.2\"><span class=\"toc-item-num\">4.2&nbsp;&nbsp;</span>Преобразование</a></span></li><li><span><a href=\"#После\" data-toc-modified-id=\"После-4.3\"><span class=\"toc-item-num\">4.3&nbsp;&nbsp;</span>После</a></span></li><li><span><a href=\"#Вывод\" data-toc-modified-id=\"Вывод-4.4\"><span class=\"toc-item-num\">4.4&nbsp;&nbsp;</span>Вывод</a></span></li></ul></li></ul></div>"
   ]
  },
  {
   "cell_type": "markdown",
   "metadata": {},
   "source": [
    "# Защита персональных данных клиентов"
   ]
  },
  {
   "cell_type": "markdown",
   "metadata": {},
   "source": [
    "Нам нужно защитить данные клиентов страховой компании «Хоть потоп». Разработаем такой метод преобразования данных, чтобы по ним было сложно восстановить персональную информацию. Обоснуем корректность его работы.\n",
    "\n",
    "*Нужно защитить данные, чтобы при преобразовании качество моделей машинного обучения не ухудшилось. Подбирать наилучшую модель не требуется."
   ]
  },
  {
   "cell_type": "markdown",
   "metadata": {},
   "source": [
    "План работ:\n",
    "1. Загрузим и изучим данные (`insurance.csv`).\n",
    "2. Ответим на вопрос и обоснуем решение.\n",
    "    Признаки умножают на обратимую матрицу. Изменится ли качество линейной регрессии? (Её можно обучить заново.)\n",
    "        a. Изменится. Приведем примеры матриц.\n",
    "        b. Не изменится. Укажем, как связаны параметры линейной регрессии в исходной задаче и в преобразованной.\n",
    "3. Предложим алгоритм преобразования данных для решения задачи. Обоснуем, почему качество линейной регрессии не поменяется.\n",
    "4. Запрограммируем этот алгоритм, применив матричные операции. Проверим, что качество линейной регрессии из sklearn не отличается до и после преобразования. Применим метрику R2."
   ]
  },
  {
   "cell_type": "markdown",
   "metadata": {},
   "source": [
    "## Загрузка данных"
   ]
  },
  {
   "cell_type": "code",
   "execution_count": 1,
   "metadata": {},
   "outputs": [],
   "source": [
    "import pandas as pd\n",
    "import datetime as dt\n",
    "import numpy as np\n",
    "import os\n",
    "from sklearn.linear_model import LinearRegression\n",
    "from sklearn.metrics import r2_score\n",
    "# from sklearn.metrics import mean_squared_error\n",
    "# import warnings"
   ]
  },
  {
   "cell_type": "code",
   "execution_count": 2,
   "metadata": {},
   "outputs": [
    {
     "data": {
      "text/plain": [
       "'19.07.2022 12:05'"
      ]
     },
     "execution_count": 2,
     "metadata": {},
     "output_type": "execute_result"
    }
   ],
   "source": [
    "dt.datetime.today().strftime(\"%d.%m.%Y %H:%M\")"
   ]
  },
  {
   "cell_type": "code",
   "execution_count": 4,
   "metadata": {},
   "outputs": [],
   "source": [
    "pth1 = '/datasets/'\n",
    "pth2 = ''\n",
    "if os.path.exists(pth1+'insurance.csv'):\n",
    "    df = pd.read_csv(pth1+'insurance.csv')\n",
    "elif os.path.exists(pth2+'insurance.csv'):\n",
    "    df = pd.read_csv(pth2+'insurance.csv')\n",
    "else:\n",
    "    print('Something is wrong')"
   ]
  },
  {
   "cell_type": "code",
   "execution_count": 5,
   "metadata": {},
   "outputs": [
    {
     "name": "stdout",
     "output_type": "stream",
     "text": [
      "<class 'pandas.core.frame.DataFrame'>\n",
      "RangeIndex: 5000 entries, 0 to 4999\n",
      "Data columns (total 5 columns):\n",
      "Пол                  5000 non-null int64\n",
      "Возраст              5000 non-null float64\n",
      "Зарплата             5000 non-null float64\n",
      "Члены семьи          5000 non-null int64\n",
      "Страховые выплаты    5000 non-null int64\n",
      "dtypes: float64(2), int64(3)\n",
      "memory usage: 195.4 KB\n"
     ]
    }
   ],
   "source": [
    "df.info()"
   ]
  },
  {
   "cell_type": "markdown",
   "metadata": {},
   "source": [
    "В таблице 5 столбцов, 5000 строк.\n",
    "<br>Признаки: пол, возраст и зарплата застрахованного, количество членов его семьи.\n",
    "<br>Целевой признак: количество страховых выплат клиенту за последние 5 лет."
   ]
  },
  {
   "cell_type": "code",
   "execution_count": 6,
   "metadata": {},
   "outputs": [
    {
     "data": {
      "text/plain": [
       "Index(['Пол', 'Возраст', 'Зарплата', 'Члены семьи', 'Страховые выплаты'], dtype='object')"
      ]
     },
     "execution_count": 6,
     "metadata": {},
     "output_type": "execute_result"
    }
   ],
   "source": [
    "df.columns"
   ]
  },
  {
   "cell_type": "code",
   "execution_count": 7,
   "metadata": {},
   "outputs": [
    {
     "data": {
      "text/plain": [
       "Index(['sex', 'age', 'salary', 'family_members', 'insurance_payments'], dtype='object')"
      ]
     },
     "execution_count": 7,
     "metadata": {},
     "output_type": "execute_result"
    }
   ],
   "source": [
    "df.columns = ['sex', 'age', 'salary', 'family_members', 'insurance_payments']\n",
    "df.columns"
   ]
  },
  {
   "cell_type": "code",
   "execution_count": 8,
   "metadata": {},
   "outputs": [
    {
     "data": {
      "text/html": [
       "<div>\n",
       "<style scoped>\n",
       "    .dataframe tbody tr th:only-of-type {\n",
       "        vertical-align: middle;\n",
       "    }\n",
       "\n",
       "    .dataframe tbody tr th {\n",
       "        vertical-align: top;\n",
       "    }\n",
       "\n",
       "    .dataframe thead th {\n",
       "        text-align: right;\n",
       "    }\n",
       "</style>\n",
       "<table border=\"1\" class=\"dataframe\">\n",
       "  <thead>\n",
       "    <tr style=\"text-align: right;\">\n",
       "      <th></th>\n",
       "      <th>sex</th>\n",
       "      <th>age</th>\n",
       "      <th>salary</th>\n",
       "      <th>family_members</th>\n",
       "      <th>insurance_payments</th>\n",
       "    </tr>\n",
       "  </thead>\n",
       "  <tbody>\n",
       "    <tr>\n",
       "      <td>sex</td>\n",
       "      <td>1.000000</td>\n",
       "      <td>0.002074</td>\n",
       "      <td>0.014910</td>\n",
       "      <td>-0.008991</td>\n",
       "      <td>0.010140</td>\n",
       "    </tr>\n",
       "    <tr>\n",
       "      <td>age</td>\n",
       "      <td>0.002074</td>\n",
       "      <td>1.000000</td>\n",
       "      <td>-0.019093</td>\n",
       "      <td>-0.006692</td>\n",
       "      <td>0.651030</td>\n",
       "    </tr>\n",
       "    <tr>\n",
       "      <td>salary</td>\n",
       "      <td>0.014910</td>\n",
       "      <td>-0.019093</td>\n",
       "      <td>1.000000</td>\n",
       "      <td>-0.030296</td>\n",
       "      <td>-0.014963</td>\n",
       "    </tr>\n",
       "    <tr>\n",
       "      <td>family_members</td>\n",
       "      <td>-0.008991</td>\n",
       "      <td>-0.006692</td>\n",
       "      <td>-0.030296</td>\n",
       "      <td>1.000000</td>\n",
       "      <td>-0.036290</td>\n",
       "    </tr>\n",
       "    <tr>\n",
       "      <td>insurance_payments</td>\n",
       "      <td>0.010140</td>\n",
       "      <td>0.651030</td>\n",
       "      <td>-0.014963</td>\n",
       "      <td>-0.036290</td>\n",
       "      <td>1.000000</td>\n",
       "    </tr>\n",
       "  </tbody>\n",
       "</table>\n",
       "</div>"
      ],
      "text/plain": [
       "                         sex       age    salary  family_members  \\\n",
       "sex                 1.000000  0.002074  0.014910       -0.008991   \n",
       "age                 0.002074  1.000000 -0.019093       -0.006692   \n",
       "salary              0.014910 -0.019093  1.000000       -0.030296   \n",
       "family_members     -0.008991 -0.006692 -0.030296        1.000000   \n",
       "insurance_payments  0.010140  0.651030 -0.014963       -0.036290   \n",
       "\n",
       "                    insurance_payments  \n",
       "sex                           0.010140  \n",
       "age                           0.651030  \n",
       "salary                       -0.014963  \n",
       "family_members               -0.036290  \n",
       "insurance_payments            1.000000  "
      ]
     },
     "execution_count": 8,
     "metadata": {},
     "output_type": "execute_result"
    }
   ],
   "source": [
    "df.corr()"
   ]
  },
  {
   "cell_type": "markdown",
   "metadata": {},
   "source": [
    "Сильной корреляции между признаками не обнаружено. Но есть средняя корреляция целевого признака с возрастом."
   ]
  },
  {
   "cell_type": "markdown",
   "metadata": {},
   "source": [
    "## Умножение матриц"
   ]
  },
  {
   "cell_type": "markdown",
   "metadata": {},
   "source": [
    "Ответим на вопрос и обоснуем решение.\n",
    "\n",
    "Признаки умножают на *обратимую* матрицу. Изменится ли качество линейной регрессии? (Её можно обучить заново.)"
   ]
  },
  {
   "cell_type": "markdown",
   "metadata": {},
   "source": [
    "Обозначения:\n",
    "\n",
    "- $X$ — матрица признаков (нулевой столбец состоит из единиц)\n",
    "\n",
    "- $y$ — вектор целевого признака\n",
    "\n",
    "- $P$ — матрица, на которую умножаются признаки\n",
    "\n",
    "- $w$ — вектор весов линейной регрессии (нулевой элемент равен сдвигу)"
   ]
  },
  {
   "cell_type": "markdown",
   "metadata": {},
   "source": [
    "Предсказания:\n",
    "\n",
    "$$\n",
    "a = Xw\n",
    "$$\n",
    "\n",
    "Задача обучения:\n",
    "\n",
    "$$\n",
    "w = \\arg\\min_w MSE(Xw, y)\n",
    "$$\n",
    "\n",
    "Формула обучения:\n",
    "\n",
    "$$\n",
    "w = (X^T X)^{-1} X^T y\n",
    "$$\n"
   ]
  },
  {
   "cell_type": "markdown",
   "metadata": {},
   "source": [
    "**Ответ: не изменится.**\n",
    "\n",
    "**Обоснование:**\n",
    "\n",
    "До преобразования:\n",
    "$$\n",
    "MSE=||y-Xw||^2\n",
    "$$\n",
    "После преобразования:\n",
    "$$\n",
    "MSE_2=||y-X_2w_2||^2,\n",
    "$$\n",
    "\n",
    "где \n",
    "\\begin{equation}\n",
    "X_2 = X P,\n",
    "\\end{equation}\n",
    "<br><br>\n",
    "$$\n",
    "w_2=(X_2^T X_2)^{-1} X_2^T y = ((XP)^T XP)^{-1} (XP)^T y =\n",
    "$$\n",
    "\n",
    "$$\n",
    "= (P^T X^T X P)^{-1} P^T X^T y = (X^T X P)^{-1} (P^T)^{-1} P^T X^T y = \n",
    "$$\n",
    "\n",
    "$$\n",
    "= (X^T X P)^{-1} ((P^T)^{-1} P^T) X^T y = (X^T X P)^{-1} E X^T y = \n",
    "$$\n",
    "\n",
    "$$\n",
    "= (X^T X P)^{-1} X^T y = P^{-1} ((X^T X)^{-1} X^T y) = P^{-1} w\n",
    "$$\n",
    "\n",
    "$$\n",
    "w_2 = P^{-1} w\n",
    "$$\n",
    "\n",
    "Можно вывести $w_2$ по-другому. Предсказания должны остаться прежними, чтобы качество регрессии не изменилось:\n",
    "\n",
    "$$\n",
    "a = X_2 w_2\n",
    "$$\n",
    "$$\n",
    "X w = X P w_2\n",
    "$$\n",
    "$$\n",
    "w = P w_2\n",
    "$$\n",
    "$$\n",
    "P^{-1} w = P^{-1} P w_2\n",
    "$$\n",
    "$$\n",
    "P^{-1} w = w_2\n",
    "$$\n",
    "\n",
    "Таким образом, \n",
    "$$\n",
    "MSE_2 = ||y - (XP) (P^{-1}w)||^2 = \n",
    "$$\n",
    "$$\n",
    "= ||y - X (P P^{-1}) w||^2 = ||y - X E w||^2 = \n",
    "$$\n",
    "$$\n",
    "= ||y-Xw||^2 = MSE\n",
    "$$"
   ]
  },
  {
   "cell_type": "markdown",
   "metadata": {},
   "source": [
    "<div class=\"alert alert-success\">\n",
    "<b>✔️ Комментарий ревьювера:</b> Доказательство верное и хорошо оформлено!\n",
    "    \n",
    "Матрицы $P^T$ и $P$ извлены из-за скобок правильно. Молодец, что не раскрываешь скобки в выражении $(X^T X)^{-1}$, так как матрицы $X$ и $X^T$ прямоугольные и для них не существует обратных матриц.  \n",
    "    \n",
    "Многие делают ошибку в этом месте =)\n",
    "\n",
    "</div>"
   ]
  },
  {
   "cell_type": "markdown",
   "metadata": {},
   "source": [
    "## Алгоритм преобразования"
   ]
  },
  {
   "cell_type": "markdown",
   "metadata": {},
   "source": [
    "Предложите алгоритм преобразования данных для решения задачи. Обоснуйте, почему качество линейной регрессии не поменяется."
   ]
  },
  {
   "cell_type": "markdown",
   "metadata": {},
   "source": [
    "**Алгоритм**\n",
    "\n",
    "Cгенерируем случайную матрицу P подходящей размерности функцией `numpy.random.normal()` *(необратимые матрицы встречаются редко, вероятность получить необратимую матрицу близка к нулю)*, проверим её на обратимость функцией `numpy.linalg.inv()`. Умножим исходную матрицу X на сгенерированную P."
   ]
  },
  {
   "cell_type": "markdown",
   "metadata": {},
   "source": [
    "**Обоснование**\n",
    "\n",
    "При таком преобразовании исходные данные восстановить будет трудно (или невозможно), не зная матрицу P, а качество регрессии не должно измениться, как было показано в п.2 выше."
   ]
  },
  {
   "cell_type": "markdown",
   "metadata": {},
   "source": [
    "## Проверка алгоритма"
   ]
  },
  {
   "cell_type": "code",
   "execution_count": 9,
   "metadata": {},
   "outputs": [],
   "source": [
    "features = df.drop('insurance_payments', axis=1)\n",
    "target = df['insurance_payments']\n",
    "\n",
    "model = LinearRegression()"
   ]
  },
  {
   "cell_type": "markdown",
   "metadata": {},
   "source": [
    "### До"
   ]
  },
  {
   "cell_type": "code",
   "execution_count": 10,
   "metadata": {},
   "outputs": [
    {
     "name": "stdout",
     "output_type": "stream",
     "text": [
      "0.4249455028666801\n"
     ]
    }
   ],
   "source": [
    "model.fit(features, target)\n",
    "predictions = model.predict(features)\n",
    "print(r2_score(target, predictions))"
   ]
  },
  {
   "cell_type": "markdown",
   "metadata": {},
   "source": [
    "### Преобразование"
   ]
  },
  {
   "cell_type": "code",
   "execution_count": 11,
   "metadata": {},
   "outputs": [],
   "source": [
    "X = np.concatenate((np.ones((features.shape[0], 1)), features), axis=1)\n",
    "# y = target"
   ]
  },
  {
   "cell_type": "code",
   "execution_count": 12,
   "metadata": {},
   "outputs": [
    {
     "data": {
      "text/plain": [
       "array([[-0.11470648, -0.0272842 , -0.7586535 , -0.42400872,  0.61477198],\n",
       "       [-2.51162664,  0.56760216, -0.3757745 , -0.18032687, -0.74563026],\n",
       "       [-1.34136316,  0.45119326, -0.45708499, -1.13024666, -0.59009744],\n",
       "       [-0.72963929, -2.77682043,  0.60095691,  0.53874594, -1.95618685],\n",
       "       [ 0.01709314, -0.64815485,  1.72419958,  0.67256006, -1.27844223]])"
      ]
     },
     "execution_count": 12,
     "metadata": {},
     "output_type": "execute_result"
    }
   ],
   "source": [
    "rs = np.random.RandomState(np.random.MT19937(np.random.SeedSequence(4754879254)))\n",
    "\n",
    "P = rs.normal(size=(X.shape[1],X.shape[1]))\n",
    "P"
   ]
  },
  {
   "cell_type": "code",
   "execution_count": 13,
   "metadata": {},
   "outputs": [
    {
     "data": {
      "text/plain": [
       "array([[-1.5345849 , -0.51381199,  0.26666397,  0.1313084 , -0.76227732],\n",
       "       [-1.58347934,  0.03593056,  0.15583681, -0.17497619, -0.58660642],\n",
       "       [ 2.28831147,  0.04907871, -0.03519395, -0.42332447,  1.73575681],\n",
       "       [-1.3776418 ,  0.45723499, -0.83208189,  0.15404688, -0.78079314],\n",
       "       [ 3.14372264,  0.2816461 , -0.56064693, -0.39941887,  1.43521775]])"
      ]
     },
     "metadata": {},
     "output_type": "display_data"
    }
   ],
   "source": [
    "try:\n",
    "    P_inv = np.linalg.inv(P)\n",
    "    display(P_inv)\n",
    "except LinAlgError:\n",
    "    print('P is not square or inversion fails! Try again')"
   ]
  },
  {
   "cell_type": "code",
   "execution_count": 14,
   "metadata": {},
   "outputs": [
    {
     "data": {
      "text/plain": [
       "array([[ -36247.71397652, -137711.90213731,   29789.31195201,\n",
       "          26675.52654068,  -97052.47087632],\n",
       "       [ -27788.09338698, -105499.09680948,   22816.3021622 ,\n",
       "          20420.60277581,  -74362.90831512],\n",
       "       [ -15361.43935481,  -58300.17166567,   12606.08096176,\n",
       "          11280.46349571,  -41096.42182786]])"
      ]
     },
     "execution_count": 14,
     "metadata": {},
     "output_type": "execute_result"
    }
   ],
   "source": [
    "X2 = X @ P\n",
    "X2[:3,:]"
   ]
  },
  {
   "cell_type": "code",
   "execution_count": 15,
   "metadata": {},
   "outputs": [
    {
     "data": {
      "text/html": [
       "<div>\n",
       "<style scoped>\n",
       "    .dataframe tbody tr th:only-of-type {\n",
       "        vertical-align: middle;\n",
       "    }\n",
       "\n",
       "    .dataframe tbody tr th {\n",
       "        vertical-align: top;\n",
       "    }\n",
       "\n",
       "    .dataframe thead th {\n",
       "        text-align: right;\n",
       "    }\n",
       "</style>\n",
       "<table border=\"1\" class=\"dataframe\">\n",
       "  <thead>\n",
       "    <tr style=\"text-align: right;\">\n",
       "      <th></th>\n",
       "      <th>sex</th>\n",
       "      <th>age</th>\n",
       "      <th>salary</th>\n",
       "      <th>family_members</th>\n",
       "    </tr>\n",
       "  </thead>\n",
       "  <tbody>\n",
       "    <tr>\n",
       "      <td>0</td>\n",
       "      <td>-137711.902137</td>\n",
       "      <td>29789.311952</td>\n",
       "      <td>26675.526541</td>\n",
       "      <td>-97052.470876</td>\n",
       "    </tr>\n",
       "    <tr>\n",
       "      <td>1</td>\n",
       "      <td>-105499.096809</td>\n",
       "      <td>22816.302162</td>\n",
       "      <td>20420.602776</td>\n",
       "      <td>-74362.908315</td>\n",
       "    </tr>\n",
       "    <tr>\n",
       "      <td>2</td>\n",
       "      <td>-58300.171666</td>\n",
       "      <td>12606.080962</td>\n",
       "      <td>11280.463496</td>\n",
       "      <td>-41096.421828</td>\n",
       "    </tr>\n",
       "  </tbody>\n",
       "</table>\n",
       "</div>"
      ],
      "text/plain": [
       "             sex           age        salary  family_members\n",
       "0 -137711.902137  29789.311952  26675.526541   -97052.470876\n",
       "1 -105499.096809  22816.302162  20420.602776   -74362.908315\n",
       "2  -58300.171666  12606.080962  11280.463496   -41096.421828"
      ]
     },
     "execution_count": 15,
     "metadata": {},
     "output_type": "execute_result"
    }
   ],
   "source": [
    "features2 = pd.DataFrame(X2[:,1:], columns=features.columns)\n",
    "features2.head(3)"
   ]
  },
  {
   "cell_type": "markdown",
   "metadata": {},
   "source": [
    "### После"
   ]
  },
  {
   "cell_type": "code",
   "execution_count": 16,
   "metadata": {},
   "outputs": [
    {
     "name": "stdout",
     "output_type": "stream",
     "text": [
      "0.42494550286668276\n"
     ]
    }
   ],
   "source": [
    "model.fit(features2, target)\n",
    "predictions = model.predict(features2)\n",
    "print(r2_score(target, predictions))"
   ]
  },
  {
   "cell_type": "markdown",
   "metadata": {},
   "source": [
    "### Вывод"
   ]
  },
  {
   "cell_type": "markdown",
   "metadata": {},
   "source": [
    "`0.4249455028666801`\n",
    "<br>`0.42494550286668276`\n",
    "\n",
    "R2 совпали до 15-го знака после запятой. Можно считать, что качество линейной регрессии не изменилось. Эксперимент подтвердил полученный в теории ответ."
   ]
  },
  {
   "cell_type": "code",
   "execution_count": 17,
   "metadata": {},
   "outputs": [
    {
     "data": {
      "text/plain": [
       "'19.07.2022 12:06'"
      ]
     },
     "execution_count": 17,
     "metadata": {},
     "output_type": "execute_result"
    }
   ],
   "source": [
    "dt.datetime.today().strftime(\"%d.%m.%Y %H:%M\")"
   ]
  }
 ],
 "metadata": {
  "ExecuteTimeLog": [
   {
    "duration": 1349,
    "start_time": "2022-07-18T18:02:41.827Z"
   },
   {
    "duration": 8,
    "start_time": "2022-07-18T18:02:43.178Z"
   },
   {
    "duration": 6,
    "start_time": "2022-07-18T18:02:43.188Z"
   },
   {
    "duration": 92,
    "start_time": "2022-07-18T18:02:43.195Z"
   },
   {
    "duration": 13,
    "start_time": "2022-07-18T18:02:43.288Z"
   },
   {
    "duration": 9,
    "start_time": "2022-07-18T18:02:43.303Z"
   },
   {
    "duration": 8,
    "start_time": "2022-07-18T18:02:43.314Z"
   },
   {
    "duration": 9,
    "start_time": "2022-07-18T18:02:43.324Z"
   },
   {
    "duration": 23,
    "start_time": "2022-07-18T18:02:43.334Z"
   },
   {
    "duration": 93,
    "start_time": "2022-07-18T18:02:43.359Z"
   },
   {
    "duration": 111,
    "start_time": "2022-07-18T18:02:43.454Z"
   },
   {
    "duration": 9,
    "start_time": "2022-07-18T18:02:43.567Z"
   },
   {
    "duration": 73,
    "start_time": "2022-07-18T18:02:43.577Z"
   },
   {
    "duration": 100,
    "start_time": "2022-07-18T18:02:43.652Z"
   },
   {
    "duration": 18,
    "start_time": "2022-07-18T18:02:43.755Z"
   },
   {
    "duration": 104,
    "start_time": "2022-07-18T18:02:43.845Z"
   }
  ],
  "kernelspec": {
   "display_name": "Python 3 (ipykernel)",
   "language": "python",
   "name": "python3"
  },
  "language_info": {
   "codemirror_mode": {
    "name": "ipython",
    "version": 3
   },
   "file_extension": ".py",
   "mimetype": "text/x-python",
   "name": "python",
   "nbconvert_exporter": "python",
   "pygments_lexer": "ipython3",
   "version": "3.7.8"
  },
  "toc": {
   "base_numbering": 1,
   "nav_menu": {},
   "number_sections": true,
   "sideBar": true,
   "skip_h1_title": true,
   "title_cell": "Содержание",
   "title_sidebar": "Contents",
   "toc_cell": true,
   "toc_position": {
    "height": "calc(100% - 180px)",
    "left": "10px",
    "top": "150px",
    "width": "165px"
   },
   "toc_section_display": true,
   "toc_window_display": true
  }
 },
 "nbformat": 4,
 "nbformat_minor": 2
}
