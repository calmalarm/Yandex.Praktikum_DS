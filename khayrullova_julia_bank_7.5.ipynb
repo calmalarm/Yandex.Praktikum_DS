{
 "cells": [
  {
   "cell_type": "markdown",
   "id": "e4808c52",
   "metadata": {
    "toc": true
   },
   "source": [
    "<h1>Содержание<span class=\"tocSkip\"></span></h1>\n",
    "<div class=\"toc\"><ul class=\"toc-item\"><li><span><a href=\"#Изучение-данных\" data-toc-modified-id=\"Изучение-данных-1\"><span class=\"toc-item-num\">1&nbsp;&nbsp;</span>Изучение данных</a></span></li><li><span><a href=\"#Предобработка-данных\" data-toc-modified-id=\"Предобработка-данных-2\"><span class=\"toc-item-num\">2&nbsp;&nbsp;</span>Предобработка данных</a></span></li><li><span><a href=\"#Подготовка-признаков\" data-toc-modified-id=\"Подготовка-признаков-3\"><span class=\"toc-item-num\">3&nbsp;&nbsp;</span>Подготовка признаков</a></span></li><li><span><a href=\"#Обучение-без-учёта-дисбаланса-классов\" data-toc-modified-id=\"Обучение-без-учёта-дисбаланса-классов-4\"><span class=\"toc-item-num\">4&nbsp;&nbsp;</span>Обучение без учёта дисбаланса классов</a></span><ul class=\"toc-item\"><li><span><a href=\"#Случайный-лес\" data-toc-modified-id=\"Случайный-лес-4.1\"><span class=\"toc-item-num\">4.1&nbsp;&nbsp;</span>Случайный лес</a></span></li><li><span><a href=\"#Логистическая-регрессия\" data-toc-modified-id=\"Логистическая-регрессия-4.2\"><span class=\"toc-item-num\">4.2&nbsp;&nbsp;</span>Логистическая регрессия</a></span></li></ul></li><li><span><a href=\"#Обучение-с-учётом-дисбаланса\" data-toc-modified-id=\"Обучение-с-учётом-дисбаланса-5\"><span class=\"toc-item-num\">5&nbsp;&nbsp;</span>Обучение с учётом дисбаланса</a></span><ul class=\"toc-item\"><li><span><a href=\"#class_weight='balanced'\" data-toc-modified-id=\"class_weight='balanced'-5.1\"><span class=\"toc-item-num\">5.1&nbsp;&nbsp;</span><code>class_weight='balanced'</code></a></span><ul class=\"toc-item\"><li><span><a href=\"#Случайный-лес\" data-toc-modified-id=\"Случайный-лес-5.1.1\"><span class=\"toc-item-num\">5.1.1&nbsp;&nbsp;</span>Случайный лес</a></span></li><li><span><a href=\"#Логистическая-регрессия\" data-toc-modified-id=\"Логистическая-регрессия-5.1.2\"><span class=\"toc-item-num\">5.1.2&nbsp;&nbsp;</span>Логистическая регрессия</a></span></li></ul></li><li><span><a href=\"#Upsampling-&amp;-downsampling\" data-toc-modified-id=\"Upsampling-&amp;-downsampling-5.2\"><span class=\"toc-item-num\">5.2&nbsp;&nbsp;</span>Upsampling &amp; downsampling</a></span><ul class=\"toc-item\"><li><span><a href=\"#Случайный-лес\" data-toc-modified-id=\"Случайный-лес-5.2.1\"><span class=\"toc-item-num\">5.2.1&nbsp;&nbsp;</span>Случайный лес</a></span></li><li><span><a href=\"#Логистическая-регрессия\" data-toc-modified-id=\"Логистическая-регрессия-5.2.2\"><span class=\"toc-item-num\">5.2.2&nbsp;&nbsp;</span>Логистическая регрессия</a></span></li><li><span><a href=\"#Метод-k-ближайших-соседей\" data-toc-modified-id=\"Метод-k-ближайших-соседей-5.2.3\"><span class=\"toc-item-num\">5.2.3&nbsp;&nbsp;</span>Метод k ближайших соседей</a></span></li></ul></li></ul></li><li><span><a href=\"#Тестирование-моделей\" data-toc-modified-id=\"Тестирование-моделей-6\"><span class=\"toc-item-num\">6&nbsp;&nbsp;</span>Тестирование моделей</a></span></li><li><span><a href=\"#Вывод\" data-toc-modified-id=\"Вывод-7\"><span class=\"toc-item-num\">7&nbsp;&nbsp;</span>Вывод</a></span></li></ul></div>"
   ]
  },
  {
   "cell_type": "markdown",
   "id": "dabcee1e",
   "metadata": {},
   "source": [
    "# Отток клиентов\n",
    "\n",
    "**Цель**: спрогнозировать, уйдёт клиент из банка в ближайшее время или нет.\n",
    "\n",
    "У нас имеются исторические данные о поведении клиентов и расторжении договоров с банком. Построим модель с предельно большим значением F1-меры (нужно довести метрику до 0.59). Дополнительно измерим AUC-ROC и сравним её значение с F1-мерой.\n",
    "\n",
    "Данные находятся в файле `Churn.csv`"
   ]
  },
  {
   "cell_type": "markdown",
   "id": "4e271330",
   "metadata": {},
   "source": [
    "**План работ**\n",
    "1. Загрузим и подготовим данные. Поясним порядок действий.\n",
    "2. Исследуйем баланс классов, обучим модель без учёта дисбаланса. Кратко опишем выводы.\n",
    "3. Улучшим качество модели, учитывая дисбаланс классов. Обучим разные модели и найдем лучшую. Кратко опишем выводы.\n",
    "4. Проведем финальное тестирование."
   ]
  },
  {
   "cell_type": "markdown",
   "id": "e8dd8389",
   "metadata": {},
   "source": [
    "## Изучение данных"
   ]
  },
  {
   "cell_type": "code",
   "execution_count": 1,
   "id": "509b4562",
   "metadata": {},
   "outputs": [],
   "source": [
    "#!pip install -Iv scikit-learn==0.22 --user"
   ]
  },
  {
   "cell_type": "code",
   "execution_count": 2,
   "id": "cb4a09b3",
   "metadata": {},
   "outputs": [],
   "source": [
    "import pandas as pd\n",
    "import matplotlib.pyplot as plt\n",
    "import datetime as dt\n",
    "import seaborn as sns\n",
    "import os\n",
    "#from catboost import CatBoostClassifier, Pool\n",
    "import sklearn as sk\n",
    "from sklearn.linear_model import LogisticRegression\n",
    "from sklearn.ensemble import RandomForestClassifier\n",
    "from sklearn.neighbors import KNeighborsClassifier\n",
    "from sklearn.model_selection import train_test_split\n",
    "from sklearn.model_selection import GridSearchCV\n",
    "from sklearn.metrics import f1_score\n",
    "from sklearn.metrics import roc_auc_score\n",
    "from sklearn.preprocessing import StandardScaler, MinMaxScaler\n",
    "from sklearn.experimental import enable_iterative_imputer\n",
    "from sklearn.impute import IterativeImputer\n",
    "from sklearn.utils import shuffle\n",
    "import warnings\n",
    "#from random import seed, random\n",
    "#import statistics"
   ]
  },
  {
   "cell_type": "code",
   "execution_count": 3,
   "id": "449d43f9",
   "metadata": {
    "scrolled": true
   },
   "outputs": [
    {
     "data": {
      "text/plain": [
       "'09.06.2022 13:53'"
      ]
     },
     "execution_count": 3,
     "metadata": {},
     "output_type": "execute_result"
    }
   ],
   "source": [
    "dt.datetime.today().strftime(\"%d.%m.%Y %H:%M\")"
   ]
  },
  {
   "cell_type": "code",
   "execution_count": 4,
   "id": "1d982549",
   "metadata": {},
   "outputs": [],
   "source": [
    "warnings.filterwarnings(\"ignore\", category=DeprecationWarning)\n",
    "warnings.filterwarnings(\"ignore\", category=FutureWarning)"
   ]
  },
  {
   "cell_type": "code",
   "execution_count": 5,
   "id": "b609cc07",
   "metadata": {},
   "outputs": [],
   "source": [
    "pth1 = '/datasets/Churn.csv'\n",
    "pth2 = 'Churn.csv'\n",
    "if os.path.exists(pth1):\n",
    "    df = pd.read_csv(pth1)\n",
    "elif os.path.exists(pth2):\n",
    "    df = pd.read_csv(pth2)\n",
    "else:\n",
    "    print('Something is wrong')"
   ]
  },
  {
   "cell_type": "code",
   "execution_count": 6,
   "id": "d687787c",
   "metadata": {},
   "outputs": [
    {
     "name": "stdout",
     "output_type": "stream",
     "text": [
      "<class 'pandas.core.frame.DataFrame'>\n",
      "RangeIndex: 10000 entries, 0 to 9999\n",
      "Data columns (total 14 columns):\n",
      "RowNumber          10000 non-null int64\n",
      "CustomerId         10000 non-null int64\n",
      "Surname            10000 non-null object\n",
      "CreditScore        10000 non-null int64\n",
      "Geography          10000 non-null object\n",
      "Gender             10000 non-null object\n",
      "Age                10000 non-null int64\n",
      "Tenure             9091 non-null float64\n",
      "Balance            10000 non-null float64\n",
      "NumOfProducts      10000 non-null int64\n",
      "HasCrCard          10000 non-null int64\n",
      "IsActiveMember     10000 non-null int64\n",
      "EstimatedSalary    10000 non-null float64\n",
      "Exited             10000 non-null int64\n",
      "dtypes: float64(3), int64(8), object(3)\n",
      "memory usage: 1.1+ MB\n"
     ]
    }
   ],
   "source": [
    "df.info()"
   ]
  },
  {
   "cell_type": "code",
   "execution_count": 7,
   "id": "8be1f5f6",
   "metadata": {},
   "outputs": [
    {
     "data": {
      "text/html": [
       "<div>\n",
       "<style scoped>\n",
       "    .dataframe tbody tr th:only-of-type {\n",
       "        vertical-align: middle;\n",
       "    }\n",
       "\n",
       "    .dataframe tbody tr th {\n",
       "        vertical-align: top;\n",
       "    }\n",
       "\n",
       "    .dataframe thead th {\n",
       "        text-align: right;\n",
       "    }\n",
       "</style>\n",
       "<table border=\"1\" class=\"dataframe\">\n",
       "  <thead>\n",
       "    <tr style=\"text-align: right;\">\n",
       "      <th></th>\n",
       "      <th>RowNumber</th>\n",
       "      <th>CustomerId</th>\n",
       "      <th>Surname</th>\n",
       "      <th>CreditScore</th>\n",
       "      <th>Geography</th>\n",
       "      <th>Gender</th>\n",
       "      <th>Age</th>\n",
       "      <th>Tenure</th>\n",
       "      <th>Balance</th>\n",
       "      <th>NumOfProducts</th>\n",
       "      <th>HasCrCard</th>\n",
       "      <th>IsActiveMember</th>\n",
       "      <th>EstimatedSalary</th>\n",
       "      <th>Exited</th>\n",
       "    </tr>\n",
       "  </thead>\n",
       "  <tbody>\n",
       "    <tr>\n",
       "      <td>0</td>\n",
       "      <td>1</td>\n",
       "      <td>15634602</td>\n",
       "      <td>Hargrave</td>\n",
       "      <td>619</td>\n",
       "      <td>France</td>\n",
       "      <td>Female</td>\n",
       "      <td>42</td>\n",
       "      <td>2.0</td>\n",
       "      <td>0.00</td>\n",
       "      <td>1</td>\n",
       "      <td>1</td>\n",
       "      <td>1</td>\n",
       "      <td>101348.88</td>\n",
       "      <td>1</td>\n",
       "    </tr>\n",
       "    <tr>\n",
       "      <td>1</td>\n",
       "      <td>2</td>\n",
       "      <td>15647311</td>\n",
       "      <td>Hill</td>\n",
       "      <td>608</td>\n",
       "      <td>Spain</td>\n",
       "      <td>Female</td>\n",
       "      <td>41</td>\n",
       "      <td>1.0</td>\n",
       "      <td>83807.86</td>\n",
       "      <td>1</td>\n",
       "      <td>0</td>\n",
       "      <td>1</td>\n",
       "      <td>112542.58</td>\n",
       "      <td>0</td>\n",
       "    </tr>\n",
       "    <tr>\n",
       "      <td>2</td>\n",
       "      <td>3</td>\n",
       "      <td>15619304</td>\n",
       "      <td>Onio</td>\n",
       "      <td>502</td>\n",
       "      <td>France</td>\n",
       "      <td>Female</td>\n",
       "      <td>42</td>\n",
       "      <td>8.0</td>\n",
       "      <td>159660.80</td>\n",
       "      <td>3</td>\n",
       "      <td>1</td>\n",
       "      <td>0</td>\n",
       "      <td>113931.57</td>\n",
       "      <td>1</td>\n",
       "    </tr>\n",
       "    <tr>\n",
       "      <td>3</td>\n",
       "      <td>4</td>\n",
       "      <td>15701354</td>\n",
       "      <td>Boni</td>\n",
       "      <td>699</td>\n",
       "      <td>France</td>\n",
       "      <td>Female</td>\n",
       "      <td>39</td>\n",
       "      <td>1.0</td>\n",
       "      <td>0.00</td>\n",
       "      <td>2</td>\n",
       "      <td>0</td>\n",
       "      <td>0</td>\n",
       "      <td>93826.63</td>\n",
       "      <td>0</td>\n",
       "    </tr>\n",
       "    <tr>\n",
       "      <td>4</td>\n",
       "      <td>5</td>\n",
       "      <td>15737888</td>\n",
       "      <td>Mitchell</td>\n",
       "      <td>850</td>\n",
       "      <td>Spain</td>\n",
       "      <td>Female</td>\n",
       "      <td>43</td>\n",
       "      <td>2.0</td>\n",
       "      <td>125510.82</td>\n",
       "      <td>1</td>\n",
       "      <td>1</td>\n",
       "      <td>1</td>\n",
       "      <td>79084.10</td>\n",
       "      <td>0</td>\n",
       "    </tr>\n",
       "  </tbody>\n",
       "</table>\n",
       "</div>"
      ],
      "text/plain": [
       "   RowNumber  CustomerId   Surname  CreditScore Geography  Gender  Age  \\\n",
       "0          1    15634602  Hargrave          619    France  Female   42   \n",
       "1          2    15647311      Hill          608     Spain  Female   41   \n",
       "2          3    15619304      Onio          502    France  Female   42   \n",
       "3          4    15701354      Boni          699    France  Female   39   \n",
       "4          5    15737888  Mitchell          850     Spain  Female   43   \n",
       "\n",
       "   Tenure    Balance  NumOfProducts  HasCrCard  IsActiveMember  \\\n",
       "0     2.0       0.00              1          1               1   \n",
       "1     1.0   83807.86              1          0               1   \n",
       "2     8.0  159660.80              3          1               0   \n",
       "3     1.0       0.00              2          0               0   \n",
       "4     2.0  125510.82              1          1               1   \n",
       "\n",
       "   EstimatedSalary  Exited  \n",
       "0        101348.88       1  \n",
       "1        112542.58       0  \n",
       "2        113931.57       1  \n",
       "3         93826.63       0  \n",
       "4         79084.10       0  "
      ]
     },
     "execution_count": 7,
     "metadata": {},
     "output_type": "execute_result"
    }
   ],
   "source": [
    "df.head(5)"
   ]
  },
  {
   "cell_type": "markdown",
   "id": "0e55a499",
   "metadata": {},
   "source": [
    "В таблице 14 столбцов, 10000 строк. Пропуски есть только в столбце `tenure`."
   ]
  },
  {
   "cell_type": "markdown",
   "id": "e9e6642d",
   "metadata": {},
   "source": [
    "Согласно документации:\n",
    "\n",
    "`RowNumber` — индекс строки в данных;\n",
    "<br>`CustomerId` — уникальный идентификатор клиента;\n",
    "<br>`Surname` — фамилия;\n",
    "<br>`CreditScore` — кредитный рейтинг;\n",
    "<br>`Geography` — страна проживания;\n",
    "<br>`Gender` — пол;\n",
    "<br>`Age` — возраст;\n",
    "<br>`Tenure` — сколько лет человек является клиентом банка;\n",
    "<br>`Balance` — баланс на счёте;\n",
    "<br>`NumOfProducts` — количество продуктов банка, используемых клиентом;\n",
    "<br>`HasCrCard` — наличие кредитной карты;\n",
    "<br>`IsActiveMember` — активность клиента;\n",
    "<br>`EstimatedSalary` — предполагаемая зарплата;\n",
    "\n",
    "`Exited` — факт ухода клиента (целевой признак)."
   ]
  },
  {
   "cell_type": "markdown",
   "id": "eaa7cafe",
   "metadata": {},
   "source": [
    "## Предобработка данных"
   ]
  },
  {
   "cell_type": "markdown",
   "id": "18b8b5e8",
   "metadata": {},
   "source": [
    "Столбцы именованы в стиле `CamelCase`, приведём к `snake_case`."
   ]
  },
  {
   "cell_type": "code",
   "execution_count": 8,
   "id": "39acf937",
   "metadata": {},
   "outputs": [
    {
     "data": {
      "text/plain": [
       "Index(['row_number', 'customer_id', 'surname', 'credit_score', 'geography',\n",
       "       'gender', 'age', 'tenure', 'balance', 'num_of_products',\n",
       "       'has_credit_card', 'is_active_member', 'estimated_salary', 'exited'],\n",
       "      dtype='object')"
      ]
     },
     "execution_count": 8,
     "metadata": {},
     "output_type": "execute_result"
    }
   ],
   "source": [
    "df.columns = [ 'row_number', 'customer_id', 'surname', 'credit_score', 'geography', 'gender', 'age', 'tenure', \n",
    "              'balance', 'num_of_products', 'has_credit_card', 'is_active_member', 'estimated_salary', 'exited' ]\n",
    "df.columns"
   ]
  },
  {
   "cell_type": "markdown",
   "id": "b10d635d",
   "metadata": {},
   "source": [
    "Проверим пропуски в `tenure`."
   ]
  },
  {
   "cell_type": "code",
   "execution_count": 9,
   "id": "63c44af8",
   "metadata": {},
   "outputs": [
    {
     "data": {
      "text/plain": [
       "1.0     952\n",
       "2.0     950\n",
       "8.0     933\n",
       "3.0     928\n",
       "5.0     927\n",
       "7.0     925\n",
       "NaN     909\n",
       "4.0     885\n",
       "9.0     882\n",
       "6.0     881\n",
       "10.0    446\n",
       "0.0     382\n",
       "Name: tenure, dtype: int64"
      ]
     },
     "execution_count": 9,
     "metadata": {},
     "output_type": "execute_result"
    }
   ],
   "source": [
    "df['tenure'].value_counts(dropna=False)"
   ]
  },
  {
   "cell_type": "markdown",
   "id": "53abcaa8",
   "metadata": {},
   "source": [
    "Это почти 10% данных, поэтому удалять их не хотелось бы. Нужно заполнить пропуски."
   ]
  },
  {
   "cell_type": "markdown",
   "id": "760a6098",
   "metadata": {},
   "source": [
    "*Не смогла использовать алгоритм заполнения по k ближайшим соседям `KNNImputer`, т.к. он появился в sklearn v0.22, а в окружении Практикума указана версия 0.21.2. Пробовала обновить версию, но не получилось. (Anaconda)*"
   ]
  },
  {
   "cell_type": "code",
   "execution_count": 10,
   "id": "afc91b62",
   "metadata": {},
   "outputs": [
    {
     "data": {
      "text/plain": [
       "'0.21.2'"
      ]
     },
     "execution_count": 10,
     "metadata": {},
     "output_type": "execute_result"
    }
   ],
   "source": [
    "#imputer = imp.KNNImputer(n_neighbors=2, weights=\"uniform\")\n",
    "#df['tenure'] = imputer.fit_transform(df[['tenure']])\n",
    "sk.__version__"
   ]
  },
  {
   "cell_type": "markdown",
   "id": "5bd0f475",
   "metadata": {},
   "source": [
    "<div class=\"alert alert-block alert-success\">\n",
    "<b>Комментарий ревьюера👍:</b> Из-за того, что в хабе предустановлены библиотеки, то к сожалению бывают такие косяки =( Изменить версию не получится\n",
    "</div>"
   ]
  },
  {
   "cell_type": "markdown",
   "id": "ed49b156",
   "metadata": {},
   "source": [
    "Используем `IterativeImputer`."
   ]
  },
  {
   "cell_type": "code",
   "execution_count": 11,
   "id": "518b8ecd",
   "metadata": {},
   "outputs": [
    {
     "data": {
      "text/plain": [
       "1.000000    952\n",
       "2.000000    950\n",
       "8.000000    933\n",
       "3.000000    928\n",
       "5.000000    927\n",
       "           ... \n",
       "5.032477      1\n",
       "5.041131      1\n",
       "5.028779      1\n",
       "4.969563      1\n",
       "5.001389      1\n",
       "Name: tenure, Length: 920, dtype: int64"
      ]
     },
     "execution_count": 11,
     "metadata": {},
     "output_type": "execute_result"
    }
   ],
   "source": [
    "numeric = [ 'credit_score', 'age', 'tenure', 'balance', 'num_of_products', 'estimated_salary'\n",
    "          , 'has_credit_card', 'is_active_member' ]\n",
    "imputer = IterativeImputer()\n",
    "df[numeric] = imputer.fit_transform(df[numeric])\n",
    "df['tenure'].value_counts(dropna=False)"
   ]
  },
  {
   "cell_type": "markdown",
   "id": "09a37eb9",
   "metadata": {},
   "source": [
    "Проверим дубли."
   ]
  },
  {
   "cell_type": "code",
   "execution_count": 12,
   "id": "2623528f",
   "metadata": {},
   "outputs": [
    {
     "data": {
      "text/plain": [
       "0"
      ]
     },
     "execution_count": 12,
     "metadata": {},
     "output_type": "execute_result"
    }
   ],
   "source": [
    "df.duplicated().sum()"
   ]
  },
  {
   "cell_type": "markdown",
   "id": "ecc88b0b",
   "metadata": {},
   "source": [
    "Столбцы `row_number`, `customer_id`, `surname` нельзя/нецелесообразно использовать для обучения модели, удалим их."
   ]
  },
  {
   "cell_type": "code",
   "execution_count": 13,
   "id": "e1c75f84",
   "metadata": {},
   "outputs": [],
   "source": [
    "df = df.drop(columns=[  'row_number', 'customer_id', 'surname'])"
   ]
  },
  {
   "cell_type": "code",
   "execution_count": 14,
   "id": "4d7a4fe4",
   "metadata": {},
   "outputs": [
    {
     "name": "stdout",
     "output_type": "stream",
     "text": [
      "<class 'pandas.core.frame.DataFrame'>\n",
      "RangeIndex: 10000 entries, 0 to 9999\n",
      "Data columns (total 11 columns):\n",
      "credit_score        10000 non-null float64\n",
      "geography           10000 non-null object\n",
      "gender              10000 non-null object\n",
      "age                 10000 non-null float64\n",
      "tenure              10000 non-null float64\n",
      "balance             10000 non-null float64\n",
      "num_of_products     10000 non-null float64\n",
      "has_credit_card     10000 non-null float64\n",
      "is_active_member    10000 non-null float64\n",
      "estimated_salary    10000 non-null float64\n",
      "exited              10000 non-null int64\n",
      "dtypes: float64(8), int64(1), object(2)\n",
      "memory usage: 859.5+ KB\n"
     ]
    }
   ],
   "source": [
    "df.info()"
   ]
  },
  {
   "cell_type": "markdown",
   "id": "613ff336",
   "metadata": {},
   "source": [
    "Остаётся 10 признаков и 1 целевой признак.\n",
    "\n",
    "Проверим данные в остальных столбцах."
   ]
  },
  {
   "cell_type": "code",
   "execution_count": 15,
   "id": "cc434131",
   "metadata": {},
   "outputs": [
    {
     "data": {
      "text/plain": [
       "count    10000.000000\n",
       "mean       650.528800\n",
       "std         96.653299\n",
       "min        350.000000\n",
       "25%        584.000000\n",
       "50%        652.000000\n",
       "75%        718.000000\n",
       "max        850.000000\n",
       "Name: credit_score, dtype: float64"
      ]
     },
     "execution_count": 15,
     "metadata": {},
     "output_type": "execute_result"
    }
   ],
   "source": [
    "df.credit_score.describe()"
   ]
  },
  {
   "cell_type": "code",
   "execution_count": 16,
   "id": "4c11867a",
   "metadata": {},
   "outputs": [
    {
     "data": {
      "text/plain": [
       "France     5014\n",
       "Germany    2509\n",
       "Spain      2477\n",
       "Name: geography, dtype: int64"
      ]
     },
     "execution_count": 16,
     "metadata": {},
     "output_type": "execute_result"
    }
   ],
   "source": [
    "df.geography.value_counts()"
   ]
  },
  {
   "cell_type": "code",
   "execution_count": 17,
   "id": "e5293631",
   "metadata": {},
   "outputs": [
    {
     "data": {
      "text/plain": [
       "Male      5457\n",
       "Female    4543\n",
       "Name: gender, dtype: int64"
      ]
     },
     "execution_count": 17,
     "metadata": {},
     "output_type": "execute_result"
    }
   ],
   "source": [
    "df.gender.value_counts()"
   ]
  },
  {
   "cell_type": "code",
   "execution_count": 18,
   "id": "67f76f12",
   "metadata": {},
   "outputs": [
    {
     "data": {
      "text/plain": [
       "count    10000.000000\n",
       "mean        38.921800\n",
       "std         10.487806\n",
       "min         18.000000\n",
       "25%         32.000000\n",
       "50%         37.000000\n",
       "75%         44.000000\n",
       "max         92.000000\n",
       "Name: age, dtype: float64"
      ]
     },
     "execution_count": 18,
     "metadata": {},
     "output_type": "execute_result"
    }
   ],
   "source": [
    "df.age.describe()"
   ]
  },
  {
   "cell_type": "code",
   "execution_count": 19,
   "id": "96cc3821",
   "metadata": {},
   "outputs": [
    {
     "data": {
      "text/plain": [
       "count     10000.000000\n",
       "mean      76485.889288\n",
       "std       62397.405202\n",
       "min           0.000000\n",
       "25%           0.000000\n",
       "50%       97198.540000\n",
       "75%      127644.240000\n",
       "max      250898.090000\n",
       "Name: balance, dtype: float64"
      ]
     },
     "execution_count": 19,
     "metadata": {},
     "output_type": "execute_result"
    }
   ],
   "source": [
    "df.balance.describe()"
   ]
  },
  {
   "cell_type": "code",
   "execution_count": 20,
   "id": "3f1e5c5c",
   "metadata": {},
   "outputs": [
    {
     "data": {
      "text/plain": [
       "1.0    5084\n",
       "2.0    4590\n",
       "3.0     266\n",
       "4.0      60\n",
       "Name: num_of_products, dtype: int64"
      ]
     },
     "execution_count": 20,
     "metadata": {},
     "output_type": "execute_result"
    }
   ],
   "source": [
    "df.num_of_products.value_counts()"
   ]
  },
  {
   "cell_type": "code",
   "execution_count": 21,
   "id": "4aecadd3",
   "metadata": {},
   "outputs": [
    {
     "data": {
      "text/plain": [
       "1.0    7055\n",
       "0.0    2945\n",
       "Name: has_credit_card, dtype: int64"
      ]
     },
     "execution_count": 21,
     "metadata": {},
     "output_type": "execute_result"
    }
   ],
   "source": [
    "df.has_credit_card.value_counts()"
   ]
  },
  {
   "cell_type": "code",
   "execution_count": 22,
   "id": "18d19f3e",
   "metadata": {},
   "outputs": [
    {
     "data": {
      "text/plain": [
       "1.0    5151\n",
       "0.0    4849\n",
       "Name: is_active_member, dtype: int64"
      ]
     },
     "execution_count": 22,
     "metadata": {},
     "output_type": "execute_result"
    }
   ],
   "source": [
    "df.is_active_member.value_counts()"
   ]
  },
  {
   "cell_type": "code",
   "execution_count": 23,
   "id": "7246af1a",
   "metadata": {},
   "outputs": [
    {
     "data": {
      "text/plain": [
       "count     10000.000000\n",
       "mean     100090.239881\n",
       "std       57510.492818\n",
       "min          11.580000\n",
       "25%       51002.110000\n",
       "50%      100193.915000\n",
       "75%      149388.247500\n",
       "max      199992.480000\n",
       "Name: estimated_salary, dtype: float64"
      ]
     },
     "execution_count": 23,
     "metadata": {},
     "output_type": "execute_result"
    }
   ],
   "source": [
    "df.estimated_salary.describe()"
   ]
  },
  {
   "cell_type": "code",
   "execution_count": 24,
   "id": "d6605d08",
   "metadata": {},
   "outputs": [
    {
     "data": {
      "text/plain": [
       "0    7963\n",
       "1    2037\n",
       "Name: exited, dtype: int64"
      ]
     },
     "execution_count": 24,
     "metadata": {},
     "output_type": "execute_result"
    }
   ],
   "source": [
    "df.exited.value_counts()"
   ]
  },
  {
   "cell_type": "markdown",
   "id": "e43bdfbc",
   "metadata": {},
   "source": [
    "Остальные данные выглядят адекватно, никакая больше предобработка не требуется."
   ]
  },
  {
   "cell_type": "markdown",
   "id": "f20f18c8",
   "metadata": {},
   "source": [
    "## Подготовка признаков"
   ]
  },
  {
   "cell_type": "markdown",
   "id": "bb630720",
   "metadata": {},
   "source": [
    "2 признака: `geography`, `gender` - нужно перевести в числовой вид. Воспользуемся техникой *One-Hot Encoding*, т.к. она работает со всеми моделями, и разных значений в этих признаках не так много, поэтому не будет слишком много дополнительных столбцов."
   ]
  },
  {
   "cell_type": "code",
   "execution_count": 25,
   "id": "7764d5f8",
   "metadata": {
    "scrolled": true
   },
   "outputs": [
    {
     "data": {
      "text/html": [
       "<div>\n",
       "<style scoped>\n",
       "    .dataframe tbody tr th:only-of-type {\n",
       "        vertical-align: middle;\n",
       "    }\n",
       "\n",
       "    .dataframe tbody tr th {\n",
       "        vertical-align: top;\n",
       "    }\n",
       "\n",
       "    .dataframe thead th {\n",
       "        text-align: right;\n",
       "    }\n",
       "</style>\n",
       "<table border=\"1\" class=\"dataframe\">\n",
       "  <thead>\n",
       "    <tr style=\"text-align: right;\">\n",
       "      <th></th>\n",
       "      <th>credit_score</th>\n",
       "      <th>age</th>\n",
       "      <th>tenure</th>\n",
       "      <th>balance</th>\n",
       "      <th>num_of_products</th>\n",
       "      <th>has_credit_card</th>\n",
       "      <th>is_active_member</th>\n",
       "      <th>estimated_salary</th>\n",
       "      <th>exited</th>\n",
       "      <th>geography_Germany</th>\n",
       "      <th>geography_Spain</th>\n",
       "      <th>gender_Male</th>\n",
       "    </tr>\n",
       "  </thead>\n",
       "  <tbody>\n",
       "    <tr>\n",
       "      <td>0</td>\n",
       "      <td>619.0</td>\n",
       "      <td>42.0</td>\n",
       "      <td>2.0</td>\n",
       "      <td>0.00</td>\n",
       "      <td>1.0</td>\n",
       "      <td>1.0</td>\n",
       "      <td>1.0</td>\n",
       "      <td>101348.88</td>\n",
       "      <td>1</td>\n",
       "      <td>0</td>\n",
       "      <td>0</td>\n",
       "      <td>0</td>\n",
       "    </tr>\n",
       "    <tr>\n",
       "      <td>1</td>\n",
       "      <td>608.0</td>\n",
       "      <td>41.0</td>\n",
       "      <td>1.0</td>\n",
       "      <td>83807.86</td>\n",
       "      <td>1.0</td>\n",
       "      <td>0.0</td>\n",
       "      <td>1.0</td>\n",
       "      <td>112542.58</td>\n",
       "      <td>0</td>\n",
       "      <td>0</td>\n",
       "      <td>1</td>\n",
       "      <td>0</td>\n",
       "    </tr>\n",
       "  </tbody>\n",
       "</table>\n",
       "</div>"
      ],
      "text/plain": [
       "   credit_score   age  tenure   balance  num_of_products  has_credit_card  \\\n",
       "0         619.0  42.0     2.0      0.00              1.0              1.0   \n",
       "1         608.0  41.0     1.0  83807.86              1.0              0.0   \n",
       "\n",
       "   is_active_member  estimated_salary  exited  geography_Germany  \\\n",
       "0               1.0         101348.88       1                  0   \n",
       "1               1.0         112542.58       0                  0   \n",
       "\n",
       "   geography_Spain  gender_Male  \n",
       "0                0            0  \n",
       "1                1            0  "
      ]
     },
     "execution_count": 25,
     "metadata": {},
     "output_type": "execute_result"
    }
   ],
   "source": [
    "df_ohe = pd.get_dummies(df, drop_first=True)\n",
    "df_ohe.head(2)"
   ]
  },
  {
   "cell_type": "markdown",
   "id": "5d1372d8",
   "metadata": {},
   "source": [
    "Разделим выборку на признаки и целевой признак."
   ]
  },
  {
   "cell_type": "code",
   "execution_count": 26,
   "id": "ebc93979",
   "metadata": {},
   "outputs": [],
   "source": [
    "target = df_ohe['exited']\n",
    "features = df_ohe.drop('exited', axis=1)"
   ]
  },
  {
   "cell_type": "markdown",
   "id": "043372c8",
   "metadata": {},
   "source": [
    "Масштабируем все (количественные) признаки, чтобы они были равнозначны для моделей."
   ]
  },
  {
   "cell_type": "code",
   "execution_count": 27,
   "id": "cf963a9a",
   "metadata": {},
   "outputs": [
    {
     "data": {
      "text/html": [
       "<div>\n",
       "<style scoped>\n",
       "    .dataframe tbody tr th:only-of-type {\n",
       "        vertical-align: middle;\n",
       "    }\n",
       "\n",
       "    .dataframe tbody tr th {\n",
       "        vertical-align: top;\n",
       "    }\n",
       "\n",
       "    .dataframe thead th {\n",
       "        text-align: right;\n",
       "    }\n",
       "</style>\n",
       "<table border=\"1\" class=\"dataframe\">\n",
       "  <thead>\n",
       "    <tr style=\"text-align: right;\">\n",
       "      <th></th>\n",
       "      <th>credit_score</th>\n",
       "      <th>age</th>\n",
       "      <th>tenure</th>\n",
       "      <th>balance</th>\n",
       "      <th>num_of_products</th>\n",
       "      <th>has_credit_card</th>\n",
       "      <th>is_active_member</th>\n",
       "      <th>estimated_salary</th>\n",
       "      <th>geography_Germany</th>\n",
       "      <th>geography_Spain</th>\n",
       "      <th>gender_Male</th>\n",
       "    </tr>\n",
       "  </thead>\n",
       "  <tbody>\n",
       "    <tr>\n",
       "      <td>0</td>\n",
       "      <td>-0.326221</td>\n",
       "      <td>0.293517</td>\n",
       "      <td>-1.086151</td>\n",
       "      <td>-1.225848</td>\n",
       "      <td>-0.911583</td>\n",
       "      <td>1.0</td>\n",
       "      <td>1.0</td>\n",
       "      <td>0.021886</td>\n",
       "      <td>0</td>\n",
       "      <td>0</td>\n",
       "      <td>0</td>\n",
       "    </tr>\n",
       "    <tr>\n",
       "      <td>1</td>\n",
       "      <td>-0.440036</td>\n",
       "      <td>0.198164</td>\n",
       "      <td>-1.448483</td>\n",
       "      <td>0.117350</td>\n",
       "      <td>-0.911583</td>\n",
       "      <td>0.0</td>\n",
       "      <td>1.0</td>\n",
       "      <td>0.216534</td>\n",
       "      <td>0</td>\n",
       "      <td>1</td>\n",
       "      <td>0</td>\n",
       "    </tr>\n",
       "  </tbody>\n",
       "</table>\n",
       "</div>"
      ],
      "text/plain": [
       "   credit_score       age    tenure   balance  num_of_products  \\\n",
       "0     -0.326221  0.293517 -1.086151 -1.225848        -0.911583   \n",
       "1     -0.440036  0.198164 -1.448483  0.117350        -0.911583   \n",
       "\n",
       "   has_credit_card  is_active_member  estimated_salary  geography_Germany  \\\n",
       "0              1.0               1.0          0.021886                  0   \n",
       "1              0.0               1.0          0.216534                  0   \n",
       "\n",
       "   geography_Spain  gender_Male  \n",
       "0                0            0  \n",
       "1                1            0  "
      ]
     },
     "execution_count": 27,
     "metadata": {},
     "output_type": "execute_result"
    }
   ],
   "source": [
    "numeric = [ 'credit_score', 'age', 'tenure', 'balance', 'num_of_products', 'estimated_salary' ]\n",
    "#           , 'has_credit_card', 'is_active_member', 'geography_Germany', 'geography_Spain', 'gender_Male']\n",
    "\n",
    "scaler = StandardScaler(with_std=True)\n",
    "# scaler = MinMaxScaler()\n",
    "scaler.fit(features[numeric])\n",
    "features[numeric] = scaler.transform(features[numeric])\n",
    "\n",
    "features.head(2)"
   ]
  },
  {
   "cell_type": "markdown",
   "id": "bd428d12",
   "metadata": {},
   "source": [
    "Разделим выборку на обучающую, валидационную и тестовую."
   ]
  },
  {
   "cell_type": "code",
   "execution_count": 28,
   "id": "b593f522",
   "metadata": {},
   "outputs": [
    {
     "name": "stdout",
     "output_type": "stream",
     "text": [
      "(6666, 11)\n",
      "(1667, 11)\n",
      "(1667, 11)\n",
      "\n",
      "\t0.20372037203720372\t0.20335932813437313\t0.20395920815836832\n"
     ]
    }
   ],
   "source": [
    "features_train, features_valid, target_train, target_valid = train_test_split(\n",
    "    features, target, \n",
    "    test_size=0.33333, \n",
    "    shuffle=True, stratify=target, \n",
    "    random_state=486745)\n",
    "\n",
    "features_test, features_valid, target_test, target_valid = train_test_split(\n",
    "    features_valid, target_valid, \n",
    "    test_size=0.5, \n",
    "    shuffle=True, stratify=target_valid, \n",
    "    random_state=154648)\n",
    "\n",
    "print(features_train.shape) \n",
    "print(features_valid.shape) \n",
    "print(features_test.shape) \n",
    "print('\\n', target_train.mean(), target_valid.mean(), target_test.mean(), sep='\\t')"
   ]
  },
  {
   "cell_type": "markdown",
   "id": "4fdafc3e",
   "metadata": {},
   "source": [
    "Подготовим также увеличенные тренировочные выборки, которые можно использовать для обучения (заново) после подбора гиперпараметров либо сразу в GridSearch."
   ]
  },
  {
   "cell_type": "code",
   "execution_count": 29,
   "id": "11816be3",
   "metadata": {
    "scrolled": true
   },
   "outputs": [
    {
     "name": "stdout",
     "output_type": "stream",
     "text": [
      "(8333, 11) (8333,)\n"
     ]
    }
   ],
   "source": [
    "features_train_2 = pd.concat([features_train, features_valid], ignore_index=True)\n",
    "target_train_2 = pd.concat([target_train, target_valid], ignore_index=True)\n",
    "print(features_train_2.shape, target_train_2.shape)"
   ]
  },
  {
   "cell_type": "markdown",
   "id": "3fa1d47c",
   "metadata": {},
   "source": [
    "## Обучение без учёта дисбаланса классов\n",
    "\n",
    "Исследуем баланс классов, обучим модель без учёта дисбаланса. Кратко опишем выводы."
   ]
  },
  {
   "cell_type": "code",
   "execution_count": 30,
   "id": "19b791d9",
   "metadata": {},
   "outputs": [
    {
     "data": {
      "text/plain": [
       "0    0.7963\n",
       "1    0.2037\n",
       "Name: exited, dtype: float64"
      ]
     },
     "execution_count": 30,
     "metadata": {},
     "output_type": "execute_result"
    }
   ],
   "source": [
    "df.exited.value_counts() / df.exited.count()"
   ]
  },
  {
   "cell_type": "markdown",
   "id": "aed0c822",
   "metadata": {},
   "source": [
    "Есть дисбаланс целевых классов: **20 / 80**."
   ]
  },
  {
   "cell_type": "markdown",
   "id": "b37c6711",
   "metadata": {},
   "source": [
    "### Случайный лес"
   ]
  },
  {
   "cell_type": "code",
   "execution_count": 31,
   "id": "c97606ef",
   "metadata": {},
   "outputs": [
    {
     "name": "stdout",
     "output_type": "stream",
     "text": [
      "{'max_depth': 17, 'n_estimators': 129}\n",
      "RandomForestClassifier(bootstrap=True, class_weight=None, criterion='gini',\n",
      "                       max_depth=17, max_features='auto', max_leaf_nodes=None,\n",
      "                       min_impurity_decrease=0.0, min_impurity_split=None,\n",
      "                       min_samples_leaf=1, min_samples_split=2,\n",
      "                       min_weight_fraction_leaf=0.0, n_estimators=129,\n",
      "                       n_jobs=None, oob_score=False, random_state=12345,\n",
      "                       verbose=0, warm_start=False)\n",
      "f1 на увеличенной (обучающе-валидационной) выборке: 0.9871680095493882\n",
      "f1 на тестовой выборке: 0.5608856088560886\n",
      "Wall time: 30 s\n"
     ]
    }
   ],
   "source": [
    "%%time\n",
    "forest_model = RandomForestClassifier(random_state=12345)\n",
    "\n",
    "params = dict(n_estimators=range(97,137,4), max_depth=range(14,19))\n",
    "grid = GridSearchCV(forest_model, params, n_jobs=4, verbose=0, scoring='f1', cv=2)\n",
    "grid.fit(features_train_2, target_train_2);\n",
    "\n",
    "print(grid.best_params_)\n",
    "best_forest = grid.best_estimator_\n",
    "print(best_forest)\n",
    "\n",
    "predicted_train_2 = best_forest.predict(features_train_2)\n",
    "print('f1 на увеличенной (обучающе-валидационной) выборке:', f1_score(target_train_2, predicted_train_2))\n",
    "# predicted_train = best_forest.predict(features_train)\n",
    "# print('f1 на обучающей выборке:', f1_score(target_train, predicted_train))\n",
    "# predicted_valid = best_forest.predict(features_valid)\n",
    "# print('f1 на валидационной выборке:', f1_score(target_valid, predicted_valid))\n",
    "predicted_test = best_forest.predict(features_test)\n",
    "print('f1 на тестовой выборке:', f1_score(target_test, predicted_test))"
   ]
  },
  {
   "cell_type": "code",
   "execution_count": 32,
   "id": "a8a5ddd1",
   "metadata": {},
   "outputs": [
    {
     "name": "stdout",
     "output_type": "stream",
     "text": [
      "AUC-ROC на тестовой выборке: 0.8506117292433174\n"
     ]
    }
   ],
   "source": [
    "probabilities_test = best_forest.predict_proba(features_test)\n",
    "probabilities_one_test = probabilities_test[:, 1]\n",
    "auc_roc = roc_auc_score(target_test, probabilities_one_test)\n",
    "print('AUC-ROC на тестовой выборке:', auc_roc)"
   ]
  },
  {
   "cell_type": "markdown",
   "id": "f42f9542",
   "metadata": {},
   "source": [
    "Без учёта дисбаланса классов пока не удалось преодолеть установленный для ***f1*** порог **0.59**."
   ]
  },
  {
   "cell_type": "markdown",
   "id": "484fb0f4",
   "metadata": {},
   "source": [
    "### Логистическая регрессия"
   ]
  },
  {
   "cell_type": "code",
   "execution_count": 33,
   "id": "2ddd5ba7",
   "metadata": {},
   "outputs": [
    {
     "name": "stdout",
     "output_type": "stream",
     "text": [
      "{'C': 10, 'penalty': 'l2', 'solver': 'liblinear'}\n",
      "LogisticRegression(C=10, class_weight=None, dual=False, fit_intercept=True,\n",
      "                   intercept_scaling=1, l1_ratio=None, max_iter=300,\n",
      "                   multi_class='warn', n_jobs=None, penalty='l2',\n",
      "                   random_state=1234567, solver='liblinear', tol=0.0001,\n",
      "                   verbose=0, warm_start=False)\n",
      "f1 на увеличенной (обучающе-валидационной) выборке: 0.32224622030237576\n",
      "f1 на тестовой выборке: 0.28633405639913234\n",
      "Wall time: 3.73 s\n"
     ]
    }
   ],
   "source": [
    "%%time\n",
    "log_reg_model = LogisticRegression(random_state=1234567, max_iter=300, class_weight=None)\n",
    "\n",
    "params = dict(C=[1,2,5,10], \n",
    "              penalty=['l2','l1'],\n",
    "              solver=['liblinear','warn']) \n",
    "grid = GridSearchCV(log_reg_model, params, verbose=0, scoring='f1', cv=5)\n",
    "grid.fit(features_train_2, target_train_2);\n",
    "\n",
    "print(grid.best_params_)\n",
    "best_log_reg_model = grid.best_estimator_\n",
    "print(best_log_reg_model)\n",
    "\n",
    "predicted_train_2 = best_log_reg_model.predict(features_train_2)\n",
    "print('f1 на увеличенной (обучающе-валидационной) выборке:', f1_score(target_train_2, predicted_train_2))\n",
    "# predicted_train = best_log_reg_model.predict(features_train)\n",
    "# print('f1 на обучающей выборке:', f1_score(target_train, predicted_train))\n",
    "# predicted_valid = best_log_reg_model.predict(features_valid)\n",
    "# print(\"f1 на валидационной выборке:\", f1_score(target_valid, predicted_valid))\n",
    "predicted_test = best_log_reg_model.predict(features_test)\n",
    "print('f1 на тестовой выборке:', f1_score(target_test, predicted_test))"
   ]
  },
  {
   "cell_type": "code",
   "execution_count": 34,
   "id": "50440347",
   "metadata": {},
   "outputs": [
    {
     "name": "stdout",
     "output_type": "stream",
     "text": [
      "AUC-ROC на тестовой выборке: 0.7682787357595637\n"
     ]
    }
   ],
   "source": [
    "probabilities_test = best_log_reg_model.predict_proba(features_test)\n",
    "probabilities_one_test = probabilities_test[:, 1]\n",
    "auc_roc = roc_auc_score(target_test, probabilities_one_test)\n",
    "print('AUC-ROC на тестовой выборке:', auc_roc)"
   ]
  },
  {
   "cell_type": "markdown",
   "id": "4cd5847d",
   "metadata": {},
   "source": [
    "Низкий показатель."
   ]
  },
  {
   "cell_type": "markdown",
   "id": "8a5c516f",
   "metadata": {},
   "source": [
    "## Обучение с учётом дисбаланса\n",
    "Теперь будем учитывать дисбаланс классов. Обучим разные модели и выберем лучшую."
   ]
  },
  {
   "cell_type": "markdown",
   "id": "94c50d32",
   "metadata": {},
   "source": [
    "### `class_weight='balanced'`"
   ]
  },
  {
   "cell_type": "markdown",
   "id": "c2c66cc9",
   "metadata": {},
   "source": [
    "#### Случайный лес"
   ]
  },
  {
   "cell_type": "code",
   "execution_count": 35,
   "id": "4bda9a5f",
   "metadata": {},
   "outputs": [
    {
     "name": "stdout",
     "output_type": "stream",
     "text": [
      "{'max_depth': 12, 'n_estimators': 135}\n",
      "RandomForestClassifier(bootstrap=True, class_weight='balanced',\n",
      "                       criterion='gini', max_depth=12, max_features='auto',\n",
      "                       max_leaf_nodes=None, min_impurity_decrease=0.0,\n",
      "                       min_impurity_split=None, min_samples_leaf=1,\n",
      "                       min_samples_split=2, min_weight_fraction_leaf=0.0,\n",
      "                       n_estimators=135, n_jobs=None, oob_score=False,\n",
      "                       random_state=12345, verbose=0, warm_start=False)\n",
      "f1 на увеличенной (обучающе-валидационной) выборке: 0.8854166666666667\n",
      "f1 на тестовой выборке: 0.6104294478527607\n",
      "Wall time: 2min\n"
     ]
    }
   ],
   "source": [
    "%%time\n",
    "forest_model = RandomForestClassifier(random_state=12345, class_weight='balanced')\n",
    "\n",
    "params = dict(n_estimators=range(111,139,2), max_depth=range(12,19))\n",
    "grid = GridSearchCV(forest_model, params, n_jobs=4, verbose=0, scoring='f1', cv=2)\n",
    "grid.fit(features_train_2, target_train_2);\n",
    "\n",
    "print(grid.best_params_)\n",
    "best_forest = grid.best_estimator_\n",
    "print(best_forest)\n",
    "\n",
    "predicted_train_2 = best_forest.predict(features_train_2)\n",
    "print('f1 на увеличенной (обучающе-валидационной) выборке:', f1_score(target_train_2, predicted_train_2))\n",
    "# predicted_train = best_forest.predict(features_train)\n",
    "# print('f1 на обучающей выборке:', f1_score(target_train, predicted_train))\n",
    "# predicted_valid = best_forest.predict(features_valid)\n",
    "# print('f1 на валидационной выборке:', f1_score(target_valid, predicted_valid))\n",
    "predicted_test = best_forest.predict(features_test)\n",
    "print('f1 на тестовой выборке:', f1_score(target_test, predicted_test))"
   ]
  },
  {
   "cell_type": "code",
   "execution_count": 36,
   "id": "986c7062",
   "metadata": {},
   "outputs": [
    {
     "name": "stdout",
     "output_type": "stream",
     "text": [
      "AUC-ROC на тестовой выборке: 0.8499534553836605\n"
     ]
    }
   ],
   "source": [
    "probabilities_test = best_forest.predict_proba(features_test)\n",
    "probabilities_one_test = probabilities_test[:, 1]\n",
    "auc_roc = roc_auc_score(target_test, probabilities_one_test)\n",
    "print('AUC-ROC на тестовой выборке:', auc_roc)"
   ]
  },
  {
   "cell_type": "markdown",
   "id": "78ca089a",
   "metadata": {},
   "source": [
    "Удалось получить существенный выигрыш по сравнению с предыдущим результатом случайного леса и преодолеть пороговое значение 0.59."
   ]
  },
  {
   "cell_type": "markdown",
   "id": "47e67cc9",
   "metadata": {},
   "source": [
    "#### Логистическая регрессия"
   ]
  },
  {
   "cell_type": "code",
   "execution_count": 37,
   "id": "d6e10d48",
   "metadata": {
    "scrolled": true
   },
   "outputs": [
    {
     "name": "stdout",
     "output_type": "stream",
     "text": [
      "{'C': 2, 'penalty': 'l2', 'solver': 'liblinear'}\n",
      "LogisticRegression(C=2, class_weight='balanced', dual=False, fit_intercept=True,\n",
      "                   intercept_scaling=1, l1_ratio=None, max_iter=300,\n",
      "                   multi_class='warn', n_jobs=None, penalty='l2',\n",
      "                   random_state=1234567, solver='liblinear', tol=0.0001,\n",
      "                   verbose=0, warm_start=False)\n",
      "f1 на увеличенной (обучающе-валидационной) выборке: 0.4974683544303797\n",
      "f1 на тестовой выборке: 0.49438202247191015\n",
      "Wall time: 1.34 s\n"
     ]
    }
   ],
   "source": [
    "%%time\n",
    "log_reg_model = LogisticRegression(random_state=1234567, max_iter=300, class_weight='balanced')\n",
    "\n",
    "params = dict(C=[1,2,5,10], \n",
    "              penalty=['l2','l1'],\n",
    "              solver=['liblinear','warn']\n",
    "             ) \n",
    "grid = GridSearchCV(log_reg_model, params, verbose=0, scoring='f1', cv=2)\n",
    "grid.fit(features_train_2, target_train_2);\n",
    "\n",
    "print(grid.best_params_)\n",
    "best_log_reg_model = grid.best_estimator_\n",
    "print(best_log_reg_model)\n",
    "\n",
    "predicted_train_2 = best_log_reg_model.predict(features_train_2)\n",
    "print('f1 на увеличенной (обучающе-валидационной) выборке:', f1_score(target_train_2, predicted_train_2))\n",
    "# predicted_train = best_log_reg_model.predict(features_train)\n",
    "# print('f1 на обучающей выборке:', f1_score(target_train, predicted_train))\n",
    "# predicted_valid = best_log_reg_model.predict(features_valid)\n",
    "# print(\"f1 на валидационной выборке:\", f1_score(target_valid, predicted_valid))\n",
    "predicted_test = best_log_reg_model.predict(features_test)\n",
    "print('f1 на тестовой выборке:', f1_score(target_test, predicted_test))"
   ]
  },
  {
   "cell_type": "code",
   "execution_count": 38,
   "id": "a3504328",
   "metadata": {},
   "outputs": [
    {
     "name": "stdout",
     "output_type": "stream",
     "text": [
      "AUC-ROC на тестовой выборке: 0.7699011481005364\n"
     ]
    }
   ],
   "source": [
    "probabilities_test = best_log_reg_model.predict_proba(features_test)\n",
    "probabilities_one_test = probabilities_test[:, 1]\n",
    "auc_roc = roc_auc_score(target_test, probabilities_one_test)\n",
    "print('AUC-ROC на тестовой выборке:', auc_roc)"
   ]
  },
  {
   "cell_type": "markdown",
   "id": "ec65fe7d",
   "metadata": {},
   "source": [
    "Уже существенный выигрыш по сравнению с результатом лог.регрессии без указания параметра `class_weight`, но f1 всё ещё очень далеко до 0.59."
   ]
  },
  {
   "cell_type": "markdown",
   "id": "c5465cef",
   "metadata": {},
   "source": [
    "### Upsampling & downsampling"
   ]
  },
  {
   "cell_type": "code",
   "execution_count": 39,
   "id": "2fa3fd91",
   "metadata": {},
   "outputs": [],
   "source": [
    "def upsample(features, target, repeat):\n",
    "    features_zeros = features[target == 0]\n",
    "    features_ones = features[target == 1]\n",
    "    target_zeros = target[target == 0]\n",
    "    target_ones = target[target == 1]\n",
    "\n",
    "    features_upsampled = pd.concat([features_zeros] + [features_ones] * repeat)\n",
    "    target_upsampled = pd.concat([target_zeros] + [target_ones] * repeat)\n",
    "    \n",
    "    features_upsampled, target_upsampled = shuffle(\n",
    "        features_upsampled, target_upsampled, random_state=12345)\n",
    "    \n",
    "    return features_upsampled, target_upsampled"
   ]
  },
  {
   "cell_type": "code",
   "execution_count": 40,
   "id": "a541ca20",
   "metadata": {},
   "outputs": [],
   "source": [
    "def downsample(features, target, fraction):\n",
    "    features_zeros = features[target == 0]\n",
    "    features_ones = features[target == 1]\n",
    "    target_zeros = target[target == 0]\n",
    "    target_ones = target[target == 1]\n",
    "\n",
    "    features_downsampled = pd.concat(\n",
    "        [features_zeros.sample(frac=fraction, random_state=12345)] + [features_ones])\n",
    "    target_downsampled = pd.concat(\n",
    "        [target_zeros.sample(frac=fraction, random_state=12345)] + [target_ones])\n",
    "    \n",
    "    features_downsampled, target_downsampled = shuffle(\n",
    "        features_downsampled, target_downsampled, random_state=12345678)\n",
    "    \n",
    "    return features_downsampled, target_downsampled"
   ]
  },
  {
   "cell_type": "code",
   "execution_count": 41,
   "id": "6ce7b0ae",
   "metadata": {},
   "outputs": [
    {
     "name": "stdout",
     "output_type": "stream",
     "text": [
      "0.4222636815920398\n",
      "0.422191814902351\n"
     ]
    }
   ],
   "source": [
    "features_upsampled, target_upsampled = upsample(features_train, target_train, 2)\n",
    "features_sampled, target_sampled = downsample(features_upsampled, target_upsampled, 0.7)\n",
    "\n",
    "features_upsampled_2, target_upsampled_2 = upsample(features_train_2, target_train_2, 2)\n",
    "features_sampled_2, target_sampled_2 = downsample(features_upsampled_2, target_upsampled_2, 0.7)\n",
    "\n",
    "print(target_sampled[target_sampled==1].count() / target_sampled.count())\n",
    "print(target_sampled_2[target_sampled_2==1].count() / target_sampled_2.count())"
   ]
  },
  {
   "cell_type": "code",
   "execution_count": 42,
   "id": "27f50c1e",
   "metadata": {},
   "outputs": [
    {
     "data": {
      "text/plain": [
       "(6432, 11)"
      ]
     },
     "execution_count": 42,
     "metadata": {},
     "output_type": "execute_result"
    }
   ],
   "source": [
    "features_sampled.shape"
   ]
  },
  {
   "cell_type": "code",
   "execution_count": 43,
   "id": "f324e4ab",
   "metadata": {},
   "outputs": [
    {
     "data": {
      "text/plain": [
       "(8039, 11)"
      ]
     },
     "execution_count": 43,
     "metadata": {},
     "output_type": "execute_result"
    }
   ],
   "source": [
    "features_sampled_2.shape"
   ]
  },
  {
   "cell_type": "markdown",
   "id": "93cea7e8",
   "metadata": {},
   "source": [
    "#### Случайный лес"
   ]
  },
  {
   "cell_type": "code",
   "execution_count": 44,
   "id": "4d17a3c7",
   "metadata": {},
   "outputs": [
    {
     "name": "stdout",
     "output_type": "stream",
     "text": [
      "{'max_depth': 16, 'n_estimators': 127}\n",
      "RandomForestClassifier(bootstrap=True, class_weight='balanced_subsample',\n",
      "                       criterion='gini', max_depth=16, max_features='auto',\n",
      "                       max_leaf_nodes=None, min_impurity_decrease=0.0,\n",
      "                       min_impurity_split=None, min_samples_leaf=1,\n",
      "                       min_samples_split=2, min_weight_fraction_leaf=0.0,\n",
      "                       n_estimators=127, n_jobs=None, oob_score=False,\n",
      "                       random_state=12345, verbose=0, warm_start=False)\n",
      "f1 на увеличенной балансированной (обучающе-валидационной) выборке: 0.998235294117647\n",
      "f1 на тестовой выборке: 0.6291486291486292\n",
      "Wall time: 1min 45s\n"
     ]
    }
   ],
   "source": [
    "%%time\n",
    "forest_model = RandomForestClassifier(random_state=12345, class_weight='balanced_subsample')\n",
    "\n",
    "params = dict(n_estimators=range(115,141,2), max_depth=range(14,19))\n",
    "grid = GridSearchCV(forest_model, params, n_jobs=4, verbose=0, scoring='f1', cv=2)\n",
    "grid.fit(features_sampled_2, target_sampled_2);\n",
    "\n",
    "print(grid.best_params_)\n",
    "best_forest = grid.best_estimator_\n",
    "print(best_forest)\n",
    "\n",
    "predicted_sampled_2 = best_forest.predict(features_sampled_2)\n",
    "print('f1 на увеличенной балансированной (обучающе-валидационной) выборке:', \n",
    "      f1_score(target_sampled_2, predicted_sampled_2))\n",
    "# predicted_train = best_forest.predict(features_train)\n",
    "# print('f1 на обучающей выборке:', f1_score(target_train, predicted_train))\n",
    "# predicted_valid = best_forest.predict(features_valid)\n",
    "# print('f1 на валидационной выборке:', f1_score(target_valid, predicted_valid))\n",
    "predicted_test = best_forest.predict(features_test)\n",
    "print('f1 на тестовой выборке:', f1_score(target_test, predicted_test))"
   ]
  },
  {
   "cell_type": "code",
   "execution_count": 45,
   "id": "c9b6ff07",
   "metadata": {
    "scrolled": false
   },
   "outputs": [
    {
     "name": "stdout",
     "output_type": "stream",
     "text": [
      "AUC-ROC на тестовой выборке: 0.8519792543995743\n"
     ]
    }
   ],
   "source": [
    "probabilities_test = best_forest.predict_proba(features_test)\n",
    "probabilities_one_test = probabilities_test[:, 1]\n",
    "auc_roc = roc_auc_score(target_test, probabilities_one_test)\n",
    "print('AUC-ROC на тестовой выборке:', auc_roc)"
   ]
  },
  {
   "cell_type": "markdown",
   "id": "706c8403",
   "metadata": {},
   "source": [
    "#### Логистическая регрессия"
   ]
  },
  {
   "cell_type": "code",
   "execution_count": 46,
   "id": "217ec1c9",
   "metadata": {
    "scrolled": false
   },
   "outputs": [
    {
     "name": "stdout",
     "output_type": "stream",
     "text": [
      "{'C': 1, 'penalty': 'l1', 'solver': 'liblinear'}\n",
      "LogisticRegression(C=1, class_weight='balanced', dual=False, fit_intercept=True,\n",
      "                   intercept_scaling=1, l1_ratio=None, max_iter=300,\n",
      "                   multi_class='warn', n_jobs=None, penalty='l1',\n",
      "                   random_state=1234567, solver='liblinear', tol=0.0001,\n",
      "                   verbose=0, warm_start=False)\n",
      "f1 на увеличенной балансированной (обучающе-валидационной) выборке: 0.6646833829154272\n",
      "f1 на тестовой выборке: 0.4964249233912155\n",
      "Wall time: 1.3 s\n"
     ]
    }
   ],
   "source": [
    "%%time\n",
    "log_reg_model = LogisticRegression(random_state=1234567, max_iter=300, class_weight='balanced')\n",
    "\n",
    "params = dict(C=[1,2,5,10], \n",
    "              penalty=['l2','l1'],\n",
    "              solver=['liblinear','warn']\n",
    "             ) \n",
    "grid = GridSearchCV(log_reg_model, params, verbose=0, scoring='f1', cv=2)\n",
    "grid.fit(features_sampled_2, target_sampled_2);\n",
    "\n",
    "print(grid.best_params_)\n",
    "best_log_reg_model = grid.best_estimator_\n",
    "print(best_log_reg_model)\n",
    "\n",
    "predicted_sampled_2 = best_log_reg_model.predict(features_sampled_2)\n",
    "print('f1 на увеличенной балансированной (обучающе-валидационной) выборке:', \n",
    "      f1_score(target_sampled_2, predicted_sampled_2))\n",
    "# predicted_train = best_log_reg_model.predict(features_train)\n",
    "# print('f1 на обучающей выборке:', f1_score(target_train, predicted_train))\n",
    "# predicted_valid = best_log_reg_model.predict(features_valid)\n",
    "# print(\"f1 на валидационной выборке:\", f1_score(target_valid, predicted_valid))\n",
    "predicted_test = best_log_reg_model.predict(features_test)\n",
    "print('f1 на тестовой выборке:', f1_score(target_test, predicted_test))"
   ]
  },
  {
   "cell_type": "code",
   "execution_count": 47,
   "id": "3d2de6f9",
   "metadata": {},
   "outputs": [
    {
     "name": "stdout",
     "output_type": "stream",
     "text": [
      "AUC-ROC на тестовой выборке: 0.7694778137328782\n"
     ]
    }
   ],
   "source": [
    "probabilities_test = best_log_reg_model.predict_proba(features_test)\n",
    "probabilities_one_test = probabilities_test[:, 1]\n",
    "auc_roc = roc_auc_score(target_test, probabilities_one_test)\n",
    "print('AUC-ROC на тестовой выборке:', auc_roc)"
   ]
  },
  {
   "cell_type": "markdown",
   "id": "c96a4188",
   "metadata": {},
   "source": [
    "Выигрыш по сравнению с вариантом без апсэмплинга, даунсэмплинга крайне незначительный."
   ]
  },
  {
   "cell_type": "markdown",
   "id": "40b2c026",
   "metadata": {},
   "source": [
    "#### Метод k ближайших соседей"
   ]
  },
  {
   "cell_type": "code",
   "execution_count": 48,
   "id": "01649560",
   "metadata": {},
   "outputs": [
    {
     "name": "stdout",
     "output_type": "stream",
     "text": [
      "{'leaf_size': 1, 'metric': 'minkowski', 'n_neighbors': 31, 'p': 2}\n",
      "KNeighborsClassifier(algorithm='auto', leaf_size=1, metric='minkowski',\n",
      "                     metric_params=None, n_jobs=4, n_neighbors=31, p=2,\n",
      "                     weights='distance')\n",
      "f1 на увеличенной балансированной (обучающе-валидационной) выборке: 1.0\n",
      "f1 на тестовой выборке: 0.5761006289308177\n",
      "Wall time: 32.5 s\n"
     ]
    }
   ],
   "source": [
    "%%time\n",
    "k_model = KNeighborsClassifier(n_jobs=4, weights='distance')\n",
    "\n",
    "params = dict(n_neighbors=range(27,33,2), \n",
    "              #weights=['uniform','distance'], \n",
    "              #algorithm=['auto','ball_tree','kd_tree','brute'],\n",
    "              p=[1,2],\n",
    "              metric=['minkowski','euclidean','manhattan'],  #,'chebyshev'],\n",
    "              leaf_size=range(1,3)\n",
    "             )\n",
    "grid = GridSearchCV(k_model, params, n_jobs=4, verbose=0, scoring='f1', cv=2)\n",
    "grid.fit(features_sampled_2, target_sampled_2);\n",
    "\n",
    "print(grid.best_params_)\n",
    "best_k_model = grid.best_estimator_\n",
    "print(best_k_model)\n",
    "\n",
    "predicted_sampled_2 = best_k_model.predict(features_sampled_2)\n",
    "print('f1 на увеличенной балансированной (обучающе-валидационной) выборке:', \n",
    "      f1_score(target_sampled_2, predicted_sampled_2))\n",
    "# predicted_train = best_k_model.predict(features_train)\n",
    "# print('f1 на обучающей выборке:', f1_score(target_train, predicted_train))\n",
    "# predicted_valid = best_k_model.predict(features_valid)\n",
    "# print('f1 на валидационной выборке:', f1_score(target_valid, predicted_valid))\n",
    "predicted_test = best_k_model.predict(features_test)\n",
    "print('f1 на тестовой выборке:', f1_score(target_test, predicted_test))"
   ]
  },
  {
   "cell_type": "code",
   "execution_count": 49,
   "id": "27487690",
   "metadata": {},
   "outputs": [
    {
     "name": "stdout",
     "output_type": "stream",
     "text": [
      "AUC-ROC на тестовой выборке: 0.8313710714127399\n"
     ]
    }
   ],
   "source": [
    "probabilities_test = best_k_model.predict_proba(features_test)\n",
    "probabilities_one_test = probabilities_test[:, 1]\n",
    "auc_roc = roc_auc_score(target_test, probabilities_one_test)\n",
    "print('AUC-ROC на тестовой выборке:', auc_roc)"
   ]
  },
  {
   "cell_type": "markdown",
   "id": "81e002c1",
   "metadata": {},
   "source": [
    "## Тестирование моделей"
   ]
  },
  {
   "cell_type": "code",
   "execution_count": 50,
   "id": "ba4920e1",
   "metadata": {},
   "outputs": [
    {
     "name": "stdout",
     "output_type": "stream",
     "text": [
      "Случайный лес:\t\tf1: 0.629149, \tAUC-ROC: 0.851979\n",
      "Логистич.регрессия:\tf1: 0.496425, \tAUC-ROC: 0.769478\n",
      "k ближайших соседей:\tf1: 0.576101, \tAUC-ROC: 0.831371\n"
     ]
    }
   ],
   "source": [
    "predicted_test = best_forest.predict(features_test)\n",
    "probabilities_test = best_forest.predict_proba(features_test)\n",
    "probabilities_one_test = probabilities_test[:, 1]\n",
    "print(f\"Случайный лес:\\t\\tf1: {f1_score(target_test, predicted_test):1.6f},\",\n",
    "      f\"\\tAUC-ROC: {roc_auc_score(target_test, probabilities_one_test):1.6f}\")\n",
    "\n",
    "predicted_test = best_log_reg_model.predict(features_test)\n",
    "probabilities_test = best_log_reg_model.predict_proba(features_test)\n",
    "probabilities_one_test = probabilities_test[:, 1]\n",
    "print(f\"Логистич.регрессия:\\tf1: {f1_score(target_test, predicted_test):1.6f},\",\n",
    "      f\"\\tAUC-ROC: {roc_auc_score(target_test, probabilities_one_test):1.6f}\")\n",
    "\n",
    "predicted_test = best_k_model.predict(features_test)\n",
    "probabilities_test = best_k_model.predict_proba(features_test)\n",
    "probabilities_one_test = probabilities_test[:, 1]\n",
    "print(f\"k ближайших соседей:\\tf1: {f1_score(target_test, predicted_test):1.6f},\",\n",
    "      f\"\\tAUC-ROC: {roc_auc_score(target_test, probabilities_one_test):1.6f}\")"
   ]
  },
  {
   "cell_type": "markdown",
   "id": "01b2ce36",
   "metadata": {},
   "source": [
    "## Вывод"
   ]
  },
  {
   "cell_type": "markdown",
   "id": "2c0c096e",
   "metadata": {},
   "source": [
    "Было обучено 3 разных модели, с учётом и без учёта дисбаланса классов. Получить удовлетворительные результаты меры ***f1*** удалось только для случайного леса с учётом дисбаланса классов (2 способами). Лучший результат: **f1 ≈ 0.63**.\n",
    "\n",
    "Но учёт дисбаланса довольно значительно повысил результаты и для случайного леса, и для логистической регрессии.\n",
    "\n",
    "Если сравнивать **f1** и **AUC-ROC**, можно заметить следующее:\n",
    "* AUC-ROC всегда больше, чем f1;\n",
    "* f1 изменяется быстрее;\n",
    "* между ними нет линейной зависимости (даже в рамках одного вида моделей), т.к. были получены результаты:\n",
    "\n",
    "<br> f1: 0.286334,   AUC-ROC: 0.768279\n",
    "<br> f1: 0.494382,   AUC-ROC: 0.769901\n",
    "<br> f1: 0.496425,   AUC-ROC: 0.769478 ↓\n",
    "<br> f1: 0.560886,   AUC-ROC: 0.850611\n",
    "<br> f1: 0.576101, \tAUC-ROC: 0.831371 ↓\n",
    "<br> f1: 0.610429,   AUC-ROC: 0.849953\n",
    "<br> f1: 0.629149, \t AUC-ROC: 0.851979"
   ]
  },
  {
   "cell_type": "code",
   "execution_count": 51,
   "id": "189189e7",
   "metadata": {},
   "outputs": [
    {
     "data": {
      "text/plain": [
       "'09.06.2022 13:58'"
      ]
     },
     "execution_count": 51,
     "metadata": {},
     "output_type": "execute_result"
    }
   ],
   "source": [
    "dt.datetime.today().strftime(\"%d.%m.%Y %H:%M\")"
   ]
  }
 ],
 "metadata": {
  "ExecuteTimeLog": [
   {
    "duration": 4866,
    "start_time": "2022-06-10T15:21:35.670Z"
   },
   {
    "duration": 2133,
    "start_time": "2022-06-10T15:22:44.634Z"
   }
  ],
  "kernelspec": {
   "display_name": "Python 3 (ipykernel)",
   "language": "python",
   "name": "python3"
  },
  "language_info": {
   "codemirror_mode": {
    "name": "ipython",
    "version": 3
   },
   "file_extension": ".py",
   "mimetype": "text/x-python",
   "name": "python",
   "nbconvert_exporter": "python",
   "pygments_lexer": "ipython3",
   "version": "3.7.8"
  },
  "toc": {
   "base_numbering": 1,
   "nav_menu": {},
   "number_sections": true,
   "sideBar": true,
   "skip_h1_title": true,
   "title_cell": "Содержание",
   "title_sidebar": "Contents",
   "toc_cell": true,
   "toc_position": {
    "height": "calc(100% - 180px)",
    "left": "10px",
    "top": "150px",
    "width": "182.27px"
   },
   "toc_section_display": true,
   "toc_window_display": true
  }
 },
 "nbformat": 4,
 "nbformat_minor": 5
}
