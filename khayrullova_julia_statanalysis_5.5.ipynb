{
 "cells": [
  {
   "cell_type": "markdown",
   "metadata": {
    "toc": true
   },
   "source": [
    "<h1>Содержание<span class=\"tocSkip\"></span></h1>\n",
    "<div class=\"toc\"><ul class=\"toc-item\"><li><ul class=\"toc-item\"><li><span><a href=\"#Описание-тарифов\" data-toc-modified-id=\"Описание-тарифов-0.1\"><span class=\"toc-item-num\">0.1&nbsp;&nbsp;</span>Описание тарифов</a></span></li><li><span><a href=\"#План-работ:\" data-toc-modified-id=\"План-работ:-0.2\"><span class=\"toc-item-num\">0.2&nbsp;&nbsp;</span>План работ:</a></span></li></ul></li><li><span><a href=\"#Изучение-данных\" data-toc-modified-id=\"Изучение-данных-1\"><span class=\"toc-item-num\">1&nbsp;&nbsp;</span>Изучение данных</a></span><ul class=\"toc-item\"><li><span><a href=\"#Тарифы\" data-toc-modified-id=\"Тарифы-1.1\"><span class=\"toc-item-num\">1.1&nbsp;&nbsp;</span>Тарифы</a></span></li><li><span><a href=\"#Пользователи\" data-toc-modified-id=\"Пользователи-1.2\"><span class=\"toc-item-num\">1.2&nbsp;&nbsp;</span>Пользователи</a></span></li><li><span><a href=\"#Интернет\" data-toc-modified-id=\"Интернет-1.3\"><span class=\"toc-item-num\">1.3&nbsp;&nbsp;</span>Интернет</a></span></li><li><span><a href=\"#Звонки\" data-toc-modified-id=\"Звонки-1.4\"><span class=\"toc-item-num\">1.4&nbsp;&nbsp;</span>Звонки</a></span></li><li><span><a href=\"#Сообщения\" data-toc-modified-id=\"Сообщения-1.5\"><span class=\"toc-item-num\">1.5&nbsp;&nbsp;</span>Сообщения</a></span></li></ul></li><li><span><a href=\"#Предобработка-данных\" data-toc-modified-id=\"Предобработка-данных-2\"><span class=\"toc-item-num\">2&nbsp;&nbsp;</span>Предобработка данных</a></span><ul class=\"toc-item\"><li><span><a href=\"#Типы-данных\" data-toc-modified-id=\"Типы-данных-2.1\"><span class=\"toc-item-num\">2.1&nbsp;&nbsp;</span>Типы данных</a></span></li><li><span><a href=\"#Корректность-данных\" data-toc-modified-id=\"Корректность-данных-2.2\"><span class=\"toc-item-num\">2.2&nbsp;&nbsp;</span>Корректность данных</a></span></li></ul></li><li><span><a href=\"#Расчёты\" data-toc-modified-id=\"Расчёты-3\"><span class=\"toc-item-num\">3&nbsp;&nbsp;</span>Расчёты</a></span></li><li><span><a href=\"#Исследовательский-анализ\" data-toc-modified-id=\"Исследовательский-анализ-4\"><span class=\"toc-item-num\">4&nbsp;&nbsp;</span>Исследовательский анализ</a></span><ul class=\"toc-item\"><li><span><a href=\"#Звонки\" data-toc-modified-id=\"Звонки-4.1\"><span class=\"toc-item-num\">4.1&nbsp;&nbsp;</span>Звонки</a></span></li><li><span><a href=\"#Интернет-трафик\" data-toc-modified-id=\"Интернет-трафик-4.2\"><span class=\"toc-item-num\">4.2&nbsp;&nbsp;</span>Интернет-трафик</a></span></li><li><span><a href=\"#Сообщения\" data-toc-modified-id=\"Сообщения-4.3\"><span class=\"toc-item-num\">4.3&nbsp;&nbsp;</span>Сообщения</a></span></li><li><span><a href=\"#Выручка\" data-toc-modified-id=\"Выручка-4.4\"><span class=\"toc-item-num\">4.4&nbsp;&nbsp;</span>Выручка</a></span></li></ul></li><li><span><a href=\"#Проверка-гипотез\" data-toc-modified-id=\"Проверка-гипотез-5\"><span class=\"toc-item-num\">5&nbsp;&nbsp;</span>Проверка гипотез</a></span><ul class=\"toc-item\"><li><span><a href=\"#Средняя-выручка-по-тарифам\" data-toc-modified-id=\"Средняя-выручка-по-тарифам-5.1\"><span class=\"toc-item-num\">5.1&nbsp;&nbsp;</span>Средняя выручка по тарифам</a></span></li><li><span><a href=\"#Средняя-выручка-по-регионам\" data-toc-modified-id=\"Средняя-выручка-по-регионам-5.2\"><span class=\"toc-item-num\">5.2&nbsp;&nbsp;</span>Средняя выручка по регионам</a></span></li></ul></li><li><span><a href=\"#Общий-вывод\" data-toc-modified-id=\"Общий-вывод-6\"><span class=\"toc-item-num\">6&nbsp;&nbsp;</span>Общий вывод</a></span></li><li><span><a href=\"#Общий-вывод-по-проекту\" data-toc-modified-id=\"Общий-вывод-по-проекту-7\"><span class=\"toc-item-num\">7&nbsp;&nbsp;</span>Общий вывод по проекту</a></span></li></ul></div>"
   ]
  },
  {
   "cell_type": "markdown",
   "metadata": {},
   "source": [
    "# Исследование тарифных планов"
   ]
  },
  {
   "cell_type": "markdown",
   "metadata": {},
   "source": [
    "Федеральный оператор сотовой связи «Мегалайн» предлагает клиентам два тарифных плана: «Смарт» и «Ультра». Чтобы скорректировать рекламный бюджет, коммерческий департамент хочет понять, какой тариф приносит больше денег.\n",
    "Нам предстоит сделать предварительный анализ тарифов на небольшой выборке клиентов. В нашем распоряжении данные 500 пользователей «Мегалайна»: кто они, откуда, каким тарифом пользуются, сколько звонков и сообщений каждый отправил за 2018 год. Нужно проанализировать поведение клиентов и сделать вывод — какой тариф лучше."
   ]
  },
  {
   "cell_type": "markdown",
   "metadata": {},
   "source": [
    "### Описание тарифов\n",
    "\n",
    "***Тариф «Смарт»***\n",
    "1. Ежемесячная плата: 550 рублей\n",
    "2. Включено 500 минут разговора, 50 сообщений и 15 Гб интернет-трафика\n",
    "3. Стоимость услуг сверх тарифного пакета:\n",
    "    - минута разговора: 3 рубля\n",
    "    - сообщение: 3 рубля\n",
    "    - 1 Гб интернет-трафика: 200 рублей\n",
    "***Тариф «Ультра»***\n",
    "1. Ежемесячная плата: 1950 рублей\n",
    "2. Включено 3000 минут разговора, 1000 сообщений и 30 Гб интернет-трафика\n",
    "3. Стоимость услуг сверх тарифного пакета:\n",
    "    - минута разговора: 1 рубль\n",
    "    - сообщение: 1 рубль\n",
    "    - 1 Гб интернет-трафика: 150 рублей\n",
    "\n",
    "*Примечание:\n",
    "«Мегалайн» всегда округляет секунды до минут, а мегабайты — до гигабайт. Каждый звонок округляется отдельно: даже если он длился всего 1 секунду, будет засчитан как 1 минута.\n",
    "Для веб-трафика отдельные сессии не считаются. Вместо этого общая сумма за месяц округляется в бо́льшую сторону. Если абонент использует 1025 мегабайт в этом месяце, с него возьмут плату за 2 гигабайта.*"
   ]
  },
  {
   "cell_type": "markdown",
   "metadata": {},
   "source": [
    "### План работ:\n",
    "1. Откроем файлы с данными и изучим общую информацию\n",
    "    <br>`calls.csv`\n",
    "    <br>`internet.csv`\n",
    "    <br>`messages.csv`\n",
    "    <br>`tariffs.csv`\n",
    "    <br>`users.csv`\n",
    "<br><br>\n",
    "2. Подготовим данные:\n",
    "    - приведем к нужным типам;\n",
    "    - найдем и исправим ошибки в данных, если они есть;\n",
    "    - посчитаем для каждого пользователя:\n",
    "        * количество сделанных звонков и израсходованных минут разговора по месяцам;\n",
    "        * количество отправленных сообщений по месяцам;\n",
    "        * объем израсходованного интернет-трафика по месяцам;\n",
    "        * помесячную выручку с каждого пользователя.\n",
    "<br><br>\n",
    "3. Проанализируем данные:\n",
    "    <br>Опишем поведение клиентов оператора, исходя из выборки. Сколько минут разговора, сколько сообщений и какой объём интернет-трафика требуется пользователям каждого тарифа в месяц? Посчитаем среднее количество, дисперсию и стандартное отклонение. Построим гистограммы.\n",
    "<br><br>\n",
    "4. Проверим гипотезы:\n",
    "- средняя выручка пользователей тарифов «Ультра» и «Смарт» различаются;\n",
    "- средняя выручка пользователей из Москвы отличается от выручки пользователей из других регионов.\n",
    "5. Общий вывод"
   ]
  },
  {
   "cell_type": "markdown",
   "metadata": {},
   "source": [
    "## Изучение данных"
   ]
  },
  {
   "cell_type": "code",
   "execution_count": 1,
   "metadata": {},
   "outputs": [],
   "source": [
    "import pandas as pd\n",
    "import numpy as np\n",
    "import matplotlib.pyplot as plt\n",
    "import math\n",
    "from math import factorial\n",
    "import datetime as dt\n",
    "from datetime import date\n",
    "import seaborn as sb\n",
    "from scipy import stats as st\n",
    "from scipy.stats import norm\n",
    "import os"
   ]
  },
  {
   "cell_type": "code",
   "execution_count": 2,
   "metadata": {},
   "outputs": [],
   "source": [
    "pth1 = '/datasets/'\n",
    "pth2 = ''\n",
    "pth = ''\n",
    "if os.path.exists(pth1+'calls.csv'):\n",
    "    pth = pth1\n",
    "elif os.path.exists(pth2+'calls.csv'):\n",
    "    pth = pth2\n",
    "else:\n",
    "    print('Something is wrong')\n",
    "\n",
    "try:\n",
    "    df_calls = pd.read_csv(pth+'calls.csv')\n",
    "    df_users = pd.read_csv(pth+'users.csv')\n",
    "    df_tariffs = pd.read_csv(pth+'tariffs.csv')\n",
    "    df_messages = pd.read_csv(pth+'messages.csv')\n",
    "    df_internet = pd.read_csv(pth+'internet.csv')\n",
    "except:\n",
    "    print('Something is wrong')"
   ]
  },
  {
   "cell_type": "markdown",
   "metadata": {},
   "source": [
    "### Тарифы"
   ]
  },
  {
   "cell_type": "code",
   "execution_count": 3,
   "metadata": {},
   "outputs": [
    {
     "name": "stdout",
     "output_type": "stream",
     "text": [
      "<class 'pandas.core.frame.DataFrame'>\n",
      "RangeIndex: 2 entries, 0 to 1\n",
      "Data columns (total 8 columns):\n",
      " #   Column                 Non-Null Count  Dtype \n",
      "---  ------                 --------------  ----- \n",
      " 0   messages_included      2 non-null      int64 \n",
      " 1   mb_per_month_included  2 non-null      int64 \n",
      " 2   minutes_included       2 non-null      int64 \n",
      " 3   rub_monthly_fee        2 non-null      int64 \n",
      " 4   rub_per_gb             2 non-null      int64 \n",
      " 5   rub_per_message        2 non-null      int64 \n",
      " 6   rub_per_minute         2 non-null      int64 \n",
      " 7   tariff_name            2 non-null      object\n",
      "dtypes: int64(7), object(1)\n",
      "memory usage: 256.0+ bytes\n"
     ]
    },
    {
     "data": {
      "text/html": [
       "<div>\n",
       "<style scoped>\n",
       "    .dataframe tbody tr th:only-of-type {\n",
       "        vertical-align: middle;\n",
       "    }\n",
       "\n",
       "    .dataframe tbody tr th {\n",
       "        vertical-align: top;\n",
       "    }\n",
       "\n",
       "    .dataframe thead th {\n",
       "        text-align: right;\n",
       "    }\n",
       "</style>\n",
       "<table border=\"1\" class=\"dataframe\">\n",
       "  <thead>\n",
       "    <tr style=\"text-align: right;\">\n",
       "      <th></th>\n",
       "      <th>messages_included</th>\n",
       "      <th>mb_per_month_included</th>\n",
       "      <th>minutes_included</th>\n",
       "      <th>rub_monthly_fee</th>\n",
       "      <th>rub_per_gb</th>\n",
       "      <th>rub_per_message</th>\n",
       "      <th>rub_per_minute</th>\n",
       "      <th>tariff_name</th>\n",
       "    </tr>\n",
       "  </thead>\n",
       "  <tbody>\n",
       "    <tr>\n",
       "      <th>0</th>\n",
       "      <td>50</td>\n",
       "      <td>15360</td>\n",
       "      <td>500</td>\n",
       "      <td>550</td>\n",
       "      <td>200</td>\n",
       "      <td>3</td>\n",
       "      <td>3</td>\n",
       "      <td>smart</td>\n",
       "    </tr>\n",
       "    <tr>\n",
       "      <th>1</th>\n",
       "      <td>1000</td>\n",
       "      <td>30720</td>\n",
       "      <td>3000</td>\n",
       "      <td>1950</td>\n",
       "      <td>150</td>\n",
       "      <td>1</td>\n",
       "      <td>1</td>\n",
       "      <td>ultra</td>\n",
       "    </tr>\n",
       "  </tbody>\n",
       "</table>\n",
       "</div>"
      ],
      "text/plain": [
       "   messages_included  mb_per_month_included  minutes_included  \\\n",
       "0                 50                  15360               500   \n",
       "1               1000                  30720              3000   \n",
       "\n",
       "   rub_monthly_fee  rub_per_gb  rub_per_message  rub_per_minute tariff_name  \n",
       "0              550         200                3               3       smart  \n",
       "1             1950         150                1               1       ultra  "
      ]
     },
     "execution_count": 3,
     "metadata": {},
     "output_type": "execute_result"
    }
   ],
   "source": [
    "df_tariffs.info()\n",
    "df_tariffs"
   ]
  },
  {
   "cell_type": "markdown",
   "metadata": {},
   "source": [
    "Таблица `df_tariffs` имеет 8 столбцов, 2 строки и содержит информацию о тарифах.\n",
    "\n",
    "Согласно документации:<br>\n",
    "`tariff_name` — название тарифа;<br>\n",
    "`rub_monthly_fee` — ежемесячная абонентская плата в рублях;<br>\n",
    "`minutes_included` — количество минут разговора в месяц, включённых в абонентскую плату;<br>\n",
    "`messages_included` — количество сообщений в месяц, включённых в абонентскую плату;<br>\n",
    "`mb_per_month_included` — объём интернет-трафика, включённого в абонентскую плату (в мегабайтах);<br>\n",
    "`rub_per_minute` — стоимость минуты разговора сверх тарифного пакета (например, если в тарифе 100 минут разговора в месяц, то со 101 минуты будет взиматься плата);<br>\n",
    "`rub_per_message` — стоимость отправки сообщения сверх тарифного пакета;<br>\n",
    "`rub_per_gb` — стоимость дополнительного гигабайта интернет-трафика сверх тарифного пакета (1 гигабайт = 1024 мегабайта)."
   ]
  },
  {
   "cell_type": "markdown",
   "metadata": {},
   "source": [
    "### Пользователи"
   ]
  },
  {
   "cell_type": "code",
   "execution_count": 4,
   "metadata": {},
   "outputs": [
    {
     "name": "stdout",
     "output_type": "stream",
     "text": [
      "<class 'pandas.core.frame.DataFrame'>\n",
      "RangeIndex: 500 entries, 0 to 499\n",
      "Data columns (total 8 columns):\n",
      " #   Column      Non-Null Count  Dtype \n",
      "---  ------      --------------  ----- \n",
      " 0   user_id     500 non-null    int64 \n",
      " 1   age         500 non-null    int64 \n",
      " 2   churn_date  38 non-null     object\n",
      " 3   city        500 non-null    object\n",
      " 4   first_name  500 non-null    object\n",
      " 5   last_name   500 non-null    object\n",
      " 6   reg_date    500 non-null    object\n",
      " 7   tariff      500 non-null    object\n",
      "dtypes: int64(2), object(6)\n",
      "memory usage: 31.4+ KB\n"
     ]
    },
    {
     "data": {
      "text/html": [
       "<div>\n",
       "<style scoped>\n",
       "    .dataframe tbody tr th:only-of-type {\n",
       "        vertical-align: middle;\n",
       "    }\n",
       "\n",
       "    .dataframe tbody tr th {\n",
       "        vertical-align: top;\n",
       "    }\n",
       "\n",
       "    .dataframe thead th {\n",
       "        text-align: right;\n",
       "    }\n",
       "</style>\n",
       "<table border=\"1\" class=\"dataframe\">\n",
       "  <thead>\n",
       "    <tr style=\"text-align: right;\">\n",
       "      <th></th>\n",
       "      <th>user_id</th>\n",
       "      <th>age</th>\n",
       "      <th>churn_date</th>\n",
       "      <th>city</th>\n",
       "      <th>first_name</th>\n",
       "      <th>last_name</th>\n",
       "      <th>reg_date</th>\n",
       "      <th>tariff</th>\n",
       "    </tr>\n",
       "  </thead>\n",
       "  <tbody>\n",
       "    <tr>\n",
       "      <th>0</th>\n",
       "      <td>1000</td>\n",
       "      <td>52</td>\n",
       "      <td>NaN</td>\n",
       "      <td>Краснодар</td>\n",
       "      <td>Рафаил</td>\n",
       "      <td>Верещагин</td>\n",
       "      <td>2018-05-25</td>\n",
       "      <td>ultra</td>\n",
       "    </tr>\n",
       "    <tr>\n",
       "      <th>1</th>\n",
       "      <td>1001</td>\n",
       "      <td>41</td>\n",
       "      <td>NaN</td>\n",
       "      <td>Москва</td>\n",
       "      <td>Иван</td>\n",
       "      <td>Ежов</td>\n",
       "      <td>2018-11-01</td>\n",
       "      <td>smart</td>\n",
       "    </tr>\n",
       "    <tr>\n",
       "      <th>2</th>\n",
       "      <td>1002</td>\n",
       "      <td>59</td>\n",
       "      <td>NaN</td>\n",
       "      <td>Стерлитамак</td>\n",
       "      <td>Евгений</td>\n",
       "      <td>Абрамович</td>\n",
       "      <td>2018-06-17</td>\n",
       "      <td>smart</td>\n",
       "    </tr>\n",
       "    <tr>\n",
       "      <th>3</th>\n",
       "      <td>1003</td>\n",
       "      <td>23</td>\n",
       "      <td>NaN</td>\n",
       "      <td>Москва</td>\n",
       "      <td>Белла</td>\n",
       "      <td>Белякова</td>\n",
       "      <td>2018-08-17</td>\n",
       "      <td>ultra</td>\n",
       "    </tr>\n",
       "    <tr>\n",
       "      <th>4</th>\n",
       "      <td>1004</td>\n",
       "      <td>68</td>\n",
       "      <td>NaN</td>\n",
       "      <td>Новокузнецк</td>\n",
       "      <td>Татьяна</td>\n",
       "      <td>Авдеенко</td>\n",
       "      <td>2018-05-14</td>\n",
       "      <td>ultra</td>\n",
       "    </tr>\n",
       "  </tbody>\n",
       "</table>\n",
       "</div>"
      ],
      "text/plain": [
       "   user_id  age churn_date         city first_name  last_name    reg_date  \\\n",
       "0     1000   52        NaN    Краснодар     Рафаил  Верещагин  2018-05-25   \n",
       "1     1001   41        NaN       Москва       Иван       Ежов  2018-11-01   \n",
       "2     1002   59        NaN  Стерлитамак    Евгений  Абрамович  2018-06-17   \n",
       "3     1003   23        NaN       Москва      Белла   Белякова  2018-08-17   \n",
       "4     1004   68        NaN  Новокузнецк    Татьяна   Авдеенко  2018-05-14   \n",
       "\n",
       "  tariff  \n",
       "0  ultra  \n",
       "1  smart  \n",
       "2  smart  \n",
       "3  ultra  \n",
       "4  ultra  "
      ]
     },
     "execution_count": 4,
     "metadata": {},
     "output_type": "execute_result"
    }
   ],
   "source": [
    "df_users.info()\n",
    "df_users.head(5)"
   ]
  },
  {
   "cell_type": "markdown",
   "metadata": {},
   "source": [
    "Таблица `df_users` имеет 8 столбцов, 500 строк и содержит данные о 500 клиентах.\n",
    "\n",
    "Согласно документации:<br>\n",
    "`user_id` — уникальный идентификатор пользователя;<br>\n",
    "`first_name` — имя пользователя;<br>\n",
    "`last_name` — фамилия пользователя;<br>\n",
    "`age` — возраст пользователя (годы);<br>\n",
    "`reg_date` — дата подключения тарифа (день, месяц, год);<br>\n",
    "`churn_date` — дата прекращения пользования тарифом (если значение пропущено, то тариф ещё действовал на момент выгрузки данных);<br>\n",
    "`city` — город проживания пользователя;<br>\n",
    "`tariff` — название тарифного плана.<br>\n",
    "\n",
    "Пропущенные данные есть только в столбце `churn_date`, где это нормально по смыслу.\n",
    "<br>`reg_date`, `churn_date` нужно привести к типу `datetime`."
   ]
  },
  {
   "cell_type": "markdown",
   "metadata": {},
   "source": [
    "### Интернет"
   ]
  },
  {
   "cell_type": "code",
   "execution_count": 5,
   "metadata": {},
   "outputs": [
    {
     "name": "stdout",
     "output_type": "stream",
     "text": [
      "<class 'pandas.core.frame.DataFrame'>\n",
      "RangeIndex: 149396 entries, 0 to 149395\n",
      "Data columns (total 5 columns):\n",
      " #   Column        Non-Null Count   Dtype  \n",
      "---  ------        --------------   -----  \n",
      " 0   Unnamed: 0    149396 non-null  int64  \n",
      " 1   id            149396 non-null  object \n",
      " 2   mb_used       149396 non-null  float64\n",
      " 3   session_date  149396 non-null  object \n",
      " 4   user_id       149396 non-null  int64  \n",
      "dtypes: float64(1), int64(2), object(2)\n",
      "memory usage: 5.7+ MB\n"
     ]
    },
    {
     "data": {
      "text/html": [
       "<div>\n",
       "<style scoped>\n",
       "    .dataframe tbody tr th:only-of-type {\n",
       "        vertical-align: middle;\n",
       "    }\n",
       "\n",
       "    .dataframe tbody tr th {\n",
       "        vertical-align: top;\n",
       "    }\n",
       "\n",
       "    .dataframe thead th {\n",
       "        text-align: right;\n",
       "    }\n",
       "</style>\n",
       "<table border=\"1\" class=\"dataframe\">\n",
       "  <thead>\n",
       "    <tr style=\"text-align: right;\">\n",
       "      <th></th>\n",
       "      <th>Unnamed: 0</th>\n",
       "      <th>id</th>\n",
       "      <th>mb_used</th>\n",
       "      <th>session_date</th>\n",
       "      <th>user_id</th>\n",
       "    </tr>\n",
       "  </thead>\n",
       "  <tbody>\n",
       "    <tr>\n",
       "      <th>0</th>\n",
       "      <td>0</td>\n",
       "      <td>1000_0</td>\n",
       "      <td>112.95</td>\n",
       "      <td>2018-11-25</td>\n",
       "      <td>1000</td>\n",
       "    </tr>\n",
       "    <tr>\n",
       "      <th>1</th>\n",
       "      <td>1</td>\n",
       "      <td>1000_1</td>\n",
       "      <td>1052.81</td>\n",
       "      <td>2018-09-07</td>\n",
       "      <td>1000</td>\n",
       "    </tr>\n",
       "    <tr>\n",
       "      <th>2</th>\n",
       "      <td>2</td>\n",
       "      <td>1000_2</td>\n",
       "      <td>1197.26</td>\n",
       "      <td>2018-06-25</td>\n",
       "      <td>1000</td>\n",
       "    </tr>\n",
       "    <tr>\n",
       "      <th>3</th>\n",
       "      <td>3</td>\n",
       "      <td>1000_3</td>\n",
       "      <td>550.27</td>\n",
       "      <td>2018-08-22</td>\n",
       "      <td>1000</td>\n",
       "    </tr>\n",
       "    <tr>\n",
       "      <th>4</th>\n",
       "      <td>4</td>\n",
       "      <td>1000_4</td>\n",
       "      <td>302.56</td>\n",
       "      <td>2018-09-24</td>\n",
       "      <td>1000</td>\n",
       "    </tr>\n",
       "  </tbody>\n",
       "</table>\n",
       "</div>"
      ],
      "text/plain": [
       "   Unnamed: 0      id  mb_used session_date  user_id\n",
       "0           0  1000_0   112.95   2018-11-25     1000\n",
       "1           1  1000_1  1052.81   2018-09-07     1000\n",
       "2           2  1000_2  1197.26   2018-06-25     1000\n",
       "3           3  1000_3   550.27   2018-08-22     1000\n",
       "4           4  1000_4   302.56   2018-09-24     1000"
      ]
     },
     "execution_count": 5,
     "metadata": {},
     "output_type": "execute_result"
    }
   ],
   "source": [
    "df_internet.info()\n",
    "df_internet.head(5)"
   ]
  },
  {
   "cell_type": "markdown",
   "metadata": {},
   "source": [
    "Таблица `df_internet` имеет 5 столбцов, 149396 строк и содержит информацию об интернет-сессиях пользователей.\n",
    "\n",
    "Согласно документации:<br>\n",
    "`id` — уникальный номер сессии;<br>\n",
    "`mb_used` — объём потраченного за сессию интернет-трафика (в мегабайтах);<br>\n",
    "`session_date` — дата интернет-сессии;<br>\n",
    "`user_id` — идентификатор пользователя.\n",
    "\n",
    "Столбец `Unnamed: 0`, вероятно, попал в выгрузку в результате технической ошибки. Он не содержит никакой информации, дублирует индекс, и его нужно удалить.\n",
    "<br>Пропущенных данных нет.<br>\n",
    "`session_date` необходимо привести к типу `datetime`.\n",
    "<br>Порядок `id` сессии не соответствует порядку дат в `session_date`, `id` имеет строковый тип. `user_id` имеет целый тип."
   ]
  },
  {
   "cell_type": "markdown",
   "metadata": {},
   "source": [
    "### Звонки"
   ]
  },
  {
   "cell_type": "code",
   "execution_count": 6,
   "metadata": {},
   "outputs": [
    {
     "name": "stdout",
     "output_type": "stream",
     "text": [
      "<class 'pandas.core.frame.DataFrame'>\n",
      "RangeIndex: 202607 entries, 0 to 202606\n",
      "Data columns (total 4 columns):\n",
      " #   Column     Non-Null Count   Dtype  \n",
      "---  ------     --------------   -----  \n",
      " 0   id         202607 non-null  object \n",
      " 1   call_date  202607 non-null  object \n",
      " 2   duration   202607 non-null  float64\n",
      " 3   user_id    202607 non-null  int64  \n",
      "dtypes: float64(1), int64(1), object(2)\n",
      "memory usage: 6.2+ MB\n"
     ]
    },
    {
     "data": {
      "text/html": [
       "<div>\n",
       "<style scoped>\n",
       "    .dataframe tbody tr th:only-of-type {\n",
       "        vertical-align: middle;\n",
       "    }\n",
       "\n",
       "    .dataframe tbody tr th {\n",
       "        vertical-align: top;\n",
       "    }\n",
       "\n",
       "    .dataframe thead th {\n",
       "        text-align: right;\n",
       "    }\n",
       "</style>\n",
       "<table border=\"1\" class=\"dataframe\">\n",
       "  <thead>\n",
       "    <tr style=\"text-align: right;\">\n",
       "      <th></th>\n",
       "      <th>id</th>\n",
       "      <th>call_date</th>\n",
       "      <th>duration</th>\n",
       "      <th>user_id</th>\n",
       "    </tr>\n",
       "  </thead>\n",
       "  <tbody>\n",
       "    <tr>\n",
       "      <th>0</th>\n",
       "      <td>1000_0</td>\n",
       "      <td>2018-07-25</td>\n",
       "      <td>0.00</td>\n",
       "      <td>1000</td>\n",
       "    </tr>\n",
       "    <tr>\n",
       "      <th>1</th>\n",
       "      <td>1000_1</td>\n",
       "      <td>2018-08-17</td>\n",
       "      <td>0.00</td>\n",
       "      <td>1000</td>\n",
       "    </tr>\n",
       "    <tr>\n",
       "      <th>2</th>\n",
       "      <td>1000_2</td>\n",
       "      <td>2018-06-11</td>\n",
       "      <td>2.85</td>\n",
       "      <td>1000</td>\n",
       "    </tr>\n",
       "    <tr>\n",
       "      <th>3</th>\n",
       "      <td>1000_3</td>\n",
       "      <td>2018-09-21</td>\n",
       "      <td>13.80</td>\n",
       "      <td>1000</td>\n",
       "    </tr>\n",
       "    <tr>\n",
       "      <th>4</th>\n",
       "      <td>1000_4</td>\n",
       "      <td>2018-12-15</td>\n",
       "      <td>5.18</td>\n",
       "      <td>1000</td>\n",
       "    </tr>\n",
       "  </tbody>\n",
       "</table>\n",
       "</div>"
      ],
      "text/plain": [
       "       id   call_date  duration  user_id\n",
       "0  1000_0  2018-07-25      0.00     1000\n",
       "1  1000_1  2018-08-17      0.00     1000\n",
       "2  1000_2  2018-06-11      2.85     1000\n",
       "3  1000_3  2018-09-21     13.80     1000\n",
       "4  1000_4  2018-12-15      5.18     1000"
      ]
     },
     "execution_count": 6,
     "metadata": {},
     "output_type": "execute_result"
    }
   ],
   "source": [
    "df_calls.info()\n",
    "df_calls.head(5)"
   ]
  },
  {
   "cell_type": "markdown",
   "metadata": {},
   "source": [
    "Таблица `df_calls` имеет 4 столбца, 202607 строк и содержит информацию о звонках.\n",
    "\n",
    "Согласно документации:<br>\n",
    "`id` — уникальный номер звонка;<br>\n",
    "`call_date` — дата звонка;<br>\n",
    "`duration` — длительность звонка в минутах;<br>\n",
    "`user_id` — идентификатор пользователя, сделавшего звонок.\n",
    "\n",
    "Пропущенных данных нет.\n",
    "<br>Столбец `call_date` необходимо привести к типу `datetime`."
   ]
  },
  {
   "cell_type": "markdown",
   "metadata": {},
   "source": [
    "### Сообщения"
   ]
  },
  {
   "cell_type": "code",
   "execution_count": 7,
   "metadata": {},
   "outputs": [
    {
     "name": "stdout",
     "output_type": "stream",
     "text": [
      "<class 'pandas.core.frame.DataFrame'>\n",
      "RangeIndex: 123036 entries, 0 to 123035\n",
      "Data columns (total 3 columns):\n",
      " #   Column        Non-Null Count   Dtype \n",
      "---  ------        --------------   ----- \n",
      " 0   id            123036 non-null  object\n",
      " 1   message_date  123036 non-null  object\n",
      " 2   user_id       123036 non-null  int64 \n",
      "dtypes: int64(1), object(2)\n",
      "memory usage: 2.8+ MB\n"
     ]
    },
    {
     "data": {
      "text/html": [
       "<div>\n",
       "<style scoped>\n",
       "    .dataframe tbody tr th:only-of-type {\n",
       "        vertical-align: middle;\n",
       "    }\n",
       "\n",
       "    .dataframe tbody tr th {\n",
       "        vertical-align: top;\n",
       "    }\n",
       "\n",
       "    .dataframe thead th {\n",
       "        text-align: right;\n",
       "    }\n",
       "</style>\n",
       "<table border=\"1\" class=\"dataframe\">\n",
       "  <thead>\n",
       "    <tr style=\"text-align: right;\">\n",
       "      <th></th>\n",
       "      <th>id</th>\n",
       "      <th>message_date</th>\n",
       "      <th>user_id</th>\n",
       "    </tr>\n",
       "  </thead>\n",
       "  <tbody>\n",
       "    <tr>\n",
       "      <th>0</th>\n",
       "      <td>1000_0</td>\n",
       "      <td>2018-06-27</td>\n",
       "      <td>1000</td>\n",
       "    </tr>\n",
       "    <tr>\n",
       "      <th>1</th>\n",
       "      <td>1000_1</td>\n",
       "      <td>2018-10-08</td>\n",
       "      <td>1000</td>\n",
       "    </tr>\n",
       "    <tr>\n",
       "      <th>2</th>\n",
       "      <td>1000_2</td>\n",
       "      <td>2018-08-04</td>\n",
       "      <td>1000</td>\n",
       "    </tr>\n",
       "    <tr>\n",
       "      <th>3</th>\n",
       "      <td>1000_3</td>\n",
       "      <td>2018-06-16</td>\n",
       "      <td>1000</td>\n",
       "    </tr>\n",
       "    <tr>\n",
       "      <th>4</th>\n",
       "      <td>1000_4</td>\n",
       "      <td>2018-12-05</td>\n",
       "      <td>1000</td>\n",
       "    </tr>\n",
       "  </tbody>\n",
       "</table>\n",
       "</div>"
      ],
      "text/plain": [
       "       id message_date  user_id\n",
       "0  1000_0   2018-06-27     1000\n",
       "1  1000_1   2018-10-08     1000\n",
       "2  1000_2   2018-08-04     1000\n",
       "3  1000_3   2018-06-16     1000\n",
       "4  1000_4   2018-12-05     1000"
      ]
     },
     "execution_count": 7,
     "metadata": {},
     "output_type": "execute_result"
    }
   ],
   "source": [
    "df_messages.info()\n",
    "df_messages.head(5)"
   ]
  },
  {
   "cell_type": "markdown",
   "metadata": {},
   "source": [
    "Таблица `df_messages` имеет 3 столбца, 123036 строк и содержит информацию об СМС-сообщениях.\n",
    "\n",
    "Согласно документации:<br>\n",
    "`id` — уникальный номер сообщения;<br>\n",
    "`message_date` — дата сообщения;<br>\n",
    "`user_id` — идентификатор пользователя, отправившего сообщение.\n",
    "\n",
    "Пропущенных данных нет.\n",
    "<br>`message_date` необходимо привести к типу `datetime`."
   ]
  },
  {
   "cell_type": "markdown",
   "metadata": {},
   "source": [
    "## Предобработка данных"
   ]
  },
  {
   "cell_type": "code",
   "execution_count": 8,
   "metadata": {},
   "outputs": [],
   "source": [
    "df_internet = df_internet.drop(columns=['Unnamed: 0'])"
   ]
  },
  {
   "cell_type": "markdown",
   "metadata": {},
   "source": [
    "### Типы данных"
   ]
  },
  {
   "cell_type": "code",
   "execution_count": 9,
   "metadata": {},
   "outputs": [
    {
     "name": "stdout",
     "output_type": "stream",
     "text": [
      "<class 'pandas.core.frame.DataFrame'>\n",
      "RangeIndex: 500 entries, 0 to 499\n",
      "Data columns (total 8 columns):\n",
      " #   Column      Non-Null Count  Dtype         \n",
      "---  ------      --------------  -----         \n",
      " 0   user_id     500 non-null    int64         \n",
      " 1   age         500 non-null    int64         \n",
      " 2   churn_date  38 non-null     datetime64[ns]\n",
      " 3   city        500 non-null    object        \n",
      " 4   first_name  500 non-null    object        \n",
      " 5   last_name   500 non-null    object        \n",
      " 6   reg_date    500 non-null    datetime64[ns]\n",
      " 7   tariff      500 non-null    object        \n",
      "dtypes: datetime64[ns](2), int64(2), object(4)\n",
      "memory usage: 31.4+ KB\n"
     ]
    }
   ],
   "source": [
    "df_users['churn_date'] = pd.to_datetime(df_users['churn_date'], format='%Y-%m-%d', errors='coerce')\n",
    "df_users['reg_date'] = pd.to_datetime(df_users['reg_date'], format='%Y-%m-%d', errors='coerce')\n",
    "df_users.info()"
   ]
  },
  {
   "cell_type": "code",
   "execution_count": 10,
   "metadata": {},
   "outputs": [
    {
     "name": "stdout",
     "output_type": "stream",
     "text": [
      "<class 'pandas.core.frame.DataFrame'>\n",
      "RangeIndex: 149396 entries, 0 to 149395\n",
      "Data columns (total 4 columns):\n",
      " #   Column        Non-Null Count   Dtype         \n",
      "---  ------        --------------   -----         \n",
      " 0   id            149396 non-null  object        \n",
      " 1   mb_used       149396 non-null  float64       \n",
      " 2   session_date  149396 non-null  datetime64[ns]\n",
      " 3   user_id       149396 non-null  int64         \n",
      "dtypes: datetime64[ns](1), float64(1), int64(1), object(1)\n",
      "memory usage: 4.6+ MB\n"
     ]
    }
   ],
   "source": [
    "df_internet['session_date'] = pd.to_datetime(df_internet['session_date'], format='%Y-%m-%d', errors='coerce')\n",
    "df_internet.info()"
   ]
  },
  {
   "cell_type": "code",
   "execution_count": 11,
   "metadata": {},
   "outputs": [
    {
     "name": "stdout",
     "output_type": "stream",
     "text": [
      "<class 'pandas.core.frame.DataFrame'>\n",
      "RangeIndex: 202607 entries, 0 to 202606\n",
      "Data columns (total 4 columns):\n",
      " #   Column     Non-Null Count   Dtype         \n",
      "---  ------     --------------   -----         \n",
      " 0   id         202607 non-null  object        \n",
      " 1   call_date  202607 non-null  datetime64[ns]\n",
      " 2   duration   202607 non-null  float64       \n",
      " 3   user_id    202607 non-null  int64         \n",
      "dtypes: datetime64[ns](1), float64(1), int64(1), object(1)\n",
      "memory usage: 6.2+ MB\n"
     ]
    }
   ],
   "source": [
    "df_calls['call_date'] = pd.to_datetime(df_calls['call_date'], format='%Y-%m-%d', errors='coerce')\n",
    "df_calls.info()"
   ]
  },
  {
   "cell_type": "code",
   "execution_count": 12,
   "metadata": {},
   "outputs": [
    {
     "name": "stdout",
     "output_type": "stream",
     "text": [
      "<class 'pandas.core.frame.DataFrame'>\n",
      "RangeIndex: 123036 entries, 0 to 123035\n",
      "Data columns (total 3 columns):\n",
      " #   Column        Non-Null Count   Dtype         \n",
      "---  ------        --------------   -----         \n",
      " 0   id            123036 non-null  object        \n",
      " 1   message_date  123036 non-null  datetime64[ns]\n",
      " 2   user_id       123036 non-null  int64         \n",
      "dtypes: datetime64[ns](1), int64(1), object(1)\n",
      "memory usage: 2.8+ MB\n"
     ]
    }
   ],
   "source": [
    "df_messages['message_date'] = pd.to_datetime(df_messages['message_date'], format='%Y-%m-%d', errors='coerce')\n",
    "df_messages.info()"
   ]
  },
  {
   "cell_type": "markdown",
   "metadata": {},
   "source": [
    "### Корректность данных"
   ]
  },
  {
   "cell_type": "code",
   "execution_count": 13,
   "metadata": {},
   "outputs": [
    {
     "data": {
      "text/plain": [
       "1000    1\n",
       "1001    1\n",
       "1002    1\n",
       "1003    1\n",
       "1004    1\n",
       "       ..\n",
       "1495    1\n",
       "1496    1\n",
       "1497    1\n",
       "1498    1\n",
       "1499    1\n",
       "Name: user_id, Length: 500, dtype: int64"
      ]
     },
     "execution_count": 13,
     "metadata": {},
     "output_type": "execute_result"
    }
   ],
   "source": [
    "df_users['user_id'].value_counts().sort_index(ascending=True)"
   ]
  },
  {
   "cell_type": "code",
   "execution_count": 14,
   "metadata": {},
   "outputs": [
    {
     "name": "stdout",
     "output_type": "stream",
     "text": [
      "2018-01-01 00:00:00\n",
      "2018-12-31 00:00:00\n"
     ]
    }
   ],
   "source": [
    "print(df_users['reg_date'].min())\n",
    "print(df_users['reg_date'].max())"
   ]
  },
  {
   "cell_type": "code",
   "execution_count": 15,
   "metadata": {},
   "outputs": [
    {
     "name": "stdout",
     "output_type": "stream",
     "text": [
      "2018-08-17 00:00:00\n",
      "2018-12-30 00:00:00\n"
     ]
    }
   ],
   "source": [
    "print(df_users['churn_date'].min())\n",
    "print(df_users['churn_date'].max())"
   ]
  },
  {
   "cell_type": "code",
   "execution_count": 16,
   "metadata": {},
   "outputs": [
    {
     "data": {
      "text/plain": [
       "0"
      ]
     },
     "execution_count": 16,
     "metadata": {},
     "output_type": "execute_result"
    }
   ],
   "source": [
    "df_users.query('churn_date < reg_date')['user_id'].count()"
   ]
  },
  {
   "cell_type": "code",
   "execution_count": 17,
   "metadata": {},
   "outputs": [
    {
     "data": {
      "text/plain": [
       "count    500.00000\n",
       "mean      46.58800\n",
       "std       16.66763\n",
       "min       18.00000\n",
       "25%       32.00000\n",
       "50%       46.00000\n",
       "75%       62.00000\n",
       "max       75.00000\n",
       "Name: age, dtype: float64"
      ]
     },
     "execution_count": 17,
     "metadata": {},
     "output_type": "execute_result"
    }
   ],
   "source": [
    "df_users['age'].describe()"
   ]
  },
  {
   "cell_type": "code",
   "execution_count": 18,
   "metadata": {},
   "outputs": [
    {
     "name": "stdout",
     "output_type": "stream",
     "text": [
      "1000 1499\n",
      "1000 1499\n",
      "1000 1499\n"
     ]
    }
   ],
   "source": [
    "print(df_internet['user_id'].min(), df_internet['user_id'].max())\n",
    "print(df_calls['user_id'].min(), df_calls['user_id'].max())\n",
    "print(df_messages['user_id'].min(), df_messages['user_id'].max())"
   ]
  },
  {
   "cell_type": "code",
   "execution_count": 19,
   "metadata": {},
   "outputs": [
    {
     "data": {
      "text/plain": [
       "count    149396.000000\n",
       "mean        370.192426\n",
       "std         278.300951\n",
       "min           0.000000\n",
       "25%         138.187500\n",
       "50%         348.015000\n",
       "75%         559.552500\n",
       "max        1724.830000\n",
       "Name: mb_used, dtype: float64"
      ]
     },
     "execution_count": 19,
     "metadata": {},
     "output_type": "execute_result"
    }
   ],
   "source": [
    "df_internet['mb_used'].describe()"
   ]
  },
  {
   "cell_type": "code",
   "execution_count": 20,
   "metadata": {},
   "outputs": [
    {
     "name": "stdout",
     "output_type": "stream",
     "text": [
      "2018-01-01 00:00:00\n",
      "2018-12-31 00:00:00\n"
     ]
    }
   ],
   "source": [
    "print(df_internet['session_date'].min())\n",
    "print(df_internet['session_date'].max())"
   ]
  },
  {
   "cell_type": "code",
   "execution_count": 21,
   "metadata": {},
   "outputs": [
    {
     "data": {
      "text/plain": [
       "1000_0      1\n",
       "1000_1      1\n",
       "1000_10     1\n",
       "1000_100    1\n",
       "1000_101    1\n",
       "           ..\n",
       "1499_95     1\n",
       "1499_96     1\n",
       "1499_97     1\n",
       "1499_98     1\n",
       "1499_99     1\n",
       "Name: id, Length: 149396, dtype: int64"
      ]
     },
     "execution_count": 21,
     "metadata": {},
     "output_type": "execute_result"
    }
   ],
   "source": [
    "df_internet['id'].value_counts().sort_index(ascending=True)"
   ]
  },
  {
   "cell_type": "code",
   "execution_count": 22,
   "metadata": {},
   "outputs": [
    {
     "data": {
      "text/html": [
       "<div>\n",
       "<style scoped>\n",
       "    .dataframe tbody tr th:only-of-type {\n",
       "        vertical-align: middle;\n",
       "    }\n",
       "\n",
       "    .dataframe tbody tr th {\n",
       "        vertical-align: top;\n",
       "    }\n",
       "\n",
       "    .dataframe thead th {\n",
       "        text-align: right;\n",
       "    }\n",
       "</style>\n",
       "<table border=\"1\" class=\"dataframe\">\n",
       "  <thead>\n",
       "    <tr style=\"text-align: right;\">\n",
       "      <th></th>\n",
       "      <th>id</th>\n",
       "      <th>mb_used</th>\n",
       "      <th>session_date</th>\n",
       "      <th>user_id</th>\n",
       "      <th>age</th>\n",
       "      <th>churn_date</th>\n",
       "      <th>city</th>\n",
       "      <th>first_name</th>\n",
       "      <th>last_name</th>\n",
       "      <th>reg_date</th>\n",
       "      <th>tariff</th>\n",
       "    </tr>\n",
       "  </thead>\n",
       "  <tbody>\n",
       "  </tbody>\n",
       "</table>\n",
       "</div>"
      ],
      "text/plain": [
       "Empty DataFrame\n",
       "Columns: [id, mb_used, session_date, user_id, age, churn_date, city, first_name, last_name, reg_date, tariff]\n",
       "Index: []"
      ]
     },
     "execution_count": 22,
     "metadata": {},
     "output_type": "execute_result"
    }
   ],
   "source": [
    "df_internet.merge(df_users, on='user_id', how='left').query('session_date > churn_date or session_date < reg_date')"
   ]
  },
  {
   "cell_type": "code",
   "execution_count": 23,
   "metadata": {},
   "outputs": [
    {
     "name": "stdout",
     "output_type": "stream",
     "text": [
      "2018-01-01 00:00:00\n",
      "2018-12-31 00:00:00\n"
     ]
    }
   ],
   "source": [
    "print(df_calls['call_date'].min())\n",
    "print(df_calls['call_date'].max())"
   ]
  },
  {
   "cell_type": "code",
   "execution_count": 24,
   "metadata": {},
   "outputs": [
    {
     "data": {
      "text/plain": [
       "count    202607.000000\n",
       "mean          6.755887\n",
       "std           5.843365\n",
       "min           0.000000\n",
       "25%           1.300000\n",
       "50%           6.000000\n",
       "75%          10.700000\n",
       "max          38.000000\n",
       "Name: duration, dtype: float64"
      ]
     },
     "execution_count": 24,
     "metadata": {},
     "output_type": "execute_result"
    }
   ],
   "source": [
    "df_calls['duration'].describe()"
   ]
  },
  {
   "cell_type": "markdown",
   "metadata": {},
   "source": [
    "Звонки с нулевой продолжительностью - это не ошибка: нулями обозначены пропущенные звонки, поэтому их не нужно удалять."
   ]
  },
  {
   "cell_type": "code",
   "execution_count": 25,
   "metadata": {},
   "outputs": [
    {
     "data": {
      "text/plain": [
       "1000_0      1\n",
       "1000_1      1\n",
       "1000_10     1\n",
       "1000_100    1\n",
       "1000_101    1\n",
       "           ..\n",
       "1499_95     1\n",
       "1499_96     1\n",
       "1499_97     1\n",
       "1499_98     1\n",
       "1499_99     1\n",
       "Name: id, Length: 202607, dtype: int64"
      ]
     },
     "execution_count": 25,
     "metadata": {},
     "output_type": "execute_result"
    }
   ],
   "source": [
    "df_calls['id'].value_counts().sort_index(ascending=True)"
   ]
  },
  {
   "cell_type": "code",
   "execution_count": 26,
   "metadata": {},
   "outputs": [
    {
     "data": {
      "text/html": [
       "<div>\n",
       "<style scoped>\n",
       "    .dataframe tbody tr th:only-of-type {\n",
       "        vertical-align: middle;\n",
       "    }\n",
       "\n",
       "    .dataframe tbody tr th {\n",
       "        vertical-align: top;\n",
       "    }\n",
       "\n",
       "    .dataframe thead th {\n",
       "        text-align: right;\n",
       "    }\n",
       "</style>\n",
       "<table border=\"1\" class=\"dataframe\">\n",
       "  <thead>\n",
       "    <tr style=\"text-align: right;\">\n",
       "      <th></th>\n",
       "      <th>id</th>\n",
       "      <th>call_date</th>\n",
       "      <th>duration</th>\n",
       "      <th>user_id</th>\n",
       "      <th>age</th>\n",
       "      <th>churn_date</th>\n",
       "      <th>city</th>\n",
       "      <th>first_name</th>\n",
       "      <th>last_name</th>\n",
       "      <th>reg_date</th>\n",
       "      <th>tariff</th>\n",
       "    </tr>\n",
       "  </thead>\n",
       "  <tbody>\n",
       "  </tbody>\n",
       "</table>\n",
       "</div>"
      ],
      "text/plain": [
       "Empty DataFrame\n",
       "Columns: [id, call_date, duration, user_id, age, churn_date, city, first_name, last_name, reg_date, tariff]\n",
       "Index: []"
      ]
     },
     "execution_count": 26,
     "metadata": {},
     "output_type": "execute_result"
    }
   ],
   "source": [
    "df_calls.merge(df_users, on='user_id', how='left').query('call_date > churn_date or call_date < reg_date')"
   ]
  },
  {
   "cell_type": "code",
   "execution_count": 27,
   "metadata": {},
   "outputs": [
    {
     "data": {
      "text/plain": [
       "1000_0      1\n",
       "1000_1      1\n",
       "1000_10     1\n",
       "1000_100    1\n",
       "1000_101    1\n",
       "           ..\n",
       "1499_95     1\n",
       "1499_96     1\n",
       "1499_97     1\n",
       "1499_98     1\n",
       "1499_99     1\n",
       "Name: id, Length: 123036, dtype: int64"
      ]
     },
     "execution_count": 27,
     "metadata": {},
     "output_type": "execute_result"
    }
   ],
   "source": [
    "df_messages['id'].value_counts().sort_index(ascending=True)"
   ]
  },
  {
   "cell_type": "code",
   "execution_count": 28,
   "metadata": {},
   "outputs": [
    {
     "name": "stdout",
     "output_type": "stream",
     "text": [
      "2018-01-02 00:00:00\n",
      "2018-12-31 00:00:00\n"
     ]
    }
   ],
   "source": [
    "print(df_messages['message_date'].min())\n",
    "print(df_messages['message_date'].max())"
   ]
  },
  {
   "cell_type": "code",
   "execution_count": 29,
   "metadata": {},
   "outputs": [
    {
     "data": {
      "text/html": [
       "<div>\n",
       "<style scoped>\n",
       "    .dataframe tbody tr th:only-of-type {\n",
       "        vertical-align: middle;\n",
       "    }\n",
       "\n",
       "    .dataframe tbody tr th {\n",
       "        vertical-align: top;\n",
       "    }\n",
       "\n",
       "    .dataframe thead th {\n",
       "        text-align: right;\n",
       "    }\n",
       "</style>\n",
       "<table border=\"1\" class=\"dataframe\">\n",
       "  <thead>\n",
       "    <tr style=\"text-align: right;\">\n",
       "      <th></th>\n",
       "      <th>id</th>\n",
       "      <th>message_date</th>\n",
       "      <th>user_id</th>\n",
       "      <th>age</th>\n",
       "      <th>churn_date</th>\n",
       "      <th>city</th>\n",
       "      <th>first_name</th>\n",
       "      <th>last_name</th>\n",
       "      <th>reg_date</th>\n",
       "      <th>tariff</th>\n",
       "    </tr>\n",
       "  </thead>\n",
       "  <tbody>\n",
       "  </tbody>\n",
       "</table>\n",
       "</div>"
      ],
      "text/plain": [
       "Empty DataFrame\n",
       "Columns: [id, message_date, user_id, age, churn_date, city, first_name, last_name, reg_date, tariff]\n",
       "Index: []"
      ]
     },
     "execution_count": 29,
     "metadata": {},
     "output_type": "execute_result"
    }
   ],
   "source": [
    "df_messages.merge(df_users, on='user_id', how='left').query('message_date > churn_date or message_date < reg_date')"
   ]
  },
  {
   "cell_type": "markdown",
   "metadata": {},
   "source": [
    "Ошибок в данных найдено не было."
   ]
  },
  {
   "cell_type": "markdown",
   "metadata": {},
   "source": [
    "## Расчёты\n",
    "Посчитаем для каждого пользователя:\n",
    "- количество сделанных звонков и израсходованных минут разговора по месяцам;\n",
    "- количество отправленных сообщений по месяцам;\n",
    "- объем израсходованного интернет-трафика по месяцам;\n",
    "- помесячную выручку с каждого пользователя (вычтем бесплатный лимит из суммарного количества звонков, сообщений и интернет-трафика; остаток умножим на значение из тарифного плана; прибавим абонентскую плату, соответствующую тарифному плану)."
   ]
  },
  {
   "cell_type": "markdown",
   "metadata": {},
   "source": [
    "Сначала добавим в таблицы столбец с месяцем (1-й день месяца), по которому потом можно будет сгруппировать данные:"
   ]
  },
  {
   "cell_type": "code",
   "execution_count": 30,
   "metadata": {},
   "outputs": [],
   "source": [
    "df_internet['month'] = df_internet['session_date'].apply(lambda x: x.replace(day=1))\n",
    "df_calls['month'] = df_calls['call_date'].apply(lambda x: x.replace(day=1))\n",
    "df_messages['month'] = df_messages['message_date'].apply(lambda x: x.replace(day=1))"
   ]
  },
  {
   "cell_type": "code",
   "execution_count": 1,
   "metadata": {},
   "outputs": [],
   "source": [
    "#sample['month_2'] = sample['session_date'].astype('datetime64[M]')\n",
    "#display(sample.head(10))"
   ]
  },
  {
   "cell_type": "code",
   "execution_count": 33,
   "metadata": {},
   "outputs": [
    {
     "data": {
      "text/html": [
       "<div>\n",
       "<style scoped>\n",
       "    .dataframe tbody tr th:only-of-type {\n",
       "        vertical-align: middle;\n",
       "    }\n",
       "\n",
       "    .dataframe tbody tr th {\n",
       "        vertical-align: top;\n",
       "    }\n",
       "\n",
       "    .dataframe thead th {\n",
       "        text-align: right;\n",
       "    }\n",
       "</style>\n",
       "<table border=\"1\" class=\"dataframe\">\n",
       "  <thead>\n",
       "    <tr style=\"text-align: right;\">\n",
       "      <th></th>\n",
       "      <th>user_id</th>\n",
       "      <th>month</th>\n",
       "      <th>mb_used</th>\n",
       "      <th>gb_used</th>\n",
       "    </tr>\n",
       "  </thead>\n",
       "  <tbody>\n",
       "    <tr>\n",
       "      <th>0</th>\n",
       "      <td>1000</td>\n",
       "      <td>2018-05-01</td>\n",
       "      <td>2253.49</td>\n",
       "      <td>3.0</td>\n",
       "    </tr>\n",
       "    <tr>\n",
       "      <th>1</th>\n",
       "      <td>1000</td>\n",
       "      <td>2018-06-01</td>\n",
       "      <td>23233.77</td>\n",
       "      <td>23.0</td>\n",
       "    </tr>\n",
       "    <tr>\n",
       "      <th>2</th>\n",
       "      <td>1000</td>\n",
       "      <td>2018-07-01</td>\n",
       "      <td>14003.64</td>\n",
       "      <td>14.0</td>\n",
       "    </tr>\n",
       "  </tbody>\n",
       "</table>\n",
       "</div>"
      ],
      "text/plain": [
       "   user_id      month   mb_used  gb_used\n",
       "0     1000 2018-05-01   2253.49      3.0\n",
       "1     1000 2018-06-01  23233.77     23.0\n",
       "2     1000 2018-07-01  14003.64     14.0"
      ]
     },
     "execution_count": 33,
     "metadata": {},
     "output_type": "execute_result"
    }
   ],
   "source": [
    "monthly_internet = df_internet.groupby(['user_id','month'])['mb_used'].sum().reset_index(drop=False)\n",
    "#monthly_internet['gb_used'] = monthly_internet['mb_used'].apply(lambda x: math.ceil(x/1024))\n",
    "monthly_internet['gb_used'] = np.ceil(monthly_internet['mb_used'] / 1024)\n",
    "monthly_internet.head(3)"
   ]
  },
  {
   "cell_type": "code",
   "execution_count": 34,
   "metadata": {},
   "outputs": [
    {
     "data": {
      "text/html": [
       "<div>\n",
       "<style scoped>\n",
       "    .dataframe tbody tr th:only-of-type {\n",
       "        vertical-align: middle;\n",
       "    }\n",
       "\n",
       "    .dataframe tbody tr th {\n",
       "        vertical-align: top;\n",
       "    }\n",
       "\n",
       "    .dataframe thead th {\n",
       "        text-align: right;\n",
       "    }\n",
       "</style>\n",
       "<table border=\"1\" class=\"dataframe\">\n",
       "  <thead>\n",
       "    <tr style=\"text-align: right;\">\n",
       "      <th></th>\n",
       "      <th>id</th>\n",
       "      <th>call_date</th>\n",
       "      <th>duration</th>\n",
       "      <th>user_id</th>\n",
       "      <th>month</th>\n",
       "    </tr>\n",
       "  </thead>\n",
       "  <tbody>\n",
       "    <tr>\n",
       "      <th>0</th>\n",
       "      <td>1000_0</td>\n",
       "      <td>2018-07-25</td>\n",
       "      <td>0.00</td>\n",
       "      <td>1000</td>\n",
       "      <td>2018-07-01</td>\n",
       "    </tr>\n",
       "    <tr>\n",
       "      <th>1</th>\n",
       "      <td>1000_1</td>\n",
       "      <td>2018-08-17</td>\n",
       "      <td>0.00</td>\n",
       "      <td>1000</td>\n",
       "      <td>2018-08-01</td>\n",
       "    </tr>\n",
       "    <tr>\n",
       "      <th>2</th>\n",
       "      <td>1000_2</td>\n",
       "      <td>2018-06-11</td>\n",
       "      <td>2.85</td>\n",
       "      <td>1000</td>\n",
       "      <td>2018-06-01</td>\n",
       "    </tr>\n",
       "    <tr>\n",
       "      <th>3</th>\n",
       "      <td>1000_3</td>\n",
       "      <td>2018-09-21</td>\n",
       "      <td>13.80</td>\n",
       "      <td>1000</td>\n",
       "      <td>2018-09-01</td>\n",
       "    </tr>\n",
       "  </tbody>\n",
       "</table>\n",
       "</div>"
      ],
      "text/plain": [
       "       id  call_date  duration  user_id      month\n",
       "0  1000_0 2018-07-25      0.00     1000 2018-07-01\n",
       "1  1000_1 2018-08-17      0.00     1000 2018-08-01\n",
       "2  1000_2 2018-06-11      2.85     1000 2018-06-01\n",
       "3  1000_3 2018-09-21     13.80     1000 2018-09-01"
      ]
     },
     "execution_count": 34,
     "metadata": {},
     "output_type": "execute_result"
    }
   ],
   "source": [
    "df_calls.head(4)"
   ]
  },
  {
   "cell_type": "markdown",
   "metadata": {},
   "source": [
    "Округлим длительность звонков вверх:"
   ]
  },
  {
   "cell_type": "code",
   "execution_count": 35,
   "metadata": {},
   "outputs": [
    {
     "data": {
      "text/html": [
       "<div>\n",
       "<style scoped>\n",
       "    .dataframe tbody tr th:only-of-type {\n",
       "        vertical-align: middle;\n",
       "    }\n",
       "\n",
       "    .dataframe tbody tr th {\n",
       "        vertical-align: top;\n",
       "    }\n",
       "\n",
       "    .dataframe thead th {\n",
       "        text-align: right;\n",
       "    }\n",
       "</style>\n",
       "<table border=\"1\" class=\"dataframe\">\n",
       "  <thead>\n",
       "    <tr style=\"text-align: right;\">\n",
       "      <th></th>\n",
       "      <th>id</th>\n",
       "      <th>call_date</th>\n",
       "      <th>duration</th>\n",
       "      <th>user_id</th>\n",
       "      <th>month</th>\n",
       "    </tr>\n",
       "  </thead>\n",
       "  <tbody>\n",
       "    <tr>\n",
       "      <th>0</th>\n",
       "      <td>1000_0</td>\n",
       "      <td>2018-07-25</td>\n",
       "      <td>0.0</td>\n",
       "      <td>1000</td>\n",
       "      <td>2018-07-01</td>\n",
       "    </tr>\n",
       "    <tr>\n",
       "      <th>1</th>\n",
       "      <td>1000_1</td>\n",
       "      <td>2018-08-17</td>\n",
       "      <td>0.0</td>\n",
       "      <td>1000</td>\n",
       "      <td>2018-08-01</td>\n",
       "    </tr>\n",
       "    <tr>\n",
       "      <th>2</th>\n",
       "      <td>1000_2</td>\n",
       "      <td>2018-06-11</td>\n",
       "      <td>3.0</td>\n",
       "      <td>1000</td>\n",
       "      <td>2018-06-01</td>\n",
       "    </tr>\n",
       "    <tr>\n",
       "      <th>3</th>\n",
       "      <td>1000_3</td>\n",
       "      <td>2018-09-21</td>\n",
       "      <td>14.0</td>\n",
       "      <td>1000</td>\n",
       "      <td>2018-09-01</td>\n",
       "    </tr>\n",
       "  </tbody>\n",
       "</table>\n",
       "</div>"
      ],
      "text/plain": [
       "       id  call_date  duration  user_id      month\n",
       "0  1000_0 2018-07-25       0.0     1000 2018-07-01\n",
       "1  1000_1 2018-08-17       0.0     1000 2018-08-01\n",
       "2  1000_2 2018-06-11       3.0     1000 2018-06-01\n",
       "3  1000_3 2018-09-21      14.0     1000 2018-09-01"
      ]
     },
     "execution_count": 35,
     "metadata": {},
     "output_type": "execute_result"
    }
   ],
   "source": [
    "df_calls['duration'] = np.ceil( df_calls['duration'] )\n",
    "df_calls.head(4)"
   ]
  },
  {
   "cell_type": "code",
   "execution_count": 36,
   "metadata": {},
   "outputs": [
    {
     "data": {
      "text/html": [
       "<div>\n",
       "<style scoped>\n",
       "    .dataframe tbody tr th:only-of-type {\n",
       "        vertical-align: middle;\n",
       "    }\n",
       "\n",
       "    .dataframe tbody tr th {\n",
       "        vertical-align: top;\n",
       "    }\n",
       "\n",
       "    .dataframe thead th {\n",
       "        text-align: right;\n",
       "    }\n",
       "</style>\n",
       "<table border=\"1\" class=\"dataframe\">\n",
       "  <thead>\n",
       "    <tr style=\"text-align: right;\">\n",
       "      <th></th>\n",
       "      <th>user_id</th>\n",
       "      <th>month</th>\n",
       "      <th>duration</th>\n",
       "    </tr>\n",
       "  </thead>\n",
       "  <tbody>\n",
       "    <tr>\n",
       "      <th>0</th>\n",
       "      <td>1000</td>\n",
       "      <td>2018-05-01</td>\n",
       "      <td>159.0</td>\n",
       "    </tr>\n",
       "    <tr>\n",
       "      <th>1</th>\n",
       "      <td>1000</td>\n",
       "      <td>2018-06-01</td>\n",
       "      <td>172.0</td>\n",
       "    </tr>\n",
       "    <tr>\n",
       "      <th>2</th>\n",
       "      <td>1000</td>\n",
       "      <td>2018-07-01</td>\n",
       "      <td>340.0</td>\n",
       "    </tr>\n",
       "  </tbody>\n",
       "</table>\n",
       "</div>"
      ],
      "text/plain": [
       "   user_id      month  duration\n",
       "0     1000 2018-05-01     159.0\n",
       "1     1000 2018-06-01     172.0\n",
       "2     1000 2018-07-01     340.0"
      ]
     },
     "execution_count": 36,
     "metadata": {},
     "output_type": "execute_result"
    }
   ],
   "source": [
    "monthly_calls = df_calls.groupby(['user_id','month'])['duration'].sum().reset_index(drop=False)\n",
    "monthly_calls.head(3)"
   ]
  },
  {
   "cell_type": "code",
   "execution_count": 37,
   "metadata": {},
   "outputs": [
    {
     "data": {
      "text/html": [
       "<div>\n",
       "<style scoped>\n",
       "    .dataframe tbody tr th:only-of-type {\n",
       "        vertical-align: middle;\n",
       "    }\n",
       "\n",
       "    .dataframe tbody tr th {\n",
       "        vertical-align: top;\n",
       "    }\n",
       "\n",
       "    .dataframe thead th {\n",
       "        text-align: right;\n",
       "    }\n",
       "</style>\n",
       "<table border=\"1\" class=\"dataframe\">\n",
       "  <thead>\n",
       "    <tr style=\"text-align: right;\">\n",
       "      <th></th>\n",
       "      <th>user_id</th>\n",
       "      <th>month</th>\n",
       "      <th>messages</th>\n",
       "    </tr>\n",
       "  </thead>\n",
       "  <tbody>\n",
       "    <tr>\n",
       "      <th>0</th>\n",
       "      <td>1000</td>\n",
       "      <td>2018-05-01</td>\n",
       "      <td>22</td>\n",
       "    </tr>\n",
       "    <tr>\n",
       "      <th>1</th>\n",
       "      <td>1000</td>\n",
       "      <td>2018-06-01</td>\n",
       "      <td>60</td>\n",
       "    </tr>\n",
       "    <tr>\n",
       "      <th>2</th>\n",
       "      <td>1000</td>\n",
       "      <td>2018-07-01</td>\n",
       "      <td>75</td>\n",
       "    </tr>\n",
       "  </tbody>\n",
       "</table>\n",
       "</div>"
      ],
      "text/plain": [
       "   user_id      month  messages\n",
       "0     1000 2018-05-01        22\n",
       "1     1000 2018-06-01        60\n",
       "2     1000 2018-07-01        75"
      ]
     },
     "execution_count": 37,
     "metadata": {},
     "output_type": "execute_result"
    }
   ],
   "source": [
    "monthly_messages = df_messages.groupby(['user_id','month'])['id'].count().reset_index(drop=False).rename(\n",
    "    columns={'id':'messages'})#.set_index(['user_id','month'])\n",
    "monthly_messages.head(3)"
   ]
  },
  {
   "cell_type": "markdown",
   "metadata": {},
   "source": [
    "Объединим все данные:"
   ]
  },
  {
   "cell_type": "code",
   "execution_count": 38,
   "metadata": {},
   "outputs": [
    {
     "data": {
      "text/html": [
       "<div>\n",
       "<style scoped>\n",
       "    .dataframe tbody tr th:only-of-type {\n",
       "        vertical-align: middle;\n",
       "    }\n",
       "\n",
       "    .dataframe tbody tr th {\n",
       "        vertical-align: top;\n",
       "    }\n",
       "\n",
       "    .dataframe thead th {\n",
       "        text-align: right;\n",
       "    }\n",
       "</style>\n",
       "<table border=\"1\" class=\"dataframe\">\n",
       "  <thead>\n",
       "    <tr style=\"text-align: right;\">\n",
       "      <th></th>\n",
       "      <th>user_id</th>\n",
       "      <th>month</th>\n",
       "      <th>gb_used</th>\n",
       "      <th>duration</th>\n",
       "      <th>messages</th>\n",
       "      <th>tariff</th>\n",
       "    </tr>\n",
       "  </thead>\n",
       "  <tbody>\n",
       "    <tr>\n",
       "      <th>0</th>\n",
       "      <td>1000</td>\n",
       "      <td>2018-05-01</td>\n",
       "      <td>3.0</td>\n",
       "      <td>159.0</td>\n",
       "      <td>22.0</td>\n",
       "      <td>ultra</td>\n",
       "    </tr>\n",
       "    <tr>\n",
       "      <th>1</th>\n",
       "      <td>1000</td>\n",
       "      <td>2018-06-01</td>\n",
       "      <td>23.0</td>\n",
       "      <td>172.0</td>\n",
       "      <td>60.0</td>\n",
       "      <td>ultra</td>\n",
       "    </tr>\n",
       "    <tr>\n",
       "      <th>2</th>\n",
       "      <td>1000</td>\n",
       "      <td>2018-07-01</td>\n",
       "      <td>14.0</td>\n",
       "      <td>340.0</td>\n",
       "      <td>75.0</td>\n",
       "      <td>ultra</td>\n",
       "    </tr>\n",
       "    <tr>\n",
       "      <th>3</th>\n",
       "      <td>1000</td>\n",
       "      <td>2018-08-01</td>\n",
       "      <td>14.0</td>\n",
       "      <td>408.0</td>\n",
       "      <td>81.0</td>\n",
       "      <td>ultra</td>\n",
       "    </tr>\n",
       "    <tr>\n",
       "      <th>4</th>\n",
       "      <td>1000</td>\n",
       "      <td>2018-09-01</td>\n",
       "      <td>15.0</td>\n",
       "      <td>466.0</td>\n",
       "      <td>57.0</td>\n",
       "      <td>ultra</td>\n",
       "    </tr>\n",
       "    <tr>\n",
       "      <th>5</th>\n",
       "      <td>1000</td>\n",
       "      <td>2018-10-01</td>\n",
       "      <td>15.0</td>\n",
       "      <td>350.0</td>\n",
       "      <td>73.0</td>\n",
       "      <td>ultra</td>\n",
       "    </tr>\n",
       "    <tr>\n",
       "      <th>6</th>\n",
       "      <td>1000</td>\n",
       "      <td>2018-11-01</td>\n",
       "      <td>15.0</td>\n",
       "      <td>338.0</td>\n",
       "      <td>58.0</td>\n",
       "      <td>ultra</td>\n",
       "    </tr>\n",
       "    <tr>\n",
       "      <th>7</th>\n",
       "      <td>1000</td>\n",
       "      <td>2018-12-01</td>\n",
       "      <td>10.0</td>\n",
       "      <td>333.0</td>\n",
       "      <td>70.0</td>\n",
       "      <td>ultra</td>\n",
       "    </tr>\n",
       "    <tr>\n",
       "      <th>8</th>\n",
       "      <td>1001</td>\n",
       "      <td>2018-11-01</td>\n",
       "      <td>18.0</td>\n",
       "      <td>430.0</td>\n",
       "      <td>NaN</td>\n",
       "      <td>smart</td>\n",
       "    </tr>\n",
       "    <tr>\n",
       "      <th>9</th>\n",
       "      <td>1001</td>\n",
       "      <td>2018-12-01</td>\n",
       "      <td>14.0</td>\n",
       "      <td>414.0</td>\n",
       "      <td>NaN</td>\n",
       "      <td>smart</td>\n",
       "    </tr>\n",
       "  </tbody>\n",
       "</table>\n",
       "</div>"
      ],
      "text/plain": [
       "   user_id      month  gb_used  duration  messages tariff\n",
       "0     1000 2018-05-01      3.0     159.0      22.0  ultra\n",
       "1     1000 2018-06-01     23.0     172.0      60.0  ultra\n",
       "2     1000 2018-07-01     14.0     340.0      75.0  ultra\n",
       "3     1000 2018-08-01     14.0     408.0      81.0  ultra\n",
       "4     1000 2018-09-01     15.0     466.0      57.0  ultra\n",
       "5     1000 2018-10-01     15.0     350.0      73.0  ultra\n",
       "6     1000 2018-11-01     15.0     338.0      58.0  ultra\n",
       "7     1000 2018-12-01     10.0     333.0      70.0  ultra\n",
       "8     1001 2018-11-01     18.0     430.0       NaN  smart\n",
       "9     1001 2018-12-01     14.0     414.0       NaN  smart"
      ]
     },
     "execution_count": 38,
     "metadata": {},
     "output_type": "execute_result"
    }
   ],
   "source": [
    "monthly_revenue = monthly_internet.merge(monthly_calls, \n",
    "                                         on=['user_id','month'], \n",
    "                                         how='outer').merge(\n",
    "    monthly_messages,\n",
    "    on=['user_id','month'],\n",
    "    how='outer').merge(df_users.loc[:, ['user_id','tariff']],\n",
    "                       on='user_id',\n",
    "                       how='left')\n",
    "monthly_revenue = monthly_revenue.drop(columns=['mb_used'])\n",
    "monthly_revenue.head(10)"
   ]
  },
  {
   "cell_type": "code",
   "execution_count": 39,
   "metadata": {},
   "outputs": [
    {
     "data": {
      "text/html": [
       "<div>\n",
       "<style scoped>\n",
       "    .dataframe tbody tr th:only-of-type {\n",
       "        vertical-align: middle;\n",
       "    }\n",
       "\n",
       "    .dataframe tbody tr th {\n",
       "        vertical-align: top;\n",
       "    }\n",
       "\n",
       "    .dataframe thead th {\n",
       "        text-align: right;\n",
       "    }\n",
       "</style>\n",
       "<table border=\"1\" class=\"dataframe\">\n",
       "  <thead>\n",
       "    <tr style=\"text-align: right;\">\n",
       "      <th></th>\n",
       "      <th>user_id</th>\n",
       "      <th>month</th>\n",
       "      <th>duration</th>\n",
       "    </tr>\n",
       "  </thead>\n",
       "  <tbody>\n",
       "    <tr>\n",
       "      <th>0</th>\n",
       "      <td>1000</td>\n",
       "      <td>2018-05-01</td>\n",
       "      <td>159.0</td>\n",
       "    </tr>\n",
       "  </tbody>\n",
       "</table>\n",
       "</div>"
      ],
      "text/plain": [
       "   user_id      month  duration\n",
       "0     1000 2018-05-01     159.0"
      ]
     },
     "execution_count": 39,
     "metadata": {},
     "output_type": "execute_result"
    }
   ],
   "source": [
    "monthly_calls.query('user_id == 1000 and month == datetime(2018,5,1)')"
   ]
  },
  {
   "cell_type": "code",
   "execution_count": 40,
   "metadata": {},
   "outputs": [
    {
     "data": {
      "text/html": [
       "<div>\n",
       "<style scoped>\n",
       "    .dataframe tbody tr th:only-of-type {\n",
       "        vertical-align: middle;\n",
       "    }\n",
       "\n",
       "    .dataframe tbody tr th {\n",
       "        vertical-align: top;\n",
       "    }\n",
       "\n",
       "    .dataframe thead th {\n",
       "        text-align: right;\n",
       "    }\n",
       "</style>\n",
       "<table border=\"1\" class=\"dataframe\">\n",
       "  <thead>\n",
       "    <tr style=\"text-align: right;\">\n",
       "      <th></th>\n",
       "      <th>user_id</th>\n",
       "      <th>month</th>\n",
       "      <th>mb_used</th>\n",
       "      <th>gb_used</th>\n",
       "    </tr>\n",
       "  </thead>\n",
       "  <tbody>\n",
       "    <tr>\n",
       "      <th>0</th>\n",
       "      <td>1000</td>\n",
       "      <td>2018-05-01</td>\n",
       "      <td>2253.49</td>\n",
       "      <td>3.0</td>\n",
       "    </tr>\n",
       "  </tbody>\n",
       "</table>\n",
       "</div>"
      ],
      "text/plain": [
       "   user_id      month  mb_used  gb_used\n",
       "0     1000 2018-05-01  2253.49      3.0"
      ]
     },
     "execution_count": 40,
     "metadata": {},
     "output_type": "execute_result"
    }
   ],
   "source": [
    "monthly_internet.query('user_id == 1000 and month == datetime(2018,5,1)')"
   ]
  },
  {
   "cell_type": "code",
   "execution_count": 41,
   "metadata": {},
   "outputs": [
    {
     "data": {
      "text/html": [
       "<div>\n",
       "<style scoped>\n",
       "    .dataframe tbody tr th:only-of-type {\n",
       "        vertical-align: middle;\n",
       "    }\n",
       "\n",
       "    .dataframe tbody tr th {\n",
       "        vertical-align: top;\n",
       "    }\n",
       "\n",
       "    .dataframe thead th {\n",
       "        text-align: right;\n",
       "    }\n",
       "</style>\n",
       "<table border=\"1\" class=\"dataframe\">\n",
       "  <thead>\n",
       "    <tr style=\"text-align: right;\">\n",
       "      <th></th>\n",
       "      <th>user_id</th>\n",
       "      <th>month</th>\n",
       "      <th>messages</th>\n",
       "    </tr>\n",
       "  </thead>\n",
       "  <tbody>\n",
       "    <tr>\n",
       "      <th>0</th>\n",
       "      <td>1000</td>\n",
       "      <td>2018-05-01</td>\n",
       "      <td>22</td>\n",
       "    </tr>\n",
       "  </tbody>\n",
       "</table>\n",
       "</div>"
      ],
      "text/plain": [
       "   user_id      month  messages\n",
       "0     1000 2018-05-01        22"
      ]
     },
     "execution_count": 41,
     "metadata": {},
     "output_type": "execute_result"
    }
   ],
   "source": [
    "monthly_messages.query('user_id == 1000 and month == datetime(2018,5,1)')"
   ]
  },
  {
   "cell_type": "code",
   "execution_count": 42,
   "metadata": {},
   "outputs": [
    {
     "data": {
      "text/html": [
       "<div>\n",
       "<style scoped>\n",
       "    .dataframe tbody tr th:only-of-type {\n",
       "        vertical-align: middle;\n",
       "    }\n",
       "\n",
       "    .dataframe tbody tr th {\n",
       "        vertical-align: top;\n",
       "    }\n",
       "\n",
       "    .dataframe thead th {\n",
       "        text-align: right;\n",
       "    }\n",
       "</style>\n",
       "<table border=\"1\" class=\"dataframe\">\n",
       "  <thead>\n",
       "    <tr style=\"text-align: right;\">\n",
       "      <th></th>\n",
       "      <th>user_id</th>\n",
       "      <th>age</th>\n",
       "      <th>churn_date</th>\n",
       "      <th>city</th>\n",
       "      <th>first_name</th>\n",
       "      <th>last_name</th>\n",
       "      <th>reg_date</th>\n",
       "      <th>tariff</th>\n",
       "    </tr>\n",
       "  </thead>\n",
       "  <tbody>\n",
       "    <tr>\n",
       "      <th>0</th>\n",
       "      <td>1000</td>\n",
       "      <td>52</td>\n",
       "      <td>NaT</td>\n",
       "      <td>Краснодар</td>\n",
       "      <td>Рафаил</td>\n",
       "      <td>Верещагин</td>\n",
       "      <td>2018-05-25</td>\n",
       "      <td>ultra</td>\n",
       "    </tr>\n",
       "  </tbody>\n",
       "</table>\n",
       "</div>"
      ],
      "text/plain": [
       "   user_id  age churn_date       city first_name  last_name   reg_date tariff\n",
       "0     1000   52        NaT  Краснодар     Рафаил  Верещагин 2018-05-25  ultra"
      ]
     },
     "execution_count": 42,
     "metadata": {},
     "output_type": "execute_result"
    }
   ],
   "source": [
    "df_users.query('user_id == 1000')"
   ]
  },
  {
   "cell_type": "code",
   "execution_count": 43,
   "metadata": {},
   "outputs": [
    {
     "data": {
      "text/plain": [
       "1450301.0"
      ]
     },
     "metadata": {},
     "output_type": "display_data"
    },
    {
     "data": {
      "text/plain": [
       "123036"
      ]
     },
     "metadata": {},
     "output_type": "display_data"
    },
    {
     "data": {
      "text/plain": [
       "55599.0"
      ]
     },
     "metadata": {},
     "output_type": "display_data"
    },
    {
     "name": "stdout",
     "output_type": "stream",
     "text": [
      "\n"
     ]
    },
    {
     "data": {
      "text/plain": [
       "duration    1450301.0\n",
       "messages     123036.0\n",
       "gb_used       55599.0\n",
       "dtype: float64"
      ]
     },
     "metadata": {},
     "output_type": "display_data"
    }
   ],
   "source": [
    "display(monthly_calls['duration'].sum(),\n",
    "        monthly_messages['messages'].sum(),\n",
    "        monthly_internet['gb_used'].sum())\n",
    "print()\n",
    "display(monthly_revenue[['duration', 'messages', 'gb_used']].sum())"
   ]
  },
  {
   "cell_type": "code",
   "execution_count": 44,
   "metadata": {},
   "outputs": [
    {
     "data": {
      "text/plain": [
       "user_id       0\n",
       "month         0\n",
       "gb_used      11\n",
       "duration     40\n",
       "messages    497\n",
       "tariff        0\n",
       "dtype: int64"
      ]
     },
     "execution_count": 44,
     "metadata": {},
     "output_type": "execute_result"
    }
   ],
   "source": [
    "monthly_revenue.isna().sum()"
   ]
  },
  {
   "cell_type": "code",
   "execution_count": 45,
   "metadata": {},
   "outputs": [
    {
     "data": {
      "text/plain": [
       "user_id     0\n",
       "month       0\n",
       "gb_used     0\n",
       "duration    0\n",
       "messages    0\n",
       "tariff      0\n",
       "dtype: int64"
      ]
     },
     "execution_count": 45,
     "metadata": {},
     "output_type": "execute_result"
    }
   ],
   "source": [
    "monthly_revenue.fillna(0, inplace=True)\n",
    "monthly_revenue.isna().sum()"
   ]
  },
  {
   "cell_type": "code",
   "execution_count": 46,
   "metadata": {},
   "outputs": [
    {
     "data": {
      "text/html": [
       "<div>\n",
       "<style scoped>\n",
       "    .dataframe tbody tr th:only-of-type {\n",
       "        vertical-align: middle;\n",
       "    }\n",
       "\n",
       "    .dataframe tbody tr th {\n",
       "        vertical-align: top;\n",
       "    }\n",
       "\n",
       "    .dataframe thead th {\n",
       "        text-align: right;\n",
       "    }\n",
       "</style>\n",
       "<table border=\"1\" class=\"dataframe\">\n",
       "  <thead>\n",
       "    <tr style=\"text-align: right;\">\n",
       "      <th></th>\n",
       "      <th>messages_included</th>\n",
       "      <th>mb_per_month_included</th>\n",
       "      <th>minutes_included</th>\n",
       "      <th>rub_monthly_fee</th>\n",
       "      <th>rub_per_gb</th>\n",
       "      <th>rub_per_message</th>\n",
       "      <th>rub_per_minute</th>\n",
       "      <th>gb_included</th>\n",
       "    </tr>\n",
       "    <tr>\n",
       "      <th>tariff_name</th>\n",
       "      <th></th>\n",
       "      <th></th>\n",
       "      <th></th>\n",
       "      <th></th>\n",
       "      <th></th>\n",
       "      <th></th>\n",
       "      <th></th>\n",
       "      <th></th>\n",
       "    </tr>\n",
       "  </thead>\n",
       "  <tbody>\n",
       "    <tr>\n",
       "      <th>smart</th>\n",
       "      <td>50</td>\n",
       "      <td>15360</td>\n",
       "      <td>500</td>\n",
       "      <td>550</td>\n",
       "      <td>200</td>\n",
       "      <td>3</td>\n",
       "      <td>3</td>\n",
       "      <td>15</td>\n",
       "    </tr>\n",
       "    <tr>\n",
       "      <th>ultra</th>\n",
       "      <td>1000</td>\n",
       "      <td>30720</td>\n",
       "      <td>3000</td>\n",
       "      <td>1950</td>\n",
       "      <td>150</td>\n",
       "      <td>1</td>\n",
       "      <td>1</td>\n",
       "      <td>30</td>\n",
       "    </tr>\n",
       "  </tbody>\n",
       "</table>\n",
       "</div>"
      ],
      "text/plain": [
       "             messages_included  mb_per_month_included  minutes_included  \\\n",
       "tariff_name                                                               \n",
       "smart                       50                  15360               500   \n",
       "ultra                     1000                  30720              3000   \n",
       "\n",
       "             rub_monthly_fee  rub_per_gb  rub_per_message  rub_per_minute  \\\n",
       "tariff_name                                                                 \n",
       "smart                    550         200                3               3   \n",
       "ultra                   1950         150                1               1   \n",
       "\n",
       "             gb_included  \n",
       "tariff_name               \n",
       "smart                 15  \n",
       "ultra                 30  "
      ]
     },
     "execution_count": 46,
     "metadata": {},
     "output_type": "execute_result"
    }
   ],
   "source": [
    "df_tariffs = df_tariffs.set_index('tariff_name')\n",
    "df_tariffs['gb_included'] = df_tariffs['mb_per_month_included'].apply(\n",
    "    lambda x: math.ceil(x/1024))\n",
    "df_tariffs"
   ]
  },
  {
   "cell_type": "markdown",
   "metadata": {},
   "source": [
    "Для подсчёта выручки напишем функцию:"
   ]
  },
  {
   "cell_type": "code",
   "execution_count": 47,
   "metadata": {},
   "outputs": [],
   "source": [
    "def revenue_calc(x):\n",
    "    revenue = 0\n",
    "    if x.gb_used > df_tariffs['gb_included'][x.tariff]:\n",
    "        revenue += (x.gb_used - df_tariffs['gb_included'][x.tariff]) * df_tariffs['rub_per_gb'][x.tariff]\n",
    "    if x.duration > df_tariffs['minutes_included'][x.tariff]:\n",
    "        revenue += (x.duration - df_tariffs['minutes_included'][x.tariff]) * df_tariffs['rub_per_minute'][x.tariff]\n",
    "    if x.messages > df_tariffs['messages_included'][x.tariff]:\n",
    "        revenue += (x.messages - df_tariffs['messages_included'][x.tariff]) * df_tariffs['rub_per_message'][x.tariff]\n",
    "    revenue += df_tariffs['rub_monthly_fee'][x.tariff]\n",
    "    return revenue"
   ]
  },
  {
   "cell_type": "code",
   "execution_count": 48,
   "metadata": {},
   "outputs": [
    {
     "data": {
      "text/html": [
       "<div>\n",
       "<style scoped>\n",
       "    .dataframe tbody tr th:only-of-type {\n",
       "        vertical-align: middle;\n",
       "    }\n",
       "\n",
       "    .dataframe tbody tr th {\n",
       "        vertical-align: top;\n",
       "    }\n",
       "\n",
       "    .dataframe thead th {\n",
       "        text-align: right;\n",
       "    }\n",
       "</style>\n",
       "<table border=\"1\" class=\"dataframe\">\n",
       "  <thead>\n",
       "    <tr style=\"text-align: right;\">\n",
       "      <th></th>\n",
       "      <th>user_id</th>\n",
       "      <th>month</th>\n",
       "      <th>gb_used</th>\n",
       "      <th>duration</th>\n",
       "      <th>messages</th>\n",
       "      <th>tariff</th>\n",
       "      <th>revenue</th>\n",
       "    </tr>\n",
       "  </thead>\n",
       "  <tbody>\n",
       "    <tr>\n",
       "      <th>260</th>\n",
       "      <td>1042</td>\n",
       "      <td>2018-12-01</td>\n",
       "      <td>37.0</td>\n",
       "      <td>728.0</td>\n",
       "      <td>75.0</td>\n",
       "      <td>smart</td>\n",
       "      <td>5709.0</td>\n",
       "    </tr>\n",
       "    <tr>\n",
       "      <th>623</th>\n",
       "      <td>1098</td>\n",
       "      <td>2018-12-01</td>\n",
       "      <td>36.0</td>\n",
       "      <td>588.0</td>\n",
       "      <td>14.0</td>\n",
       "      <td>smart</td>\n",
       "      <td>5014.0</td>\n",
       "    </tr>\n",
       "    <tr>\n",
       "      <th>1017</th>\n",
       "      <td>1159</td>\n",
       "      <td>2018-12-01</td>\n",
       "      <td>35.0</td>\n",
       "      <td>734.0</td>\n",
       "      <td>2.0</td>\n",
       "      <td>smart</td>\n",
       "      <td>5252.0</td>\n",
       "    </tr>\n",
       "    <tr>\n",
       "      <th>1647</th>\n",
       "      <td>1261</td>\n",
       "      <td>2018-12-01</td>\n",
       "      <td>32.0</td>\n",
       "      <td>1074.0</td>\n",
       "      <td>22.0</td>\n",
       "      <td>smart</td>\n",
       "      <td>5672.0</td>\n",
       "    </tr>\n",
       "    <tr>\n",
       "      <th>1810</th>\n",
       "      <td>1286</td>\n",
       "      <td>2018-12-01</td>\n",
       "      <td>35.0</td>\n",
       "      <td>739.0</td>\n",
       "      <td>68.0</td>\n",
       "      <td>smart</td>\n",
       "      <td>5321.0</td>\n",
       "    </tr>\n",
       "    <tr>\n",
       "      <th>3129</th>\n",
       "      <td>1486</td>\n",
       "      <td>2018-11-01</td>\n",
       "      <td>36.0</td>\n",
       "      <td>764.0</td>\n",
       "      <td>96.0</td>\n",
       "      <td>smart</td>\n",
       "      <td>5680.0</td>\n",
       "    </tr>\n",
       "    <tr>\n",
       "      <th>3130</th>\n",
       "      <td>1486</td>\n",
       "      <td>2018-12-01</td>\n",
       "      <td>38.0</td>\n",
       "      <td>1007.0</td>\n",
       "      <td>83.0</td>\n",
       "      <td>smart</td>\n",
       "      <td>6770.0</td>\n",
       "    </tr>\n",
       "  </tbody>\n",
       "</table>\n",
       "</div>"
      ],
      "text/plain": [
       "      user_id      month  gb_used  duration  messages tariff  revenue\n",
       "260      1042 2018-12-01     37.0     728.0      75.0  smart   5709.0\n",
       "623      1098 2018-12-01     36.0     588.0      14.0  smart   5014.0\n",
       "1017     1159 2018-12-01     35.0     734.0       2.0  smart   5252.0\n",
       "1647     1261 2018-12-01     32.0    1074.0      22.0  smart   5672.0\n",
       "1810     1286 2018-12-01     35.0     739.0      68.0  smart   5321.0\n",
       "3129     1486 2018-11-01     36.0     764.0      96.0  smart   5680.0\n",
       "3130     1486 2018-12-01     38.0    1007.0      83.0  smart   6770.0"
      ]
     },
     "execution_count": 48,
     "metadata": {},
     "output_type": "execute_result"
    }
   ],
   "source": [
    "monthly_revenue['revenue'] = monthly_revenue.apply(revenue_calc, axis=1)\n",
    "monthly_revenue.query('revenue > 5000')"
   ]
  },
  {
   "cell_type": "markdown",
   "metadata": {},
   "source": [
    "## Исследовательский анализ\n",
    "Проанализируем поведение клиентов, исходя из выборки. Сколько минут разговора, сколько сообщений и какой объём интернет-трафика требуется пользователям каждого тарифа в месяц? Посчитаем среднее количество, дисперсию и стандартное отклонение. Построим гистограммы, опишем распределения."
   ]
  },
  {
   "cell_type": "code",
   "execution_count": 49,
   "metadata": {},
   "outputs": [
    {
     "data": {
      "text/plain": [
       "smart    2229\n",
       "ultra     985\n",
       "Name: tariff, dtype: int64"
      ]
     },
     "execution_count": 49,
     "metadata": {},
     "output_type": "execute_result"
    }
   ],
   "source": [
    "monthly_revenue['tariff'].value_counts()"
   ]
  },
  {
   "cell_type": "markdown",
   "metadata": {},
   "source": [
    "По тарифу Смарт имеется в 2 раза больше данных (в разрезе по клиентам, месяцам), чем по тарифу Ультра. Но исследованию это не помешает."
   ]
  },
  {
   "cell_type": "markdown",
   "metadata": {},
   "source": [
    "### Звонки"
   ]
  },
  {
   "cell_type": "code",
   "execution_count": 50,
   "metadata": {},
   "outputs": [
    {
     "data": {
      "text/plain": [
       "count    3214.000000\n",
       "mean      451.244866\n",
       "std       241.909978\n",
       "min         0.000000\n",
       "25%       282.000000\n",
       "50%       443.000000\n",
       "75%       589.000000\n",
       "max      1673.000000\n",
       "Name: duration, dtype: float64"
      ]
     },
     "execution_count": 50,
     "metadata": {},
     "output_type": "execute_result"
    }
   ],
   "source": [
    "monthly_revenue['duration'].describe()"
   ]
  },
  {
   "cell_type": "markdown",
   "metadata": {},
   "source": [
    "Построим плотностные гистограммы, графики нормальных распределений и ядерной оценки плотности (kde) по тарифам:"
   ]
  },
  {
   "cell_type": "code",
   "execution_count": 51,
   "metadata": {},
   "outputs": [
    {
     "name": "stdout",
     "output_type": "stream",
     "text": [
      "Ультра: μ=527,  σ²=100771,  σ=317\n",
      "Смарт:  μ=418,  σ²= 36203,  σ=190\n"
     ]
    },
    {
     "data": {
      "image/png": "[encoded data removed]",
      "text/plain": [
       "<Figure size 1152x288 with 1 Axes>"
      ]
     },
     "metadata": {
      "needs_background": "light"
     },
     "output_type": "display_data"
    }
   ],
   "source": [
    "mu_ultra = monthly_revenue.query('tariff == \"ultra\"')['duration'].mean()\n",
    "var_ultra = np.var(monthly_revenue.query('tariff == \"ultra\"')['duration'])\n",
    "sigma_ultra = np.std(monthly_revenue.query('tariff == \"ultra\"')['duration'])\n",
    "mu_smart = monthly_revenue.query('tariff == \"smart\"')['duration'].mean()\n",
    "var_smart = np.var(monthly_revenue.query('tariff == \"smart\"')['duration'])\n",
    "sigma_smart = np.std(monthly_revenue.query('tariff == \"smart\"')['duration'])\n",
    "print(f\"Ультра: \\u03BC={mu_ultra:3.0f},  \\u03C3\\u00b2={var_ultra:6.0f},  \\u03C3={sigma_ultra:3.0f}\")\n",
    "print(f\"Смарт:  \\u03BC={mu_smart:3.0f},  \\u03C3\\u00b2={var_smart:6.0f},  \\u03C3={sigma_smart:3.0f}\")\n",
    "\n",
    "x = range(0,1400)\n",
    "fig, ax = plt.subplots(figsize=(16,4))\n",
    "plt.plot(x, norm.pdf(x, mu_ultra, sigma_ultra), figure=fig, color='goldenrod')\n",
    "plt.plot(x, norm.pdf(x, mu_smart, sigma_smart), figure=fig, color='fuchsia')\n",
    "sb.histplot(monthly_revenue.query('duration <= 1400')\n",
    "            , x='duration', hue='tariff', stat='density', kde=True, element='step', binwidth=10\n",
    "            , common_norm=False, log_scale=False, palette='hsv', fill=True, ax=ax)\n",
    "plt.show();"
   ]
  },
  {
   "cell_type": "markdown",
   "metadata": {},
   "source": [
    "<div class=\"alert alert-block alert-success\">\n",
    "<b>Комментарий ревьюера (✅):</b> Визуализация - супер 👍"
   ]
  },
  {
   "cell_type": "markdown",
   "metadata": {},
   "source": [
    "Общая длительность разговоров в месяц для тарифов распределяется по-разному. Оба распределения можно аппроксимировать нормальным распределением, но для Смарта среднее - 418, стандартное отклонение - 190, а для Ультры среднее - 527, а стандартное отклонение - 317. Длительность разговоров на Ультре имеет очень большой разброс.\n",
    "<br>Для Смарта в стоимость тарифа включено 500 минут. Небольшая часть пользователей в этот лимит не укладывается. Дла Ультры же включено 3000 минут, и в этот лимит укладываются все с большим запасом.\n",
    "<br>У Ультры наблюдается очень высокий пик в районе 0. Рассмотрим подробнее:"
   ]
  },
  {
   "cell_type": "code",
   "execution_count": 52,
   "metadata": {},
   "outputs": [
    {
     "data": {
      "image/png": "[encoded data removed]",
      "text/plain": [
       "<Figure size 432x216 with 1 Axes>"
      ]
     },
     "metadata": {
      "needs_background": "light"
     },
     "output_type": "display_data"
    }
   ],
   "source": [
    "monthly_revenue.query('tariff == \"ultra\"').hist(column='duration', figsize=(6,3), bins=30, range=(0,30));"
   ]
  },
  {
   "cell_type": "markdown",
   "metadata": {},
   "source": [
    "Пик именно на значении 0. Возможно, некоторые пользователи используют симку только для выхода в интернет, но не для звонков."
   ]
  },
  {
   "cell_type": "markdown",
   "metadata": {},
   "source": [
    "### Интернет-трафик"
   ]
  },
  {
   "cell_type": "code",
   "execution_count": 53,
   "metadata": {},
   "outputs": [
    {
     "data": {
      "text/plain": [
       "count    3214.000000\n",
       "mean       17.299004\n",
       "std         7.400584\n",
       "min         0.000000\n",
       "25%        13.000000\n",
       "50%        17.000000\n",
       "75%        21.000000\n",
       "max        49.000000\n",
       "Name: gb_used, dtype: float64"
      ]
     },
     "execution_count": 53,
     "metadata": {},
     "output_type": "execute_result"
    }
   ],
   "source": [
    "monthly_revenue['gb_used'].describe()"
   ]
  },
  {
   "cell_type": "code",
   "execution_count": 54,
   "metadata": {},
   "outputs": [
    {
     "name": "stdout",
     "output_type": "stream",
     "text": [
      "Ультра: μ=19.5,  σ²= 97,  σ=9.8\n",
      "Смарт:  μ=16.3,  σ²= 33,  σ=5.7\n"
     ]
    },
    {
     "data": {
      "image/png": "[encoded data removed]",
      "text/plain": [
       "<Figure size 1152x288 with 1 Axes>"
      ]
     },
     "metadata": {
      "needs_background": "light"
     },
     "output_type": "display_data"
    }
   ],
   "source": [
    "mu_ultra = monthly_revenue.query('tariff == \"ultra\"')['gb_used'].mean()\n",
    "var_ultra = np.var(monthly_revenue.query('tariff == \"ultra\"')['gb_used'])\n",
    "sigma_ultra = np.std(monthly_revenue.query('tariff == \"ultra\"')['gb_used'])\n",
    "mu_smart = monthly_revenue.query('tariff == \"smart\"')['gb_used'].mean()\n",
    "var_smart = np.var(monthly_revenue.query('tariff == \"smart\"')['gb_used'])\n",
    "sigma_smart = np.std(monthly_revenue.query('tariff == \"smart\"')['gb_used'])\n",
    "print(f\"Ультра: \\u03BC={mu_ultra:3.1f},  \\u03C3\\u00b2={var_ultra:3.0f},  \\u03C3={sigma_ultra:3.1f}\")\n",
    "print(f\"Смарт:  \\u03BC={mu_smart:3.1f},  \\u03C3\\u00b2={var_smart:3.0f},  \\u03C3={sigma_smart:3.1f}\")\n",
    "\n",
    "x = range(0,50)\n",
    "fig, ax = plt.subplots(figsize=(16,4))\n",
    "plt.plot(x, norm.pdf(x, mu_ultra, sigma_ultra), figure=fig, color='goldenrod')\n",
    "plt.plot(x, norm.pdf(x, mu_smart, sigma_smart), figure=fig, color='fuchsia')\n",
    "sb.histplot(monthly_revenue\n",
    "            , x='gb_used', hue='tariff', stat='density', kde=True, element='step', binwidth=1\n",
    "            , common_norm=False, log_scale=False, palette='hsv', fill=True, ax=ax)\n",
    "plt.show();"
   ]
  },
  {
   "cell_type": "markdown",
   "metadata": {},
   "source": [
    "Для интернет-трафика похожая картина: у Ультры больше среднее и сильно больше стандартное отклонение.\n",
    "<br>На Ультре в большинстве случаев укладываются во включённый объём трафика (30 Гб), а на Смарте (15 Гб) - нет."
   ]
  },
  {
   "cell_type": "markdown",
   "metadata": {},
   "source": [
    "### Сообщения"
   ]
  },
  {
   "cell_type": "code",
   "execution_count": 55,
   "metadata": {},
   "outputs": [
    {
     "data": {
      "text/plain": [
       "count    3214.000000\n",
       "mean       38.281269\n",
       "std        36.148326\n",
       "min         0.000000\n",
       "25%         9.000000\n",
       "50%        30.000000\n",
       "75%        57.000000\n",
       "max       224.000000\n",
       "Name: messages, dtype: float64"
      ]
     },
     "execution_count": 55,
     "metadata": {},
     "output_type": "execute_result"
    }
   ],
   "source": [
    "monthly_revenue['messages'].describe()"
   ]
  },
  {
   "cell_type": "code",
   "execution_count": 78,
   "metadata": {},
   "outputs": [
    {
     "name": "stdout",
     "output_type": "stream",
     "text": [
      "Ультра: μ=49.4,  σ²=2283,  σ=47.8\n",
      "Смарт:  μ=33.4,  σ²= 796,  σ=28.2\n"
     ]
    },
    {
     "data": {
      "image/png": "[encoded data removed]",
      "text/plain": [
       "<Figure size 1152x288 with 1 Axes>"
      ]
     },
     "metadata": {
      "needs_background": "light"
     },
     "output_type": "display_data"
    }
   ],
   "source": [
    "mu_ultra = monthly_revenue.query('tariff == \"ultra\"')['messages'].mean()\n",
    "var_ultra = np.var(monthly_revenue.query('tariff == \"ultra\"')['messages'])\n",
    "sigma_ultra = np.std(monthly_revenue.query('tariff == \"ultra\"')['messages'])\n",
    "mu_smart = monthly_revenue.query('tariff == \"smart\"')['messages'].mean()\n",
    "var_smart = np.var(monthly_revenue.query('tariff == \"smart\"')['messages'])\n",
    "sigma_smart = np.std(monthly_revenue.query('tariff == \"smart\"')['messages'])\n",
    "print(f\"Ультра: \\u03BC={mu_ultra:3.1f},  \\u03C3\\u00b2={var_ultra:4.0f},  \\u03C3={sigma_ultra:3.1f}\")\n",
    "print(f\"Смарт:  \\u03BC={mu_smart:3.1f},  \\u03C3\\u00b2={var_smart:4.0f},  \\u03C3={sigma_smart:3.1f}\")\n",
    "\n",
    "x = range(0,200)\n",
    "fig, ax = plt.subplots(figsize=(16,4))\n",
    "plt.plot(x, norm.pdf(x, mu_ultra, sigma_ultra), figure=fig, color='goldenrod')\n",
    "plt.plot(x, norm.pdf(x, mu_smart, sigma_smart), figure=fig, color='fuchsia')\n",
    "sb.histplot(monthly_revenue.query('messages > 0')\n",
    "            , x='messages', hue='tariff', stat='density', kde=True, element='step', binwidth=1\n",
    "            , common_norm=False, log_scale=False, palette='hsv', fill=True, ax=ax)\n",
    "plt.show();"
   ]
  },
  {
   "cell_type": "code",
   "execution_count": 71,
   "metadata": {},
   "outputs": [
    {
     "data": {
      "image/png": "[encoded data removed]",
      "text/plain": [
       "<Figure size 1080x180 with 1 Axes>"
      ]
     },
     "metadata": {
      "needs_background": "light"
     },
     "output_type": "display_data"
    }
   ],
   "source": [
    "monthly_revenue.hist(column='messages', figsize=(15,2.5), bins=150, range=(0,150));"
   ]
  },
  {
   "cell_type": "markdown",
   "metadata": {},
   "source": [
    "Для сообщений аналогичная звонкам картина; а пик на значении 0 ещё выше (что неудивительно: многие сейчас совсем не пользуются отправкой сообщений).\n",
    "<br>Опять во множестве случаев пользователи тарифа Смарт не укладываются во включённый пакет (50 сообщений)."
   ]
  },
  {
   "cell_type": "markdown",
   "metadata": {},
   "source": [
    "### Выручка\n",
    "<p><a name=\"tariff_revenue\"></a></p>"
   ]
  },
  {
   "cell_type": "code",
   "execution_count": 57,
   "metadata": {},
   "outputs": [
    {
     "data": {
      "text/html": [
       "<div>\n",
       "<style scoped>\n",
       "    .dataframe tbody tr th:only-of-type {\n",
       "        vertical-align: middle;\n",
       "    }\n",
       "\n",
       "    .dataframe tbody tr th {\n",
       "        vertical-align: top;\n",
       "    }\n",
       "\n",
       "    .dataframe thead th {\n",
       "        text-align: right;\n",
       "    }\n",
       "</style>\n",
       "<table border=\"1\" class=\"dataframe\">\n",
       "  <thead>\n",
       "    <tr style=\"text-align: right;\">\n",
       "      <th></th>\n",
       "      <th>count</th>\n",
       "      <th>sum</th>\n",
       "      <th>mean</th>\n",
       "      <th>min</th>\n",
       "      <th>max</th>\n",
       "    </tr>\n",
       "    <tr>\n",
       "      <th>tariff</th>\n",
       "      <th></th>\n",
       "      <th></th>\n",
       "      <th></th>\n",
       "      <th></th>\n",
       "      <th></th>\n",
       "    </tr>\n",
       "  </thead>\n",
       "  <tbody>\n",
       "    <tr>\n",
       "      <th>smart</th>\n",
       "      <td>2229</td>\n",
       "      <td>2875351.0</td>\n",
       "      <td>1289.973531</td>\n",
       "      <td>550.0</td>\n",
       "      <td>6770.0</td>\n",
       "    </tr>\n",
       "    <tr>\n",
       "      <th>ultra</th>\n",
       "      <td>985</td>\n",
       "      <td>2039100.0</td>\n",
       "      <td>2070.152284</td>\n",
       "      <td>1950.0</td>\n",
       "      <td>4800.0</td>\n",
       "    </tr>\n",
       "  </tbody>\n",
       "</table>\n",
       "</div>"
      ],
      "text/plain": [
       "        count        sum         mean     min     max\n",
       "tariff                                               \n",
       "smart    2229  2875351.0  1289.973531   550.0  6770.0\n",
       "ultra     985  2039100.0  2070.152284  1950.0  4800.0"
      ]
     },
     "execution_count": 57,
     "metadata": {},
     "output_type": "execute_result"
    }
   ],
   "source": [
    "monthly_revenue.groupby('tariff')['revenue'].agg(func=['count','sum','mean','min','max'])"
   ]
  },
  {
   "cell_type": "markdown",
   "metadata": {},
   "source": [
    "Средняя ежемесячная оплата ожидаемо выше на тарифе Ультра, но общая выручка всё равно больше по тарифу Смарт, т.к. больше клиентов его используют."
   ]
  },
  {
   "cell_type": "code",
   "execution_count": 58,
   "metadata": {},
   "outputs": [
    {
     "name": "stdout",
     "output_type": "stream",
     "text": [
      "Ультра: μ=2070,  σ²=141373,  σ= 376\n",
      "Смарт:  μ=1290,  σ²=669485,  σ= 818\n"
     ]
    },
    {
     "data": {
      "image/png": "[encoded data removed]",
      "text/plain": [
       "<Figure size 1152x360 with 1 Axes>"
      ]
     },
     "metadata": {
      "needs_background": "light"
     },
     "output_type": "display_data"
    }
   ],
   "source": [
    "mu_ultra = monthly_revenue.query('tariff == \"ultra\"')['revenue'].mean()\n",
    "var_ultra = np.var(monthly_revenue.query('tariff == \"ultra\"')['revenue'])\n",
    "sigma_ultra = np.std(monthly_revenue.query('tariff == \"ultra\"')['revenue'])\n",
    "mu_smart = monthly_revenue.query('tariff == \"smart\"')['revenue'].mean()\n",
    "var_smart = np.var(monthly_revenue.query('tariff == \"smart\"')['revenue'])\n",
    "sigma_smart = np.std(monthly_revenue.query('tariff == \"smart\"')['revenue'])\n",
    "print(f\"Ультра: \\u03BC={mu_ultra:4.0f},  \\u03C3\\u00b2={var_ultra:6.0f},  \\u03C3={sigma_ultra:4.0f}\")\n",
    "print(f\"Смарт:  \\u03BC={mu_smart:4.0f},  \\u03C3\\u00b2={var_smart:6.0f},  \\u03C3={sigma_smart:4.0f}\")\n",
    "\n",
    "x = range(500,7000)\n",
    "fig, ax = plt.subplots(figsize=(16,5))\n",
    "#plt.plot(x, norm.pdf(x, mu_ultra, sigma_ultra), figure=fig, color='goldenrod')\n",
    "#plt.plot(x, norm.pdf(x, mu_smart, sigma_smart), figure=fig, color='fuchsia')\n",
    "sb.histplot(monthly_revenue\n",
    "            , x='revenue', hue='tariff', stat='density', kde=False, element='step', binwidth=100\n",
    "            , common_norm=True, log_scale=False, palette='hsv', fill=True, ax=ax)\n",
    "plt.show();"
   ]
  },
  {
   "cell_type": "markdown",
   "metadata": {},
   "source": [
    "Пики соответствуют размерам абонентской платы для тарифов.\n",
    "<br>Для выручки стандартное отклонение гораздо выше у тарифа Смарт, в отличие минут, гигабайтов и сообщений. Причина в том, что большинство пользователей тарифа Ультра укладывается в тарифный пакет, а пользователи Смарта чаще выходят за ограничения пакета, в чём мы уже убедились выше."
   ]
  },
  {
   "cell_type": "markdown",
   "metadata": {},
   "source": [
    "## Проверка гипотез\n",
    "Проверим гипотезы:\n",
    "* средние выручки пользователей тарифов «Ультра» и «Смарт» различаются;\n",
    "* средняя выручка пользователей из Москвы отличается от выручки пользователей из других регионов."
   ]
  },
  {
   "cell_type": "markdown",
   "metadata": {},
   "source": [
    "Зададим уровень значимости для проверки гипотез **α=0.01**."
   ]
  },
  {
   "cell_type": "code",
   "execution_count": 59,
   "metadata": {},
   "outputs": [],
   "source": [
    "alpha = 0.01"
   ]
  },
  {
   "cell_type": "markdown",
   "metadata": {},
   "source": [
    "Мы имеем дело не с генеральными совокупностями данных за 2018 год, а со случайными выборками. Но они достаточно большие. А ***ЦПТ*** говорит о том, что по выборочному среднему можно судить о среднем генеральной совокупности, причём чем больше выборка, тем точнее — это работает для генеральной совокупности, распределённой каким угодно образом.\n",
    "\n",
    "Гипотезы **H<sub>0</sub>** будут иметь вид: \"средние двух генеральных совокупностей равны между собой\",\n",
    "<br>а гипотезы **H<sub>1</sub>** (как раз те, что хотим проверить) - \"средние двух генеральных совокупностей отличаются\".\n",
    "<br>**H<sub>1</sub>** в обоих случаях двусторонние.\n",
    "\n",
    "В Python есть специальный метод для проверки гипотезы о равенстве среднего двух генеральных совокупностей по взятым из них выборкам: `scipy.stats.ttest_ind`. Будем использовать его."
   ]
  },
  {
   "cell_type": "markdown",
   "metadata": {},
   "source": [
    "<font size=2>Рассмотрим предварительно 3 аспекта, которые надо проверить, чтобы понять, можно ли применять *t-тест*:</font>\n",
    "1. <font size=2>Генеральные совокупности не должны зависеть друг от друга. Мы не рассматриваем одну генеральную совокупность до и после какого-то изменения. Можно считать, что данные по разным тарифам и разным регионам не зависят друг от друга.</font>\n",
    "2. <font size=2>Выборочные средние должны быть нормально распределены. Это условие - не препятствие. Благодаря ***ЦПТ***, если размер выборки составляет хотя бы несколько десятков значений (а мы имеем дело с несколькими сотнями/тысячами), выборочные средние, которые можно получить из одной и той же генеральной совокупности, будут распределены нормально вокруг истинного среднего этой совокупности. Это утверждение верно, даже если сама генеральная совокупность не распределена нормально.</font>\n",
    "3. <font size=2>Дисперсии рассматриваемых генеральных совокупностей должны быть равны. Также не препятствие. Наши выборки (по кр.мере по тарифам) разного размера, и есть сомнения, что дисперсии у совокупностей (по кр.мере по тарифам) одинаковые, поэтому укажем параметр `equal_var=False`.</font>"
   ]
  },
  {
   "cell_type": "markdown",
   "metadata": {},
   "source": [
    "### Средняя выручка по тарифам"
   ]
  },
  {
   "cell_type": "markdown",
   "metadata": {},
   "source": [
    "**H<sub>0</sub>**: средние выручки пользователей тарифов «Ультра» и «Смарт» **равны**.\n",
    "<br>**H<sub>1</sub>**: средние выручки пользователей тарифов «Ультра» и «Смарт» **различаются**."
   ]
  },
  {
   "cell_type": "code",
   "execution_count": 60,
   "metadata": {},
   "outputs": [
    {
     "name": "stdout",
     "output_type": "stream",
     "text": [
      "p-value = 4.2606313931076085e-250\n",
      "p-value < α\n",
      "Отвергаем нулевую гипотезу.\n",
      "Делаем вывод, что средние выручки пользователей тарифов «Ультра» и «Смарт» различаются.\n"
     ]
    }
   ],
   "source": [
    "results = st.ttest_ind(\n",
    "    monthly_revenue.query('tariff == \"smart\"')['revenue'], \n",
    "    monthly_revenue.query('tariff == \"ultra\"')['revenue'],\n",
    "    equal_var=False\n",
    ")\n",
    "\n",
    "print('p-value =', results.pvalue)\n",
    "\n",
    "if results.pvalue < alpha:\n",
    "    print('p-value < \\u03B1\\nОтвергаем нулевую гипотезу.\\n'\n",
    "          +'Делаем вывод, что средние выручки пользователей тарифов «Ультра» и «Смарт» различаются.')\n",
    "    \n",
    "else:\n",
    "    print('p-value \\u2265 \\u03B1\\nНе отвергаем нулевую гипотезу.\\n'\n",
    "          +'Делаем вывод, что средние выручки пользователей тарифов «Ультра» и «Смарт» равны.')"
   ]
  },
  {
   "cell_type": "markdown",
   "metadata": {},
   "source": [
    "Сами размеры средней выручки по тарифам были получены в предыдущем <a href=\"#tariff_revenue\">разделе</a>. Они действительно различаются довольно сильно, и получение настолько малого p-value это подтвердило."
   ]
  },
  {
   "cell_type": "markdown",
   "metadata": {},
   "source": [
    "### Средняя выручка по регионам"
   ]
  },
  {
   "cell_type": "markdown",
   "metadata": {},
   "source": [
    "**H<sub>0</sub>**: средняя выручка пользователей из Москвы **равна** средней выручке пользователей из других регионов.\n",
    "<br>**H<sub>1</sub>**: средняя выручка пользователей из Москвы **отличается** от средней выручки пользователей из других регионов."
   ]
  },
  {
   "cell_type": "markdown",
   "metadata": {},
   "source": [
    "Для проверки этой гипотезы нужно в итоговую таблицу добавить поле с информацией о регионе."
   ]
  },
  {
   "cell_type": "code",
   "execution_count": 61,
   "metadata": {},
   "outputs": [
    {
     "data": {
      "text/html": [
       "<div>\n",
       "<style scoped>\n",
       "    .dataframe tbody tr th:only-of-type {\n",
       "        vertical-align: middle;\n",
       "    }\n",
       "\n",
       "    .dataframe tbody tr th {\n",
       "        vertical-align: top;\n",
       "    }\n",
       "\n",
       "    .dataframe thead th {\n",
       "        text-align: right;\n",
       "    }\n",
       "</style>\n",
       "<table border=\"1\" class=\"dataframe\">\n",
       "  <thead>\n",
       "    <tr style=\"text-align: right;\">\n",
       "      <th></th>\n",
       "      <th>user_id</th>\n",
       "      <th>month</th>\n",
       "      <th>gb_used</th>\n",
       "      <th>duration</th>\n",
       "      <th>messages</th>\n",
       "      <th>tariff</th>\n",
       "      <th>revenue</th>\n",
       "      <th>city</th>\n",
       "    </tr>\n",
       "  </thead>\n",
       "  <tbody>\n",
       "    <tr>\n",
       "      <th>0</th>\n",
       "      <td>1000</td>\n",
       "      <td>2018-05-01</td>\n",
       "      <td>3.0</td>\n",
       "      <td>159.0</td>\n",
       "      <td>22.0</td>\n",
       "      <td>ultra</td>\n",
       "      <td>1950.0</td>\n",
       "      <td>Краснодар</td>\n",
       "    </tr>\n",
       "    <tr>\n",
       "      <th>1</th>\n",
       "      <td>1000</td>\n",
       "      <td>2018-06-01</td>\n",
       "      <td>23.0</td>\n",
       "      <td>172.0</td>\n",
       "      <td>60.0</td>\n",
       "      <td>ultra</td>\n",
       "      <td>1950.0</td>\n",
       "      <td>Краснодар</td>\n",
       "    </tr>\n",
       "  </tbody>\n",
       "</table>\n",
       "</div>"
      ],
      "text/plain": [
       "   user_id      month  gb_used  duration  messages tariff  revenue       city\n",
       "0     1000 2018-05-01      3.0     159.0      22.0  ultra   1950.0  Краснодар\n",
       "1     1000 2018-06-01     23.0     172.0      60.0  ultra   1950.0  Краснодар"
      ]
     },
     "execution_count": 61,
     "metadata": {},
     "output_type": "execute_result"
    }
   ],
   "source": [
    "monthly_revenue = monthly_revenue.merge(df_users.loc[:, ['user_id','city']],\n",
    "                                        on='user_id', how='left')\n",
    "monthly_revenue.head(2)"
   ]
  },
  {
   "cell_type": "code",
   "execution_count": 62,
   "metadata": {},
   "outputs": [
    {
     "name": "stdout",
     "output_type": "stream",
     "text": [
      "Средняя выручка по Москве: 1547; размер выборки: 611.\n",
      "Средняя выручка по регионам: 1525; размер выборки: 2603.\n"
     ]
    }
   ],
   "source": [
    "moscow  = monthly_revenue.query('city == \"Москва\"')['revenue']\n",
    "regions = monthly_revenue.query('city != \"Москва\"')['revenue']\n",
    "print(f'Средняя выручка по Москве: {moscow.mean():4.0f}; размер выборки: {len(moscow)}.')\n",
    "print(f'Средняя выручка по регионам: {regions.mean():4.0f}; размер выборки: {len(regions)}.')"
   ]
  },
  {
   "cell_type": "code",
   "execution_count": 63,
   "metadata": {},
   "outputs": [
    {
     "name": "stdout",
     "output_type": "stream",
     "text": [
      "p-value = 0.5257376663729298\n",
      "p-value ≥ α\n",
      "Не отвергаем нулевую гипотезу.\n",
      "Делаем вывод, что средняя выручка пользователей из Москвы равна средней выручке пользователей из других регионов.\n"
     ]
    }
   ],
   "source": [
    "results = st.ttest_ind(\n",
    "    moscow, \n",
    "    regions,\n",
    "    equal_var=False #потому что выборки разного размера\n",
    ")\n",
    "\n",
    "print('p-value =', results.pvalue)\n",
    "\n",
    "if results.pvalue < alpha:\n",
    "    print('p-value < \\u03B1\\nОтвергаем нулевую гипотезу.\\n'\n",
    "          +'Делаем вывод, что средняя выручка пользователей из Москвы '\n",
    "          +'отличается от средней выручки пользователей из других регионов')\n",
    "    \n",
    "else:\n",
    "    print('p-value \\u2265 \\u03B1\\nНе отвергаем нулевую гипотезу.\\n'\n",
    "          +'Делаем вывод, что средняя выручка пользователей из Москвы '\n",
    "          +'равна средней выручке пользователей из других регионов.')"
   ]
  },
  {
   "cell_type": "markdown",
   "metadata": {},
   "source": [
    "Полученное p-value говорит о том, что вероятность получения такого незначительного отличия средних выборок по Москве и регионам близка к 50%, при условии, что верна гипотеза о равенстве средних этих генеральных совокупностей."
   ]
  },
  {
   "cell_type": "markdown",
   "metadata": {},
   "source": [
    "## Общий вывод"
   ]
  },
  {
   "cell_type": "markdown",
   "metadata": {},
   "source": [
    "Был проведён предварительный анализ тарифов на небольшой выборке (данные 500 пользователей «Мегалайна»: кто они, откуда, каким тарифом пользуются, сколько звонков и сообщений каждый отправил за 2018 год).\n",
    "\n",
    "В результате обнаружили, что по длительности разговоров, объёму трафика и кол-ву сообщений за месяц тарифы отличаются следующим образом: у тарифа \"Ультра\" по сравнению с тарифом \"Смарт\" выше средние и дисперсии/отклонения, т.е. больше разброс данных.\n",
    "<br>Для выручки, напротив, разброс и стандартное отклонение гораздо выше у тарифа \"Смарт\", потому что большинство пользователей тарифа \"Ультра\" укладывается в тарифный пакет, а пользователи \"Смарта\" чаще выходят за ограничения пакета.\n",
    "\n",
    "На выборке были проверены 2 статистические гипотезы (методом t-test) и сделаны следующие выводы:\n",
    "* средняя выручка пользователей тарифа «Ультра» выше средней выручки пользователей тарифа \"Смарт\";\n",
    "* средняя выручка пользователей из Москвы *не* отличается от выручки пользователей из других регионов.\n",
    "\n",
    "Была также цель сделать вывод, какой тариф лучше. Но это слишком общая и недостаточно точная постановка вопроса. Однозначно ответить невозможно. Несмотря на то, что средняя выручка по \"Ультре\" выше, общая выручка больше по \"Смарту\" за счёт б**о**льшего числа пользователей. \n",
    "<br>(И, конечно же, оба тарифа нужны, нельзя отказаться от какого-то и оставить только один. Возможно, можно было бы добавить ещё один или больше новых тарифов.)\n",
    "<br>Коммерческий департамент хочет скорректировать рекламный бюджет. Вероятно, необходимо более детально проработать цели исследования с заказчиком."
   ]
  },
  {
   "cell_type": "code",
   "execution_count": 64,
   "metadata": {},
   "outputs": [
    {
     "data": {
      "text/plain": [
       "'14.04.2022 22:18'"
      ]
     },
     "execution_count": 64,
     "metadata": {},
     "output_type": "execute_result"
    }
   ],
   "source": [
    "dt.datetime.today().strftime(\"%d.%m.%Y %H:%M\")"
   ]
  }
 ],
 "metadata": {
  "ExecuteTimeLog": [
   {
    "duration": 1630,
    "start_time": "2022-04-03T08:35:59.393Z"
   },
   {
    "duration": 510,
    "start_time": "2022-04-03T08:36:01.026Z"
   },
   {
    "duration": 37,
    "start_time": "2022-04-03T08:36:01.538Z"
   },
   {
    "duration": 27,
    "start_time": "2022-04-03T08:36:01.578Z"
   },
   {
    "duration": 67,
    "start_time": "2022-04-03T08:36:01.607Z"
   },
   {
    "duration": 39,
    "start_time": "2022-04-03T08:36:01.676Z"
   },
   {
    "duration": 55,
    "start_time": "2022-04-03T08:36:01.717Z"
   },
   {
    "duration": 9,
    "start_time": "2022-04-03T08:36:01.775Z"
   },
   {
    "duration": 22,
    "start_time": "2022-04-03T08:36:01.786Z"
   },
   {
    "duration": 82,
    "start_time": "2022-04-03T08:36:01.812Z"
   },
   {
    "duration": 80,
    "start_time": "2022-04-03T08:36:01.896Z"
   },
   {
    "duration": 42,
    "start_time": "2022-04-03T08:36:01.978Z"
   },
   {
    "duration": 9,
    "start_time": "2022-04-03T08:36:02.022Z"
   },
   {
    "duration": 34,
    "start_time": "2022-04-03T08:36:02.033Z"
   },
   {
    "duration": 8,
    "start_time": "2022-04-03T08:36:02.069Z"
   },
   {
    "duration": 14,
    "start_time": "2022-04-03T08:36:02.079Z"
   },
   {
    "duration": 11,
    "start_time": "2022-04-03T08:36:02.095Z"
   },
   {
    "duration": 13,
    "start_time": "2022-04-03T08:36:02.109Z"
   },
   {
    "duration": 54,
    "start_time": "2022-04-03T08:36:02.125Z"
   },
   {
    "duration": 8,
    "start_time": "2022-04-03T08:36:02.181Z"
   },
   {
    "duration": 376,
    "start_time": "2022-04-03T08:36:02.191Z"
   },
   {
    "duration": 125,
    "start_time": "2022-04-03T08:36:02.569Z"
   },
   {
    "duration": 7,
    "start_time": "2022-04-03T08:36:02.696Z"
   },
   {
    "duration": 21,
    "start_time": "2022-04-03T08:36:02.705Z"
   },
   {
    "duration": 587,
    "start_time": "2022-04-03T08:36:02.728Z"
   },
   {
    "duration": 155,
    "start_time": "2022-04-03T08:36:03.317Z"
   },
   {
    "duration": 270,
    "start_time": "2022-04-03T08:36:03.474Z"
   },
   {
    "duration": 6,
    "start_time": "2022-04-03T08:36:03.750Z"
   },
   {
    "duration": 105,
    "start_time": "2022-04-03T08:36:03.767Z"
   },
   {
    "duration": 4180,
    "start_time": "2022-04-03T08:36:03.874Z"
   },
   {
    "duration": 35,
    "start_time": "2022-04-03T08:36:08.056Z"
   },
   {
    "duration": 28,
    "start_time": "2022-04-03T08:36:08.093Z"
   },
   {
    "duration": 63,
    "start_time": "2022-04-03T08:36:08.123Z"
   },
   {
    "duration": 37,
    "start_time": "2022-04-03T08:36:08.188Z"
   },
   {
    "duration": 8,
    "start_time": "2022-04-03T08:36:08.227Z"
   },
   {
    "duration": 32,
    "start_time": "2022-04-03T08:36:08.237Z"
   },
   {
    "duration": 14,
    "start_time": "2022-04-03T08:36:08.271Z"
   },
   {
    "duration": 6,
    "start_time": "2022-04-03T08:36:08.287Z"
   },
   {
    "duration": 615,
    "start_time": "2022-04-03T08:36:08.295Z"
   },
   {
    "duration": 7,
    "start_time": "2022-04-03T08:36:08.913Z"
   },
   {
    "duration": 11,
    "start_time": "2022-04-03T08:36:08.923Z"
   },
   {
    "duration": 387,
    "start_time": "2022-04-03T08:36:08.937Z"
   },
   {
    "duration": 301,
    "start_time": "2022-04-03T08:36:09.326Z"
   },
   {
    "duration": 12,
    "start_time": "2022-04-03T08:36:09.629Z"
   },
   {
    "duration": 462,
    "start_time": "2022-04-03T08:36:09.643Z"
   },
   {
    "duration": 14,
    "start_time": "2022-04-03T08:36:10.108Z"
   },
   {
    "duration": 453,
    "start_time": "2022-04-03T08:36:10.125Z"
   },
   {
    "duration": 20,
    "start_time": "2022-04-03T08:36:10.580Z"
   },
   {
    "duration": 378,
    "start_time": "2022-04-03T08:36:10.602Z"
   },
   {
    "duration": 4,
    "start_time": "2022-04-03T08:36:10.984Z"
   },
   {
    "duration": 21,
    "start_time": "2022-04-03T08:36:10.991Z"
   },
   {
    "duration": 60,
    "start_time": "2022-04-03T08:36:11.015Z"
   },
   {
    "duration": 21,
    "start_time": "2022-04-03T08:36:11.079Z"
   },
   {
    "duration": 6,
    "start_time": "2022-04-03T08:36:11.103Z"
   },
   {
    "duration": 12,
    "start_time": "2022-04-03T08:36:11.111Z"
   },
   {
    "duration": 51,
    "start_time": "2022-04-13T17:35:09.834Z"
   },
   {
    "duration": 1122,
    "start_time": "2022-04-13T17:35:16.891Z"
   },
   {
    "duration": 413,
    "start_time": "2022-04-13T17:35:18.015Z"
   },
   {
    "duration": 18,
    "start_time": "2022-04-13T17:35:18.429Z"
   },
   {
    "duration": 18,
    "start_time": "2022-04-13T17:35:18.449Z"
   },
   {
    "duration": 49,
    "start_time": "2022-04-13T17:35:18.468Z"
   },
   {
    "duration": 31,
    "start_time": "2022-04-13T17:35:18.519Z"
   },
   {
    "duration": 23,
    "start_time": "2022-04-13T17:35:18.552Z"
   },
   {
    "duration": 35,
    "start_time": "2022-04-13T17:35:18.577Z"
   },
   {
    "duration": 15,
    "start_time": "2022-04-13T17:35:18.614Z"
   },
   {
    "duration": 40,
    "start_time": "2022-04-13T17:35:18.632Z"
   },
   {
    "duration": 68,
    "start_time": "2022-04-13T17:35:18.674Z"
   },
   {
    "duration": 29,
    "start_time": "2022-04-13T17:35:18.744Z"
   },
   {
    "duration": 7,
    "start_time": "2022-04-13T17:35:18.775Z"
   },
   {
    "duration": 25,
    "start_time": "2022-04-13T17:35:18.783Z"
   },
   {
    "duration": 5,
    "start_time": "2022-04-13T17:35:18.809Z"
   },
   {
    "duration": 8,
    "start_time": "2022-04-13T17:35:18.816Z"
   },
   {
    "duration": 8,
    "start_time": "2022-04-13T17:35:18.825Z"
   },
   {
    "duration": 6,
    "start_time": "2022-04-13T17:35:18.834Z"
   },
   {
    "duration": 14,
    "start_time": "2022-04-13T17:35:18.842Z"
   },
   {
    "duration": 4,
    "start_time": "2022-04-13T17:35:18.857Z"
   },
   {
    "duration": 353,
    "start_time": "2022-04-13T17:35:18.863Z"
   },
   {
    "duration": 92,
    "start_time": "2022-04-13T17:35:19.218Z"
   },
   {
    "duration": 5,
    "start_time": "2022-04-13T17:35:19.312Z"
   },
   {
    "duration": 19,
    "start_time": "2022-04-13T17:35:19.318Z"
   },
   {
    "duration": 526,
    "start_time": "2022-04-13T17:35:19.338Z"
   },
   {
    "duration": 113,
    "start_time": "2022-04-13T17:35:19.866Z"
   },
   {
    "duration": 271,
    "start_time": "2022-04-13T17:35:19.981Z"
   },
   {
    "duration": 5,
    "start_time": "2022-04-13T17:35:20.256Z"
   },
   {
    "duration": 81,
    "start_time": "2022-04-13T17:35:20.262Z"
   },
   {
    "duration": 3570,
    "start_time": "2022-04-13T17:35:20.344Z"
   },
   {
    "duration": 22,
    "start_time": "2022-04-13T17:35:23.916Z"
   },
   {
    "duration": 77,
    "start_time": "2022-04-13T17:35:23.940Z"
   },
   {
    "duration": 24,
    "start_time": "2022-04-13T17:35:24.018Z"
   },
   {
    "duration": 76,
    "start_time": "2022-04-13T17:35:24.044Z"
   },
   {
    "duration": 6,
    "start_time": "2022-04-13T17:35:24.122Z"
   },
   {
    "duration": 7,
    "start_time": "2022-04-13T17:35:24.130Z"
   },
   {
    "duration": 9,
    "start_time": "2022-04-13T17:35:24.139Z"
   },
   {
    "duration": 4,
    "start_time": "2022-04-13T17:35:24.150Z"
   },
   {
    "duration": 501,
    "start_time": "2022-04-13T17:35:24.207Z"
   },
   {
    "duration": 6,
    "start_time": "2022-04-13T17:35:24.710Z"
   },
   {
    "duration": 8,
    "start_time": "2022-04-13T17:35:24.718Z"
   },
   {
    "duration": 440,
    "start_time": "2022-04-13T17:35:24.728Z"
   },
   {
    "duration": 193,
    "start_time": "2022-04-13T17:35:25.170Z"
   },
   {
    "duration": 9,
    "start_time": "2022-04-13T17:35:25.365Z"
   },
   {
    "duration": 315,
    "start_time": "2022-04-13T17:35:25.375Z"
   },
   {
    "duration": 18,
    "start_time": "2022-04-13T17:35:25.692Z"
   },
   {
    "duration": 240,
    "start_time": "2022-04-13T17:35:25.712Z"
   },
   {
    "duration": 14,
    "start_time": "2022-04-13T17:35:25.954Z"
   },
   {
    "duration": 214,
    "start_time": "2022-04-13T17:35:25.970Z"
   },
   {
    "duration": 3,
    "start_time": "2022-04-13T17:35:26.186Z"
   },
   {
    "duration": 23,
    "start_time": "2022-04-13T17:35:26.191Z"
   },
   {
    "duration": 17,
    "start_time": "2022-04-13T17:35:26.216Z"
   },
   {
    "duration": 12,
    "start_time": "2022-04-13T17:35:26.235Z"
   },
   {
    "duration": 6,
    "start_time": "2022-04-13T17:35:26.249Z"
   },
   {
    "duration": 12,
    "start_time": "2022-04-13T17:35:26.256Z"
   },
   {
    "duration": 19,
    "start_time": "2022-04-13T17:35:47.849Z"
   },
   {
    "duration": 107,
    "start_time": "2022-04-13T17:44:24.909Z"
   },
   {
    "duration": 12,
    "start_time": "2022-04-13T17:44:32.079Z"
   },
   {
    "duration": 14,
    "start_time": "2022-04-13T17:46:39.174Z"
   },
   {
    "duration": 14,
    "start_time": "2022-04-13T18:56:24.040Z"
   },
   {
    "duration": 1165,
    "start_time": "2022-04-14T17:31:44.621Z"
   },
   {
    "duration": 423,
    "start_time": "2022-04-14T17:31:45.790Z"
   },
   {
    "duration": 20,
    "start_time": "2022-04-14T17:31:46.215Z"
   },
   {
    "duration": 17,
    "start_time": "2022-04-14T17:31:46.238Z"
   },
   {
    "duration": 25,
    "start_time": "2022-04-14T17:31:46.256Z"
   },
   {
    "duration": 54,
    "start_time": "2022-04-14T17:31:46.283Z"
   },
   {
    "duration": 21,
    "start_time": "2022-04-14T17:31:46.339Z"
   },
   {
    "duration": 7,
    "start_time": "2022-04-14T17:31:46.361Z"
   },
   {
    "duration": 16,
    "start_time": "2022-04-14T17:31:46.370Z"
   },
   {
    "duration": 67,
    "start_time": "2022-04-14T17:31:46.389Z"
   },
   {
    "duration": 43,
    "start_time": "2022-04-14T17:31:46.458Z"
   },
   {
    "duration": 40,
    "start_time": "2022-04-14T17:31:46.502Z"
   },
   {
    "duration": 6,
    "start_time": "2022-04-14T17:31:46.544Z"
   },
   {
    "duration": 7,
    "start_time": "2022-04-14T17:31:46.552Z"
   },
   {
    "duration": 7,
    "start_time": "2022-04-14T17:31:46.561Z"
   },
   {
    "duration": 12,
    "start_time": "2022-04-14T17:31:46.570Z"
   },
   {
    "duration": 7,
    "start_time": "2022-04-14T17:31:46.583Z"
   },
   {
    "duration": 33,
    "start_time": "2022-04-14T17:31:46.591Z"
   },
   {
    "duration": 12,
    "start_time": "2022-04-14T17:31:46.626Z"
   },
   {
    "duration": 4,
    "start_time": "2022-04-14T17:31:46.640Z"
   },
   {
    "duration": 272,
    "start_time": "2022-04-14T17:31:46.646Z"
   },
   {
    "duration": 75,
    "start_time": "2022-04-14T17:31:46.923Z"
   },
   {
    "duration": 5,
    "start_time": "2022-04-14T17:31:46.999Z"
   },
   {
    "duration": 27,
    "start_time": "2022-04-14T17:31:47.005Z"
   },
   {
    "duration": 491,
    "start_time": "2022-04-14T17:31:47.034Z"
   },
   {
    "duration": 114,
    "start_time": "2022-04-14T17:31:47.527Z"
   },
   {
    "duration": 249,
    "start_time": "2022-04-14T17:31:47.643Z"
   },
   {
    "duration": 5,
    "start_time": "2022-04-14T17:31:47.896Z"
   },
   {
    "duration": 93,
    "start_time": "2022-04-14T17:31:47.902Z"
   },
   {
    "duration": 2971,
    "start_time": "2022-04-14T17:31:47.997Z"
   },
   {
    "duration": 22,
    "start_time": "2022-04-14T17:31:50.970Z"
   },
   {
    "duration": 36,
    "start_time": "2022-04-14T17:31:50.994Z"
   },
   {
    "duration": 9,
    "start_time": "2022-04-14T17:31:51.032Z"
   },
   {
    "duration": 13,
    "start_time": "2022-04-14T17:31:51.043Z"
   },
   {
    "duration": 26,
    "start_time": "2022-04-14T17:31:51.058Z"
   },
   {
    "duration": 60,
    "start_time": "2022-04-14T17:31:51.086Z"
   },
   {
    "duration": 32,
    "start_time": "2022-04-14T17:31:51.148Z"
   },
   {
    "duration": 12,
    "start_time": "2022-04-14T17:31:51.182Z"
   },
   {
    "duration": 36,
    "start_time": "2022-04-14T17:31:51.196Z"
   },
   {
    "duration": 12,
    "start_time": "2022-04-14T17:31:51.234Z"
   },
   {
    "duration": 10,
    "start_time": "2022-04-14T17:31:51.248Z"
   },
   {
    "duration": 10,
    "start_time": "2022-04-14T17:31:51.260Z"
   },
   {
    "duration": 7,
    "start_time": "2022-04-14T17:31:51.272Z"
   },
   {
    "duration": 10,
    "start_time": "2022-04-14T17:31:51.281Z"
   },
   {
    "duration": 33,
    "start_time": "2022-04-14T17:31:51.293Z"
   },
   {
    "duration": 322,
    "start_time": "2022-04-14T17:31:51.328Z"
   },
   {
    "duration": 6,
    "start_time": "2022-04-14T17:31:51.652Z"
   },
   {
    "duration": 11,
    "start_time": "2022-04-14T17:31:51.660Z"
   },
   {
    "duration": 331,
    "start_time": "2022-04-14T17:31:51.673Z"
   },
   {
    "duration": 277,
    "start_time": "2022-04-14T17:31:52.006Z"
   },
   {
    "duration": 8,
    "start_time": "2022-04-14T17:31:52.285Z"
   },
   {
    "duration": 216,
    "start_time": "2022-04-14T17:31:52.294Z"
   },
   {
    "duration": 18,
    "start_time": "2022-04-14T17:31:52.512Z"
   },
   {
    "duration": 310,
    "start_time": "2022-04-14T17:31:52.532Z"
   },
   {
    "duration": 15,
    "start_time": "2022-04-14T17:31:52.844Z"
   },
   {
    "duration": 198,
    "start_time": "2022-04-14T17:31:52.861Z"
   },
   {
    "duration": 3,
    "start_time": "2022-04-14T17:31:53.061Z"
   },
   {
    "duration": 16,
    "start_time": "2022-04-14T17:31:53.065Z"
   },
   {
    "duration": 16,
    "start_time": "2022-04-14T17:31:53.082Z"
   },
   {
    "duration": 37,
    "start_time": "2022-04-14T17:31:53.100Z"
   },
   {
    "duration": 9,
    "start_time": "2022-04-14T17:31:53.139Z"
   },
   {
    "duration": 8,
    "start_time": "2022-04-14T17:31:53.151Z"
   },
   {
    "duration": 36,
    "start_time": "2022-04-14T17:32:05.382Z"
   },
   {
    "duration": 38,
    "start_time": "2022-04-14T17:35:36.874Z"
   },
   {
    "duration": 52,
    "start_time": "2022-04-14T17:38:25.239Z"
   },
   {
    "duration": 1143,
    "start_time": "2022-04-14T17:38:57.180Z"
   },
   {
    "duration": 331,
    "start_time": "2022-04-14T17:38:58.325Z"
   },
   {
    "duration": 18,
    "start_time": "2022-04-14T17:38:58.658Z"
   },
   {
    "duration": 16,
    "start_time": "2022-04-14T17:38:58.678Z"
   },
   {
    "duration": 51,
    "start_time": "2022-04-14T17:38:58.696Z"
   },
   {
    "duration": 39,
    "start_time": "2022-04-14T17:38:58.749Z"
   },
   {
    "duration": 48,
    "start_time": "2022-04-14T17:38:58.790Z"
   },
   {
    "duration": 7,
    "start_time": "2022-04-14T17:38:58.839Z"
   },
   {
    "duration": 23,
    "start_time": "2022-04-14T17:38:58.848Z"
   },
   {
    "duration": 70,
    "start_time": "2022-04-14T17:38:58.874Z"
   },
   {
    "duration": 81,
    "start_time": "2022-04-14T17:38:58.947Z"
   },
   {
    "duration": 44,
    "start_time": "2022-04-14T17:38:59.030Z"
   },
   {
    "duration": 8,
    "start_time": "2022-04-14T17:38:59.076Z"
   },
   {
    "duration": 10,
    "start_time": "2022-04-14T17:38:59.086Z"
   },
   {
    "duration": 6,
    "start_time": "2022-04-14T17:38:59.097Z"
   },
   {
    "duration": 11,
    "start_time": "2022-04-14T17:38:59.124Z"
   },
   {
    "duration": 8,
    "start_time": "2022-04-14T17:38:59.137Z"
   },
   {
    "duration": 8,
    "start_time": "2022-04-14T17:38:59.147Z"
   },
   {
    "duration": 15,
    "start_time": "2022-04-14T17:38:59.157Z"
   },
   {
    "duration": 5,
    "start_time": "2022-04-14T17:38:59.174Z"
   },
   {
    "duration": 284,
    "start_time": "2022-04-14T17:38:59.181Z"
   },
   {
    "duration": 81,
    "start_time": "2022-04-14T17:38:59.466Z"
   },
   {
    "duration": 5,
    "start_time": "2022-04-14T17:38:59.549Z"
   },
   {
    "duration": 17,
    "start_time": "2022-04-14T17:38:59.555Z"
   },
   {
    "duration": 456,
    "start_time": "2022-04-14T17:38:59.573Z"
   },
   {
    "duration": 105,
    "start_time": "2022-04-14T17:39:00.030Z"
   },
   {
    "duration": 230,
    "start_time": "2022-04-14T17:39:00.136Z"
   },
   {
    "duration": 4,
    "start_time": "2022-04-14T17:39:00.370Z"
   },
   {
    "duration": 82,
    "start_time": "2022-04-14T17:39:00.375Z"
   },
   {
    "duration": 2764,
    "start_time": "2022-04-14T17:39:00.459Z"
   },
   {
    "duration": 30,
    "start_time": "2022-04-14T17:39:03.225Z"
   },
   {
    "duration": 23,
    "start_time": "2022-04-14T17:39:03.257Z"
   },
   {
    "duration": 45,
    "start_time": "2022-04-14T17:39:03.282Z"
   },
   {
    "duration": 8,
    "start_time": "2022-04-14T17:39:03.329Z"
   },
   {
    "duration": 16,
    "start_time": "2022-04-14T17:39:03.338Z"
   },
   {
    "duration": 25,
    "start_time": "2022-04-14T17:39:03.356Z"
   },
   {
    "duration": 52,
    "start_time": "2022-04-14T17:39:03.383Z"
   },
   {
    "duration": 29,
    "start_time": "2022-04-14T17:39:03.437Z"
   },
   {
    "duration": 10,
    "start_time": "2022-04-14T17:39:03.468Z"
   },
   {
    "duration": 12,
    "start_time": "2022-04-14T17:39:03.479Z"
   },
   {
    "duration": 10,
    "start_time": "2022-04-14T17:39:03.493Z"
   },
   {
    "duration": 12,
    "start_time": "2022-04-14T17:39:03.524Z"
   },
   {
    "duration": 11,
    "start_time": "2022-04-14T17:39:03.537Z"
   },
   {
    "duration": 10,
    "start_time": "2022-04-14T17:39:03.549Z"
   },
   {
    "duration": 10,
    "start_time": "2022-04-14T17:39:03.561Z"
   },
   {
    "duration": 6,
    "start_time": "2022-04-14T17:39:03.572Z"
   },
   {
    "duration": 323,
    "start_time": "2022-04-14T17:39:03.580Z"
   },
   {
    "duration": 6,
    "start_time": "2022-04-14T17:39:03.905Z"
   },
   {
    "duration": 10,
    "start_time": "2022-04-14T17:39:03.924Z"
   },
   {
    "duration": 221,
    "start_time": "2022-04-14T17:39:03.936Z"
   },
   {
    "duration": 155,
    "start_time": "2022-04-14T17:39:04.159Z"
   },
   {
    "duration": 13,
    "start_time": "2022-04-14T17:39:04.316Z"
   },
   {
    "duration": 281,
    "start_time": "2022-04-14T17:39:04.330Z"
   },
   {
    "duration": 15,
    "start_time": "2022-04-14T17:39:04.613Z"
   },
   {
    "duration": 221,
    "start_time": "2022-04-14T17:39:04.630Z"
   },
   {
    "duration": 12,
    "start_time": "2022-04-14T17:39:04.852Z"
   },
   {
    "duration": 286,
    "start_time": "2022-04-14T17:39:04.865Z"
   },
   {
    "duration": 3,
    "start_time": "2022-04-14T17:39:05.153Z"
   },
   {
    "duration": 19,
    "start_time": "2022-04-14T17:39:05.157Z"
   },
   {
    "duration": 20,
    "start_time": "2022-04-14T17:39:05.177Z"
   },
   {
    "duration": 25,
    "start_time": "2022-04-14T17:39:05.199Z"
   },
   {
    "duration": 6,
    "start_time": "2022-04-14T17:39:05.225Z"
   },
   {
    "duration": 10,
    "start_time": "2022-04-14T17:39:05.232Z"
   },
   {
    "duration": 31,
    "start_time": "2022-04-14T17:42:32.136Z"
   },
   {
    "duration": 8,
    "start_time": "2022-04-14T17:46:34.440Z"
   },
   {
    "duration": 2282,
    "start_time": "2022-04-14T17:47:54.270Z"
   },
   {
    "duration": 13,
    "start_time": "2022-04-14T17:48:07.193Z"
   },
   {
    "duration": 12,
    "start_time": "2022-04-14T17:48:14.751Z"
   },
   {
    "duration": 12,
    "start_time": "2022-04-14T17:50:18.385Z"
   },
   {
    "duration": 1106,
    "start_time": "2022-04-14T17:53:55.957Z"
   },
   {
    "duration": 332,
    "start_time": "2022-04-14T17:53:57.064Z"
   },
   {
    "duration": 19,
    "start_time": "2022-04-14T17:53:57.398Z"
   },
   {
    "duration": 16,
    "start_time": "2022-04-14T17:53:57.424Z"
   },
   {
    "duration": 23,
    "start_time": "2022-04-14T17:53:57.441Z"
   },
   {
    "duration": 23,
    "start_time": "2022-04-14T17:53:57.466Z"
   },
   {
    "duration": 45,
    "start_time": "2022-04-14T17:53:57.491Z"
   },
   {
    "duration": 6,
    "start_time": "2022-04-14T17:53:57.538Z"
   },
   {
    "duration": 13,
    "start_time": "2022-04-14T17:53:57.545Z"
   },
   {
    "duration": 36,
    "start_time": "2022-04-14T17:53:57.561Z"
   },
   {
    "duration": 41,
    "start_time": "2022-04-14T17:53:57.623Z"
   },
   {
    "duration": 28,
    "start_time": "2022-04-14T17:53:57.666Z"
   },
   {
    "duration": 28,
    "start_time": "2022-04-14T17:53:57.696Z"
   },
   {
    "duration": 3,
    "start_time": "2022-04-14T17:53:57.726Z"
   },
   {
    "duration": 4,
    "start_time": "2022-04-14T17:53:57.731Z"
   },
   {
    "duration": 9,
    "start_time": "2022-04-14T17:53:57.737Z"
   },
   {
    "duration": 6,
    "start_time": "2022-04-14T17:53:57.748Z"
   },
   {
    "duration": 7,
    "start_time": "2022-04-14T17:53:57.756Z"
   },
   {
    "duration": 16,
    "start_time": "2022-04-14T17:53:57.764Z"
   },
   {
    "duration": 6,
    "start_time": "2022-04-14T17:53:57.782Z"
   },
   {
    "duration": 298,
    "start_time": "2022-04-14T17:53:57.789Z"
   },
   {
    "duration": 96,
    "start_time": "2022-04-14T17:53:58.089Z"
   },
   {
    "duration": 5,
    "start_time": "2022-04-14T17:53:58.186Z"
   },
   {
    "duration": 31,
    "start_time": "2022-04-14T17:53:58.193Z"
   },
   {
    "duration": 489,
    "start_time": "2022-04-14T17:53:58.227Z"
   },
   {
    "duration": 118,
    "start_time": "2022-04-14T17:53:58.718Z"
   },
   {
    "duration": 243,
    "start_time": "2022-04-14T17:53:58.838Z"
   },
   {
    "duration": 4,
    "start_time": "2022-04-14T17:53:59.084Z"
   },
   {
    "duration": 79,
    "start_time": "2022-04-14T17:53:59.089Z"
   },
   {
    "duration": 2764,
    "start_time": "2022-04-14T17:53:59.169Z"
   },
   {
    "duration": 30,
    "start_time": "2022-04-14T17:54:01.935Z"
   },
   {
    "duration": 23,
    "start_time": "2022-04-14T17:54:01.967Z"
   },
   {
    "duration": 44,
    "start_time": "2022-04-14T17:54:01.991Z"
   },
   {
    "duration": 8,
    "start_time": "2022-04-14T17:54:02.036Z"
   },
   {
    "duration": 15,
    "start_time": "2022-04-14T17:54:02.046Z"
   },
   {
    "duration": 19,
    "start_time": "2022-04-14T17:54:02.063Z"
   },
   {
    "duration": 43,
    "start_time": "2022-04-14T17:54:02.083Z"
   },
   {
    "duration": 22,
    "start_time": "2022-04-14T17:54:02.127Z"
   },
   {
    "duration": 11,
    "start_time": "2022-04-14T17:54:02.151Z"
   },
   {
    "duration": 10,
    "start_time": "2022-04-14T17:54:02.164Z"
   },
   {
    "duration": 26,
    "start_time": "2022-04-14T17:54:02.176Z"
   },
   {
    "duration": 22,
    "start_time": "2022-04-14T17:54:02.204Z"
   },
   {
    "duration": 14,
    "start_time": "2022-04-14T17:54:02.228Z"
   },
   {
    "duration": 8,
    "start_time": "2022-04-14T17:54:02.243Z"
   },
   {
    "duration": 7,
    "start_time": "2022-04-14T17:54:02.252Z"
   },
   {
    "duration": 13,
    "start_time": "2022-04-14T17:54:02.260Z"
   },
   {
    "duration": 7,
    "start_time": "2022-04-14T17:54:02.274Z"
   },
   {
    "duration": 330,
    "start_time": "2022-04-14T17:54:02.282Z"
   },
   {
    "duration": 9,
    "start_time": "2022-04-14T17:54:02.615Z"
   },
   {
    "duration": 6,
    "start_time": "2022-04-14T17:54:02.626Z"
   },
   {
    "duration": 218,
    "start_time": "2022-04-14T17:54:02.633Z"
   },
   {
    "duration": 208,
    "start_time": "2022-04-14T17:54:02.853Z"
   },
   {
    "duration": 7,
    "start_time": "2022-04-14T17:54:03.063Z"
   },
   {
    "duration": 241,
    "start_time": "2022-04-14T17:54:03.072Z"
   },
   {
    "duration": 10,
    "start_time": "2022-04-14T17:54:03.323Z"
   },
   {
    "duration": 224,
    "start_time": "2022-04-14T17:54:03.334Z"
   },
   {
    "duration": 14,
    "start_time": "2022-04-14T17:54:03.560Z"
   },
   {
    "duration": 300,
    "start_time": "2022-04-14T17:54:03.576Z"
   },
   {
    "duration": 2,
    "start_time": "2022-04-14T17:54:03.878Z"
   },
   {
    "duration": 19,
    "start_time": "2022-04-14T17:54:03.882Z"
   },
   {
    "duration": 32,
    "start_time": "2022-04-14T17:54:03.904Z"
   },
   {
    "duration": 10,
    "start_time": "2022-04-14T17:54:03.937Z"
   },
   {
    "duration": 7,
    "start_time": "2022-04-14T17:54:03.949Z"
   },
   {
    "duration": 6,
    "start_time": "2022-04-14T17:54:03.958Z"
   },
   {
    "duration": 12,
    "start_time": "2022-04-14T17:57:14.383Z"
   },
   {
    "duration": 17,
    "start_time": "2022-04-14T18:03:04.649Z"
   },
   {
    "duration": 112,
    "start_time": "2022-04-14T18:07:14.706Z"
   },
   {
    "duration": 23,
    "start_time": "2022-04-14T18:07:31.577Z"
   },
   {
    "duration": 1263,
    "start_time": "2022-04-14T18:07:39.084Z"
   },
   {
    "duration": 447,
    "start_time": "2022-04-14T18:07:40.352Z"
   },
   {
    "duration": 20,
    "start_time": "2022-04-14T18:07:40.801Z"
   },
   {
    "duration": 51,
    "start_time": "2022-04-14T18:07:40.824Z"
   },
   {
    "duration": 27,
    "start_time": "2022-04-14T18:07:40.877Z"
   },
   {
    "duration": 39,
    "start_time": "2022-04-14T18:07:40.906Z"
   },
   {
    "duration": 42,
    "start_time": "2022-04-14T18:07:40.946Z"
   },
   {
    "duration": 7,
    "start_time": "2022-04-14T18:07:40.990Z"
   },
   {
    "duration": 16,
    "start_time": "2022-04-14T18:07:40.999Z"
   },
   {
    "duration": 62,
    "start_time": "2022-04-14T18:07:41.018Z"
   },
   {
    "duration": 76,
    "start_time": "2022-04-14T18:07:41.081Z"
   },
   {
    "duration": 31,
    "start_time": "2022-04-14T18:07:41.160Z"
   },
   {
    "duration": 6,
    "start_time": "2022-04-14T18:07:41.193Z"
   },
   {
    "duration": 10,
    "start_time": "2022-04-14T18:07:41.200Z"
   },
   {
    "duration": 8,
    "start_time": "2022-04-14T18:07:41.211Z"
   },
   {
    "duration": 51,
    "start_time": "2022-04-14T18:07:41.227Z"
   },
   {
    "duration": 8,
    "start_time": "2022-04-14T18:07:41.279Z"
   },
   {
    "duration": 9,
    "start_time": "2022-04-14T18:07:41.289Z"
   },
   {
    "duration": 21,
    "start_time": "2022-04-14T18:07:41.300Z"
   },
   {
    "duration": 13,
    "start_time": "2022-04-14T18:07:41.322Z"
   },
   {
    "duration": 359,
    "start_time": "2022-04-14T18:07:41.337Z"
   },
   {
    "duration": 100,
    "start_time": "2022-04-14T18:07:41.697Z"
   },
   {
    "duration": 5,
    "start_time": "2022-04-14T18:07:41.799Z"
   },
   {
    "duration": 28,
    "start_time": "2022-04-14T18:07:41.806Z"
   },
   {
    "duration": 561,
    "start_time": "2022-04-14T18:07:41.836Z"
   },
   {
    "duration": 124,
    "start_time": "2022-04-14T18:07:42.398Z"
   },
   {
    "duration": 366,
    "start_time": "2022-04-14T18:07:42.523Z"
   },
   {
    "duration": 5,
    "start_time": "2022-04-14T18:07:42.893Z"
   },
   {
    "duration": 85,
    "start_time": "2022-04-14T18:07:42.899Z"
   },
   {
    "duration": 3986,
    "start_time": "2022-04-14T18:07:42.985Z"
   },
   {
    "duration": 43,
    "start_time": "2022-04-14T18:07:46.977Z"
   },
   {
    "duration": 35,
    "start_time": "2022-04-14T18:07:47.028Z"
   },
   {
    "duration": 32,
    "start_time": "2022-04-14T18:07:47.076Z"
   },
   {
    "duration": 17,
    "start_time": "2022-04-14T18:07:47.110Z"
   },
   {
    "duration": 48,
    "start_time": "2022-04-14T18:07:47.129Z"
   },
   {
    "duration": 26,
    "start_time": "2022-04-14T18:07:47.179Z"
   },
   {
    "duration": 43,
    "start_time": "2022-04-14T18:07:47.207Z"
   },
   {
    "duration": 39,
    "start_time": "2022-04-14T18:07:47.252Z"
   },
   {
    "duration": 10,
    "start_time": "2022-04-14T18:07:47.293Z"
   },
   {
    "duration": 43,
    "start_time": "2022-04-14T18:07:47.305Z"
   },
   {
    "duration": 17,
    "start_time": "2022-04-14T18:07:47.350Z"
   },
   {
    "duration": 26,
    "start_time": "2022-04-14T18:07:47.368Z"
   },
   {
    "duration": 13,
    "start_time": "2022-04-14T18:07:47.396Z"
   },
   {
    "duration": 7,
    "start_time": "2022-04-14T18:07:47.411Z"
   },
   {
    "duration": 18,
    "start_time": "2022-04-14T18:07:47.420Z"
   },
   {
    "duration": 54,
    "start_time": "2022-04-14T18:07:47.440Z"
   },
   {
    "duration": 7,
    "start_time": "2022-04-14T18:07:47.496Z"
   },
   {
    "duration": 581,
    "start_time": "2022-04-14T18:07:47.505Z"
   },
   {
    "duration": 7,
    "start_time": "2022-04-14T18:07:48.088Z"
   },
   {
    "duration": 22,
    "start_time": "2022-04-14T18:07:48.097Z"
   },
   {
    "duration": 328,
    "start_time": "2022-04-14T18:07:48.132Z"
   },
   {
    "duration": 303,
    "start_time": "2022-04-14T18:07:48.462Z"
   },
   {
    "duration": 8,
    "start_time": "2022-04-14T18:07:48.767Z"
   },
   {
    "duration": 307,
    "start_time": "2022-04-14T18:07:48.777Z"
   },
   {
    "duration": 10,
    "start_time": "2022-04-14T18:07:49.087Z"
   },
   {
    "duration": 267,
    "start_time": "2022-04-14T18:07:49.099Z"
   },
   {
    "duration": 17,
    "start_time": "2022-04-14T18:07:49.370Z"
   },
   {
    "duration": 260,
    "start_time": "2022-04-14T18:07:49.389Z"
   },
   {
    "duration": 3,
    "start_time": "2022-04-14T18:07:49.652Z"
   },
   {
    "duration": 15,
    "start_time": "2022-04-14T18:07:49.657Z"
   },
   {
    "duration": 22,
    "start_time": "2022-04-14T18:07:49.674Z"
   },
   {
    "duration": 28,
    "start_time": "2022-04-14T18:07:49.698Z"
   },
   {
    "duration": 9,
    "start_time": "2022-04-14T18:07:49.727Z"
   },
   {
    "duration": 23,
    "start_time": "2022-04-14T18:07:49.738Z"
   },
   {
    "duration": 1382,
    "start_time": "2022-04-14T18:09:13.496Z"
   },
   {
    "duration": 473,
    "start_time": "2022-04-14T18:09:14.881Z"
   },
   {
    "duration": 26,
    "start_time": "2022-04-14T18:09:15.356Z"
   },
   {
    "duration": 16,
    "start_time": "2022-04-14T18:09:15.384Z"
   },
   {
    "duration": 69,
    "start_time": "2022-04-14T18:09:15.402Z"
   },
   {
    "duration": 41,
    "start_time": "2022-04-14T18:09:15.473Z"
   },
   {
    "duration": 38,
    "start_time": "2022-04-14T18:09:15.516Z"
   },
   {
    "duration": 16,
    "start_time": "2022-04-14T18:09:15.559Z"
   },
   {
    "duration": 19,
    "start_time": "2022-04-14T18:09:15.578Z"
   },
   {
    "duration": 69,
    "start_time": "2022-04-14T18:09:15.599Z"
   },
   {
    "duration": 73,
    "start_time": "2022-04-14T18:09:15.670Z"
   },
   {
    "duration": 50,
    "start_time": "2022-04-14T18:09:15.746Z"
   },
   {
    "duration": 7,
    "start_time": "2022-04-14T18:09:15.798Z"
   },
   {
    "duration": 8,
    "start_time": "2022-04-14T18:09:15.807Z"
   },
   {
    "duration": 9,
    "start_time": "2022-04-14T18:09:15.835Z"
   },
   {
    "duration": 36,
    "start_time": "2022-04-14T18:09:15.845Z"
   },
   {
    "duration": 9,
    "start_time": "2022-04-14T18:09:15.883Z"
   },
   {
    "duration": 10,
    "start_time": "2022-04-14T18:09:15.894Z"
   },
   {
    "duration": 15,
    "start_time": "2022-04-14T18:09:15.905Z"
   },
   {
    "duration": 12,
    "start_time": "2022-04-14T18:09:15.922Z"
   },
   {
    "duration": 383,
    "start_time": "2022-04-14T18:09:15.938Z"
   },
   {
    "duration": 103,
    "start_time": "2022-04-14T18:09:16.327Z"
   },
   {
    "duration": 21,
    "start_time": "2022-04-14T18:09:16.432Z"
   },
   {
    "duration": 24,
    "start_time": "2022-04-14T18:09:16.455Z"
   },
   {
    "duration": 725,
    "start_time": "2022-04-14T18:09:16.481Z"
   },
   {
    "duration": 136,
    "start_time": "2022-04-14T18:09:17.209Z"
   },
   {
    "duration": 251,
    "start_time": "2022-04-14T18:09:17.347Z"
   },
   {
    "duration": 5,
    "start_time": "2022-04-14T18:09:17.601Z"
   },
   {
    "duration": 88,
    "start_time": "2022-04-14T18:09:17.608Z"
   },
   {
    "duration": 4027,
    "start_time": "2022-04-14T18:09:17.698Z"
   },
   {
    "duration": 42,
    "start_time": "2022-04-14T18:09:21.727Z"
   },
   {
    "duration": 35,
    "start_time": "2022-04-14T18:09:21.771Z"
   },
   {
    "duration": 38,
    "start_time": "2022-04-14T18:09:21.808Z"
   },
   {
    "duration": 32,
    "start_time": "2022-04-14T18:09:21.848Z"
   },
   {
    "duration": 22,
    "start_time": "2022-04-14T18:09:21.884Z"
   },
   {
    "duration": 32,
    "start_time": "2022-04-14T18:09:21.909Z"
   },
   {
    "duration": 37,
    "start_time": "2022-04-14T18:09:21.944Z"
   },
   {
    "duration": 36,
    "start_time": "2022-04-14T18:09:21.983Z"
   },
   {
    "duration": 17,
    "start_time": "2022-04-14T18:09:22.021Z"
   },
   {
    "duration": 57,
    "start_time": "2022-04-14T18:09:22.040Z"
   },
   {
    "duration": 12,
    "start_time": "2022-04-14T18:09:22.099Z"
   },
   {
    "duration": 24,
    "start_time": "2022-04-14T18:09:22.113Z"
   },
   {
    "duration": 39,
    "start_time": "2022-04-14T18:09:22.139Z"
   },
   {
    "duration": 9,
    "start_time": "2022-04-14T18:09:22.180Z"
   },
   {
    "duration": 7,
    "start_time": "2022-04-14T18:09:22.191Z"
   },
   {
    "duration": 13,
    "start_time": "2022-04-14T18:09:22.200Z"
   },
   {
    "duration": 42,
    "start_time": "2022-04-14T18:09:22.215Z"
   },
   {
    "duration": 521,
    "start_time": "2022-04-14T18:09:22.259Z"
   },
   {
    "duration": 6,
    "start_time": "2022-04-14T18:09:22.782Z"
   },
   {
    "duration": 12,
    "start_time": "2022-04-14T18:09:22.790Z"
   },
   {
    "duration": 359,
    "start_time": "2022-04-14T18:09:22.804Z"
   },
   {
    "duration": 310,
    "start_time": "2022-04-14T18:09:23.165Z"
   },
   {
    "duration": 10,
    "start_time": "2022-04-14T18:09:23.477Z"
   },
   {
    "duration": 258,
    "start_time": "2022-04-14T18:09:23.489Z"
   },
   {
    "duration": 16,
    "start_time": "2022-04-14T18:09:23.748Z"
   },
   {
    "duration": 308,
    "start_time": "2022-04-14T18:09:23.765Z"
   },
   {
    "duration": 12,
    "start_time": "2022-04-14T18:09:24.075Z"
   },
   {
    "duration": 215,
    "start_time": "2022-04-14T18:09:24.088Z"
   },
   {
    "duration": 3,
    "start_time": "2022-04-14T18:09:24.305Z"
   },
   {
    "duration": 47,
    "start_time": "2022-04-14T18:09:24.325Z"
   },
   {
    "duration": 15,
    "start_time": "2022-04-14T18:09:24.374Z"
   },
   {
    "duration": 12,
    "start_time": "2022-04-14T18:09:24.391Z"
   },
   {
    "duration": 17,
    "start_time": "2022-04-14T18:09:24.405Z"
   },
   {
    "duration": 33,
    "start_time": "2022-04-14T18:09:24.434Z"
   },
   {
    "duration": 1341,
    "start_time": "2022-04-14T18:11:41.451Z"
   },
   {
    "duration": 426,
    "start_time": "2022-04-14T18:11:42.795Z"
   },
   {
    "duration": 26,
    "start_time": "2022-04-14T18:11:43.226Z"
   },
   {
    "duration": 33,
    "start_time": "2022-04-14T18:11:43.254Z"
   },
   {
    "duration": 26,
    "start_time": "2022-04-14T18:11:43.289Z"
   },
   {
    "duration": 50,
    "start_time": "2022-04-14T18:11:43.332Z"
   },
   {
    "duration": 32,
    "start_time": "2022-04-14T18:11:43.384Z"
   },
   {
    "duration": 19,
    "start_time": "2022-04-14T18:11:43.418Z"
   },
   {
    "duration": 30,
    "start_time": "2022-04-14T18:11:43.444Z"
   },
   {
    "duration": 34,
    "start_time": "2022-04-14T18:11:43.476Z"
   },
   {
    "duration": 64,
    "start_time": "2022-04-14T18:11:43.512Z"
   },
   {
    "duration": 29,
    "start_time": "2022-04-14T18:11:43.578Z"
   },
   {
    "duration": 26,
    "start_time": "2022-04-14T18:11:43.609Z"
   },
   {
    "duration": 33,
    "start_time": "2022-04-14T18:11:43.639Z"
   },
   {
    "duration": 6,
    "start_time": "2022-04-14T18:11:43.675Z"
   },
   {
    "duration": 13,
    "start_time": "2022-04-14T18:11:43.682Z"
   },
   {
    "duration": 8,
    "start_time": "2022-04-14T18:11:43.696Z"
   },
   {
    "duration": 9,
    "start_time": "2022-04-14T18:11:43.706Z"
   },
   {
    "duration": 26,
    "start_time": "2022-04-14T18:11:43.717Z"
   },
   {
    "duration": 25,
    "start_time": "2022-04-14T18:11:43.747Z"
   },
   {
    "duration": 440,
    "start_time": "2022-04-14T18:11:43.774Z"
   },
   {
    "duration": 109,
    "start_time": "2022-04-14T18:11:44.216Z"
   },
   {
    "duration": 8,
    "start_time": "2022-04-14T18:11:44.329Z"
   },
   {
    "duration": 44,
    "start_time": "2022-04-14T18:11:44.339Z"
   },
   {
    "duration": 544,
    "start_time": "2022-04-14T18:11:44.385Z"
   },
   {
    "duration": 118,
    "start_time": "2022-04-14T18:11:44.931Z"
   },
   {
    "duration": 317,
    "start_time": "2022-04-14T18:11:45.051Z"
   },
   {
    "duration": 7,
    "start_time": "2022-04-14T18:11:45.372Z"
   },
   {
    "duration": 78,
    "start_time": "2022-04-14T18:11:45.381Z"
   },
   {
    "duration": 3865,
    "start_time": "2022-04-14T18:11:45.460Z"
   },
   {
    "duration": 37,
    "start_time": "2022-04-14T18:11:49.329Z"
   },
   {
    "duration": 29,
    "start_time": "2022-04-14T18:11:49.367Z"
   },
   {
    "duration": 52,
    "start_time": "2022-04-14T18:11:49.397Z"
   },
   {
    "duration": 14,
    "start_time": "2022-04-14T18:11:49.450Z"
   },
   {
    "duration": 17,
    "start_time": "2022-04-14T18:11:49.466Z"
   },
   {
    "duration": 22,
    "start_time": "2022-04-14T18:11:49.485Z"
   },
   {
    "duration": 44,
    "start_time": "2022-04-14T18:11:49.509Z"
   },
   {
    "duration": 27,
    "start_time": "2022-04-14T18:11:49.558Z"
   },
   {
    "duration": 12,
    "start_time": "2022-04-14T18:11:49.587Z"
   },
   {
    "duration": 12,
    "start_time": "2022-04-14T18:11:49.602Z"
   },
   {
    "duration": 21,
    "start_time": "2022-04-14T18:11:49.623Z"
   },
   {
    "duration": 37,
    "start_time": "2022-04-14T18:11:49.645Z"
   },
   {
    "duration": 14,
    "start_time": "2022-04-14T18:11:49.684Z"
   },
   {
    "duration": 6,
    "start_time": "2022-04-14T18:11:49.699Z"
   },
   {
    "duration": 10,
    "start_time": "2022-04-14T18:11:49.706Z"
   },
   {
    "duration": 21,
    "start_time": "2022-04-14T18:11:49.718Z"
   },
   {
    "duration": 24,
    "start_time": "2022-04-14T18:11:49.747Z"
   },
   {
    "duration": 519,
    "start_time": "2022-04-14T18:11:49.773Z"
   },
   {
    "duration": 7,
    "start_time": "2022-04-14T18:11:50.294Z"
   },
   {
    "duration": 34,
    "start_time": "2022-04-14T18:11:50.303Z"
   },
   {
    "duration": 280,
    "start_time": "2022-04-14T18:11:50.339Z"
   },
   {
    "duration": 186,
    "start_time": "2022-04-14T18:11:50.621Z"
   },
   {
    "duration": 8,
    "start_time": "2022-04-14T18:11:50.809Z"
   },
   {
    "duration": 323,
    "start_time": "2022-04-14T18:11:50.819Z"
   },
   {
    "duration": 19,
    "start_time": "2022-04-14T18:11:51.145Z"
   },
   {
    "duration": 236,
    "start_time": "2022-04-14T18:11:51.165Z"
   },
   {
    "duration": 29,
    "start_time": "2022-04-14T18:11:51.403Z"
   },
   {
    "duration": 222,
    "start_time": "2022-04-14T18:11:51.433Z"
   },
   {
    "duration": 7,
    "start_time": "2022-04-14T18:11:51.657Z"
   },
   {
    "duration": 23,
    "start_time": "2022-04-14T18:11:51.666Z"
   },
   {
    "duration": 24,
    "start_time": "2022-04-14T18:11:51.690Z"
   },
   {
    "duration": 57,
    "start_time": "2022-04-14T18:11:51.717Z"
   },
   {
    "duration": 5,
    "start_time": "2022-04-14T18:11:51.776Z"
   },
   {
    "duration": 9,
    "start_time": "2022-04-14T18:11:51.783Z"
   },
   {
    "duration": 16,
    "start_time": "2022-04-14T18:12:42.194Z"
   },
   {
    "duration": 1174,
    "start_time": "2022-04-14T18:13:27.682Z"
   },
   {
    "duration": 353,
    "start_time": "2022-04-14T18:13:28.858Z"
   },
   {
    "duration": 23,
    "start_time": "2022-04-14T18:13:29.213Z"
   },
   {
    "duration": 29,
    "start_time": "2022-04-14T18:13:29.238Z"
   },
   {
    "duration": 28,
    "start_time": "2022-04-14T18:13:29.269Z"
   },
   {
    "duration": 40,
    "start_time": "2022-04-14T18:13:29.299Z"
   },
   {
    "duration": 62,
    "start_time": "2022-04-14T18:13:29.344Z"
   },
   {
    "duration": 5,
    "start_time": "2022-04-14T18:13:29.408Z"
   },
   {
    "duration": 26,
    "start_time": "2022-04-14T18:13:29.415Z"
   },
   {
    "duration": 35,
    "start_time": "2022-04-14T18:13:29.445Z"
   },
   {
    "duration": 58,
    "start_time": "2022-04-14T18:13:29.482Z"
   },
   {
    "duration": 27,
    "start_time": "2022-04-14T18:13:29.542Z"
   },
   {
    "duration": 6,
    "start_time": "2022-04-14T18:13:29.571Z"
   },
   {
    "duration": 9,
    "start_time": "2022-04-14T18:13:29.579Z"
   },
   {
    "duration": 9,
    "start_time": "2022-04-14T18:13:29.590Z"
   },
   {
    "duration": 33,
    "start_time": "2022-04-14T18:13:29.601Z"
   },
   {
    "duration": 8,
    "start_time": "2022-04-14T18:13:29.636Z"
   },
   {
    "duration": 7,
    "start_time": "2022-04-14T18:13:29.646Z"
   },
   {
    "duration": 13,
    "start_time": "2022-04-14T18:13:29.655Z"
   },
   {
    "duration": 5,
    "start_time": "2022-04-14T18:13:29.669Z"
   },
   {
    "duration": 333,
    "start_time": "2022-04-14T18:13:29.676Z"
   },
   {
    "duration": 85,
    "start_time": "2022-04-14T18:13:30.011Z"
   },
   {
    "duration": 5,
    "start_time": "2022-04-14T18:13:30.098Z"
   },
   {
    "duration": 29,
    "start_time": "2022-04-14T18:13:30.105Z"
   },
   {
    "duration": 531,
    "start_time": "2022-04-14T18:13:30.136Z"
   },
   {
    "duration": 111,
    "start_time": "2022-04-14T18:13:30.669Z"
   },
   {
    "duration": 258,
    "start_time": "2022-04-14T18:13:30.781Z"
   },
   {
    "duration": 5,
    "start_time": "2022-04-14T18:13:31.044Z"
   },
   {
    "duration": 77,
    "start_time": "2022-04-14T18:13:31.050Z"
   },
   {
    "duration": 2886,
    "start_time": "2022-04-14T18:13:31.130Z"
   },
   {
    "duration": 41,
    "start_time": "2022-04-14T18:13:34.018Z"
   },
   {
    "duration": 20,
    "start_time": "2022-04-14T18:13:34.061Z"
   },
   {
    "duration": 20,
    "start_time": "2022-04-14T18:13:34.083Z"
   },
   {
    "duration": 11,
    "start_time": "2022-04-14T18:13:34.126Z"
   },
   {
    "duration": 17,
    "start_time": "2022-04-14T18:13:34.139Z"
   },
   {
    "duration": 17,
    "start_time": "2022-04-14T18:13:34.158Z"
   },
   {
    "duration": 22,
    "start_time": "2022-04-14T18:13:34.176Z"
   },
   {
    "duration": 57,
    "start_time": "2022-04-14T18:13:34.199Z"
   },
   {
    "duration": 11,
    "start_time": "2022-04-14T18:13:34.257Z"
   },
   {
    "duration": 11,
    "start_time": "2022-04-14T18:13:34.269Z"
   },
   {
    "duration": 8,
    "start_time": "2022-04-14T18:13:34.281Z"
   },
   {
    "duration": 37,
    "start_time": "2022-04-14T18:13:34.291Z"
   },
   {
    "duration": 15,
    "start_time": "2022-04-14T18:13:34.330Z"
   },
   {
    "duration": 6,
    "start_time": "2022-04-14T18:13:34.347Z"
   },
   {
    "duration": 7,
    "start_time": "2022-04-14T18:13:34.355Z"
   },
   {
    "duration": 10,
    "start_time": "2022-04-14T18:13:34.364Z"
   },
   {
    "duration": 5,
    "start_time": "2022-04-14T18:13:34.375Z"
   },
   {
    "duration": 365,
    "start_time": "2022-04-14T18:13:34.381Z"
   },
   {
    "duration": 5,
    "start_time": "2022-04-14T18:13:34.748Z"
   },
   {
    "duration": 9,
    "start_time": "2022-04-14T18:13:34.755Z"
   },
   {
    "duration": 235,
    "start_time": "2022-04-14T18:13:34.765Z"
   },
   {
    "duration": 219,
    "start_time": "2022-04-14T18:13:35.002Z"
   },
   {
    "duration": 8,
    "start_time": "2022-04-14T18:13:35.225Z"
   },
   {
    "duration": 220,
    "start_time": "2022-04-14T18:13:35.235Z"
   },
   {
    "duration": 8,
    "start_time": "2022-04-14T18:13:35.457Z"
   },
   {
    "duration": 224,
    "start_time": "2022-04-14T18:13:35.466Z"
   },
   {
    "duration": 12,
    "start_time": "2022-04-14T18:13:35.692Z"
   },
   {
    "duration": 192,
    "start_time": "2022-04-14T18:13:35.705Z"
   },
   {
    "duration": 3,
    "start_time": "2022-04-14T18:13:35.899Z"
   },
   {
    "duration": 27,
    "start_time": "2022-04-14T18:13:35.903Z"
   },
   {
    "duration": 16,
    "start_time": "2022-04-14T18:13:35.932Z"
   },
   {
    "duration": 11,
    "start_time": "2022-04-14T18:13:35.950Z"
   },
   {
    "duration": 5,
    "start_time": "2022-04-14T18:13:35.963Z"
   },
   {
    "duration": 5,
    "start_time": "2022-04-14T18:13:35.970Z"
   }
  ],
  "kernelspec": {
   "display_name": "Python 3 (ipykernel)",
   "language": "python",
   "name": "python3"
  },
  "language_info": {
   "codemirror_mode": {
    "name": "ipython",
    "version": 3
   },
   "file_extension": ".py",
   "mimetype": "text/x-python",
   "name": "python",
   "nbconvert_exporter": "python",
   "pygments_lexer": "ipython3",
   "version": "3.7.8"
  },
  "toc": {
   "base_numbering": 1,
   "nav_menu": {},
   "number_sections": true,
   "sideBar": true,
   "skip_h1_title": true,
   "title_cell": "Содержание",
   "title_sidebar": "Contents",
   "toc_cell": true,
   "toc_position": {
    "height": "calc(100% - 180px)",
    "left": "10px",
    "top": "150px",
    "width": "165px"
   },
   "toc_section_display": true,
   "toc_window_display": true
  }
 },
 "nbformat": 4,
 "nbformat_minor": 2
}
